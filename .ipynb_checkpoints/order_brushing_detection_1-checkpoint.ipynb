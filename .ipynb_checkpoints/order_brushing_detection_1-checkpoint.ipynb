{
 "cells": [
  {
   "cell_type": "markdown",
   "metadata": {},
   "source": [
    "# Shopee competition 1: Order Brushing Detection\n",
    "\n",
    "**Task**\n",
    "1. Identify all shops that are deemed to have conducted order brushing.\n",
    "2. For each shop that is identified to have conducted order brushing, identify the buyers suspected to have conducted order brushing for that shop.\n",
    "\n",
    "For the purpose of this question, shops are deemed to have conducted order brushing if their concentrate rate is greater than or equal to 3 at any instance\n",
    "\n",
    "[link to kaggle](https://www.kaggle.com/c/order-brushing-shopee-code-league)"
   ]
  },
  {
   "cell_type": "code",
   "execution_count": 112,
   "metadata": {},
   "outputs": [],
   "source": [
    "import pandas as pd\n",
    "import numpy as np\n",
    "from datetime import datetime"
   ]
  },
  {
   "cell_type": "markdown",
   "metadata": {},
   "source": [
    "# Load dataset"
   ]
  },
  {
   "cell_type": "code",
   "execution_count": 113,
   "metadata": {},
   "outputs": [
    {
     "data": {
      "text/html": [
       "<div>\n",
       "<style scoped>\n",
       "    .dataframe tbody tr th:only-of-type {\n",
       "        vertical-align: middle;\n",
       "    }\n",
       "\n",
       "    .dataframe tbody tr th {\n",
       "        vertical-align: top;\n",
       "    }\n",
       "\n",
       "    .dataframe thead th {\n",
       "        text-align: right;\n",
       "    }\n",
       "</style>\n",
       "<table border=\"1\" class=\"dataframe\">\n",
       "  <thead>\n",
       "    <tr style=\"text-align: right;\">\n",
       "      <th></th>\n",
       "      <th>orderid</th>\n",
       "      <th>shopid</th>\n",
       "      <th>userid</th>\n",
       "      <th>event_time</th>\n",
       "    </tr>\n",
       "  </thead>\n",
       "  <tbody>\n",
       "    <tr>\n",
       "      <th>0</th>\n",
       "      <td>31076582227611</td>\n",
       "      <td>93950878</td>\n",
       "      <td>30530270</td>\n",
       "      <td>2019-12-27 00:23:03</td>\n",
       "    </tr>\n",
       "    <tr>\n",
       "      <th>1</th>\n",
       "      <td>31118059853484</td>\n",
       "      <td>156423439</td>\n",
       "      <td>46057927</td>\n",
       "      <td>2019-12-27 11:54:20</td>\n",
       "    </tr>\n",
       "    <tr>\n",
       "      <th>2</th>\n",
       "      <td>31123355095755</td>\n",
       "      <td>173699291</td>\n",
       "      <td>67341739</td>\n",
       "      <td>2019-12-27 13:22:35</td>\n",
       "    </tr>\n",
       "    <tr>\n",
       "      <th>3</th>\n",
       "      <td>31122059872723</td>\n",
       "      <td>63674025</td>\n",
       "      <td>149380322</td>\n",
       "      <td>2019-12-27 13:01:00</td>\n",
       "    </tr>\n",
       "    <tr>\n",
       "      <th>4</th>\n",
       "      <td>31117075665123</td>\n",
       "      <td>127249066</td>\n",
       "      <td>149493217</td>\n",
       "      <td>2019-12-27 11:37:55</td>\n",
       "    </tr>\n",
       "  </tbody>\n",
       "</table>\n",
       "</div>"
      ],
      "text/plain": [
       "          orderid     shopid     userid           event_time\n",
       "0  31076582227611   93950878   30530270  2019-12-27 00:23:03\n",
       "1  31118059853484  156423439   46057927  2019-12-27 11:54:20\n",
       "2  31123355095755  173699291   67341739  2019-12-27 13:22:35\n",
       "3  31122059872723   63674025  149380322  2019-12-27 13:01:00\n",
       "4  31117075665123  127249066  149493217  2019-12-27 11:37:55"
      ]
     },
     "execution_count": 113,
     "metadata": {},
     "output_type": "execute_result"
    }
   ],
   "source": [
    "# the .csv file was downloaded to my local drive\n",
    "df = pd.read_csv('order_brush_order.csv')\n",
    "df.head()"
   ]
  },
  {
   "cell_type": "markdown",
   "metadata": {},
   "source": [
    "# Data Exploration"
   ]
  },
  {
   "cell_type": "code",
   "execution_count": 114,
   "metadata": {},
   "outputs": [
    {
     "name": "stdout",
     "output_type": "stream",
     "text": [
      "Dataset: 222750 rows & 4 columns\n"
     ]
    }
   ],
   "source": [
    "print(\"Dataset: {} rows & {} columns\".format(df.shape[0], df.shape[1]))"
   ]
  },
  {
   "cell_type": "code",
   "execution_count": 115,
   "metadata": {},
   "outputs": [],
   "source": [
    "# change 'event_time' datatype to datetime\n",
    "\n",
    "df['event_time'] = pd.to_datetime(df['event_time'])"
   ]
  },
  {
   "cell_type": "code",
   "execution_count": 116,
   "metadata": {},
   "outputs": [
    {
     "data": {
      "text/html": [
       "<div>\n",
       "<style scoped>\n",
       "    .dataframe tbody tr th:only-of-type {\n",
       "        vertical-align: middle;\n",
       "    }\n",
       "\n",
       "    .dataframe tbody tr th {\n",
       "        vertical-align: top;\n",
       "    }\n",
       "\n",
       "    .dataframe thead th {\n",
       "        text-align: right;\n",
       "    }\n",
       "</style>\n",
       "<table border=\"1\" class=\"dataframe\">\n",
       "  <thead>\n",
       "    <tr style=\"text-align: right;\">\n",
       "      <th></th>\n",
       "      <th>orderid</th>\n",
       "      <th>shopid</th>\n",
       "      <th>userid</th>\n",
       "      <th>event_time</th>\n",
       "      <th>ts</th>\n",
       "    </tr>\n",
       "  </thead>\n",
       "  <tbody>\n",
       "    <tr>\n",
       "      <th>0</th>\n",
       "      <td>31076582227611</td>\n",
       "      <td>93950878</td>\n",
       "      <td>30530270</td>\n",
       "      <td>2019-12-27 00:23:03</td>\n",
       "      <td>1577406183</td>\n",
       "    </tr>\n",
       "    <tr>\n",
       "      <th>1</th>\n",
       "      <td>31118059853484</td>\n",
       "      <td>156423439</td>\n",
       "      <td>46057927</td>\n",
       "      <td>2019-12-27 11:54:20</td>\n",
       "      <td>1577447660</td>\n",
       "    </tr>\n",
       "    <tr>\n",
       "      <th>2</th>\n",
       "      <td>31123355095755</td>\n",
       "      <td>173699291</td>\n",
       "      <td>67341739</td>\n",
       "      <td>2019-12-27 13:22:35</td>\n",
       "      <td>1577452955</td>\n",
       "    </tr>\n",
       "    <tr>\n",
       "      <th>3</th>\n",
       "      <td>31122059872723</td>\n",
       "      <td>63674025</td>\n",
       "      <td>149380322</td>\n",
       "      <td>2019-12-27 13:01:00</td>\n",
       "      <td>1577451660</td>\n",
       "    </tr>\n",
       "    <tr>\n",
       "      <th>4</th>\n",
       "      <td>31117075665123</td>\n",
       "      <td>127249066</td>\n",
       "      <td>149493217</td>\n",
       "      <td>2019-12-27 11:37:55</td>\n",
       "      <td>1577446675</td>\n",
       "    </tr>\n",
       "  </tbody>\n",
       "</table>\n",
       "</div>"
      ],
      "text/plain": [
       "          orderid     shopid     userid          event_time          ts\n",
       "0  31076582227611   93950878   30530270 2019-12-27 00:23:03  1577406183\n",
       "1  31118059853484  156423439   46057927 2019-12-27 11:54:20  1577447660\n",
       "2  31123355095755  173699291   67341739 2019-12-27 13:22:35  1577452955\n",
       "3  31122059872723   63674025  149380322 2019-12-27 13:01:00  1577451660\n",
       "4  31117075665123  127249066  149493217 2019-12-27 11:37:55  1577446675"
      ]
     },
     "execution_count": 116,
     "metadata": {},
     "output_type": "execute_result"
    }
   ],
   "source": [
    "# add another columen -> timestamp()\n",
    "# this parse the 'event_time' into numeric value (resoluation down to sec)\n",
    "\n",
    "df['ts'] = df['event_time'].apply(lambda x: x.timestamp()).astype(int)\n",
    "df.head()"
   ]
  },
  {
   "cell_type": "code",
   "execution_count": 117,
   "metadata": {},
   "outputs": [
    {
     "data": {
      "text/html": [
       "<div>\n",
       "<style scoped>\n",
       "    .dataframe tbody tr th:only-of-type {\n",
       "        vertical-align: middle;\n",
       "    }\n",
       "\n",
       "    .dataframe tbody tr th {\n",
       "        vertical-align: top;\n",
       "    }\n",
       "\n",
       "    .dataframe thead th {\n",
       "        text-align: right;\n",
       "    }\n",
       "</style>\n",
       "<table border=\"1\" class=\"dataframe\">\n",
       "  <thead>\n",
       "    <tr style=\"text-align: right;\">\n",
       "      <th></th>\n",
       "      <th>orderid</th>\n",
       "      <th>shopid</th>\n",
       "      <th>userid</th>\n",
       "      <th>event_time</th>\n",
       "      <th>ts</th>\n",
       "    </tr>\n",
       "  </thead>\n",
       "  <tbody>\n",
       "    <tr>\n",
       "      <th>150060</th>\n",
       "      <td>31075200506751</td>\n",
       "      <td>6042309</td>\n",
       "      <td>97707522</td>\n",
       "      <td>2019-12-27 00:00:00</td>\n",
       "      <td>1577404800</td>\n",
       "    </tr>\n",
       "    <tr>\n",
       "      <th>25985</th>\n",
       "      <td>31075200506752</td>\n",
       "      <td>104804492</td>\n",
       "      <td>97707522</td>\n",
       "      <td>2019-12-27 00:00:00</td>\n",
       "      <td>1577404800</td>\n",
       "    </tr>\n",
       "    <tr>\n",
       "      <th>81020</th>\n",
       "      <td>31075200506753</td>\n",
       "      <td>8715449</td>\n",
       "      <td>97707522</td>\n",
       "      <td>2019-12-27 00:00:00</td>\n",
       "      <td>1577404800</td>\n",
       "    </tr>\n",
       "    <tr>\n",
       "      <th>146598</th>\n",
       "      <td>31075201870570</td>\n",
       "      <td>190969466</td>\n",
       "      <td>170182475</td>\n",
       "      <td>2019-12-27 00:00:02</td>\n",
       "      <td>1577404802</td>\n",
       "    </tr>\n",
       "    <tr>\n",
       "      <th>80355</th>\n",
       "      <td>31075205798264</td>\n",
       "      <td>2859407</td>\n",
       "      <td>12532131</td>\n",
       "      <td>2019-12-27 00:00:05</td>\n",
       "      <td>1577404805</td>\n",
       "    </tr>\n",
       "  </tbody>\n",
       "</table>\n",
       "</div>"
      ],
      "text/plain": [
       "               orderid     shopid     userid          event_time          ts\n",
       "150060  31075200506751    6042309   97707522 2019-12-27 00:00:00  1577404800\n",
       "25985   31075200506752  104804492   97707522 2019-12-27 00:00:00  1577404800\n",
       "81020   31075200506753    8715449   97707522 2019-12-27 00:00:00  1577404800\n",
       "146598  31075201870570  190969466  170182475 2019-12-27 00:00:02  1577404802\n",
       "80355   31075205798264    2859407   12532131 2019-12-27 00:00:05  1577404805"
      ]
     },
     "execution_count": 117,
     "metadata": {},
     "output_type": "execute_result"
    }
   ],
   "source": [
    "# sort dataframe in ascending time order\n",
    "\n",
    "df = df.sort_values(by = 'event_time', ascending = True)\n",
    "df.head()"
   ]
  },
  {
   "cell_type": "markdown",
   "metadata": {},
   "source": [
    "#### Compile list of unique shopid   \n",
    "There are total of 18770 shops   \n",
    "However, most of the shops only have few orders.    \n",
    "50% of shops less than 2 orders"
   ]
  },
  {
   "cell_type": "code",
   "execution_count": 118,
   "metadata": {},
   "outputs": [
    {
     "name": "stdout",
     "output_type": "stream",
     "text": [
      "Total shops: 18770\n"
     ]
    },
    {
     "data": {
      "text/plain": [
       "count    18770.000000\n",
       "mean        11.867342\n",
       "std        104.244723\n",
       "min          1.000000\n",
       "25%          1.000000\n",
       "50%          2.000000\n",
       "75%          8.000000\n",
       "max      11703.000000\n",
       "dtype: float64"
      ]
     },
     "execution_count": 118,
     "metadata": {},
     "output_type": "execute_result"
    }
   ],
   "source": [
    "unique_shopid = df['shopid'].unique()\n",
    "print(f\"Total shops: {len(unique_shopid)}\")\n",
    "\n",
    "df.groupby('shopid').size().describe()"
   ]
  },
  {
   "cell_type": "markdown",
   "metadata": {},
   "source": [
    "# Data Analysis"
   ]
  },
  {
   "cell_type": "markdown",
   "metadata": {},
   "source": [
    "#### Compile list of shop that has at least 3 orders"
   ]
  },
  {
   "cell_type": "code",
   "execution_count": 119,
   "metadata": {},
   "outputs": [
    {
     "name": "stdout",
     "output_type": "stream",
     "text": [
      "9031 shops has >= 3 orders\n"
     ]
    }
   ],
   "source": [
    "shopid_over3_dict = df.groupby('shopid').size()[df.groupby('shopid').size()>=3].to_dict()\n",
    "shopid_over3 = shopid_over3_dict.keys()\n",
    "\n",
    "print(f\"{len(shopid_over3)} shops has >= 3 orders\")\n"
   ]
  },
  {
   "cell_type": "code",
   "execution_count": 120,
   "metadata": {},
   "outputs": [
    {
     "data": {
      "text/html": [
       "<div>\n",
       "<style scoped>\n",
       "    .dataframe tbody tr th:only-of-type {\n",
       "        vertical-align: middle;\n",
       "    }\n",
       "\n",
       "    .dataframe tbody tr th {\n",
       "        vertical-align: top;\n",
       "    }\n",
       "\n",
       "    .dataframe thead th {\n",
       "        text-align: right;\n",
       "    }\n",
       "</style>\n",
       "<table border=\"1\" class=\"dataframe\">\n",
       "  <thead>\n",
       "    <tr style=\"text-align: right;\">\n",
       "      <th></th>\n",
       "      <th>orderid</th>\n",
       "      <th>shopid</th>\n",
       "      <th>userid</th>\n",
       "      <th>event_time</th>\n",
       "      <th>ts</th>\n",
       "    </tr>\n",
       "  </thead>\n",
       "  <tbody>\n",
       "    <tr>\n",
       "      <th>188513</th>\n",
       "      <td>31195675919209</td>\n",
       "      <td>10061</td>\n",
       "      <td>168750452</td>\n",
       "      <td>2019-12-28 09:27:55</td>\n",
       "      <td>1577525275</td>\n",
       "    </tr>\n",
       "    <tr>\n",
       "      <th>174620</th>\n",
       "      <td>31205132327893</td>\n",
       "      <td>10061</td>\n",
       "      <td>194819216</td>\n",
       "      <td>2019-12-28 12:05:32</td>\n",
       "      <td>1577534732</td>\n",
       "    </tr>\n",
       "    <tr>\n",
       "      <th>200439</th>\n",
       "      <td>31412115824794</td>\n",
       "      <td>10061</td>\n",
       "      <td>130633421</td>\n",
       "      <td>2019-12-30 21:35:15</td>\n",
       "      <td>1577741715</td>\n",
       "    </tr>\n",
       "    <tr>\n",
       "      <th>145426</th>\n",
       "      <td>31431527100615</td>\n",
       "      <td>10061</td>\n",
       "      <td>62464559</td>\n",
       "      <td>2019-12-31 02:58:48</td>\n",
       "      <td>1577761128</td>\n",
       "    </tr>\n",
       "  </tbody>\n",
       "</table>\n",
       "</div>"
      ],
      "text/plain": [
       "               orderid  shopid     userid          event_time          ts\n",
       "188513  31195675919209   10061  168750452 2019-12-28 09:27:55  1577525275\n",
       "174620  31205132327893   10061  194819216 2019-12-28 12:05:32  1577534732\n",
       "200439  31412115824794   10061  130633421 2019-12-30 21:35:15  1577741715\n",
       "145426  31431527100615   10061   62464559 2019-12-31 02:58:48  1577761128"
      ]
     },
     "execution_count": 120,
     "metadata": {},
     "output_type": "execute_result"
    }
   ],
   "source": [
    "# take a peak on the first shopid in the list that has order >=3\n",
    "df[df['shopid'] == list(shopid_over3)[0]]"
   ]
  },
  {
   "cell_type": "markdown",
   "metadata": {},
   "source": [
    "#### Define function to extract the value of a dict that is equal or more than 3    \n",
    "This function will be applied on a dict, where its'      \n",
    "key => userid   \n",
    "value => count of userid appeared in the df"
   ]
  },
  {
   "cell_type": "code",
   "execution_count": 121,
   "metadata": {},
   "outputs": [],
   "source": [
    "def find_brush(df_dict):\n",
    "    key_list = set()\n",
    "    for key, value in df_dict.items():\n",
    "        if value >=3:\n",
    "            key_list.update([key])\n",
    "    return list(key_list)"
   ]
  },
  {
   "cell_type": "markdown",
   "metadata": {},
   "source": [
    "#### Below block of code to detect brushing order   \n",
    "1. Loop over the shopid with at least 3 orders\n",
    "2. Build a dataframe for each shopid (i.e.: shop_df)\n",
    "3. Loop through each row of the dataframe (shop_df), slice it into a smaller dataframe (i.e.: tmp_df) within 1hr time span. Search and detect brushing order"
   ]
  },
  {
   "cell_type": "code",
   "execution_count": 122,
   "metadata": {},
   "outputs": [
    {
     "name": "stdout",
     "output_type": "stream",
     "text": [
      "0 of 9031\n"
     ]
    },
    {
     "name": "stderr",
     "output_type": "stream",
     "text": [
      "/opt/anaconda3/lib/python3.7/site-packages/ipykernel_launcher.py:22: UserWarning: Boolean Series key will be reindexed to match DataFrame index.\n"
     ]
    },
    {
     "name": "stdout",
     "output_type": "stream",
     "text": [
      "1000 of 9031\n",
      "2000 of 9031\n",
      "3000 of 9031\n",
      "4000 of 9031\n",
      "5000 of 9031\n",
      "6000 of 9031\n",
      "7000 of 9031\n",
      "8000 of 9031\n",
      "9000 of 9031\n"
     ]
    }
   ],
   "source": [
    "timespan = 3600    #1 hour interval\n",
    "ans_dict = dict()  # place holder to record the shopid that has brushing order\n",
    "\n",
    "\n",
    "# Loop through the shopid with at least 3 orders:\n",
    "for count, shop in enumerate(list(shopid_over3)):\n",
    "    shop_df = df[df['shopid']==shop]\n",
    "    len_shop = shop_df.shape[0]\n",
    "    \n",
    "    if count%1000 ==0:\n",
    "        print(f\"{count} of {len(list(shopid_over3))}\")\n",
    "        \n",
    "    # record the userid if found brushing\n",
    "    brush_userid = set()\n",
    "    \n",
    "    # start to loop from firt row till the row within 1hour timespan\n",
    "    # need at least 3 orders to for brushing, thus no need to loop for the last 2 rows\n",
    "    for row in range(len_shop-2):\n",
    "        mask_1hr = shop_df['ts'] <= shop_df['ts'].iloc[row]+timespan\n",
    "        mask_current = shop_df['ts'] >= shop_df['ts'].iloc[row]    # this is to exclude the earlier row\n",
    "        \n",
    "        tmp_df = shop_df[mask_1hr][mask_current]     #dataframe 1hr span\n",
    "   \n",
    "        # start compile if brushing detected in 2 scenario\n",
    "        # scenario one: only 3 orders and all order came from same userid\n",
    "        if (tmp_df.shape[0] == 3) & (tmp_df['userid'].nunique() == 1):\n",
    "            brush_userid.update(tmp_df['userid'])\n",
    "        \n",
    "        # scenario two: more than 3 orders\n",
    "        elif tmp_df.shape[0] > 3:\n",
    "            user_dict = tmp_df.groupby('userid').size().to_dict()    #key=userid, value = count of userid\n",
    "            brush_id = find_brush(user_dict)      # use 'find_brush' funciton to get userid with >= 3 orders\n",
    "            if len(brush_id) > 0:\n",
    "                brush_userid.update(brush_id)\n",
    "    \n",
    "    if len(brush_userid) !=0:\n",
    "        ans_dict[shop] = list(brush_userid)\n",
    "  "
   ]
  },
  {
   "cell_type": "markdown",
   "metadata": {},
   "source": [
    "#### count how many shop is brushing:"
   ]
  },
  {
   "cell_type": "code",
   "execution_count": 123,
   "metadata": {},
   "outputs": [
    {
     "data": {
      "text/plain": [
       "393"
      ]
     },
     "execution_count": 123,
     "metadata": {},
     "output_type": "execute_result"
    }
   ],
   "source": [
    "len(ans_dict)"
   ]
  },
  {
   "cell_type": "markdown",
   "metadata": {},
   "source": [
    "#### define function to join the userid if detected more than 1 userid perform brushing"
   ]
  },
  {
   "cell_type": "code",
   "execution_count": 81,
   "metadata": {},
   "outputs": [],
   "source": [
    "#This function join all the items in input 'list' with \"&\"\n",
    "# e.g. list = [11,22,33], output => '11&22&33'\n",
    "def join_dict_value(list):\n",
    "    return '&'.join(str(i) for i in list)"
   ]
  },
  {
   "cell_type": "markdown",
   "metadata": {},
   "source": [
    "# Compiled results"
   ]
  },
  {
   "cell_type": "code",
   "execution_count": 124,
   "metadata": {},
   "outputs": [
    {
     "name": "stdout",
     "output_type": "stream",
     "text": [
      "total list of shopid: 18770\n",
      "total list of userid: 18770\n"
     ]
    },
    {
     "data": {
      "text/html": [
       "<div>\n",
       "<style scoped>\n",
       "    .dataframe tbody tr th:only-of-type {\n",
       "        vertical-align: middle;\n",
       "    }\n",
       "\n",
       "    .dataframe tbody tr th {\n",
       "        vertical-align: top;\n",
       "    }\n",
       "\n",
       "    .dataframe thead th {\n",
       "        text-align: right;\n",
       "    }\n",
       "</style>\n",
       "<table border=\"1\" class=\"dataframe\">\n",
       "  <thead>\n",
       "    <tr style=\"text-align: right;\">\n",
       "      <th></th>\n",
       "      <th>shopid</th>\n",
       "      <th>userid</th>\n",
       "    </tr>\n",
       "  </thead>\n",
       "  <tbody>\n",
       "    <tr>\n",
       "      <th>0</th>\n",
       "      <td>10159</td>\n",
       "      <td>214988798</td>\n",
       "    </tr>\n",
       "    <tr>\n",
       "      <th>1</th>\n",
       "      <td>10287</td>\n",
       "      <td>214226569&amp;198097381</td>\n",
       "    </tr>\n",
       "    <tr>\n",
       "      <th>2</th>\n",
       "      <td>10402</td>\n",
       "      <td>77819</td>\n",
       "    </tr>\n",
       "    <tr>\n",
       "      <th>3</th>\n",
       "      <td>10536</td>\n",
       "      <td>672345</td>\n",
       "    </tr>\n",
       "    <tr>\n",
       "      <th>4</th>\n",
       "      <td>29583</td>\n",
       "      <td>214495220&amp;215275495</td>\n",
       "    </tr>\n",
       "    <tr>\n",
       "      <th>...</th>\n",
       "      <td>...</td>\n",
       "      <td>...</td>\n",
       "    </tr>\n",
       "    <tr>\n",
       "      <th>18765</th>\n",
       "      <td>173249173</td>\n",
       "      <td>0</td>\n",
       "    </tr>\n",
       "    <tr>\n",
       "      <th>18766</th>\n",
       "      <td>212058195</td>\n",
       "      <td>0</td>\n",
       "    </tr>\n",
       "    <tr>\n",
       "      <th>18767</th>\n",
       "      <td>577768</td>\n",
       "      <td>0</td>\n",
       "    </tr>\n",
       "    <tr>\n",
       "      <th>18768</th>\n",
       "      <td>162561288</td>\n",
       "      <td>0</td>\n",
       "    </tr>\n",
       "    <tr>\n",
       "      <th>18769</th>\n",
       "      <td>203090989</td>\n",
       "      <td>0</td>\n",
       "    </tr>\n",
       "  </tbody>\n",
       "</table>\n",
       "<p>18770 rows × 2 columns</p>\n",
       "</div>"
      ],
      "text/plain": [
       "          shopid               userid\n",
       "0          10159            214988798\n",
       "1          10287  214226569&198097381\n",
       "2          10402                77819\n",
       "3          10536               672345\n",
       "4          29583  214495220&215275495\n",
       "...          ...                  ...\n",
       "18765  173249173                    0\n",
       "18766  212058195                    0\n",
       "18767     577768                    0\n",
       "18768  162561288                    0\n",
       "18769  203090989                    0\n",
       "\n",
       "[18770 rows x 2 columns]"
      ]
     },
     "execution_count": 124,
     "metadata": {},
     "output_type": "execute_result"
    }
   ],
   "source": [
    "brush_shopid = []   # placeholder to save ALL unique shopid\n",
    "brush_userid = []   # placeholder to save userid if brushing detected\n",
    "\n",
    "# ans_dict: key=shopid, value=userid detected in brushing\n",
    "for shop in ans_dict.keys():\n",
    "    if len(ans_dict[shop]) >1:\n",
    "        brush_userid.append(join_dict_value(ans_dict[shop]))    # user 'join_dict_value' function to join all userid\n",
    "    else:\n",
    "        brush_userid.append(str(ans_dict[shop][0]))   #index 0 is to access the item in the list\n",
    "    brush_shopid.append(shop)\n",
    "\n",
    "# save shopid that DO NOT detect brushing\n",
    "for shop in unique_shopid:\n",
    "    if shop not in ans_dict.keys():\n",
    "        brush_userid.append(\"0\")\n",
    "        brush_shopid.append(shop)\n",
    "\n",
    "print(\"total list of shopid: {}\".format(len(brush_shopid)))\n",
    "print(\"total list of userid: {}\".format(len(brush_userid)))\n",
    "\n",
    "submission_df = pd.DataFrame(zip(brush_shopid, brush_userid), columns = ['shopid', 'userid'])\n",
    "submission_df"
   ]
  },
  {
   "cell_type": "code",
   "execution_count": 101,
   "metadata": {},
   "outputs": [],
   "source": [
    "# save to csv file\n",
    "submission_df.to_csv('brushing_submission.csv', index = False)"
   ]
  },
  {
   "cell_type": "code",
   "execution_count": null,
   "metadata": {},
   "outputs": [],
   "source": []
  },
  {
   "cell_type": "code",
   "execution_count": null,
   "metadata": {},
   "outputs": [],
   "source": []
  },
  {
   "cell_type": "code",
   "execution_count": null,
   "metadata": {},
   "outputs": [],
   "source": []
  }
 ],
 "metadata": {
  "kernelspec": {
   "display_name": "Python 3",
   "language": "python",
   "name": "python3"
  },
  "language_info": {
   "codemirror_mode": {
    "name": "ipython",
    "version": 3
   },
   "file_extension": ".py",
   "mimetype": "text/x-python",
   "name": "python",
   "nbconvert_exporter": "python",
   "pygments_lexer": "ipython3",
   "version": "3.7.4"
  }
 },
 "nbformat": 4,
 "nbformat_minor": 2
}
