{
 "cells": [
  {
   "cell_type": "markdown",
   "metadata": {},
   "source": [
    "# Order Brushing Detection\n",
    "\n",
    "Task\n",
    "1. Identify all shops that are deemed to have conducted order brushing.\n",
    "2. For each shop that is identified to have conducted order brushing, identify the buyers suspected to have conducted order brushing for that shop.\n",
    "\n",
    "For the purpose of this question, shops are deemed to have conducted order brushing if their concentrate rate is greater than or equal to 3 at any instance\n",
    "\n",
    "[link to kaggle](https://www.kaggle.com/c/order-brushing-shopee-code-league)"
   ]
  },
  {
   "cell_type": "code",
   "execution_count": 1,
   "metadata": {},
   "outputs": [],
   "source": [
    "import pandas as pd\n",
    "import numpy as np\n",
    "from datetime import datetime"
   ]
  },
  {
   "cell_type": "markdown",
   "metadata": {},
   "source": [
    "## Load data"
   ]
  },
  {
   "cell_type": "code",
   "execution_count": 2,
   "metadata": {},
   "outputs": [
    {
     "data": {
      "text/html": [
       "<div>\n",
       "<style scoped>\n",
       "    .dataframe tbody tr th:only-of-type {\n",
       "        vertical-align: middle;\n",
       "    }\n",
       "\n",
       "    .dataframe tbody tr th {\n",
       "        vertical-align: top;\n",
       "    }\n",
       "\n",
       "    .dataframe thead th {\n",
       "        text-align: right;\n",
       "    }\n",
       "</style>\n",
       "<table border=\"1\" class=\"dataframe\">\n",
       "  <thead>\n",
       "    <tr style=\"text-align: right;\">\n",
       "      <th></th>\n",
       "      <th>orderid</th>\n",
       "      <th>shopid</th>\n",
       "      <th>userid</th>\n",
       "      <th>event_time</th>\n",
       "    </tr>\n",
       "  </thead>\n",
       "  <tbody>\n",
       "    <tr>\n",
       "      <th>0</th>\n",
       "      <td>31076582227611</td>\n",
       "      <td>93950878</td>\n",
       "      <td>30530270</td>\n",
       "      <td>2019-12-27 00:23:03</td>\n",
       "    </tr>\n",
       "    <tr>\n",
       "      <th>1</th>\n",
       "      <td>31118059853484</td>\n",
       "      <td>156423439</td>\n",
       "      <td>46057927</td>\n",
       "      <td>2019-12-27 11:54:20</td>\n",
       "    </tr>\n",
       "    <tr>\n",
       "      <th>2</th>\n",
       "      <td>31123355095755</td>\n",
       "      <td>173699291</td>\n",
       "      <td>67341739</td>\n",
       "      <td>2019-12-27 13:22:35</td>\n",
       "    </tr>\n",
       "    <tr>\n",
       "      <th>3</th>\n",
       "      <td>31122059872723</td>\n",
       "      <td>63674025</td>\n",
       "      <td>149380322</td>\n",
       "      <td>2019-12-27 13:01:00</td>\n",
       "    </tr>\n",
       "    <tr>\n",
       "      <th>4</th>\n",
       "      <td>31117075665123</td>\n",
       "      <td>127249066</td>\n",
       "      <td>149493217</td>\n",
       "      <td>2019-12-27 11:37:55</td>\n",
       "    </tr>\n",
       "  </tbody>\n",
       "</table>\n",
       "</div>"
      ],
      "text/plain": [
       "          orderid     shopid     userid           event_time\n",
       "0  31076582227611   93950878   30530270  2019-12-27 00:23:03\n",
       "1  31118059853484  156423439   46057927  2019-12-27 11:54:20\n",
       "2  31123355095755  173699291   67341739  2019-12-27 13:22:35\n",
       "3  31122059872723   63674025  149380322  2019-12-27 13:01:00\n",
       "4  31117075665123  127249066  149493217  2019-12-27 11:37:55"
      ]
     },
     "execution_count": 2,
     "metadata": {},
     "output_type": "execute_result"
    }
   ],
   "source": [
    "df = pd.read_csv('order_brush_order.csv')\n",
    "df.head()"
   ]
  },
  {
   "cell_type": "markdown",
   "metadata": {},
   "source": [
    "# Data Exploration"
   ]
  },
  {
   "cell_type": "code",
   "execution_count": 3,
   "metadata": {},
   "outputs": [
    {
     "name": "stdout",
     "output_type": "stream",
     "text": [
      "<class 'pandas.core.frame.DataFrame'>\n",
      "RangeIndex: 222750 entries, 0 to 222749\n",
      "Data columns (total 4 columns):\n",
      " #   Column      Non-Null Count   Dtype \n",
      "---  ------      --------------   ----- \n",
      " 0   orderid     222750 non-null  int64 \n",
      " 1   shopid      222750 non-null  int64 \n",
      " 2   userid      222750 non-null  int64 \n",
      " 3   event_time  222750 non-null  object\n",
      "dtypes: int64(3), object(1)\n",
      "memory usage: 6.8+ MB\n"
     ]
    }
   ],
   "source": [
    "# there are total of 222750 transaction\n",
    "df.info()"
   ]
  },
  {
   "cell_type": "markdown",
   "metadata": {},
   "source": [
    "There are total 18770 shops, with most of the shops only have few orders.   \n",
    "50% of shops less than 2 orders"
   ]
  },
  {
   "cell_type": "code",
   "execution_count": 4,
   "metadata": {},
   "outputs": [
    {
     "data": {
      "text/plain": [
       "18770"
      ]
     },
     "execution_count": 4,
     "metadata": {},
     "output_type": "execute_result"
    }
   ],
   "source": [
    "unique_shopid = df['shopid'].unique()\n",
    "len(unique_shopid)"
   ]
  },
  {
   "cell_type": "code",
   "execution_count": 5,
   "metadata": {},
   "outputs": [
    {
     "data": {
      "text/plain": [
       "count    18770.000000\n",
       "mean        11.867342\n",
       "std        104.244723\n",
       "min          1.000000\n",
       "25%          1.000000\n",
       "50%          2.000000\n",
       "75%          8.000000\n",
       "max      11703.000000\n",
       "Name: userid, dtype: float64"
      ]
     },
     "execution_count": 5,
     "metadata": {},
     "output_type": "execute_result"
    }
   ],
   "source": [
    "#df.groupby('shopid').size().describe()\n",
    "df.groupby('shopid')['userid'].count().describe()"
   ]
  },
  {
   "cell_type": "markdown",
   "metadata": {},
   "source": [
    "List of TOP 10 shops with MOST orders"
   ]
  },
  {
   "cell_type": "code",
   "execution_count": 6,
   "metadata": {},
   "outputs": [
    {
     "data": {
      "text/plain": [
       "shopid\n",
       "147941492    11703\n",
       "61556313      6691\n",
       "54615708      2640\n",
       "91799978       707\n",
       "57189823       687\n",
       "107921853      684\n",
       "25924280       655\n",
       "89768730       607\n",
       "43412276       529\n",
       "32504026       516\n",
       "Name: userid, dtype: int64"
      ]
     },
     "execution_count": 6,
     "metadata": {},
     "output_type": "execute_result"
    }
   ],
   "source": [
    "df.groupby('shopid')['userid'].count().sort_values(ascending = False).head(10)"
   ]
  },
  {
   "cell_type": "markdown",
   "metadata": {},
   "source": [
    "# Data Analysis"
   ]
  },
  {
   "cell_type": "markdown",
   "metadata": {},
   "source": [
    "Generate timestamp"
   ]
  },
  {
   "cell_type": "code",
   "execution_count": 7,
   "metadata": {},
   "outputs": [
    {
     "name": "stdout",
     "output_type": "stream",
     "text": [
      "transaction start: 2019-12-27 00:00:00\n",
      "transaction end: 2019-12-31 23:59:56\n"
     ]
    }
   ],
   "source": [
    "df['event_time'] = pd.to_datetime(df['event_time'])\n",
    "\n",
    "# find the start and last timestamp for the entire dataframe, is is only 5 days datasets\n",
    "print(f\"transaction start: {df['event_time'].min()}\")\n",
    "print(f\"transaction end: {df['event_time'].max()}\")"
   ]
  },
  {
   "cell_type": "code",
   "execution_count": 8,
   "metadata": {},
   "outputs": [],
   "source": [
    "# turn obj type\n",
    "df['day-hr'] = df['event_time'].dt.strftime('%d/%m/%Y-%H')"
   ]
  },
  {
   "cell_type": "code",
   "execution_count": 9,
   "metadata": {},
   "outputs": [
    {
     "data": {
      "text/html": [
       "<div>\n",
       "<style scoped>\n",
       "    .dataframe tbody tr th:only-of-type {\n",
       "        vertical-align: middle;\n",
       "    }\n",
       "\n",
       "    .dataframe tbody tr th {\n",
       "        vertical-align: top;\n",
       "    }\n",
       "\n",
       "    .dataframe thead th {\n",
       "        text-align: right;\n",
       "    }\n",
       "</style>\n",
       "<table border=\"1\" class=\"dataframe\">\n",
       "  <thead>\n",
       "    <tr style=\"text-align: right;\">\n",
       "      <th></th>\n",
       "      <th>orderid</th>\n",
       "      <th>shopid</th>\n",
       "      <th>userid</th>\n",
       "      <th>event_time</th>\n",
       "      <th>day-hr</th>\n",
       "    </tr>\n",
       "  </thead>\n",
       "  <tbody>\n",
       "    <tr>\n",
       "      <th>0</th>\n",
       "      <td>31076582227611</td>\n",
       "      <td>93950878</td>\n",
       "      <td>30530270</td>\n",
       "      <td>2019-12-27 00:23:03</td>\n",
       "      <td>27/12/2019-00</td>\n",
       "    </tr>\n",
       "    <tr>\n",
       "      <th>1</th>\n",
       "      <td>31118059853484</td>\n",
       "      <td>156423439</td>\n",
       "      <td>46057927</td>\n",
       "      <td>2019-12-27 11:54:20</td>\n",
       "      <td>27/12/2019-11</td>\n",
       "    </tr>\n",
       "    <tr>\n",
       "      <th>2</th>\n",
       "      <td>31123355095755</td>\n",
       "      <td>173699291</td>\n",
       "      <td>67341739</td>\n",
       "      <td>2019-12-27 13:22:35</td>\n",
       "      <td>27/12/2019-13</td>\n",
       "    </tr>\n",
       "    <tr>\n",
       "      <th>3</th>\n",
       "      <td>31122059872723</td>\n",
       "      <td>63674025</td>\n",
       "      <td>149380322</td>\n",
       "      <td>2019-12-27 13:01:00</td>\n",
       "      <td>27/12/2019-13</td>\n",
       "    </tr>\n",
       "    <tr>\n",
       "      <th>4</th>\n",
       "      <td>31117075665123</td>\n",
       "      <td>127249066</td>\n",
       "      <td>149493217</td>\n",
       "      <td>2019-12-27 11:37:55</td>\n",
       "      <td>27/12/2019-11</td>\n",
       "    </tr>\n",
       "  </tbody>\n",
       "</table>\n",
       "</div>"
      ],
      "text/plain": [
       "          orderid     shopid     userid          event_time         day-hr\n",
       "0  31076582227611   93950878   30530270 2019-12-27 00:23:03  27/12/2019-00\n",
       "1  31118059853484  156423439   46057927 2019-12-27 11:54:20  27/12/2019-11\n",
       "2  31123355095755  173699291   67341739 2019-12-27 13:22:35  27/12/2019-13\n",
       "3  31122059872723   63674025  149380322 2019-12-27 13:01:00  27/12/2019-13\n",
       "4  31117075665123  127249066  149493217 2019-12-27 11:37:55  27/12/2019-11"
      ]
     },
     "execution_count": 9,
     "metadata": {},
     "output_type": "execute_result"
    }
   ],
   "source": [
    "df.head()"
   ]
  },
  {
   "cell_type": "code",
   "execution_count": 10,
   "metadata": {},
   "outputs": [],
   "source": [
    "def get_brushers(shopid):\n",
    "    by_id = df[df['shopid'] == shopid].groupby(['day-hr', 'userid']).agg({'orderid':'count'}).reset_index()\n",
    "    brusher_ids = by_id[by_id['orderid'] >=3]['userid'].sort_values().astype(str)\n",
    "    \n",
    "    if len(brusher_ids):\n",
    "        return '&'.join(brusher_ids)\n",
    "    else:\n",
    "        return 0"
   ]
  },
  {
   "cell_type": "code",
   "execution_count": 11,
   "metadata": {},
   "outputs": [],
   "source": [
    "df_submit = pd.DataFrame()\n",
    "df_submit['shopid'] = df['shopid'].unique()\n",
    "df_submit['userid'] = df_submit['shopid'].apply(get_brushers)"
   ]
  },
  {
   "cell_type": "code",
   "execution_count": 82,
   "metadata": {},
   "outputs": [],
   "source": [
    "userid_list = []\n",
    "for userid in df_submit[df_submit['userid'] !=0]['userid']:\n",
    "    userid_list.append(userid)\n",
    "\n",
    "    "
   ]
  },
  {
   "cell_type": "code",
   "execution_count": 12,
   "metadata": {},
   "outputs": [
    {
     "data": {
      "text/html": [
       "<div>\n",
       "<style scoped>\n",
       "    .dataframe tbody tr th:only-of-type {\n",
       "        vertical-align: middle;\n",
       "    }\n",
       "\n",
       "    .dataframe tbody tr th {\n",
       "        vertical-align: top;\n",
       "    }\n",
       "\n",
       "    .dataframe thead th {\n",
       "        text-align: right;\n",
       "    }\n",
       "</style>\n",
       "<table border=\"1\" class=\"dataframe\">\n",
       "  <thead>\n",
       "    <tr style=\"text-align: right;\">\n",
       "      <th></th>\n",
       "      <th>shopid</th>\n",
       "      <th>userid</th>\n",
       "    </tr>\n",
       "  </thead>\n",
       "  <tbody>\n",
       "    <tr>\n",
       "      <th>0</th>\n",
       "      <td>93950878</td>\n",
       "      <td>0</td>\n",
       "    </tr>\n",
       "    <tr>\n",
       "      <th>1</th>\n",
       "      <td>156423439</td>\n",
       "      <td>0</td>\n",
       "    </tr>\n",
       "    <tr>\n",
       "      <th>2</th>\n",
       "      <td>173699291</td>\n",
       "      <td>0</td>\n",
       "    </tr>\n",
       "    <tr>\n",
       "      <th>3</th>\n",
       "      <td>63674025</td>\n",
       "      <td>0</td>\n",
       "    </tr>\n",
       "    <tr>\n",
       "      <th>4</th>\n",
       "      <td>127249066</td>\n",
       "      <td>0</td>\n",
       "    </tr>\n",
       "    <tr>\n",
       "      <th>...</th>\n",
       "      <td>...</td>\n",
       "      <td>...</td>\n",
       "    </tr>\n",
       "    <tr>\n",
       "      <th>18765</th>\n",
       "      <td>163337224</td>\n",
       "      <td>0</td>\n",
       "    </tr>\n",
       "    <tr>\n",
       "      <th>18766</th>\n",
       "      <td>772599</td>\n",
       "      <td>0</td>\n",
       "    </tr>\n",
       "    <tr>\n",
       "      <th>18767</th>\n",
       "      <td>50236030</td>\n",
       "      <td>0</td>\n",
       "    </tr>\n",
       "    <tr>\n",
       "      <th>18768</th>\n",
       "      <td>203587596</td>\n",
       "      <td>0</td>\n",
       "    </tr>\n",
       "    <tr>\n",
       "      <th>18769</th>\n",
       "      <td>147118226</td>\n",
       "      <td>0</td>\n",
       "    </tr>\n",
       "  </tbody>\n",
       "</table>\n",
       "<p>18770 rows × 2 columns</p>\n",
       "</div>"
      ],
      "text/plain": [
       "          shopid userid\n",
       "0       93950878      0\n",
       "1      156423439      0\n",
       "2      173699291      0\n",
       "3       63674025      0\n",
       "4      127249066      0\n",
       "...          ...    ...\n",
       "18765  163337224      0\n",
       "18766     772599      0\n",
       "18767   50236030      0\n",
       "18768  203587596      0\n",
       "18769  147118226      0\n",
       "\n",
       "[18770 rows x 2 columns]"
      ]
     },
     "execution_count": 12,
     "metadata": {},
     "output_type": "execute_result"
    }
   ],
   "source": [
    "df_submit"
   ]
  },
  {
   "cell_type": "code",
   "execution_count": 16,
   "metadata": {},
   "outputs": [
    {
     "data": {
      "text/plain": [
       "296"
      ]
     },
     "execution_count": 16,
     "metadata": {},
     "output_type": "execute_result"
    }
   ],
   "source": [
    "len(df_submit[df_submit['userid'] != 0])"
   ]
  },
  {
   "cell_type": "code",
   "execution_count": null,
   "metadata": {},
   "outputs": [],
   "source": []
  }
 ],
 "metadata": {
  "kernelspec": {
   "display_name": "Python 3",
   "language": "python",
   "name": "python3"
  },
  "language_info": {
   "codemirror_mode": {
    "name": "ipython",
    "version": 3
   },
   "file_extension": ".py",
   "mimetype": "text/x-python",
   "name": "python",
   "nbconvert_exporter": "python",
   "pygments_lexer": "ipython3",
   "version": "3.7.4"
  }
 },
 "nbformat": 4,
 "nbformat_minor": 2
}
