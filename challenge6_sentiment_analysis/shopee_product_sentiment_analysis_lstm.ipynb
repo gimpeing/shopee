{
 "cells": [
  {
   "cell_type": "markdown",
   "metadata": {},
   "source": [
    "# Shopee Code League 6: Sentiment Analysis\n",
    "### Data Science\n",
    "Given product reviews, build a model to correctly predict user ratings (1 to 5) for the review\n",
    "\n",
    "[link to kaggle](https://www.kaggle.com/c/shopee-sentiment-analysis/overview)"
   ]
  },
  {
   "cell_type": "markdown",
   "metadata": {},
   "source": [
    "# 1 Introduction\n",
    "This is Shopee competition, where the task in this competition is to build a multiple product review sentiment classificaiton model. There are about 150k product reviews form different categories, including elecgtronics, furniture, home & living products like air-conditioner and fashion products like T-shirts, rings etc. \n",
    "\n",
    "The evaluation metrics is top-1 accuracy."
   ]
  },
  {
   "cell_type": "code",
   "execution_count": 1,
   "metadata": {},
   "outputs": [
    {
     "name": "stderr",
     "output_type": "stream",
     "text": [
      "/opt/anaconda3/lib/python3.7/site-packages/statsmodels/tools/_testing.py:19: FutureWarning: pandas.util.testing is deprecated. Use the functions in the public API at pandas.testing instead.\n",
      "  import pandas.util.testing as tm\n",
      "Using TensorFlow backend.\n"
     ]
    }
   ],
   "source": [
    "import pandas as pd\n",
    "import numpy as np\n",
    "import itertools\n",
    "import matplotlib.pyplot as plt\n",
    "import seaborn as sns\n",
    "%matplotlib inline\n",
    "\n",
    "## nlp\n",
    "import re\n",
    "import nltk\n",
    "from nltk.corpus import stopwords\n",
    "from nltk.stem import WordNetLemmatizer\n",
    "from nltk.sentiment.vader import SentimentIntensityAnalyzer\n",
    "\n",
    "## emoji\n",
    "import emoji  # https://pypi.org/project/emoji/ (install package: pip install emoji --upgrade)\n",
    "\n",
    "## spacy\n",
    "import spacy\n",
    "## scattertext\n",
    "import scattertext as st\n",
    "\n",
    "## sklearn\n",
    "from sklearn.model_selection import train_test_split, RandomizedSearchCV\n",
    "from sklearn.utils import shuffle, class_weight\n",
    "from sklearn.metrics import classification_report, confusion_matrix\n",
    "\n",
    "## keras\n",
    "from keras.preprocessing.sequence import pad_sequences\n",
    "from keras.preprocessing.text import Tokenizer\n",
    "from keras.utils import to_categorical\n",
    "from keras.models import Sequential\n",
    "from keras import optimizers\n",
    "from keras.layers import Dropout, Dense, SpatialDropout1D, BatchNormalization\n",
    "from keras.layers import Activation, LSTM\n",
    "from keras.layers.embeddings import Embedding"
   ]
  },
  {
   "cell_type": "markdown",
   "metadata": {},
   "source": [
    "# 2 Data Wrangling"
   ]
  },
  {
   "cell_type": "markdown",
   "metadata": {},
   "source": [
    "## 2.1 General Properties\n",
    "- There are total of 146811 reviews with no missing value in train dataset.\n",
    "- There are total of 60427 reviews in test dataset. \n",
    "- Majority of review in **train** dataset is good review (~ 28% each for rating 4 and 5).\n",
    "- Review rating 2 is with least, about 8.65% only"
   ]
  },
  {
   "cell_type": "code",
   "execution_count": 2,
   "metadata": {},
   "outputs": [
    {
     "name": "stdout",
     "output_type": "stream",
     "text": [
      "train: (146811, 3)\n",
      "test: (60427, 2)\n"
     ]
    },
    {
     "data": {
      "text/html": [
       "<div>\n",
       "<style scoped>\n",
       "    .dataframe tbody tr th:only-of-type {\n",
       "        vertical-align: middle;\n",
       "    }\n",
       "\n",
       "    .dataframe tbody tr th {\n",
       "        vertical-align: top;\n",
       "    }\n",
       "\n",
       "    .dataframe thead th {\n",
       "        text-align: right;\n",
       "    }\n",
       "</style>\n",
       "<table border=\"1\" class=\"dataframe\">\n",
       "  <thead>\n",
       "    <tr style=\"text-align: right;\">\n",
       "      <th></th>\n",
       "      <th>review_id</th>\n",
       "      <th>review</th>\n",
       "      <th>rating</th>\n",
       "    </tr>\n",
       "  </thead>\n",
       "  <tbody>\n",
       "    <tr>\n",
       "      <th>0</th>\n",
       "      <td>0</td>\n",
       "      <td>Ga disappointed neat products .. Meletot Hilsn...</td>\n",
       "      <td>1</td>\n",
       "    </tr>\n",
       "    <tr>\n",
       "      <th>1</th>\n",
       "      <td>1</td>\n",
       "      <td>Rdtanya replace broken glass, broken chargernya</td>\n",
       "      <td>1</td>\n",
       "    </tr>\n",
       "    <tr>\n",
       "      <th>2</th>\n",
       "      <td>2</td>\n",
       "      <td>Nyesel bngt dsni shopping antecedent photo mes...</td>\n",
       "      <td>1</td>\n",
       "    </tr>\n",
       "    <tr>\n",
       "      <th>3</th>\n",
       "      <td>3</td>\n",
       "      <td>Sent a light blue suit goods ga want a refund</td>\n",
       "      <td>1</td>\n",
       "    </tr>\n",
       "    <tr>\n",
       "      <th>4</th>\n",
       "      <td>4</td>\n",
       "      <td>Pendants came with dents and scratches on its ...</td>\n",
       "      <td>1</td>\n",
       "    </tr>\n",
       "  </tbody>\n",
       "</table>\n",
       "</div>"
      ],
      "text/plain": [
       "   review_id                                             review  rating\n",
       "0          0  Ga disappointed neat products .. Meletot Hilsn...       1\n",
       "1          1    Rdtanya replace broken glass, broken chargernya       1\n",
       "2          2  Nyesel bngt dsni shopping antecedent photo mes...       1\n",
       "3          3      Sent a light blue suit goods ga want a refund       1\n",
       "4          4  Pendants came with dents and scratches on its ...       1"
      ]
     },
     "execution_count": 2,
     "metadata": {},
     "output_type": "execute_result"
    }
   ],
   "source": [
    "# Load the data and view the first 5 rows\n",
    "df = pd.read_csv('./data/train.csv')  #train.csv\n",
    "test = pd.read_csv('./data/test.csv') #test.csv\n",
    "\n",
    "print(\"train: {}\".format(df.shape))\n",
    "print(\"test: {}\".format(test.shape))\n",
    "\n",
    "df.head()"
   ]
  },
  {
   "cell_type": "code",
   "execution_count": 3,
   "metadata": {},
   "outputs": [
    {
     "name": "stdout",
     "output_type": "stream",
     "text": [
      "<class 'pandas.core.frame.DataFrame'>\n",
      "RangeIndex: 146811 entries, 0 to 146810\n",
      "Data columns (total 3 columns):\n",
      " #   Column     Non-Null Count   Dtype \n",
      "---  ------     --------------   ----- \n",
      " 0   review_id  146811 non-null  int64 \n",
      " 1   review     146811 non-null  object\n",
      " 2   rating     146811 non-null  int64 \n",
      "dtypes: int64(2), object(1)\n",
      "memory usage: 3.4+ MB\n"
     ]
    }
   ],
   "source": [
    "# No null value\n",
    "df.info()"
   ]
  },
  {
   "cell_type": "code",
   "execution_count": 4,
   "metadata": {},
   "outputs": [
    {
     "data": {
      "text/plain": [
       "4    0.285163\n",
       "5    0.282779\n",
       "3    0.244811\n",
       "1    0.100708\n",
       "2    0.086540\n",
       "Name: rating, dtype: float64"
      ]
     },
     "execution_count": 4,
     "metadata": {},
     "output_type": "execute_result"
    }
   ],
   "source": [
    "# distribution of the rating in dataset\n",
    "df.rating.value_counts(normalize=True)"
   ]
  },
  {
   "cell_type": "code",
   "execution_count": 5,
   "metadata": {},
   "outputs": [
    {
     "data": {
      "image/png": "[encoded data removed]",
      "text/plain": [
       "<Figure size 432x288 with 1 Axes>"
      ]
     },
     "metadata": {
      "needs_background": "light"
     },
     "output_type": "display_data"
    }
   ],
   "source": [
    "# Visualise the distribution of rating\n",
    "ax = sns.countplot(x=\"rating\", data = df, palette=\"Set2\")\n",
    "ax.set_title(\"Shopee's product review rating distribution\");"
   ]
  },
  {
   "cell_type": "markdown",
   "metadata": {},
   "source": [
    "## 2.2 Text data preprocessing"
   ]
  },
  {
   "cell_type": "markdown",
   "metadata": {},
   "source": [
    "Sneak peak on the reviews:"
   ]
  },
  {
   "cell_type": "code",
   "execution_count": 6,
   "metadata": {},
   "outputs": [
    {
     "data": {
      "text/plain": [
       "'Very misleading label on the product. It says case for Iphone 6 6s plus but they only have 6s plus by the way. Lol fix your labeling so everybody can understand it because it’s the first thing that customers read, not the details below it. Plus the seller is not accommodating.\\xa0 Wrong item received'"
      ]
     },
     "execution_count": 6,
     "metadata": {},
     "output_type": "execute_result"
    }
   ],
   "source": [
    "# review with rating =1\n",
    "df.query('rating==1')['review'][100]"
   ]
  },
  {
   "cell_type": "code",
   "execution_count": 10,
   "metadata": {},
   "outputs": [
    {
     "data": {
      "text/plain": [
       "'The product price is good. Delivery speed is good. Good product quality. TQ '"
      ]
     },
     "execution_count": 10,
     "metadata": {},
     "output_type": "execute_result"
    }
   ],
   "source": [
    "# review with rating =5\n",
    "df.query('rating==5')['review'][105298]"
   ]
  },
  {
   "cell_type": "markdown",
   "metadata": {},
   "source": [
    "### Data manupulation\n",
    "\n",
    "#### Review's length (word count) \n",
    "- On average, length of review for all rating is about 14 words, except rating 1, which has slightly more word (18 words).\n",
    "- There are exceptional long review (over hundres word) for each category, but rare."
   ]
  },
  {
   "cell_type": "code",
   "execution_count": 212,
   "metadata": {},
   "outputs": [],
   "source": [
    "# create another column to count the number of word per reveiw\n",
    "df['word_count'] = df['review'].str.split().str.len()"
   ]
  },
  {
   "cell_type": "code",
   "execution_count": 213,
   "metadata": {},
   "outputs": [
    {
     "data": {
      "text/html": [
       "<div>\n",
       "<style scoped>\n",
       "    .dataframe tbody tr th:only-of-type {\n",
       "        vertical-align: middle;\n",
       "    }\n",
       "\n",
       "    .dataframe tbody tr th {\n",
       "        vertical-align: top;\n",
       "    }\n",
       "\n",
       "    .dataframe thead th {\n",
       "        text-align: right;\n",
       "    }\n",
       "</style>\n",
       "<table border=\"1\" class=\"dataframe\">\n",
       "  <thead>\n",
       "    <tr style=\"text-align: right;\">\n",
       "      <th></th>\n",
       "      <th>review_id</th>\n",
       "      <th>review</th>\n",
       "      <th>rating</th>\n",
       "      <th>word_count</th>\n",
       "    </tr>\n",
       "  </thead>\n",
       "  <tbody>\n",
       "    <tr>\n",
       "      <th>2</th>\n",
       "      <td>2</td>\n",
       "      <td>Nyesel bngt dsni shopping antecedent photo mes...</td>\n",
       "      <td>1</td>\n",
       "      <td>50</td>\n",
       "    </tr>\n",
       "    <tr>\n",
       "      <th>7</th>\n",
       "      <td>7</td>\n",
       "      <td>Shop fraudulent business. we put two lamps, on...</td>\n",
       "      <td>1</td>\n",
       "      <td>52</td>\n",
       "    </tr>\n",
       "    <tr>\n",
       "      <th>13</th>\n",
       "      <td>13</td>\n",
       "      <td>KALO RULES DO NOT WANT TO PARTICIPATE IN CHAT ...</td>\n",
       "      <td>1</td>\n",
       "      <td>45</td>\n",
       "    </tr>\n",
       "    <tr>\n",
       "      <th>21</th>\n",
       "      <td>21</td>\n",
       "      <td>He bought out the company Takyah ni.dah la nak...</td>\n",
       "      <td>1</td>\n",
       "      <td>54</td>\n",
       "    </tr>\n",
       "    <tr>\n",
       "      <th>70</th>\n",
       "      <td>70</td>\n",
       "      <td>I order 1/5. 13/5 seller post. Br 18/5 can ret...</td>\n",
       "      <td>1</td>\n",
       "      <td>53</td>\n",
       "    </tr>\n",
       "    <tr>\n",
       "      <th>...</th>\n",
       "      <td>...</td>\n",
       "      <td>...</td>\n",
       "      <td>...</td>\n",
       "      <td>...</td>\n",
       "    </tr>\n",
       "    <tr>\n",
       "      <th>146723</th>\n",
       "      <td>146723</td>\n",
       "      <td>Waist 34, hips 45, 171 High belly swollen hock...</td>\n",
       "      <td>5</td>\n",
       "      <td>44</td>\n",
       "    </tr>\n",
       "    <tr>\n",
       "      <th>146727</th>\n",
       "      <td>146727</td>\n",
       "      <td>The seller was very helpful and replied fast. ...</td>\n",
       "      <td>5</td>\n",
       "      <td>43</td>\n",
       "    </tr>\n",
       "    <tr>\n",
       "      <th>146763</th>\n",
       "      <td>146763</td>\n",
       "      <td>Wrong size. Large did you send, but still I re...</td>\n",
       "      <td>5</td>\n",
       "      <td>43</td>\n",
       "    </tr>\n",
       "    <tr>\n",
       "      <th>146766</th>\n",
       "      <td>146766</td>\n",
       "      <td>Orders are, survived until the goal. , , , 😍 😍...</td>\n",
       "      <td>5</td>\n",
       "      <td>55</td>\n",
       "    </tr>\n",
       "    <tr>\n",
       "      <th>146779</th>\n",
       "      <td>146779</td>\n",
       "      <td>Quite heavy for a headset can't always put int...</td>\n",
       "      <td>5</td>\n",
       "      <td>53</td>\n",
       "    </tr>\n",
       "  </tbody>\n",
       "</table>\n",
       "<p>6265 rows × 4 columns</p>\n",
       "</div>"
      ],
      "text/plain": [
       "        review_id                                             review  rating  \\\n",
       "2               2  Nyesel bngt dsni shopping antecedent photo mes...       1   \n",
       "7               7  Shop fraudulent business. we put two lamps, on...       1   \n",
       "13             13  KALO RULES DO NOT WANT TO PARTICIPATE IN CHAT ...       1   \n",
       "21             21  He bought out the company Takyah ni.dah la nak...       1   \n",
       "70             70  I order 1/5. 13/5 seller post. Br 18/5 can ret...       1   \n",
       "...           ...                                                ...     ...   \n",
       "146723     146723  Waist 34, hips 45, 171 High belly swollen hock...       5   \n",
       "146727     146727  The seller was very helpful and replied fast. ...       5   \n",
       "146763     146763  Wrong size. Large did you send, but still I re...       5   \n",
       "146766     146766  Orders are, survived until the goal. , , , 😍 😍...       5   \n",
       "146779     146779  Quite heavy for a headset can't always put int...       5   \n",
       "\n",
       "        word_count  \n",
       "2               50  \n",
       "7               52  \n",
       "13              45  \n",
       "21              54  \n",
       "70              53  \n",
       "...            ...  \n",
       "146723          44  \n",
       "146727          43  \n",
       "146763          43  \n",
       "146766          55  \n",
       "146779          53  \n",
       "\n",
       "[6265 rows x 4 columns]"
      ]
     },
     "execution_count": 213,
     "metadata": {},
     "output_type": "execute_result"
    }
   ],
   "source": [
    "df.query('word_count>40')"
   ]
  },
  {
   "cell_type": "code",
   "execution_count": 162,
   "metadata": {},
   "outputs": [
    {
     "data": {
      "text/plain": [
       "4.267391408000763"
      ]
     },
     "execution_count": 162,
     "metadata": {},
     "output_type": "execute_result"
    }
   ],
   "source": [
    "6265/df.shape[0]*100"
   ]
  },
  {
   "cell_type": "code",
   "execution_count": 12,
   "metadata": {},
   "outputs": [
    {
     "data": {
      "text/plain": [
       "rating\n",
       "1    17.94\n",
       "2    14.89\n",
       "3    14.39\n",
       "4    14.25\n",
       "5    14.20\n",
       "Name: word_count, dtype: float64"
      ]
     },
     "execution_count": 12,
     "metadata": {},
     "output_type": "execute_result"
    }
   ],
   "source": [
    "round(df.groupby('rating')['word_count'].mean(),2)"
   ]
  },
  {
   "cell_type": "code",
   "execution_count": 13,
   "metadata": {},
   "outputs": [
    {
     "data": {
      "image/png": "[encoded data removed]",
      "text/plain": [
       "<Figure size 576x360 with 1 Axes>"
      ]
     },
     "metadata": {
      "needs_background": "light"
     },
     "output_type": "display_data"
    }
   ],
   "source": [
    "# Visualize the distribution of review's length\n",
    "ax = sns.catplot(x = \"rating\", y = \"word_count\", data = df, palette = \"Set2\",\n",
    "                 kind = \"violin\", height = 5, aspect = 1.6)\n",
    "ax.fig.subplots_adjust(top = .9)\n",
    "ax.fig.suptitle(\"Distribution of review's length groupby rating\", fontsize=16)\n",
    "ax.set_axis_labels(\"review's rating\", \"word count per review\");"
   ]
  },
  {
   "cell_type": "markdown",
   "metadata": {},
   "source": [
    "#### Emoji\n",
    "There are emoji in some of the review (train: 13.7%, test: 12.6%), which, will convert them to text using `.demojize()`, instead of deleting them in text cleaning."
   ]
  },
  {
   "cell_type": "code",
   "execution_count": 14,
   "metadata": {},
   "outputs": [],
   "source": [
    "# Get all the row index that has emoji in their review\n",
    "train_emoji_idx = []\n",
    "test_emoji_idx = []\n",
    "\n",
    "for idx, review in enumerate(df['review']):\n",
    "    if any(char in emoji.UNICODE_EMOJI for char in review):\n",
    "        train_emoji_idx.append(idx)\n",
    "        \n",
    "for idx, review in enumerate(test['review']):\n",
    "    if any(char in emoji.UNICODE_EMOJI for char in review):\n",
    "        test_emoji_idx.append(idx)"
   ]
  },
  {
   "cell_type": "code",
   "execution_count": 15,
   "metadata": {},
   "outputs": [
    {
     "name": "stdout",
     "output_type": "stream",
     "text": [
      "Train: 20048/146811, 13.66% has emoji\n",
      "Test: 7582/60427, 12.55% has emoji\n"
     ]
    }
   ],
   "source": [
    "print(\"Train: {}/{}, {}% has emoji\".format(len(train_emoji_idx),df.shape[0], \n",
    "                       round(100*len(train_emoji_idx)/df.shape[0],2)))\n",
    "print(\"Test: {}/{}, {}% has emoji\".format(len(test_emoji_idx),test.shape[0], \n",
    "                       round(100*len(test_emoji_idx)/test.shape[0],2)))"
   ]
  },
  {
   "cell_type": "code",
   "execution_count": 16,
   "metadata": {},
   "outputs": [
    {
     "data": {
      "text/plain": [
       "146334    The product price is very murahhhh, suitable f...\n",
       "146340    Super-fast shipping! And to complete the packa...\n",
       "146343                                    Beautiful very 💕💕\n",
       "146344                           In accordance with hrga. 💜\n",
       "146345     Good product quality Good value for money Exc...\n",
       "146348    the goods have come, thank kasih😘😘😘😘 equivalen...\n",
       "146349    Thank you seller of the beautiful colors come ...\n",
       "146350    The package apology late afternoon until TDI g...\n",
       "146354    Realpict appropriate pictures, material y jga ...\n",
       "146355    Very fast delivery COD Chat fastrespon, always...\n",
       "146360                                       Thank you 😉👌💕💕\n",
       "146361     Excellent quality Very accommodating seller W...\n",
       "146362    Still fresh skali ... trims ya..entar message ...\n",
       "146363    Fast delivery and good service. The price are ...\n",
       "146364    Recommended seller. Good response, stocks are ...\n",
       "146372                   StickyNotes dapet funny. makasiih💛\n",
       "146378    Goods to order. Thank God my customers satisfi...\n",
       "146390    Okay thanks kakk ...  Delivery okay xepet bang...\n",
       "146392    Cepet original bangettt process 😍 Its tire pro...\n",
       "146402    Cakeeppp bajunyaaa😍😍😍tp tipiss ..gpp material ...\n",
       "Name: review, dtype: object"
      ]
     },
     "execution_count": 16,
     "metadata": {},
     "output_type": "execute_result"
    }
   ],
   "source": [
    "# Peak on review with emoji\n",
    "df.loc[train_emoji_idx]['review'][-80:-60]"
   ]
  },
  {
   "cell_type": "code",
   "execution_count": 17,
   "metadata": {},
   "outputs": [],
   "source": [
    "# change emoji to text using .demojize()\n",
    "def emoji2text(text):\n",
    "    \"\"\"\n",
    "    Change emoji to text, and replace the ':' in front of emoji text with white space\n",
    "    \"\"\"\n",
    "    return emoji.demojize(text).replace(':',\" \")"
   ]
  },
  {
   "cell_type": "code",
   "execution_count": 18,
   "metadata": {},
   "outputs": [
    {
     "name": "stdout",
     "output_type": "stream",
     "text": [
      "Original review:\n",
      " Hehe thanks Baguuuuuuuuuuuus kaaaa😍😍😍😍😍😍😍😍👍👍👍👍👍👍👍👍👍👍👍\n",
      "\n",
      "Review with emoji2text:\n",
      " Hehe thanks Baguuuuuuuuuuuus kaaaa smiling_face_with_heart-eyes  smiling_face_with_heart-eyes  smiling_face_with_heart-eyes  smiling_face_with_heart-eyes  smiling_face_with_heart-eyes  smiling_face_with_heart-eyes  smiling_face_with_heart-eyes  smiling_face_with_heart-eyes  thumbs_up  thumbs_up  thumbs_up  thumbs_up  thumbs_up  thumbs_up  thumbs_up  thumbs_up  thumbs_up  thumbs_up  thumbs_up \n"
     ]
    }
   ],
   "source": [
    "# Try the emoji2text function\n",
    "print(\"Original review:\\n\", df.loc[146800]['review'])\n",
    "print(\"\\nReview with emoji2text:\\n\", emoji2text(df.loc[146800]['review']))"
   ]
  },
  {
   "cell_type": "markdown",
   "metadata": {},
   "source": [
    "#### Repeated characters\n",
    "There are many malay word with extended ending, like the one shown above **Baguuuuuuuuuuuus**.   \n",
    "Below is the function to remove such repeated characters."
   ]
  },
  {
   "cell_type": "code",
   "execution_count": 19,
   "metadata": {},
   "outputs": [],
   "source": [
    "def trim_repeated_char(text):\n",
    "    \"\"\"\n",
    "    trim repeated characters (>= 3 times) in word\n",
    "    \"\"\"\n",
    "    return re.sub(r'(\\w)\\1{2,}', r'\\1', text)"
   ]
  },
  {
   "cell_type": "code",
   "execution_count": 20,
   "metadata": {},
   "outputs": [
    {
     "data": {
      "text/plain": [
       "'Hehe thanks Bagus ka smiling_face_with_heart-eyes  smiling_face_with_heart-eyes  smiling_face_with_heart-eyes  smiling_face_with_heart-eyes  smiling_face_with_heart-eyes  smiling_face_with_heart-eyes  smiling_face_with_heart-eyes  smiling_face_with_heart-eyes  thumbs_up  thumbs_up  thumbs_up  thumbs_up  thumbs_up  thumbs_up  thumbs_up  thumbs_up  thumbs_up  thumbs_up  thumbs_up '"
      ]
     },
     "execution_count": 20,
     "metadata": {},
     "output_type": "execute_result"
    }
   ],
   "source": [
    "# try the trim_repeated_char function\n",
    "trim_repeated_char(emoji2text(df.loc[146800]['review']))"
   ]
  },
  {
   "cell_type": "markdown",
   "metadata": {},
   "source": [
    "### Clean the review's text by the following step:\n",
    "\n",
    "- change to lowercase\n",
    "- convert emoji, emoticon to text\n",
    "- remove punctuations (non-letters, non digit characters)\n",
    "- trim repeated character\n",
    "- tokenize the review,\n",
    "- remove short words (length <=2)\n",
    "- lemmatize each word of the text,\n",
    "- remove stopwords (malay)\n",
    "- remove strange or unwanted words\n",
    "\n",
    "Once completed, convert back to string text."
   ]
  },
  {
   "cell_type": "code",
   "execution_count": 214,
   "metadata": {},
   "outputs": [],
   "source": [
    "def clean_text(text):\n",
    "    \"\"\"\n",
    "    Input: string of text\n",
    "    Function for text cleaning by converting them into lowercase, emoji to text\n",
    "    remove punctuations, trim repeated character\n",
    "    tokenize to word, lemmatize each word, remove stopwords and customize less meaningful words\n",
    "    Output: sting of text after the text cleaning\n",
    "    remove \n",
    "    \"\"\"\n",
    "    \n",
    "    # Instantiate object of class WordNetLemmatizer\n",
    "    lemm = WordNetLemmatizer()\n",
    "    \n",
    "    # 1. convert all text to lowercase\n",
    "    lower = text.lower()\n",
    "    \n",
    "    # 2. change emoji to text\n",
    "    lower = emoji2text(lower)\n",
    "    \n",
    "    # 3. change emoticon to text\n",
    "    lower = re.sub(r':\\(','dislike', lower)\n",
    "    lower = re.sub(r':\\(\\(','dislike', lower)\n",
    "    lower = re.sub(r':, \\(','dislike', lower)\n",
    "    lower = re.sub(r':\\)','smile', lower)\n",
    "    lower = re.sub(r';\\)','smile', lower)\n",
    "    lower = re.sub(r':\\)\\)\\)','smile', lower)\n",
    "    lower = re.sub(r':\\)\\)\\)\\)\\)\\)','smile', lower)\n",
    "    lower = re.sub(r'=\\)\\)\\)\\)','smile', lower)\n",
    "    lower = re.sub(r'♡', 'love', lower)\n",
    "    \n",
    "    # 4. change ok to okay and tq to thankyou (to avoid to be removed due to short word in step8)\n",
    "    lower = re.sub(r'ok','okay', lower)\n",
    "    lower = re.sub(r'(okay)[a-z]*', 'okay', lower)  #trim words after okay\n",
    "    lower = re.sub(r'tq','thankyou', lower)\n",
    "    \n",
    "    # 5. retain letter, digit and space only (remove all punctuation, symbols)\n",
    "    letters_only = re.sub(\"[^a-zA-Z0-9\\s]\",\"\", lower)\n",
    "    \n",
    "    # 6. trim the repeated character\n",
    "    letters_only = trim_repeated_char(letters_only)\n",
    "    \n",
    "    # 7. tokenize string (split into words, use tokenizer instead of using .split())\n",
    "    tokens = nltk.tokenize.word_tokenize(letters_only)\n",
    "    \n",
    "    # 8. remove very short word, which is mostly not informative\n",
    "    words = [t for t in tokens if len(t) > 2]\n",
    "    \n",
    "    # 9. lemmatize each word\n",
    "    lemmed_words = [lemm.lemmatize(i) for i in words]\n",
    "    \n",
    "    # 10. remove stopwords\n",
    "    #stops_en_malay = stopwords.words(['english','indonesian'])\n",
    "    stops_malay = stopwords.words('indonesian')\n",
    "    # less meaningful word that would like to remove\n",
    "    noinfo_word = ['bgt', 'kak', 'shopee', 'udh', 'deh', 'lah','dah', 'yaa','tpi',\n",
    "                   'aja','cuman','pesen','sdh','klo','mksh','krn','wa',\n",
    "                  'ha','haha', 'hehehe', 'mah', 'nya', 'yah', 'pa', 'si', 'le',\n",
    "                  'msh','nih','cea', 'ttp','huhu', 'krna', 'tau', 'kaka','lgi',\n",
    "                  'gak','pc','sya','yung','gan']\n",
    "    # combine stop words & less meaningful word\n",
    "    #stops_en_malay.extend(noinfo_word)\n",
    "    stops_malay.extend(noinfo_word)\n",
    "    #stops = set(stops_en_malay)\n",
    "    stops = set(stops_malay)\n",
    "    \n",
    "    meaningful_words = [w for w in lemmed_words if w not in stops]\n",
    "    \n",
    "    # 11. join back to string\n",
    "    return (\" \".join(meaningful_words))"
   ]
  },
  {
   "cell_type": "markdown",
   "metadata": {},
   "source": [
    "Code cell below is to clean the review's text using `clean_text()` function defined above."
   ]
  },
  {
   "cell_type": "code",
   "execution_count": 215,
   "metadata": {},
   "outputs": [
    {
     "name": "stdout",
     "output_type": "stream",
     "text": [
      "There are 146811 documents in the dataset\n",
      "Cleaning and parsing the train dataset review's content in df['review']:\n",
      "Document 10000 of 146811\n",
      "Document 20000 of 146811\n",
      "Document 30000 of 146811\n",
      "Document 40000 of 146811\n",
      "Document 50000 of 146811\n",
      "Document 60000 of 146811\n",
      "Document 70000 of 146811\n",
      "Document 80000 of 146811\n",
      "Document 90000 of 146811\n",
      "Document 100000 of 146811\n",
      "Document 110000 of 146811\n",
      "Document 120000 of 146811\n",
      "Document 130000 of 146811\n",
      "Document 140000 of 146811\n",
      "Cleaning and parsing the test dataset review's content in test['review']:\n",
      "test 10000 of 60427\n",
      "test 20000 of 60427\n",
      "test 30000 of 60427\n",
      "test 40000 of 60427\n",
      "test 50000 of 60427\n",
      "test 60000 of 60427\n"
     ]
    }
   ],
   "source": [
    "# Get the number of documents based on the df's size\n",
    "print(f\"There are {df.shape[0]} documents in the dataset\")\n",
    "\n",
    "# Initiate empty list to hold the clean's review\n",
    "clean_review = []\n",
    "test_clean_review = []\n",
    "\n",
    "# clean and parsing the review's content\n",
    "print(\"Cleaning and parsing the train dataset review's content in df['review']:\")\n",
    "\n",
    "i = 0\n",
    "for review_content in df.review:\n",
    "    # clean the text using clean_text(raw_review) function\n",
    "    clean_review.append(clean_text(review_content))\n",
    "    \n",
    "    # if the index is divisible by 10000, print a message\n",
    "    if (i+1) % 10000 == 0:\n",
    "        print(f\"Document {i+1} of {df.shape[0]}\")\n",
    "    i +=1\n",
    "\n",
    "# clean and parsing the review's content\n",
    "print(\"Cleaning and parsing the test dataset review's content in test['review']:\")\n",
    "\n",
    "j = 0\n",
    "for review_content in test.review:\n",
    "    test_clean_review.append(clean_text(review_content))\n",
    "    \n",
    "    if (j+1) % 10000 == 0:\n",
    "        print(f\"test {j+1} of {test.shape[0]}\")\n",
    "    j += 1"
   ]
  },
  {
   "cell_type": "code",
   "execution_count": 216,
   "metadata": {},
   "outputs": [],
   "source": [
    "# Create another column with clean review, asides drop reivew_id as it does not add any informative\n",
    "df.drop('review_id', axis=1, inplace=True)\n",
    "df['clean_review'] = clean_review\n",
    "test['clean_review'] = test_clean_review"
   ]
  },
  {
   "cell_type": "code",
   "execution_count": 217,
   "metadata": {},
   "outputs": [],
   "source": [
    "# Export clean text to csv\n",
    "# 3 is stopwords with malay only\n",
    "df.to_csv('./data/train_clean3.csv', index = False)\n",
    "test.to_csv('./data/test_clean3.csv', index = False)"
   ]
  },
  {
   "cell_type": "markdown",
   "metadata": {},
   "source": [
    "# 3 Exploratory Data Analysis"
   ]
  },
  {
   "cell_type": "markdown",
   "metadata": {},
   "source": [
    "## 3.1 Sentiment scores\n",
    "Using `Vader` from **NLTK** module to calculate the sentiment scores based on the *clean_review*. Vader's `SentimentIntensityAnalyzer()` takes in a string and returns a dictionary of scores in each of four categories:\n",
    "- negative\n",
    "- neutral\n",
    "- positive\n",
    "- compound (computed by normalizing the scores above).\n",
    "\n",
    "I will use it to calculate the sentiment scores to get a rough feel on how's the rating correlated with the sentiment scores based on the *clean_review*.\n",
    "\n",
    "From the visualisation plot, **all category of rating** have almost the same range of compund's score (negative to positive values). Expected to be challenging in predicitng the user's rating based on the review's text. However, the **mean compound's score** is **increasing** with increasing rating.\n",
    "\n",
    "**Mean compound's score** of **rating 4 & 5** are very **close to each other**, which could make the user' rating prediction on these 2 groups difficuilt."
   ]
  },
  {
   "cell_type": "code",
   "execution_count": 5,
   "metadata": {},
   "outputs": [],
   "source": [
    "df = pd.read_csv('./data/train_clean3.csv')\n",
    "test = pd.read_csv('./data/test_clean3.csv')"
   ]
  },
  {
   "cell_type": "code",
   "execution_count": 6,
   "metadata": {},
   "outputs": [
    {
     "data": {
      "text/plain": [
       "review           0\n",
       "rating           0\n",
       "word_count       0\n",
       "clean_review    54\n",
       "dtype: int64"
      ]
     },
     "execution_count": 6,
     "metadata": {},
     "output_type": "execute_result"
    }
   ],
   "source": [
    "# There are 52 rows with NaN after clean text on the review's content in train dataset\n",
    "df.isnull().sum()"
   ]
  },
  {
   "cell_type": "code",
   "execution_count": 7,
   "metadata": {},
   "outputs": [
    {
     "data": {
      "text/plain": [
       "review_id        0\n",
       "review           0\n",
       "clean_review    14\n",
       "dtype: int64"
      ]
     },
     "execution_count": 7,
     "metadata": {},
     "output_type": "execute_result"
    }
   ],
   "source": [
    "# There are 14 rows with NaN after clean text on the review's content in train dataset\n",
    "test.isnull().sum()"
   ]
  },
  {
   "cell_type": "markdown",
   "metadata": {},
   "source": [
    "Review became NaN after text cleaning in **train** dataset"
   ]
  },
  {
   "cell_type": "code",
   "execution_count": 10,
   "metadata": {},
   "outputs": [
    {
     "data": {
      "text/html": [
       "<div>\n",
       "<style scoped>\n",
       "    .dataframe tbody tr th:only-of-type {\n",
       "        vertical-align: middle;\n",
       "    }\n",
       "\n",
       "    .dataframe tbody tr th {\n",
       "        vertical-align: top;\n",
       "    }\n",
       "\n",
       "    .dataframe thead th {\n",
       "        text-align: right;\n",
       "    }\n",
       "</style>\n",
       "<table border=\"1\" class=\"dataframe\">\n",
       "  <thead>\n",
       "    <tr style=\"text-align: right;\">\n",
       "      <th></th>\n",
       "      <th>review</th>\n",
       "      <th>rating</th>\n",
       "      <th>word_count</th>\n",
       "      <th>clean_review</th>\n",
       "    </tr>\n",
       "  </thead>\n",
       "  <tbody>\n",
       "    <tr>\n",
       "      <th>3388</th>\n",
       "      <td>32 to 36</td>\n",
       "      <td>1</td>\n",
       "      <td>3</td>\n",
       "      <td>NaN</td>\n",
       "    </tr>\n",
       "    <tr>\n",
       "      <th>7576</th>\n",
       "      <td>Less 3 pcs</td>\n",
       "      <td>1</td>\n",
       "      <td>3</td>\n",
       "      <td>NaN</td>\n",
       "    </tr>\n",
       "    <tr>\n",
       "      <th>10409</th>\n",
       "      <td>กล่อง มี รอย เปิด ส่ง ช้า มาก Dddddddddddddddd...</td>\n",
       "      <td>1</td>\n",
       "      <td>8</td>\n",
       "      <td>NaN</td>\n",
       "    </tr>\n",
       "    <tr>\n",
       "      <th>11748</th>\n",
       "      <td>พอใช้พอใช้ddddd ddddddddddddddddddddd ddddd dd...</td>\n",
       "      <td>1</td>\n",
       "      <td>9</td>\n",
       "      <td>NaN</td>\n",
       "    </tr>\n",
       "    <tr>\n",
       "      <th>12384</th>\n",
       "      <td>Hhh hhh hhh hhh hhh hhh hhh hhh hhh hhh hhh hh...</td>\n",
       "      <td>1</td>\n",
       "      <td>53</td>\n",
       "      <td>NaN</td>\n",
       "    </tr>\n",
       "    <tr>\n",
       "      <th>14493</th>\n",
       "      <td>PM 32 yg to 28,</td>\n",
       "      <td>1</td>\n",
       "      <td>5</td>\n",
       "      <td>NaN</td>\n",
       "    </tr>\n",
       "    <tr>\n",
       "      <th>15215</th>\n",
       "      <td>AAAAAAAAAAAAAAAAAAAAAA BBBBBBBBBBBBBBBBBBBBBB ...</td>\n",
       "      <td>2</td>\n",
       "      <td>5</td>\n",
       "      <td>NaN</td>\n",
       "    </tr>\n",
       "    <tr>\n",
       "      <th>16621</th>\n",
       "      <td>B a g u s b a g u s b a g u s b a g u s b a g ...</td>\n",
       "      <td>2</td>\n",
       "      <td>150</td>\n",
       "      <td>NaN</td>\n",
       "    </tr>\n",
       "    <tr>\n",
       "      <th>18503</th>\n",
       "      <td>Mksh ya ..</td>\n",
       "      <td>2</td>\n",
       "      <td>3</td>\n",
       "      <td>NaN</td>\n",
       "    </tr>\n",
       "    <tr>\n",
       "      <th>18950</th>\n",
       "      <td>.................................................</td>\n",
       "      <td>2</td>\n",
       "      <td>3</td>\n",
       "      <td>NaN</td>\n",
       "    </tr>\n",
       "    <tr>\n",
       "      <th>19601</th>\n",
       "      <td>It so so ya,</td>\n",
       "      <td>2</td>\n",
       "      <td>4</td>\n",
       "      <td>NaN</td>\n",
       "    </tr>\n",
       "    <tr>\n",
       "      <th>20186</th>\n",
       "      <td>B a g u s ssssssssssssssssssssssssssssssssssss...</td>\n",
       "      <td>2</td>\n",
       "      <td>6</td>\n",
       "      <td>NaN</td>\n",
       "    </tr>\n",
       "    <tr>\n",
       "      <th>32089</th>\n",
       "      <td>Yyyyyyyyyyy Yyyyyyyyyyy Yyyyyyyyyyy Yyyyyyyyyy...</td>\n",
       "      <td>3</td>\n",
       "      <td>5</td>\n",
       "      <td>NaN</td>\n",
       "    </tr>\n",
       "    <tr>\n",
       "      <th>32138</th>\n",
       "      <td>Llllllllll Uuuuuuuuuu Mmmmmmmmmm Aaaaaaaaaa Yy...</td>\n",
       "      <td>3</td>\n",
       "      <td>7</td>\n",
       "      <td>NaN</td>\n",
       "    </tr>\n",
       "    <tr>\n",
       "      <th>35796</th>\n",
       "      <td>............. ............ ............ .........</td>\n",
       "      <td>3</td>\n",
       "      <td>5</td>\n",
       "      <td>NaN</td>\n",
       "    </tr>\n",
       "    <tr>\n",
       "      <th>36718</th>\n",
       "      <td>........          .......... ..   ...  . .    ...</td>\n",
       "      <td>3</td>\n",
       "      <td>7</td>\n",
       "      <td>NaN</td>\n",
       "    </tr>\n",
       "    <tr>\n",
       "      <th>37813</th>\n",
       "      <td>Yaaaaaaaaaaaaaaaaaaaaaaa yaaaaaaaaaaaaaaaaaaaa...</td>\n",
       "      <td>3</td>\n",
       "      <td>2</td>\n",
       "      <td>NaN</td>\n",
       "    </tr>\n",
       "    <tr>\n",
       "      <th>40530</th>\n",
       "      <td>Dddddddddddddddddddddddddddddddddddddddddddddd...</td>\n",
       "      <td>3</td>\n",
       "      <td>8</td>\n",
       "      <td>NaN</td>\n",
       "    </tr>\n",
       "    <tr>\n",
       "      <th>40656</th>\n",
       "      <td>🖒🖒🖒🖒🖒    🖒🖒🖒🖒🖒    🖒🖒🖒🖒🖒    🖒🖒🖒🖒🖒    🖒🖒🖒🖒🖒    🖒...</td>\n",
       "      <td>3</td>\n",
       "      <td>10</td>\n",
       "      <td>NaN</td>\n",
       "    </tr>\n",
       "    <tr>\n",
       "      <th>40839</th>\n",
       "      <td>.....................     .......................</td>\n",
       "      <td>3</td>\n",
       "      <td>2</td>\n",
       "      <td>NaN</td>\n",
       "    </tr>\n",
       "    <tr>\n",
       "      <th>42707</th>\n",
       "      <td>.................................................</td>\n",
       "      <td>3</td>\n",
       "      <td>2</td>\n",
       "      <td>NaN</td>\n",
       "    </tr>\n",
       "    <tr>\n",
       "      <th>43229</th>\n",
       "      <td>............................................ ....</td>\n",
       "      <td>3</td>\n",
       "      <td>2</td>\n",
       "      <td>NaN</td>\n",
       "    </tr>\n",
       "    <tr>\n",
       "      <th>46237</th>\n",
       "      <td>Mksh sis ..</td>\n",
       "      <td>3</td>\n",
       "      <td>3</td>\n",
       "      <td>NaN</td>\n",
       "    </tr>\n",
       "    <tr>\n",
       "      <th>48754</th>\n",
       "      <td>.................................................</td>\n",
       "      <td>3</td>\n",
       "      <td>5</td>\n",
       "      <td>NaN</td>\n",
       "    </tr>\n",
       "    <tr>\n",
       "      <th>52291</th>\n",
       "      <td>....................................    ..  .....</td>\n",
       "      <td>3</td>\n",
       "      <td>3</td>\n",
       "      <td>NaN</td>\n",
       "    </tr>\n",
       "    <tr>\n",
       "      <th>54803</th>\n",
       "      <td>Sampaiiiiiiiiiiiiiiiiiiiiii jg</td>\n",
       "      <td>3</td>\n",
       "      <td>2</td>\n",
       "      <td>NaN</td>\n",
       "    </tr>\n",
       "    <tr>\n",
       "      <th>58595</th>\n",
       "      <td>It ..............................................</td>\n",
       "      <td>3</td>\n",
       "      <td>5</td>\n",
       "      <td>NaN</td>\n",
       "    </tr>\n",
       "    <tr>\n",
       "      <th>60442</th>\n",
       "      <td>Oooooooooooooooooooooooooooooooooo Kkkkkkkkkkk...</td>\n",
       "      <td>3</td>\n",
       "      <td>2</td>\n",
       "      <td>NaN</td>\n",
       "    </tr>\n",
       "    <tr>\n",
       "      <th>63703</th>\n",
       "      <td>讚讚 讚讚 讚讚 讚讚 讚讚 讚讚 讚讚 讚讚 讚讚 讚讚 讚讚 讚讚 讚讚 讚讚 讚讚 讚...</td>\n",
       "      <td>4</td>\n",
       "      <td>27</td>\n",
       "      <td>NaN</td>\n",
       "    </tr>\n",
       "    <tr>\n",
       "      <th>63704</th>\n",
       "      <td>Ty ty ty ty ty ty ty ty ty ty ty ty ty ty tyýy...</td>\n",
       "      <td>4</td>\n",
       "      <td>15</td>\n",
       "      <td>NaN</td>\n",
       "    </tr>\n",
       "    <tr>\n",
       "      <th>65715</th>\n",
       "      <td>讚 讚讚 讚讚 讚 讚讚 讚讚 讚讚 讚讚 讚 讚讚 讚讚 讚讚 讚讚 讚讚 讚讚 讚 讚讚...</td>\n",
       "      <td>4</td>\n",
       "      <td>55</td>\n",
       "      <td>NaN</td>\n",
       "    </tr>\n",
       "    <tr>\n",
       "      <th>66956</th>\n",
       "      <td>Hi Hi Hi Hi Hi V</td>\n",
       "      <td>4</td>\n",
       "      <td>6</td>\n",
       "      <td>NaN</td>\n",
       "    </tr>\n",
       "    <tr>\n",
       "      <th>68043</th>\n",
       "      <td>........... .......... .......... .......... ....</td>\n",
       "      <td>4</td>\n",
       "      <td>12</td>\n",
       "      <td>NaN</td>\n",
       "    </tr>\n",
       "    <tr>\n",
       "      <th>69303</th>\n",
       "      <td>5 deh ...</td>\n",
       "      <td>4</td>\n",
       "      <td>3</td>\n",
       "      <td>NaN</td>\n",
       "    </tr>\n",
       "    <tr>\n",
       "      <th>70750</th>\n",
       "      <td>&lt;3 &lt;3 &lt;3 &lt;3 &lt;3 &lt;3</td>\n",
       "      <td>4</td>\n",
       "      <td>6</td>\n",
       "      <td>NaN</td>\n",
       "    </tr>\n",
       "    <tr>\n",
       "      <th>76587</th>\n",
       "      <td>𝐆𝐚𝐧𝐝𝐚 𝐧𝐢𝐲𝐚 𝐧𝐠𝐮𝐬𝐭𝐮𝐡𝐚𝐧 𝐧𝐠 𝐛𝐛𝐲 𝐤𝐨</td>\n",
       "      <td>4</td>\n",
       "      <td>6</td>\n",
       "      <td>NaN</td>\n",
       "    </tr>\n",
       "    <tr>\n",
       "      <th>80574</th>\n",
       "      <td>B b b b b b b b b b b b b b b b b b b v v n n ...</td>\n",
       "      <td>4</td>\n",
       "      <td>71</td>\n",
       "      <td>NaN</td>\n",
       "    </tr>\n",
       "    <tr>\n",
       "      <th>84836</th>\n",
       "      <td>Mksh kak ya ...</td>\n",
       "      <td>4</td>\n",
       "      <td>4</td>\n",
       "      <td>NaN</td>\n",
       "    </tr>\n",
       "    <tr>\n",
       "      <th>86268</th>\n",
       "      <td>𝘛𝘦𝘳𝘪𝘮𝘢𝘬𝘢𝘴𝘪𝘩 𝘱𝘢𝘬𝘦𝘵 𝘮𝘦𝘯𝘥𝘢𝘳𝘢𝘵 𝘥𝘦𝘯𝘨𝘢𝘯 𝘴𝘦𝘭𝘢𝘮𝘢𝘵, 𝘴𝘢𝘺...</td>\n",
       "      <td>4</td>\n",
       "      <td>13</td>\n",
       "      <td>NaN</td>\n",
       "    </tr>\n",
       "    <tr>\n",
       "      <th>87503</th>\n",
       "      <td>สินค้า Ddddddddddddddddddddddddddddddddddddddd...</td>\n",
       "      <td>4</td>\n",
       "      <td>6</td>\n",
       "      <td>NaN</td>\n",
       "    </tr>\n",
       "    <tr>\n",
       "      <th>89962</th>\n",
       "      <td>Mksh gan ...</td>\n",
       "      <td>4</td>\n",
       "      <td>3</td>\n",
       "      <td>NaN</td>\n",
       "    </tr>\n",
       "    <tr>\n",
       "      <th>98468</th>\n",
       "      <td>=============•============== •••••••••••••••••...</td>\n",
       "      <td>4</td>\n",
       "      <td>2</td>\n",
       "      <td>NaN</td>\n",
       "    </tr>\n",
       "    <tr>\n",
       "      <th>100903</th>\n",
       "      <td>DDDDDDDDDDDDDDDDDDDDDDDDDDDDDDDDDDDDDDDDDDDDDD...</td>\n",
       "      <td>4</td>\n",
       "      <td>2</td>\n",
       "      <td>NaN</td>\n",
       "    </tr>\n",
       "    <tr>\n",
       "      <th>109417</th>\n",
       "      <td>T o p b a n g e t</td>\n",
       "      <td>5</td>\n",
       "      <td>9</td>\n",
       "      <td>NaN</td>\n",
       "    </tr>\n",
       "    <tr>\n",
       "      <th>109651</th>\n",
       "      <td>Ddddddddddddd Ddddddddddddd​Ddddddddddddd​Dddd...</td>\n",
       "      <td>5</td>\n",
       "      <td>2</td>\n",
       "      <td>NaN</td>\n",
       "    </tr>\n",
       "    <tr>\n",
       "      <th>109724</th>\n",
       "      <td>Bbbbbbbbbbbb ÁÁÁÁÁÁÁÁÁÁÁÁÁÁÁÁ gggggggggggggg u...</td>\n",
       "      <td>5</td>\n",
       "      <td>5</td>\n",
       "      <td>NaN</td>\n",
       "    </tr>\n",
       "    <tr>\n",
       "      <th>110441</th>\n",
       "      <td>Ốpppppppppppppppppppppp đepppppppppppppppppppp...</td>\n",
       "      <td>5</td>\n",
       "      <td>2</td>\n",
       "      <td>NaN</td>\n",
       "    </tr>\n",
       "    <tr>\n",
       "      <th>115066</th>\n",
       "      <td>.................................................</td>\n",
       "      <td>5</td>\n",
       "      <td>2</td>\n",
       "      <td>NaN</td>\n",
       "    </tr>\n",
       "    <tr>\n",
       "      <th>115172</th>\n",
       "      <td>My my my my my my my my my my my my my my my m...</td>\n",
       "      <td>5</td>\n",
       "      <td>33</td>\n",
       "      <td>NaN</td>\n",
       "    </tr>\n",
       "    <tr>\n",
       "      <th>115782</th>\n",
       "      <td>Aaaaaaaaa aaaaaaaaaaaaaaaaaaaaaaaaaaaaaaaaaaaa...</td>\n",
       "      <td>5</td>\n",
       "      <td>2</td>\n",
       "      <td>NaN</td>\n",
       "    </tr>\n",
       "    <tr>\n",
       "      <th>118414</th>\n",
       "      <td>mmmmmmmmmmmmmmmmmmmmmmmmmmmmmmmmmmmmmmmmmm mmm...</td>\n",
       "      <td>5</td>\n",
       "      <td>2</td>\n",
       "      <td>NaN</td>\n",
       "    </tr>\n",
       "    <tr>\n",
       "      <th>119956</th>\n",
       "      <td>DDDDDDDDDDDDDDDDDDDDDDDDDDDDDDD DDDDDDDDDDDDDD...</td>\n",
       "      <td>5</td>\n",
       "      <td>8</td>\n",
       "      <td>NaN</td>\n",
       "    </tr>\n",
       "    <tr>\n",
       "      <th>141377</th>\n",
       "      <td>wwwwwwwwwwwwwwwww dddddddddddddddd fffffffffff...</td>\n",
       "      <td>5</td>\n",
       "      <td>28</td>\n",
       "      <td>NaN</td>\n",
       "    </tr>\n",
       "    <tr>\n",
       "      <th>145045</th>\n",
       "      <td>DDDDDDDDDDDDDDDDDDDDD DDDDDDDDDDDDDDDDDDDDD DD...</td>\n",
       "      <td>5</td>\n",
       "      <td>6</td>\n",
       "      <td>NaN</td>\n",
       "    </tr>\n",
       "  </tbody>\n",
       "</table>\n",
       "</div>"
      ],
      "text/plain": [
       "                                                   review  rating  word_count  \\\n",
       "3388                                             32 to 36       1           3   \n",
       "7576                                           Less 3 pcs       1           3   \n",
       "10409   กล่อง มี รอย เปิด ส่ง ช้า มาก Dddddddddddddddd...       1           8   \n",
       "11748   พอใช้พอใช้ddddd ddddddddddddddddddddd ddddd dd...       1           9   \n",
       "12384   Hhh hhh hhh hhh hhh hhh hhh hhh hhh hhh hhh hh...       1          53   \n",
       "14493                                    PM 32 yg to 28,        1           5   \n",
       "15215   AAAAAAAAAAAAAAAAAAAAAA BBBBBBBBBBBBBBBBBBBBBB ...       2           5   \n",
       "16621   B a g u s b a g u s b a g u s b a g u s b a g ...       2         150   \n",
       "18503                                          Mksh ya ..       2           3   \n",
       "18950   .................................................       2           3   \n",
       "19601                                       It so so ya,        2           4   \n",
       "20186   B a g u s ssssssssssssssssssssssssssssssssssss...       2           6   \n",
       "32089   Yyyyyyyyyyy Yyyyyyyyyyy Yyyyyyyyyyy Yyyyyyyyyy...       3           5   \n",
       "32138   Llllllllll Uuuuuuuuuu Mmmmmmmmmm Aaaaaaaaaa Yy...       3           7   \n",
       "35796   ............. ............ ............ .........       3           5   \n",
       "36718   ........          .......... ..   ...  . .    ...       3           7   \n",
       "37813   Yaaaaaaaaaaaaaaaaaaaaaaa yaaaaaaaaaaaaaaaaaaaa...       3           2   \n",
       "40530   Dddddddddddddddddddddddddddddddddddddddddddddd...       3           8   \n",
       "40656   🖒🖒🖒🖒🖒    🖒🖒🖒🖒🖒    🖒🖒🖒🖒🖒    🖒🖒🖒🖒🖒    🖒🖒🖒🖒🖒    🖒...       3          10   \n",
       "40839   .....................     .......................       3           2   \n",
       "42707   .................................................       3           2   \n",
       "43229   ............................................ ....       3           2   \n",
       "46237                                         Mksh sis ..       3           3   \n",
       "48754   .................................................       3           5   \n",
       "52291   ....................................    ..  .....       3           3   \n",
       "54803                      Sampaiiiiiiiiiiiiiiiiiiiiii jg       3           2   \n",
       "58595   It ..............................................       3           5   \n",
       "60442   Oooooooooooooooooooooooooooooooooo Kkkkkkkkkkk...       3           2   \n",
       "63703   讚讚 讚讚 讚讚 讚讚 讚讚 讚讚 讚讚 讚讚 讚讚 讚讚 讚讚 讚讚 讚讚 讚讚 讚讚 讚...       4          27   \n",
       "63704   Ty ty ty ty ty ty ty ty ty ty ty ty ty ty tyýy...       4          15   \n",
       "65715   讚 讚讚 讚讚 讚 讚讚 讚讚 讚讚 讚讚 讚 讚讚 讚讚 讚讚 讚讚 讚讚 讚讚 讚 讚讚...       4          55   \n",
       "66956                                    Hi Hi Hi Hi Hi V       4           6   \n",
       "68043   ........... .......... .......... .......... ....       4          12   \n",
       "69303                                           5 deh ...       4           3   \n",
       "70750                                  <3 <3 <3 <3 <3 <3        4           6   \n",
       "76587                      𝐆𝐚𝐧𝐝𝐚 𝐧𝐢𝐲𝐚 𝐧𝐠𝐮𝐬𝐭𝐮𝐡𝐚𝐧 𝐧𝐠 𝐛𝐛𝐲 𝐤𝐨       4           6   \n",
       "80574   B b b b b b b b b b b b b b b b b b b v v n n ...       4          71   \n",
       "84836                                     Mksh kak ya ...       4           4   \n",
       "86268   𝘛𝘦𝘳𝘪𝘮𝘢𝘬𝘢𝘴𝘪𝘩 𝘱𝘢𝘬𝘦𝘵 𝘮𝘦𝘯𝘥𝘢𝘳𝘢𝘵 𝘥𝘦𝘯𝘨𝘢𝘯 𝘴𝘦𝘭𝘢𝘮𝘢𝘵, 𝘴𝘢𝘺...       4          13   \n",
       "87503   สินค้า Ddddddddddddddddddddddddddddddddddddddd...       4           6   \n",
       "89962                                        Mksh gan ...       4           3   \n",
       "98468   =============•============== •••••••••••••••••...       4           2   \n",
       "100903  DDDDDDDDDDDDDDDDDDDDDDDDDDDDDDDDDDDDDDDDDDDDDD...       4           2   \n",
       "109417                                  T o p b a n g e t       5           9   \n",
       "109651  Ddddddddddddd Ddddddddddddd​Ddddddddddddd​Dddd...       5           2   \n",
       "109724  Bbbbbbbbbbbb ÁÁÁÁÁÁÁÁÁÁÁÁÁÁÁÁ gggggggggggggg u...       5           5   \n",
       "110441  Ốpppppppppppppppppppppp đepppppppppppppppppppp...       5           2   \n",
       "115066  .................................................       5           2   \n",
       "115172  My my my my my my my my my my my my my my my m...       5          33   \n",
       "115782  Aaaaaaaaa aaaaaaaaaaaaaaaaaaaaaaaaaaaaaaaaaaaa...       5           2   \n",
       "118414  mmmmmmmmmmmmmmmmmmmmmmmmmmmmmmmmmmmmmmmmmm mmm...       5           2   \n",
       "119956  DDDDDDDDDDDDDDDDDDDDDDDDDDDDDDD DDDDDDDDDDDDDD...       5           8   \n",
       "141377  wwwwwwwwwwwwwwwww dddddddddddddddd fffffffffff...       5          28   \n",
       "145045  DDDDDDDDDDDDDDDDDDDDD DDDDDDDDDDDDDDDDDDDDD DD...       5           6   \n",
       "\n",
       "       clean_review  \n",
       "3388            NaN  \n",
       "7576            NaN  \n",
       "10409           NaN  \n",
       "11748           NaN  \n",
       "12384           NaN  \n",
       "14493           NaN  \n",
       "15215           NaN  \n",
       "16621           NaN  \n",
       "18503           NaN  \n",
       "18950           NaN  \n",
       "19601           NaN  \n",
       "20186           NaN  \n",
       "32089           NaN  \n",
       "32138           NaN  \n",
       "35796           NaN  \n",
       "36718           NaN  \n",
       "37813           NaN  \n",
       "40530           NaN  \n",
       "40656           NaN  \n",
       "40839           NaN  \n",
       "42707           NaN  \n",
       "43229           NaN  \n",
       "46237           NaN  \n",
       "48754           NaN  \n",
       "52291           NaN  \n",
       "54803           NaN  \n",
       "58595           NaN  \n",
       "60442           NaN  \n",
       "63703           NaN  \n",
       "63704           NaN  \n",
       "65715           NaN  \n",
       "66956           NaN  \n",
       "68043           NaN  \n",
       "69303           NaN  \n",
       "70750           NaN  \n",
       "76587           NaN  \n",
       "80574           NaN  \n",
       "84836           NaN  \n",
       "86268           NaN  \n",
       "87503           NaN  \n",
       "89962           NaN  \n",
       "98468           NaN  \n",
       "100903          NaN  \n",
       "109417          NaN  \n",
       "109651          NaN  \n",
       "109724          NaN  \n",
       "110441          NaN  \n",
       "115066          NaN  \n",
       "115172          NaN  \n",
       "115782          NaN  \n",
       "118414          NaN  \n",
       "119956          NaN  \n",
       "141377          NaN  \n",
       "145045          NaN  "
      ]
     },
     "execution_count": 10,
     "metadata": {},
     "output_type": "execute_result"
    }
   ],
   "source": [
    "df[df.isnull()['clean_review']]"
   ]
  },
  {
   "cell_type": "markdown",
   "metadata": {},
   "source": [
    "Review became NaN after text cleaning in **test** dataset"
   ]
  },
  {
   "cell_type": "code",
   "execution_count": 222,
   "metadata": {},
   "outputs": [
    {
     "data": {
      "text/html": [
       "<div>\n",
       "<style scoped>\n",
       "    .dataframe tbody tr th:only-of-type {\n",
       "        vertical-align: middle;\n",
       "    }\n",
       "\n",
       "    .dataframe tbody tr th {\n",
       "        vertical-align: top;\n",
       "    }\n",
       "\n",
       "    .dataframe thead th {\n",
       "        text-align: right;\n",
       "    }\n",
       "</style>\n",
       "<table border=\"1\" class=\"dataframe\">\n",
       "  <thead>\n",
       "    <tr style=\"text-align: right;\">\n",
       "      <th></th>\n",
       "      <th>review_id</th>\n",
       "      <th>review</th>\n",
       "      <th>clean_review</th>\n",
       "    </tr>\n",
       "  </thead>\n",
       "  <tbody>\n",
       "    <tr>\n",
       "      <th>296</th>\n",
       "      <td>297</td>\n",
       "      <td>(￣︶￣)&gt; &lt;(￣︶￣)/ (‵﹏′) ╮(‵▽′)╭(￣︶￣)&gt; &lt;(￣︶￣)/ (‵﹏...</td>\n",
       "      <td>NaN</td>\n",
       "    </tr>\n",
       "    <tr>\n",
       "      <th>2778</th>\n",
       "      <td>2779</td>\n",
       "      <td>K u a l i t a s  p r o d u k  b a i k\\nP r o d...</td>\n",
       "      <td>NaN</td>\n",
       "    </tr>\n",
       "    <tr>\n",
       "      <th>4186</th>\n",
       "      <td>4187</td>\n",
       "      <td>...................... ................. ........</td>\n",
       "      <td>NaN</td>\n",
       "    </tr>\n",
       "    <tr>\n",
       "      <th>7767</th>\n",
       "      <td>7768</td>\n",
       "      <td>sɛʀʋɨs s rɢ t ʟʍɮt 3 ʍɨrɢɢʊ ɮʀ ɖk t. t t r tɨҡ...</td>\n",
       "      <td>NaN</td>\n",
       "    </tr>\n",
       "    <tr>\n",
       "      <th>10407</th>\n",
       "      <td>10408</td>\n",
       "      <td>siiii ..................................... .....</td>\n",
       "      <td>NaN</td>\n",
       "    </tr>\n",
       "    <tr>\n",
       "      <th>11754</th>\n",
       "      <td>11755</td>\n",
       "      <td>คุณภาพ ดี ส่ง เร็ว\\nDddddd Dddddd Dddddd Ddddd...</td>\n",
       "      <td>NaN</td>\n",
       "    </tr>\n",
       "    <tr>\n",
       "      <th>13806</th>\n",
       "      <td>13807</td>\n",
       "      <td>......................................... .......</td>\n",
       "      <td>NaN</td>\n",
       "    </tr>\n",
       "    <tr>\n",
       "      <th>21498</th>\n",
       "      <td>21499</td>\n",
       "      <td>.                                            .</td>\n",
       "      <td>NaN</td>\n",
       "    </tr>\n",
       "    <tr>\n",
       "      <th>34930</th>\n",
       "      <td>34931</td>\n",
       "      <td>Ssssuuuuuuudddddddddaaaaaaaaahhhhhhhhhhh sssss...</td>\n",
       "      <td>NaN</td>\n",
       "    </tr>\n",
       "    <tr>\n",
       "      <th>35839</th>\n",
       "      <td>35840</td>\n",
       "      <td>wwwwwwwwwwwwwwwww\\ndddddddddddddddd\\nfffffffff...</td>\n",
       "      <td>NaN</td>\n",
       "    </tr>\n",
       "    <tr>\n",
       "      <th>43655</th>\n",
       "      <td>43656</td>\n",
       "      <td>........................................... . ...</td>\n",
       "      <td>NaN</td>\n",
       "    </tr>\n",
       "    <tr>\n",
       "      <th>50747</th>\n",
       "      <td>50748</td>\n",
       "      <td>.................................................</td>\n",
       "      <td>NaN</td>\n",
       "    </tr>\n",
       "    <tr>\n",
       "      <th>52643</th>\n",
       "      <td>52644</td>\n",
       "      <td>Mmmmmmmmmmmmmmmm mmmmmmmmm mmmmmmmmmm mmmmmmmm...</td>\n",
       "      <td>NaN</td>\n",
       "    </tr>\n",
       "    <tr>\n",
       "      <th>55801</th>\n",
       "      <td>55802</td>\n",
       "      <td>DDDDDDDDDDDDDDDDDDDDDDDDDDDDDDDDD DDDDDDDDDDDD...</td>\n",
       "      <td>NaN</td>\n",
       "    </tr>\n",
       "  </tbody>\n",
       "</table>\n",
       "</div>"
      ],
      "text/plain": [
       "       review_id                                             review  \\\n",
       "296          297  (￣︶￣)> <(￣︶￣)/ (‵﹏′) ╮(‵▽′)╭(￣︶￣)> <(￣︶￣)/ (‵﹏...   \n",
       "2778        2779  K u a l i t a s  p r o d u k  b a i k\\nP r o d...   \n",
       "4186        4187  ...................... ................. ........   \n",
       "7767        7768  sɛʀʋɨs s rɢ t ʟʍɮt 3 ʍɨrɢɢʊ ɮʀ ɖk t. t t r tɨҡ...   \n",
       "10407      10408  siiii ..................................... .....   \n",
       "11754      11755  คุณภาพ ดี ส่ง เร็ว\\nDddddd Dddddd Dddddd Ddddd...   \n",
       "13806      13807  ......................................... .......   \n",
       "21498      21499     .                                            .   \n",
       "34930      34931  Ssssuuuuuuudddddddddaaaaaaaaahhhhhhhhhhh sssss...   \n",
       "35839      35840  wwwwwwwwwwwwwwwww\\ndddddddddddddddd\\nfffffffff...   \n",
       "43655      43656  ........................................... . ...   \n",
       "50747      50748  .................................................   \n",
       "52643      52644  Mmmmmmmmmmmmmmmm mmmmmmmmm mmmmmmmmmm mmmmmmmm...   \n",
       "55801      55802  DDDDDDDDDDDDDDDDDDDDDDDDDDDDDDDDD DDDDDDDDDDDD...   \n",
       "\n",
       "      clean_review  \n",
       "296            NaN  \n",
       "2778           NaN  \n",
       "4186           NaN  \n",
       "7767           NaN  \n",
       "10407          NaN  \n",
       "11754          NaN  \n",
       "13806          NaN  \n",
       "21498          NaN  \n",
       "34930          NaN  \n",
       "35839          NaN  \n",
       "43655          NaN  \n",
       "50747          NaN  \n",
       "52643          NaN  \n",
       "55801          NaN  "
      ]
     },
     "execution_count": 222,
     "metadata": {},
     "output_type": "execute_result"
    }
   ],
   "source": [
    "test[test.isnull()['clean_review']]"
   ]
  },
  {
   "cell_type": "code",
   "execution_count": 11,
   "metadata": {},
   "outputs": [],
   "source": [
    "# drop train data with NaN after cleaning as most of the review does not have \n",
    "# meaningful content\n",
    "df.dropna(axis=0, inplace=True)\n",
    "\n",
    "# fill NaN with white space for test dataset\n",
    "test.fillna(' ', inplace=True)"
   ]
  },
  {
   "cell_type": "markdown",
   "metadata": {},
   "source": [
    "#### Vader sentiment scores"
   ]
  },
  {
   "cell_type": "code",
   "execution_count": 180,
   "metadata": {},
   "outputs": [],
   "source": [
    "# Instantiate \n",
    "sid = SentimentIntensityAnalyzer()\n",
    "\n",
    "# create new columns for sentiment scores and extract the compound scores from it\n",
    "df['scores'] = df['clean_review'].apply(lambda x: sid.polarity_scores(x))\n",
    "df['compound'] = df['scores'].apply(lambda score_dict: score_dict['compound'])"
   ]
  },
  {
   "cell_type": "code",
   "execution_count": 181,
   "metadata": {},
   "outputs": [
    {
     "data": {
      "text/html": [
       "<div>\n",
       "<style scoped>\n",
       "    .dataframe tbody tr th:only-of-type {\n",
       "        vertical-align: middle;\n",
       "    }\n",
       "\n",
       "    .dataframe tbody tr th {\n",
       "        vertical-align: top;\n",
       "    }\n",
       "\n",
       "    .dataframe thead th {\n",
       "        text-align: right;\n",
       "    }\n",
       "</style>\n",
       "<table border=\"1\" class=\"dataframe\">\n",
       "  <thead>\n",
       "    <tr style=\"text-align: right;\">\n",
       "      <th></th>\n",
       "      <th>review</th>\n",
       "      <th>rating</th>\n",
       "      <th>word_count</th>\n",
       "      <th>clean_review</th>\n",
       "      <th>scores</th>\n",
       "      <th>compound</th>\n",
       "    </tr>\n",
       "  </thead>\n",
       "  <tbody>\n",
       "    <tr>\n",
       "      <th>0</th>\n",
       "      <td>Ga disappointed neat products .. Meletot Hilsn...</td>\n",
       "      <td>1</td>\n",
       "      <td>12</td>\n",
       "      <td>disappointed neat product meletot hilsnyaa spe...</td>\n",
       "      <td>{'neg': 0.221, 'neu': 0.357, 'pos': 0.421, 'co...</td>\n",
       "      <td>0.4215</td>\n",
       "    </tr>\n",
       "    <tr>\n",
       "      <th>1</th>\n",
       "      <td>Rdtanya replace broken glass, broken chargernya</td>\n",
       "      <td>1</td>\n",
       "      <td>6</td>\n",
       "      <td>rdtanya replace brokay glass brokay chargernya</td>\n",
       "      <td>{'neg': 0.0, 'neu': 1.0, 'pos': 0.0, 'compound...</td>\n",
       "      <td>0.0000</td>\n",
       "    </tr>\n",
       "  </tbody>\n",
       "</table>\n",
       "</div>"
      ],
      "text/plain": [
       "                                              review  rating  word_count  \\\n",
       "0  Ga disappointed neat products .. Meletot Hilsn...       1          12   \n",
       "1    Rdtanya replace broken glass, broken chargernya       1           6   \n",
       "\n",
       "                                        clean_review  \\\n",
       "0  disappointed neat product meletot hilsnyaa spe...   \n",
       "1     rdtanya replace brokay glass brokay chargernya   \n",
       "\n",
       "                                              scores  compound  \n",
       "0  {'neg': 0.221, 'neu': 0.357, 'pos': 0.421, 'co...    0.4215  \n",
       "1  {'neg': 0.0, 'neu': 1.0, 'pos': 0.0, 'compound...    0.0000  "
      ]
     },
     "execution_count": 181,
     "metadata": {},
     "output_type": "execute_result"
    }
   ],
   "source": [
    "df.head(2)"
   ]
  },
  {
   "cell_type": "code",
   "execution_count": 182,
   "metadata": {},
   "outputs": [
    {
     "data": {
      "text/plain": [
       "rating\n",
       "1    0.003\n",
       "2    0.209\n",
       "3    0.480\n",
       "4    0.619\n",
       "5    0.621\n",
       "Name: compound, dtype: float64"
      ]
     },
     "execution_count": 182,
     "metadata": {},
     "output_type": "execute_result"
    }
   ],
   "source": [
    "# mean compound scores groupby rating\n",
    "round(df.groupby('rating')['compound'].mean(),3)"
   ]
  },
  {
   "cell_type": "code",
   "execution_count": 184,
   "metadata": {},
   "outputs": [
    {
     "data": {
      "image/png": "[encoded data removed]",
      "text/plain": [
       "<Figure size 576x432 with 1 Axes>"
      ]
     },
     "metadata": {
      "needs_background": "light"
     },
     "output_type": "display_data"
    }
   ],
   "source": [
    "# Visualize the mean compound score\n",
    "from numpy import mean\n",
    "plt.figure(figsize=(8,6))\n",
    "ax = sns.barplot(x=\"rating\", y=\"compound\", data=df, estimator = mean, palette=\"Set2\")\n",
    "ax.set_ylim(-.01,0.7)\n",
    "ax.set_title(\"Mean sentiment compound's score groupby review's rating\", fontsize=15);\n",
    "\n",
    "# add the mean value for each bar\n",
    "for p in ax.patches:\n",
    "    ax.annotate(format(p.get_height(), '.3f'), (p.get_x() + p.get_width() /2., p.get_height() ), \n",
    "               ha = 'center', va='center', xytext = (0,10), textcoords = 'offset points')"
   ]
  },
  {
   "cell_type": "markdown",
   "metadata": {},
   "source": [
    "**Visualise** the distribution of compound's score versus review's rating"
   ]
  },
  {
   "cell_type": "code",
   "execution_count": 185,
   "metadata": {},
   "outputs": [
    {
     "data": {
      "image/png": "[encoded data removed]",
      "text/plain": [
       "<Figure size 576x360 with 1 Axes>"
      ]
     },
     "metadata": {
      "needs_background": "light"
     },
     "output_type": "display_data"
    }
   ],
   "source": [
    "# Visualize the relationship between the Sentiment polarity and rating\n",
    "ax = sns.catplot(x = \"rating\", y = \"compound\", data = df, palette = \"Set2\",\n",
    "                 kind = \"violin\", height = 5, aspect = 1.6)\n",
    "\n",
    "ax.fig.subplots_adjust(top = .9)\n",
    "ax.fig.suptitle(\"Sentiment compound's score versus Review's rating\", fontsize=16)\n",
    "ax.set_axis_labels(\"review's rating\", \"Compound's score\");"
   ]
  },
  {
   "cell_type": "code",
   "execution_count": 34,
   "metadata": {},
   "outputs": [
    {
     "name": "stdout",
     "output_type": "stream",
     "text": [
      "Sentiment Polarity versus Review's Rating\n"
     ]
    },
    {
     "data": {
      "image/png": "[encoded data removed]",
      "text/plain": [
       "<Figure size 720x720 with 3 Axes>"
      ]
     },
     "metadata": {
      "needs_background": "light"
     },
     "output_type": "display_data"
    }
   ],
   "source": [
    "#Visualize using jointplot\n",
    "ax = (sns.jointplot(\"compound\", \"rating\", data=df, height = 10, ratio=3)).plot_joint(\n",
    "        sns.kdeplot, zorder = 0, n_levels = 6)\n",
    "\n",
    "print(\"Sentiment Polarity versus Review's Rating\")"
   ]
  },
  {
   "cell_type": "markdown",
   "metadata": {},
   "source": [
    "## 3.2 Correlations among numeric variables\n",
    "Calculate the correlation coefficient of `rating`, `word_count` of the review as well as the calculated `compound` scores.\n",
    "\n",
    "- `rating` and `compound` score is in *positive correlation*.\n",
    "- `compound` and `word_count` is having *weak positive correlation*. Indicating trend of having more words on good review, which is actually contradicting with the *weak negative correlation* between `rating` and `word_count`."
   ]
  },
  {
   "cell_type": "code",
   "execution_count": 186,
   "metadata": {},
   "outputs": [
    {
     "data": {
      "text/html": [
       "<div>\n",
       "<style scoped>\n",
       "    .dataframe tbody tr th:only-of-type {\n",
       "        vertical-align: middle;\n",
       "    }\n",
       "\n",
       "    .dataframe tbody tr th {\n",
       "        vertical-align: top;\n",
       "    }\n",
       "\n",
       "    .dataframe thead th {\n",
       "        text-align: right;\n",
       "    }\n",
       "</style>\n",
       "<table border=\"1\" class=\"dataframe\">\n",
       "  <thead>\n",
       "    <tr style=\"text-align: right;\">\n",
       "      <th></th>\n",
       "      <th>rating</th>\n",
       "      <th>word_count</th>\n",
       "      <th>compound</th>\n",
       "    </tr>\n",
       "  </thead>\n",
       "  <tbody>\n",
       "    <tr>\n",
       "      <th>rating</th>\n",
       "      <td>1.000000</td>\n",
       "      <td>-0.072552</td>\n",
       "      <td>0.459612</td>\n",
       "    </tr>\n",
       "    <tr>\n",
       "      <th>word_count</th>\n",
       "      <td>-0.072552</td>\n",
       "      <td>1.000000</td>\n",
       "      <td>0.137012</td>\n",
       "    </tr>\n",
       "    <tr>\n",
       "      <th>compound</th>\n",
       "      <td>0.459612</td>\n",
       "      <td>0.137012</td>\n",
       "      <td>1.000000</td>\n",
       "    </tr>\n",
       "  </tbody>\n",
       "</table>\n",
       "</div>"
      ],
      "text/plain": [
       "              rating  word_count  compound\n",
       "rating      1.000000   -0.072552  0.459612\n",
       "word_count -0.072552    1.000000  0.137012\n",
       "compound    0.459612    0.137012  1.000000"
      ]
     },
     "execution_count": 186,
     "metadata": {},
     "output_type": "execute_result"
    }
   ],
   "source": [
    "corr = df[['rating','word_count','compound']].corr()\n",
    "corr"
   ]
  },
  {
   "cell_type": "code",
   "execution_count": 187,
   "metadata": {},
   "outputs": [
    {
     "data": {
      "image/png": "[encoded data removed]",
      "text/plain": [
       "<Figure size 432x288 with 2 Axes>"
      ]
     },
     "metadata": {},
     "output_type": "display_data"
    }
   ],
   "source": [
    "# visualise using heatmap\n",
    "mask = np.zeros_like(corr)\n",
    "mask[np.triu_indices_from(mask)] = True\n",
    "\n",
    "with sns.axes_style(\"white\"):\n",
    "    f, ax = plt.subplots(figsize = (6,4))\n",
    "    ax = sns.heatmap(corr, mask=mask, vmax=1, vmin=-1, annot = True,\n",
    "                     linewidths=.5, cmap = 'YlGnBu')\n",
    "    ax.set_title(\"Correlation coefficient of rating, polarity score and word count\", fontsize=14)\n",
    "    "
   ]
  },
  {
   "cell_type": "markdown",
   "metadata": {},
   "source": [
    "## 3.3 Frequent word\n",
    "- view the frequent words for each rating using WordCloud"
   ]
  },
  {
   "cell_type": "code",
   "execution_count": 188,
   "metadata": {},
   "outputs": [],
   "source": [
    "#Wordcloud function\n",
    "from wordcloud import WordCloud\n",
    "\n",
    "def show_wordcloud(data, title = None):\n",
    "    wordcloud = WordCloud(\n",
    "                background_color = \"white\",\n",
    "                colormap='tab20b',\n",
    "                max_words = 500,\n",
    "                max_font_size = 40,\n",
    "                scale = 2,\n",
    "                random_state = 42,\n",
    "                ).generate(str(data.values))\n",
    "    \n",
    "    fig = plt.figure(1, figsize = (10,6))\n",
    "    plt.axis('off')\n",
    "    if title:\n",
    "        fig.suptitle(title, fontsize = 18)\n",
    "        fig.subplots_adjust(top = 1)\n",
    "    \n",
    "    plt.imshow(wordcloud)\n",
    "    plt.show()"
   ]
  },
  {
   "cell_type": "code",
   "execution_count": 189,
   "metadata": {},
   "outputs": [
    {
     "data": {
      "image/png": "[encoded data removed]",
      "text/plain": [
       "<Figure size 720x432 with 1 Axes>"
      ]
     },
     "metadata": {
      "needs_background": "light"
     },
     "output_type": "display_data"
    }
   ],
   "source": [
    "show_wordcloud(df.query('rating == 5')['clean_review'], \"Review Rating = 5\")"
   ]
  },
  {
   "cell_type": "code",
   "execution_count": 190,
   "metadata": {},
   "outputs": [
    {
     "data": {
      "image/png": "[encoded data removed]",
      "text/plain": [
       "<Figure size 720x432 with 1 Axes>"
      ]
     },
     "metadata": {
      "needs_background": "light"
     },
     "output_type": "display_data"
    }
   ],
   "source": [
    "show_wordcloud(df.query('rating == 3')['clean_review'], \"Review Rating = 3\")"
   ]
  },
  {
   "cell_type": "code",
   "execution_count": 191,
   "metadata": {},
   "outputs": [
    {
     "data": {
      "image/png": "[encoded data removed]",
      "text/plain": [
       "<Figure size 720x432 with 1 Axes>"
      ]
     },
     "metadata": {
      "needs_background": "light"
     },
     "output_type": "display_data"
    }
   ],
   "source": [
    "show_wordcloud(df.query('rating == 1')['clean_review'], \"Review Rating = 1\")"
   ]
  },
  {
   "cell_type": "code",
   "execution_count": 192,
   "metadata": {},
   "outputs": [
    {
     "data": {
      "image/png": "[encoded data removed]",
      "text/plain": [
       "<Figure size 576x720 with 1 Axes>"
      ]
     },
     "metadata": {
      "needs_background": "light"
     },
     "output_type": "display_data"
    }
   ],
   "source": [
    "# try to add in mask for review with rating =5, just for fun\n",
    "from PIL import Image\n",
    "\n",
    "# Load image\n",
    "mask = np.array(Image.open('./image/Patrick_Star.png'))\n",
    "data = df.query('rating == 5')['clean_review']\n",
    "wordcloud = WordCloud(background_color='black', max_font_size=50, \n",
    "                      colormap='Pastel1', mask=mask).generate(str(data.values))\n",
    "\n",
    "fig = plt.figure(1, figsize=(8,10))\n",
    "plt.imshow(wordcloud)\n",
    "plt.axis('off')\n",
    "plt.tight_layout()\n",
    "plt.show()"
   ]
  },
  {
   "cell_type": "markdown",
   "metadata": {},
   "source": [
    "## 3.4 Finding characteristic terms that associate with the ratings"
   ]
  },
  {
   "cell_type": "code",
   "execution_count": 247,
   "metadata": {},
   "outputs": [],
   "source": [
    "# Load pretrained model with general english language\n",
    "nlp = spacy.load(\"en_core_web_sm\")"
   ]
  },
  {
   "cell_type": "code",
   "execution_count": 250,
   "metadata": {},
   "outputs": [
    {
     "name": "stdout",
     "output_type": "stream",
     "text": [
      "['thumbsup', 'smilingfacewithhearteyes', 'smilingfacewithsmilingeyes', 'redheart', 'thumbsuplightskintone', 'faceblowingakiss', 'beamingfacewithsmilingeyes', 'okhand', 'foldedhands', 'cepet', 'grinningface', 'awesome', 'twohearts', 'huggingface', 'whitemediumstar', 'smilingface', 'loudlycryingface', 'lookay', 'alhamdulillah', 'grinningfacewithsmilingeyes', 'thumbsupmediumlightskintone', 'okay', 'brokay', 'bagus', 'wellpackaged', 'heartsuit', 'thankyou', 'accommodating', 'starstruck', 'banget']\n"
     ]
    }
   ],
   "source": [
    "# Creates a Corpus from a pandas data frame.  \n",
    "# A Corpus is a Term Document Matrix preserves the original texts.\n",
    "# Following are the terms that differentiate the review text from a general English corpus.\n",
    "\n",
    "corpus = st.CorpusFromPandas(df, category_col=\"rating\", text_col = \"clean_review\",\n",
    "                            nlp = nlp).build()\n",
    "\n",
    "print(list(corpus.get_scaled_f_scores_vs_background().index[:30]))"
   ]
  },
  {
   "cell_type": "markdown",
   "metadata": {},
   "source": [
    "**gpp** stands for gak pak pak, which means it's okay"
   ]
  },
  {
   "cell_type": "code",
   "execution_count": 251,
   "metadata": {},
   "outputs": [
    {
     "name": "stdout",
     "output_type": "stream",
     "text": [
      "Term mostly associated with : rating of 1\n",
      "--------------------------------------------------------\n",
      "['thumbsdownlightskintone thumbsdownlightskintone', 'service poor', 'thumbsdownlightskintone', 'damaged defective', 'very poor', 'angryface angryface', 'bad service', 'defective item', 'poor product', 'poutingface poutingface', 'poutingface', 'item different', 'bad bad', 'angryface', 'from picture', 'terrible', 'receive item', 'time below', 'wrong item', 'pileofpoo', 'bad quality', 'very disappointed', 'not receive', 'below expectation', 'not original', 'not order', 'pileofpoo pileofpoo', 'poor service', 'not working', 'quality poor']\n",
      "\n",
      "\n",
      "\n",
      "Term mostly associated with : rating of 2\n",
      "--------------------------------------------------------\n",
      "['quality fair', 'standard seller', 'quality temporary', 'anxiousfacewithsweat', 'fair value', 'quality standard', 'time expected', 'anxiousfacewithsweat anxiousfacewithsweat', 'smilingfacewithhorns smilingfacewithhorns', 'standard product', 'general merchandise', 'response standard', 'standard the', 'price standard', 'product free', 'delivery fair', 'free standard', 'the standard', 'smilingfacewithhorns', 'standard shipping', 'shipping standard', 'standard', 'temporary', 'shipped ontime', 'fair', 'ontime', 'pensiveface pensiveface', 'unamusedface unamusedface', 'standard packaging', 'spoutingwhale']\n",
      "\n",
      "\n",
      "\n",
      "Term mostly associated with : rating of 3\n",
      "--------------------------------------------------------\n",
      "['speed well', 'well good', 'speed good', 'price good', 'nice shop', 'value fast', 'good price', 'the nice', 'blueheart blueheart', 'provided the', 'service provided', 'product delivery', 'quality the', 'response good', 'provided', 'quality delivery', 'one star', 'free shipping', 'overall good', 'but overall', 'rather', 'good product', 'but unfortunately', 'gpp', 'unfortunately', 'star because', 'overall', 'grinningfacewithsweat grinningfacewithsweat', 'still good', 'good but']\n",
      "\n",
      "\n",
      "\n",
      "Term mostly associated with : rating of 4\n",
      "--------------------------------------------------------\n",
      "['gemstone', 'glowingstar glowingstar', 'glowingstar', 'smilingfacewithhalo smilingfacewithhalo', 'cloud cloud', 'cloud', 'steady steady', 'smilingfacewithhalo', 'awesome value', 'heartsuit heartsuit', 'growingheart growingheart', 'beatingheart', 'fabulous', 'growingheart', 'heartsuit', 'fabulous quality', 'beatingheart beatingheart', 'awesome quality', 'you thank', 'awesome awesome', 'awesome service', 'awesome', 'speed fabulous', 'ship delivery', 'awesome speed', 'good awesome', 'quality merchandise', 'cloud smilingfacewithsmilingeyes', 'ship awesome', 'speed the']\n",
      "\n",
      "\n",
      "\n",
      "Term mostly associated with : rating of 5\n",
      "--------------------------------------------------------\n",
      "['faceblowingakiss smilingfacewithhearteyes', 'smilingcatfacewithhearteyes', 'smilingfacewithhearteyes faceblowingakiss', 'whitemediumstar whitemediumstar', 'whitemediumstar', 'hundredpoints hundredpoints', 'value awesome', 'hundredpoints', 'immediately will', 'starstruck starstruck', 'ship awesome', 'excellent quality', 'excellent service', 'mantap', 'praise', 'excellent the', 'speed very', 'awesome speed', 'ship delivery', 'shipped immediately', 'quality excellent', 'delivery excellent', 'awesome service', 'awesome awesome', 'and certainly', 'response very', 'awesome', 'speed fabulous', 'excellent', 'awesome quality']\n",
      "\n",
      "\n",
      "\n"
     ]
    }
   ],
   "source": [
    "# Following are the terms in review that are mostly associated with each rating.\n",
    "\n",
    "rating_list = list(set(df.rating))\n",
    "term_freq_df = corpus.get_term_freq_df()\n",
    "\n",
    "for rating in rating_list:\n",
    "    col_name = 'rating_' + str(rating)\n",
    "    term_freq_df[col_name] = corpus.get_scaled_f_scores(rating)\n",
    "    print(f\"Term mostly associated with : rating of {rating}\")\n",
    "    print(\"--------------------------------------------------------\")\n",
    "    print(list(term_freq_df.sort_values(by = col_name, ascending = False).index[:30]))\n",
    "    print(\"\\n\\n\")\n",
    "    "
   ]
  },
  {
   "cell_type": "markdown",
   "metadata": {},
   "source": [
    "# 4 Pre-processing\n",
    "- Create X-feature and y-target(i.e.: rating) for modelling\n",
    "- Train test split\n",
    "- Class-weights"
   ]
  },
  {
   "cell_type": "code",
   "execution_count": 12,
   "metadata": {},
   "outputs": [],
   "source": [
    "# Create X-feature and y-target (label)\n",
    "X = list(df['clean_review'])  #train dataset\n",
    "Xtest = list(test['clean_review'])   #test dataset\n",
    "\n",
    "#label, convert to rating from 0 to 4, as we'll need to change to_categorical\n",
    "y = df['rating']-1 "
   ]
  },
  {
   "cell_type": "markdown",
   "metadata": {},
   "source": [
    "### Train test spit"
   ]
  },
  {
   "cell_type": "code",
   "execution_count": 13,
   "metadata": {},
   "outputs": [],
   "source": [
    "X_train, X_test, y_train, y_test = train_test_split(X, y, test_size = 0.2, stratify = y,\n",
    "                                                   shuffle = True, random_state = 42)"
   ]
  },
  {
   "cell_type": "markdown",
   "metadata": {},
   "source": [
    "### Class weights for imbalance dataset"
   ]
  },
  {
   "cell_type": "code",
   "execution_count": 14,
   "metadata": {},
   "outputs": [
    {
     "name": "stdout",
     "output_type": "stream",
     "text": [
      "class weights: [1.98604415 2.31134954 0.81701461 0.70134409 0.70719513]\n",
      "class.       : [0 1 2 3 4]\n"
     ]
    }
   ],
   "source": [
    "class_weights = class_weight.compute_class_weight('balanced',\n",
    "                                                 np.unique(y_train),\n",
    "                                                 y_train)\n",
    "\n",
    "print(f\"class weights: {class_weights}\")\n",
    "print(f\"class.       : {np.unique(y_train)}\")"
   ]
  },
  {
   "cell_type": "code",
   "execution_count": 15,
   "metadata": {},
   "outputs": [
    {
     "name": "stdout",
     "output_type": "stream",
     "text": [
      "y_train: (117405, 5)\n"
     ]
    }
   ],
   "source": [
    "# change int categorical in y to dummies\n",
    "y_train = to_categorical(y_train)\n",
    "y_test = to_categorical(y_test)\n",
    "\n",
    "print(f\"y_train: {y_train.shape}\")"
   ]
  },
  {
   "cell_type": "markdown",
   "metadata": {},
   "source": [
    "# 5 Modeling"
   ]
  },
  {
   "cell_type": "markdown",
   "metadata": {},
   "source": [
    "## 5.1 Baseline\n",
    "Calculate the percentage distribution for each class, i.e. the rating from the reviewer"
   ]
  },
  {
   "cell_type": "code",
   "execution_count": 197,
   "metadata": {},
   "outputs": [
    {
     "data": {
      "text/plain": [
       "4    0.285191\n",
       "5    0.282839\n",
       "3    0.244792\n",
       "1    0.100670\n",
       "2    0.086509\n",
       "Name: rating, dtype: float64"
      ]
     },
     "execution_count": 197,
     "metadata": {},
     "output_type": "execute_result"
    }
   ],
   "source": [
    "df.rating.value_counts(normalize=True)"
   ]
  },
  {
   "cell_type": "markdown",
   "metadata": {},
   "source": [
    "## 5.2 Recurrent Neural Network (LSTM)\n",
    "Recurrent neural network is a type of neural networks that is proven to work well with sequence data. Since text is a sequence of words, I try to solve this sentiment classification problems with LSTM (Long Short Term Memory network), which is a variant of RNN, and compared to results from other classifier (Logistic, Naive Bayes, SVM), which I done in a separate notebook."
   ]
  },
  {
   "cell_type": "markdown",
   "metadata": {},
   "source": [
    "### 5.2.1 Preparing the Embedding layer\n",
    "Use `Tokenizer` class from the `keras.preprocessing.text` module to create a **word-to-index** dictionary. Each word in the corpus is used as a key, while a corresponding unique index is used as the value for the key. "
   ]
  },
  {
   "cell_type": "code",
   "execution_count": 16,
   "metadata": {},
   "outputs": [],
   "source": [
    "max_features = 12500  # This is selected as it is roughly the range of optimized hyperparameter used in other classifier in another notebook\n",
    "\n",
    "tokenizer = Tokenizer(num_words=max_features)\n",
    "tokenizer.fit_on_texts(X_train)\n",
    "\n",
    "X_train = tokenizer.texts_to_sequences(X_train)\n",
    "X_test = tokenizer.texts_to_sequences(X_test)\n",
    "Xtest = tokenizer.texts_to_sequences(Xtest)"
   ]
  },
  {
   "cell_type": "code",
   "execution_count": 17,
   "metadata": {},
   "outputs": [
    {
     "data": {
      "text/plain": [
       "{1: 'good',\n",
       " 2: 'the',\n",
       " 3: 'product',\n",
       " 4: 'quality',\n",
       " 5: 'very',\n",
       " 6: 'delivery',\n",
       " 7: 'thumbsup',\n",
       " 8: 'seller',\n",
       " 9: 'and',\n",
       " 10: 'price',\n",
       " 11: 'not',\n",
       " 12: 'speed',\n",
       " 13: 'excellent',\n",
       " 14: 'but',\n",
       " 15: 'awesome',\n",
       " 16: 'fast',\n",
       " 17: 'smilingfacewithhearteyes',\n",
       " 18: 'for',\n",
       " 19: 'okay',\n",
       " 20: 'order',\n",
       " 21: 'value',\n",
       " 22: 'response',\n",
       " 23: 'nice',\n",
       " 24: 'you',\n",
       " 25: 'thank',\n",
       " 26: 'smilingfacewithsmilingeyes',\n",
       " 27: 'redheart',\n",
       " 28: 'thanks',\n",
       " 29: 'service',\n",
       " 30: 'that',\n",
       " 31: 'with',\n",
       " 32: 'it',\n",
       " 33: 'like',\n",
       " 34: 'this',\n",
       " 35: 'time',\n",
       " 36: 'original',\n",
       " 37: 'also',\n",
       " 38: 'other',\n",
       " 39: 'item',\n",
       " 40: 'well',\n",
       " 41: 'again',\n",
       " 42: 'money',\n",
       " 43: 'will',\n",
       " 44: 'really',\n",
       " 45: 'shop',\n",
       " 46: 'packaging',\n",
       " 47: 'color',\n",
       " 48: 'thumbsuplightskintone',\n",
       " 49: 'are',\n",
       " 50: 'buy',\n",
       " 51: 'his',\n",
       " 52: 'just',\n",
       " 53: 'faceblowingakiss',\n",
       " 54: 'material',\n",
       " 55: 'ship',\n",
       " 56: 'received',\n",
       " 57: 'size',\n",
       " 58: 'all',\n",
       " 59: 'have',\n",
       " 60: 'already',\n",
       " 61: 'shipping',\n",
       " 62: 'can',\n",
       " 63: 'packing',\n",
       " 64: 'there',\n",
       " 65: 'too',\n",
       " 66: 'from',\n",
       " 67: 'long',\n",
       " 68: 'beautiful',\n",
       " 69: 'love',\n",
       " 70: 'her',\n",
       " 71: 'because',\n",
       " 72: 'little',\n",
       " 73: 'much',\n",
       " 74: 'here',\n",
       " 75: 'standard',\n",
       " 76: 'one',\n",
       " 77: 'beamingfacewithsmilingeyes',\n",
       " 78: 'okhand',\n",
       " 79: 'pretty',\n",
       " 80: 'only',\n",
       " 81: 'more',\n",
       " 82: 'shipped',\n",
       " 83: 'cheap',\n",
       " 84: 'store',\n",
       " 85: 'use',\n",
       " 86: 'until',\n",
       " 87: 'hopefully',\n",
       " 88: 'sent',\n",
       " 89: 'satisfied',\n",
       " 90: 'foldedhands',\n",
       " 91: 'smilingfacewith3hearts',\n",
       " 92: 'fit',\n",
       " 93: 'day',\n",
       " 94: 'small',\n",
       " 95: 'package',\n",
       " 96: 'stuff',\n",
       " 97: 'same',\n",
       " 98: 'next',\n",
       " 99: 'worth',\n",
       " 100: 'always',\n",
       " 101: 'yes',\n",
       " 102: 'merchandise',\n",
       " 103: 'than',\n",
       " 104: 'disappointed',\n",
       " 105: 'still',\n",
       " 106: 'cepet',\n",
       " 107: 'super',\n",
       " 108: 'thin',\n",
       " 109: 'bit',\n",
       " 110: 'great',\n",
       " 111: 'neat',\n",
       " 112: 'new',\n",
       " 113: 'according',\n",
       " 114: 'first',\n",
       " 115: 'come',\n",
       " 116: 'steady',\n",
       " 117: 'condition',\n",
       " 118: 'out',\n",
       " 119: 'twohearts',\n",
       " 120: 'friendly',\n",
       " 121: 'facewithtearsofjoy',\n",
       " 122: 'picture',\n",
       " 123: 'been',\n",
       " 124: 'whitemediumstar',\n",
       " 125: 'fabric',\n",
       " 126: 'box',\n",
       " 127: 'arrived',\n",
       " 128: 'send',\n",
       " 129: 'when',\n",
       " 130: 'star',\n",
       " 131: 'huggingface',\n",
       " 132: 'thankyou',\n",
       " 133: 'who',\n",
       " 134: 'poor',\n",
       " 135: 'want',\n",
       " 136: 'grinningface',\n",
       " 137: 'quite',\n",
       " 138: 'safely',\n",
       " 139: 'then',\n",
       " 140: 'accommodating',\n",
       " 141: 'try',\n",
       " 142: 'get',\n",
       " 143: 'doe',\n",
       " 144: 'smilingface',\n",
       " 145: 'cute',\n",
       " 146: 'accordance',\n",
       " 147: 'anyway',\n",
       " 148: 'bag',\n",
       " 149: 'free',\n",
       " 150: 'loudlycryingface',\n",
       " 151: 'lookay',\n",
       " 152: 'slow',\n",
       " 153: 'message',\n",
       " 154: 'ordered',\n",
       " 155: 'shopping',\n",
       " 156: 'safe',\n",
       " 157: 'quickly',\n",
       " 158: 'may',\n",
       " 159: 'alhamdulillah',\n",
       " 160: 'what',\n",
       " 161: 'recommended',\n",
       " 162: 'overall',\n",
       " 163: 'should',\n",
       " 164: 'even',\n",
       " 165: 'bad',\n",
       " 166: 'cool',\n",
       " 167: 'immediately',\n",
       " 168: 'customer',\n",
       " 169: 'before',\n",
       " 170: 'grinningfacewithsmilingeyes',\n",
       " 171: 'thumbsupmediumlightskintone',\n",
       " 172: 'best',\n",
       " 173: 'pack',\n",
       " 174: 'heartsuit',\n",
       " 175: 'soft',\n",
       " 176: 'which',\n",
       " 177: 'god',\n",
       " 178: 'would',\n",
       " 179: 'used',\n",
       " 180: 'wrap',\n",
       " 181: 'bubble',\n",
       " 182: 'bagus',\n",
       " 183: 'brokay',\n",
       " 184: 'wrong',\n",
       " 185: 'reply',\n",
       " 186: 'make',\n",
       " 187: 'old',\n",
       " 188: 'starstruck',\n",
       " 189: 'subscription',\n",
       " 190: 'different',\n",
       " 191: 'big',\n",
       " 192: 'some',\n",
       " 193: 'black',\n",
       " 194: 'wellpackaged',\n",
       " 195: 'wear',\n",
       " 196: 'please',\n",
       " 197: 'image',\n",
       " 198: 'yet',\n",
       " 199: 'work',\n",
       " 200: 'banget',\n",
       " 201: 'after',\n",
       " 202: 'thick',\n",
       " 203: 'certainly',\n",
       " 204: 'grinningfacewithsweat',\n",
       " 205: 'neatly',\n",
       " 206: 'many',\n",
       " 207: 'suitable',\n",
       " 208: 'did',\n",
       " 209: 'enough',\n",
       " 210: 'another',\n",
       " 211: 'appropriate',\n",
       " 212: 'lot',\n",
       " 213: 'complete',\n",
       " 214: 'affordable',\n",
       " 215: 'chat',\n",
       " 216: 'durable',\n",
       " 217: 'know',\n",
       " 218: 'delivered',\n",
       " 219: 'passable',\n",
       " 220: 'glowingstar',\n",
       " 221: 'think',\n",
       " 222: 'wait',\n",
       " 223: 'any',\n",
       " 224: 'shoe',\n",
       " 225: 'quick',\n",
       " 226: 'clothes',\n",
       " 227: 'right',\n",
       " 228: 'bought',\n",
       " 229: 'had',\n",
       " 230: 'photo',\n",
       " 231: 'how',\n",
       " 232: 'sparklingheart',\n",
       " 233: 'purchase',\n",
       " 234: 'winkingface',\n",
       " 235: 'happy',\n",
       " 236: 'put',\n",
       " 237: 'carefully',\n",
       " 238: 'hope',\n",
       " 239: 'plastic',\n",
       " 240: 'match',\n",
       " 241: 'gift',\n",
       " 242: 'brg',\n",
       " 243: 'damaged',\n",
       " 244: 'see',\n",
       " 245: 'sure',\n",
       " 246: 'comfortable',\n",
       " 247: 'two',\n",
       " 248: 'rather',\n",
       " 249: 'back',\n",
       " 250: 'although',\n",
       " 251: 'white',\n",
       " 252: 'suka',\n",
       " 253: 'sorry',\n",
       " 254: 'better',\n",
       " 255: 'were',\n",
       " 256: 'nyampe',\n",
       " 257: 'slightly',\n",
       " 258: 'description',\n",
       " 259: 'case',\n",
       " 260: 'top',\n",
       " 261: 'shirt',\n",
       " 262: 'now',\n",
       " 263: 'thing',\n",
       " 264: 'turn',\n",
       " 265: 'expected',\n",
       " 266: 'came',\n",
       " 267: 'let',\n",
       " 268: 'purpleheart',\n",
       " 269: 'they',\n",
       " 270: 'take',\n",
       " 271: 'your',\n",
       " 272: 'real',\n",
       " 273: 'packaged',\n",
       " 274: 'pant',\n",
       " 275: 'unfortunately',\n",
       " 276: 'ung',\n",
       " 277: 'check',\n",
       " 278: 'slightlysmilingface',\n",
       " 279: 'definitely',\n",
       " 280: 'light',\n",
       " 281: 'sale',\n",
       " 282: 'fitting',\n",
       " 283: 'why',\n",
       " 284: 'cloud',\n",
       " 285: 'full',\n",
       " 286: 'pokay',\n",
       " 287: 'pink',\n",
       " 288: 'need',\n",
       " 289: 'week',\n",
       " 290: 'easy',\n",
       " 291: 'blue',\n",
       " 292: 'got',\n",
       " 293: 'though',\n",
       " 294: 'child',\n",
       " 295: 'carrier',\n",
       " 296: 'smilingfacewithhalo',\n",
       " 297: 'fabulous',\n",
       " 298: 'wrote',\n",
       " 299: 'grinningsquintingface',\n",
       " 300: 'longer',\n",
       " 301: 'red',\n",
       " 302: 'once',\n",
       " 303: 'courier',\n",
       " 304: 'cryingface',\n",
       " 305: 'blueheart',\n",
       " 306: 'grinningfacewithbigeyes',\n",
       " 307: 'problem',\n",
       " 308: 'packed',\n",
       " 309: 'yellowheart',\n",
       " 310: 'without',\n",
       " 311: 'kissingfacewithclosedeyes',\n",
       " 312: 'say',\n",
       " 313: 'given',\n",
       " 314: 'soon',\n",
       " 315: 'wrapped',\n",
       " 316: 'hundredpoints',\n",
       " 317: 'recomended',\n",
       " 318: 'clappinghands',\n",
       " 319: 'could',\n",
       " 320: 'secure',\n",
       " 321: 'using',\n",
       " 322: 'cover',\n",
       " 323: 'mantul',\n",
       " 324: 'corresponding',\n",
       " 325: 'second',\n",
       " 326: 'about',\n",
       " 327: 'bookay',\n",
       " 328: 'ori',\n",
       " 329: 'repeat',\n",
       " 330: 'sparkle',\n",
       " 331: 'short',\n",
       " 332: 'continue',\n",
       " 333: 'thumbsdown',\n",
       " 334: 'facesavoringfood',\n",
       " 335: 'buyer',\n",
       " 336: 'rose',\n",
       " 337: 'feel',\n",
       " 338: 'success',\n",
       " 339: 'date',\n",
       " 340: 'recommend',\n",
       " 341: 'bonus',\n",
       " 342: 'support',\n",
       " 343: 'growingheart',\n",
       " 344: 'receive',\n",
       " 345: 'baby',\n",
       " 346: 'cheaper',\n",
       " 347: 'smell',\n",
       " 348: 'she',\n",
       " 349: 'over',\n",
       " 350: 'beatingheart',\n",
       " 351: 'give',\n",
       " 352: 'hard',\n",
       " 353: 'cloth',\n",
       " 354: 'never',\n",
       " 355: 'cpt',\n",
       " 356: 'ask',\n",
       " 357: 'tried',\n",
       " 358: 'open',\n",
       " 359: 'model',\n",
       " 360: 'somewhat',\n",
       " 361: 'smooth',\n",
       " 362: 'said',\n",
       " 363: 'fine',\n",
       " 364: 'okhandlightskintone',\n",
       " 365: 'expectation',\n",
       " 366: 'late',\n",
       " 367: 'instead',\n",
       " 368: 'those',\n",
       " 369: 'create',\n",
       " 370: 'arrive',\n",
       " 371: 'gpp',\n",
       " 372: 'rich',\n",
       " 373: 'set',\n",
       " 374: 'loved',\n",
       " 375: 'baguss',\n",
       " 376: 'mantap',\n",
       " 377: 'mouth',\n",
       " 378: 'refund',\n",
       " 379: 'people',\n",
       " 380: 'piece',\n",
       " 381: 'bottle',\n",
       " 382: 'hour',\n",
       " 383: 'expressionlessface',\n",
       " 384: 'sensitive',\n",
       " 385: 'buying',\n",
       " 386: 'damage',\n",
       " 387: 'hehe',\n",
       " 388: 'yesterday',\n",
       " 389: 'exactly',\n",
       " 390: 'thx',\n",
       " 391: 'packingnya',\n",
       " 392: 'design',\n",
       " 393: 'must',\n",
       " 394: 'taste',\n",
       " 395: 'everything',\n",
       " 396: 'revolvinghearts',\n",
       " 397: 'off',\n",
       " 398: 'today',\n",
       " 399: 'home',\n",
       " 400: 'result',\n",
       " 401: 'process',\n",
       " 402: 'bos',\n",
       " 403: 'line',\n",
       " 404: 'rollingonthefloorlaughing',\n",
       " 405: 'son',\n",
       " 406: 'mask',\n",
       " 407: 'tebel',\n",
       " 408: 'part',\n",
       " 409: 'transport',\n",
       " 410: 'tookay',\n",
       " 411: 'responsive',\n",
       " 412: 'praise',\n",
       " 413: 'large',\n",
       " 414: 'hand',\n",
       " 415: 'their',\n",
       " 416: 'sip',\n",
       " 417: 'sensitivity',\n",
       " 418: 'directly',\n",
       " 419: 'dateng',\n",
       " 420: 'them',\n",
       " 421: 'glass',\n",
       " 422: 'battery',\n",
       " 423: 'asked',\n",
       " 424: 'stock',\n",
       " 425: 'smilingfacewithsunglasses',\n",
       " 426: 'tasty',\n",
       " 427: 'change',\n",
       " 428: 'reasonable',\n",
       " 429: 'sad',\n",
       " 430: 'going',\n",
       " 431: 'both',\n",
       " 432: 'faster',\n",
       " 433: 'dapet',\n",
       " 434: 'strong',\n",
       " 435: 'amc',\n",
       " 436: 'torn',\n",
       " 437: 'keep',\n",
       " 438: 'nyesel',\n",
       " 439: 'pict',\n",
       " 440: 'provided',\n",
       " 441: 'pay',\n",
       " 442: 'dress',\n",
       " 443: 'funny',\n",
       " 444: 'shipment',\n",
       " 445: 'skin',\n",
       " 446: 'add',\n",
       " 447: 'month',\n",
       " 448: 'return',\n",
       " 449: 'tidy',\n",
       " 450: 'satisfactory',\n",
       " 451: 'later',\n",
       " 452: 'him',\n",
       " 453: 'delicious',\n",
       " 454: 'kissingfacewithsmilingeyes',\n",
       " 455: 'dear',\n",
       " 456: 'trimakasih',\n",
       " 457: 'fair',\n",
       " 458: 'review',\n",
       " 459: 'cut',\n",
       " 460: 'cardboard',\n",
       " 461: 'bgus',\n",
       " 462: 'high',\n",
       " 463: 'sound',\n",
       " 464: 'serf',\n",
       " 465: 'far',\n",
       " 466: 'green',\n",
       " 467: 'request',\n",
       " 468: 'content',\n",
       " 469: 'actually',\n",
       " 470: 'thumbsdownlightskintone',\n",
       " 471: 'expensive',\n",
       " 472: 'disappointing',\n",
       " 473: 'done',\n",
       " 474: 'dented',\n",
       " 475: 'each',\n",
       " 476: 'smaller',\n",
       " 477: 'cost',\n",
       " 478: 'water',\n",
       " 479: 'into',\n",
       " 480: 'defective',\n",
       " 481: 'amount',\n",
       " 482: 'others',\n",
       " 483: 'phone',\n",
       " 484: 'gun',\n",
       " 485: 'sir',\n",
       " 486: 'restaurant',\n",
       " 487: 'future',\n",
       " 488: 'pensiveface',\n",
       " 489: 'properly',\n",
       " 490: 'greenheart',\n",
       " 491: 'side',\n",
       " 492: 'turned',\n",
       " 493: 'forward',\n",
       " 494: 'brand',\n",
       " 495: 'foldedhandslightskintone',\n",
       " 496: 'dent',\n",
       " 497: 'number',\n",
       " 498: 'made',\n",
       " 499: 'inside',\n",
       " 500: 'loose',\n",
       " 501: 'cream',\n",
       " 502: 'landed',\n",
       " 503: 'sadbutrelievedface',\n",
       " 504: 'most',\n",
       " 505: 'naman',\n",
       " 506: 'where',\n",
       " 507: 'way',\n",
       " 508: 'finally',\n",
       " 509: 'hot',\n",
       " 510: 'through',\n",
       " 511: 'such',\n",
       " 512: 'defect',\n",
       " 513: 'plus',\n",
       " 514: 'smilingcatfacewithhearteyes',\n",
       " 515: 'being',\n",
       " 516: '2nd',\n",
       " 517: 'normal',\n",
       " 518: 'form',\n",
       " 519: 'thought',\n",
       " 520: 'low',\n",
       " 521: 'perfect',\n",
       " 522: 'missing',\n",
       " 523: 'eat',\n",
       " 524: 'answer',\n",
       " 525: 'kind',\n",
       " 526: 'smoga',\n",
       " 527: 'last',\n",
       " 528: 'makasi',\n",
       " 529: 'function',\n",
       " 530: 'bangett',\n",
       " 531: 'empty',\n",
       " 532: 'few',\n",
       " 533: 'regret',\n",
       " 534: 'balloon',\n",
       " 535: 'almost',\n",
       " 536: 'course',\n",
       " 537: 'discount',\n",
       " 538: 'every',\n",
       " 539: 'sold',\n",
       " 540: 'yellow',\n",
       " 541: 'these',\n",
       " 542: 'selling',\n",
       " 543: 'kokay',\n",
       " 544: 'careful',\n",
       " 545: 'body',\n",
       " 546: 'note',\n",
       " 547: 'job',\n",
       " 548: 'nothing',\n",
       " 549: 'clear',\n",
       " 550: 'place',\n",
       " 551: 'makasih',\n",
       " 552: 'confirmation',\n",
       " 553: 'outside',\n",
       " 554: 'lng',\n",
       " 555: 'tight',\n",
       " 556: 'waiting',\n",
       " 557: 'sell',\n",
       " 558: 'dirty',\n",
       " 559: 'dtg',\n",
       " 560: 'year',\n",
       " 561: 'glue',\n",
       " 562: 'unamusedface',\n",
       " 563: 'own',\n",
       " 564: 'several',\n",
       " 565: 'seam',\n",
       " 566: 'code',\n",
       " 567: 'dark',\n",
       " 568: 'relievedface',\n",
       " 569: 'fortunately',\n",
       " 570: 'however',\n",
       " 571: 'syuka',\n",
       " 572: 'maybe',\n",
       " 573: 'cepat',\n",
       " 574: 'mantab',\n",
       " 575: 'coming',\n",
       " 576: 'kirain',\n",
       " 577: 'ill',\n",
       " 578: 'friend',\n",
       " 579: 'hair',\n",
       " 580: 'baht',\n",
       " 581: 'liked',\n",
       " 582: 'post',\n",
       " 583: 'interchangeable',\n",
       " 584: 'correct',\n",
       " 585: 'working',\n",
       " 586: 'around',\n",
       " 587: 'pic',\n",
       " 588: 'flash',\n",
       " 589: 'while',\n",
       " 590: 'texture',\n",
       " 591: 'easily',\n",
       " 592: 'due',\n",
       " 593: 'respond',\n",
       " 594: 'afternoon',\n",
       " 595: 'pro',\n",
       " 596: 'poutingface',\n",
       " 597: 'kissingface',\n",
       " 598: 'stick',\n",
       " 599: 'type',\n",
       " 600: 'blessing',\n",
       " 601: 'purchased',\n",
       " 602: 'shape',\n",
       " 603: 'admin',\n",
       " 604: 'ready',\n",
       " 605: 'highly',\n",
       " 606: 'face',\n",
       " 607: 'brown',\n",
       " 608: 'repurchase',\n",
       " 609: 'genuine',\n",
       " 610: 'sending',\n",
       " 611: 'during',\n",
       " 612: 'since',\n",
       " 613: 'close',\n",
       " 614: 'paid',\n",
       " 615: '100',\n",
       " 616: 'ugly',\n",
       " 617: 'paper',\n",
       " 618: 'subscribed',\n",
       " 619: 'bright',\n",
       " 620: 'disappoint',\n",
       " 621: 'seems',\n",
       " 622: 'gray',\n",
       " 623: 'dont',\n",
       " 624: 'charge',\n",
       " 625: 'milk',\n",
       " 626: 'together',\n",
       " 627: 'brother',\n",
       " 628: 'puas',\n",
       " 629: 'opened',\n",
       " 630: 'usual',\n",
       " 631: 'help',\n",
       " 632: 'three',\n",
       " 633: 'pair',\n",
       " 634: 'temporary',\n",
       " 635: 'sellernya',\n",
       " 636: 'difficult',\n",
       " 637: 'hole',\n",
       " 638: 'orangeheart',\n",
       " 639: 'lovely',\n",
       " 640: 'bngt',\n",
       " 641: 'transaction',\n",
       " 642: 'meet',\n",
       " 643: 'compared',\n",
       " 644: 'motif',\n",
       " 645: 'suit',\n",
       " 646: 'sukak',\n",
       " 647: 'pdhl',\n",
       " 648: 'sma',\n",
       " 649: 'direct',\n",
       " 650: 'sticker',\n",
       " 651: 'rope',\n",
       " 652: 'bounced',\n",
       " 653: 'china',\n",
       " 654: 'ive',\n",
       " 655: 'button',\n",
       " 656: 'screen',\n",
       " 657: 'wearing',\n",
       " 658: 'foot',\n",
       " 659: 'facewithrollingeyes',\n",
       " 660: 'enthusiastic',\n",
       " 661: 'end',\n",
       " 662: 'buildup',\n",
       " 663: 'deal',\n",
       " 664: 'substantially',\n",
       " 665: 'heavyheartexclamation',\n",
       " 666: 'jdi',\n",
       " 667: 'down',\n",
       " 668: 'question',\n",
       " 669: 'ever',\n",
       " 670: 'dry',\n",
       " 671: 'lack',\n",
       " 672: 'house',\n",
       " 673: 'flame',\n",
       " 674: 'luck',\n",
       " 675: 'tell',\n",
       " 676: 'available',\n",
       " 677: 'mandate',\n",
       " 678: 'something',\n",
       " 679: 'often',\n",
       " 680: 'kid',\n",
       " 681: 'point',\n",
       " 682: 'satisfying',\n",
       " 683: 'despite',\n",
       " 684: 'understand',\n",
       " 685: 'trusted',\n",
       " 686: 'within',\n",
       " 687: 'heavy',\n",
       " 688: 'smpe',\n",
       " 689: 'stitch',\n",
       " 690: 'scratch',\n",
       " 691: 'thinkingface',\n",
       " 692: 'terimakasih',\n",
       " 693: 'fragrance',\n",
       " 694: 'away',\n",
       " 695: 'attitude',\n",
       " 696: 'freebie',\n",
       " 697: 'gemstone',\n",
       " 698: 'call',\n",
       " 699: 'thats',\n",
       " 700: 'cotton',\n",
       " 701: 'continued',\n",
       " 702: 'choose',\n",
       " 703: 'uda',\n",
       " 704: 'wrna',\n",
       " 705: 'intact',\n",
       " 706: 'deliver',\n",
       " 707: 'promo',\n",
       " 708: 'useful',\n",
       " 709: 'mudah2an',\n",
       " 710: 'pesenan',\n",
       " 711: 'successful',\n",
       " 712: 'smpai',\n",
       " 713: 'relatively',\n",
       " 714: 'purple',\n",
       " 715: 'stain',\n",
       " 716: 'tetep',\n",
       " 717: 'woman',\n",
       " 718: 'thumbsupdarkskintone',\n",
       " 719: 'arriving',\n",
       " 720: 'till',\n",
       " 721: 'realpict',\n",
       " 722: 'disappointedface',\n",
       " 723: 'wide',\n",
       " 724: 'bnget',\n",
       " 725: 'morbidly',\n",
       " 726: 'sister',\n",
       " 727: 'find',\n",
       " 728: 'heavycheckmark',\n",
       " 729: 'blossom',\n",
       " 730: 'owner',\n",
       " 731: 'online',\n",
       " 732: 'successfully',\n",
       " 733: 'sukaa',\n",
       " 734: 'sock',\n",
       " 735: 'anything',\n",
       " 736: 'card',\n",
       " 737: 'hold',\n",
       " 738: 'morning',\n",
       " 739: 'parcel',\n",
       " 740: 'gini',\n",
       " 741: 'confusedface',\n",
       " 742: 'break',\n",
       " 743: 'important',\n",
       " 744: 'difference',\n",
       " 745: 'read',\n",
       " 746: 'skirt',\n",
       " 747: 'rubber',\n",
       " 748: 'smirkingface',\n",
       " 749: 'hrga',\n",
       " 750: 'mother',\n",
       " 751: 'left',\n",
       " 752: 'contact',\n",
       " 753: 'night',\n",
       " 754: 'frowningface',\n",
       " 755: 'weve',\n",
       " 756: 'rest',\n",
       " 757: 'general',\n",
       " 758: 'expect',\n",
       " 759: 'bless',\n",
       " 760: 'brush',\n",
       " 761: 'didnt',\n",
       " 762: 'lbh',\n",
       " 763: 'rainbow',\n",
       " 764: 'finished',\n",
       " 765: 'legit',\n",
       " 766: 'whereas',\n",
       " 767: 'transportation',\n",
       " 768: 'loss',\n",
       " 769: 'fragrant',\n",
       " 770: 'sweet',\n",
       " 771: 'sempet',\n",
       " 772: 'update',\n",
       " 773: 'watch',\n",
       " 774: 'round',\n",
       " 775: 'colour',\n",
       " 776: 'business',\n",
       " 777: 'test',\n",
       " 778: 'usually',\n",
       " 779: 'play',\n",
       " 780: 'pattern',\n",
       " 781: 'eye',\n",
       " 782: 'machine',\n",
       " 783: 'anymore',\n",
       " 784: 'oil',\n",
       " 785: 'continues',\n",
       " 786: 'rate',\n",
       " 787: 'clappinghandslightskintone',\n",
       " 788: 'murah',\n",
       " 789: 'told',\n",
       " 790: 'stitching',\n",
       " 791: 'extra',\n",
       " 792: 'upsidedownface',\n",
       " 793: 'perseveringface',\n",
       " 794: 'statement',\n",
       " 795: 'our',\n",
       " 796: 'lid',\n",
       " 797: 'either',\n",
       " 798: 'hell',\n",
       " 799: 'length',\n",
       " 800: 'company',\n",
       " 801: 'tomorrow',\n",
       " 802: 'cable',\n",
       " 803: 'lang',\n",
       " 804: 'below',\n",
       " 805: 'front',\n",
       " 806: 'smoothly',\n",
       " 807: 'sandal',\n",
       " 808: 'keren',\n",
       " 809: 'advice',\n",
       " 810: 'considered',\n",
       " 811: 'trs',\n",
       " 812: 'leg',\n",
       " 813: 'subsidy',\n",
       " 814: 'power',\n",
       " 815: 'expedition',\n",
       " 816: 'lip',\n",
       " 817: 'rekomended',\n",
       " 818: 'shown',\n",
       " 819: 'head',\n",
       " 820: 'gave',\n",
       " 821: 'abroad',\n",
       " 822: 'solid',\n",
       " 823: 'sgt',\n",
       " 824: 'brang',\n",
       " 825: 'sleepyface',\n",
       " 826: 'victoryhand',\n",
       " 827: 'aga',\n",
       " 828: 'sampenya',\n",
       " 829: 'added',\n",
       " 830: 'zipper',\n",
       " 831: 'motive',\n",
       " 832: 'express',\n",
       " 833: 'weight',\n",
       " 834: 'clean',\n",
       " 835: 'layer',\n",
       " 836: 'packet',\n",
       " 837: 'blackheart',\n",
       " 838: 'wish',\n",
       " 839: 'push',\n",
       " 840: 'true',\n",
       " 841: 'jga',\n",
       " 842: 'min',\n",
       " 843: 'willing',\n",
       " 844: 'actual',\n",
       " 845: 'edge',\n",
       " 846: 'double',\n",
       " 847: 'accordingly',\n",
       " 848: 'umpteenth',\n",
       " 849: 'fan',\n",
       " 850: 'increase',\n",
       " 851: 'kissmark',\n",
       " 852: 'functioning',\n",
       " 853: 'fall',\n",
       " 854: 'dlu',\n",
       " 855: 'heck',\n",
       " 856: 'reached',\n",
       " 857: 'guess',\n",
       " 858: 'fire',\n",
       " 859: 'able',\n",
       " 860: 'strap',\n",
       " 861: 'acceptable',\n",
       " 862: 'error',\n",
       " 863: 'charger',\n",
       " 864: 'cushioning',\n",
       " 865: 'terrible',\n",
       " 866: 'sticky',\n",
       " 867: 'nerawang',\n",
       " 868: 'care',\n",
       " 869: 'ring',\n",
       " 870: 'keeping',\n",
       " 871: 'kayak',\n",
       " 872: 'food',\n",
       " 873: 'distinguished',\n",
       " 874: 'bgs',\n",
       " 875: 'nicely',\n",
       " 876: 'under',\n",
       " 877: 'guy',\n",
       " 878: 'generally',\n",
       " 879: 'doang',\n",
       " 880: 'partypopper',\n",
       " 881: 'smallness',\n",
       " 882: 'receipt',\n",
       " 883: 'tested',\n",
       " 884: 'tape',\n",
       " 885: 'pleasant',\n",
       " 886: 'inexpensive',\n",
       " 887: 'sample',\n",
       " 888: 'wash',\n",
       " 889: 'regular',\n",
       " 890: 'overseas',\n",
       " 891: 'similar',\n",
       " 892: 'charging',\n",
       " 893: 'sewing',\n",
       " 894: 'name',\n",
       " 895: 'severe',\n",
       " 896: 'comment',\n",
       " 897: 'especially',\n",
       " 898: 'heat',\n",
       " 899: 'trust',\n",
       " 900: 'bigger',\n",
       " 901: 'period',\n",
       " 902: 'toy',\n",
       " 903: 'cust',\n",
       " 904: 'terbaik',\n",
       " 905: 'ordinary',\n",
       " 906: 'straight',\n",
       " 907: 'grimacingface',\n",
       " 908: 'improve',\n",
       " 909: 'packingan',\n",
       " 910: 'seal',\n",
       " 911: 'car',\n",
       " 912: 'correspond',\n",
       " 913: 'fake',\n",
       " 914: 'rough',\n",
       " 915: 'responsible',\n",
       " 916: 'boy',\n",
       " 917: 'abis',\n",
       " 918: 'bottom',\n",
       " 919: 'unlike',\n",
       " 920: 'life',\n",
       " 921: 'neutralface',\n",
       " 922: 'rapid',\n",
       " 923: 'kasih',\n",
       " 924: 'drawing',\n",
       " 925: 'commodity',\n",
       " 926: 'mmg',\n",
       " 927: 'perhaps',\n",
       " 928: 'pleadingface',\n",
       " 929: 'pocket',\n",
       " 930: 'flexedbiceps',\n",
       " 931: 'itself',\n",
       " 932: 'purchasing',\n",
       " 933: 'information',\n",
       " 934: 'dri',\n",
       " 935: 'thumbsupmediumskintone',\n",
       " 936: 'waste',\n",
       " 937: 'simple',\n",
       " 938: 'pen',\n",
       " 939: 'coin',\n",
       " 940: 'nyampenya',\n",
       " 941: 'angryface',\n",
       " 942: 'figure',\n",
       " 943: 'camera',\n",
       " 944: 'custom',\n",
       " 945: 'smua',\n",
       " 946: 'opportunity',\n",
       " 947: 'jne',\n",
       " 948: 'lost',\n",
       " 949: 'replaced',\n",
       " 950: 'oder',\n",
       " 951: 'gold',\n",
       " 952: 'matter',\n",
       " 953: 'crack',\n",
       " 954: 'improved',\n",
       " 955: 'indeed',\n",
       " 956: 'market',\n",
       " 957: 'mksih',\n",
       " 958: 'facewithsteamfromnose',\n",
       " 959: 'cat',\n",
       " 960: 'trying',\n",
       " 961: 'extremely',\n",
       " 962: 'run',\n",
       " 963: 'downcastfacewithsweat',\n",
       " 964: 'feeling',\n",
       " 965: 'offer',\n",
       " 966: 'cant',\n",
       " 967: 'drawn',\n",
       " 968: 'described',\n",
       " 969: 'demand',\n",
       " 970: 'cookay',\n",
       " 971: 'address',\n",
       " 972: 'untried',\n",
       " 973: 'heart',\n",
       " 974: 'postage',\n",
       " 975: 'arrival',\n",
       " 976: 'select',\n",
       " 977: 'convenient',\n",
       " 978: 'effective',\n",
       " 979: 'danger',\n",
       " 980: 'choice',\n",
       " 981: 'mcm',\n",
       " 982: 'patronize',\n",
       " 983: 'expired',\n",
       " 984: 'wow',\n",
       " 985: 'hibiscus',\n",
       " 986: 'completely',\n",
       " 987: 'early',\n",
       " 988: 'sealed',\n",
       " 989: 'doesnt',\n",
       " 990: 'orange',\n",
       " 991: 'wearyface',\n",
       " 992: 'facewithhandovermouth',\n",
       " 993: 'cap',\n",
       " 994: 'requested',\n",
       " 995: 'pound',\n",
       " 996: 'brng',\n",
       " 997: 'man',\n",
       " 998: 'attached',\n",
       " 999: 'stuck',\n",
       " 1000: 'press',\n",
       " ...}"
      ]
     },
     "execution_count": 17,
     "metadata": {},
     "output_type": "execute_result"
    }
   ],
   "source": [
    "# peak on the index for each vocab (words in corpus)\n",
    "tokenizer.index_word"
   ]
  },
  {
   "cell_type": "markdown",
   "metadata": {},
   "source": [
    "The X_train, X_test, and Xtest are now are list of *integer*, which the actual word is the corresponding *value* in the dictionary shown above.   \n",
    "Code cell below list its corresponding word from one of the list"
   ]
  },
  {
   "cell_type": "code",
   "execution_count": 19,
   "metadata": {},
   "outputs": [
    {
     "name": "stdout",
     "output_type": "stream",
     "text": [
      "244: see\n",
      "37: also\n",
      "281: sale\n",
      "1272: instant\n",
      "50: buy\n",
      "373: set\n",
      "16: fast\n",
      "6: delivery\n",
      "46: packaging\n",
      "203: certainly\n"
     ]
    }
   ],
   "source": [
    "# For example, can check out the sequence and its corresponding word\n",
    "for i in X_train[30]:\n",
    "    print(f\"{i}: {tokenizer.index_word[i]}\")"
   ]
  },
  {
   "cell_type": "markdown",
   "metadata": {},
   "source": [
    "**Padding**    \n",
    "Set maximum size of each list (i.e. length of each document) to 35.    \n",
    "In exploratory analysis, the average mean of reivew's length is 14-17 words. Review with more than 35 words only made up of about 6% of the train dataset. Thus, I chose 35 as the max size. \n",
    "\n",
    "In below code cell, list with size greater than 35 will be truncated to 35. For those less than 35 will add 0 at the end of the list untill it reaches length of 35."
   ]
  },
  {
   "cell_type": "code",
   "execution_count": 75,
   "metadata": {},
   "outputs": [],
   "source": [
    "# Adding 1 because of reserved 0 index\n",
    "vocab_size = len(tokenizer.word_index) + 1\n",
    "\n",
    "maxlen = 50  # 6% of review is >35 words\n",
    "\n",
    "X_train = pad_sequences(X_train, padding='post', maxlen = maxlen)\n",
    "X_test = pad_sequences(X_test, padding='post', maxlen = maxlen)\n",
    "Xtest = pad_sequences(Xtest, padding = 'post', maxlen = maxlen)"
   ]
  },
  {
   "cell_type": "code",
   "execution_count": 76,
   "metadata": {},
   "outputs": [
    {
     "name": "stdout",
     "output_type": "stream",
     "text": [
      " Corpus is now has 51826 unique words\n"
     ]
    }
   ],
   "source": [
    "print(f\" Corpus is now has {vocab_size} unique words\")"
   ]
  },
  {
   "cell_type": "code",
   "execution_count": 77,
   "metadata": {},
   "outputs": [
    {
     "data": {
      "text/plain": [
       "(117405, 50)"
      ]
     },
     "execution_count": 77,
     "metadata": {},
     "output_type": "execute_result"
    }
   ],
   "source": [
    "X_train.shape"
   ]
  },
  {
   "cell_type": "markdown",
   "metadata": {},
   "source": [
    "### Create the LSTM Network\n",
    "- embed_dim, lstm_out/ neurons, dropout values are all hyperparameter that can be tuned for better results"
   ]
  },
  {
   "cell_type": "code",
   "execution_count": 80,
   "metadata": {},
   "outputs": [
    {
     "name": "stdout",
     "output_type": "stream",
     "text": [
      "Model: \"sequential_10\"\n",
      "_________________________________________________________________\n",
      "Layer (type)                 Output Shape              Param #   \n",
      "=================================================================\n",
      "embedding_10 (Embedding)     (None, 50, 64)            3316864   \n",
      "_________________________________________________________________\n",
      "spatial_dropout1d_10 (Spatia (None, 50, 64)            0         \n",
      "_________________________________________________________________\n",
      "lstm_11 (LSTM)               (None, 128)               98816     \n",
      "_________________________________________________________________\n",
      "dense_10 (Dense)             (None, 5)                 645       \n",
      "=================================================================\n",
      "Total params: 3,416,325\n",
      "Trainable params: 3,416,325\n",
      "Non-trainable params: 0\n",
      "_________________________________________________________________\n",
      "None\n"
     ]
    }
   ],
   "source": [
    "embed_dim = 64\n",
    "neurons_1 = 64*2\n",
    "neurons_2 = 64 #64\n",
    "\n",
    "model = Sequential()\n",
    "# Turns positive integers into dense vectors of fixed size\n",
    "# This layer can only be used as the first layer in a model\n",
    "embedding_layer = Embedding(input_dim = vocab_size, output_dim = embed_dim, \n",
    "                            input_length=X_train.shape[1])\n",
    "model.add(embedding_layer)\n",
    "model.add(SpatialDropout1D(0.5))\n",
    "\n",
    "# neurons (lstm_out) is typically multiple of the embed_dim\n",
    "model.add(LSTM(neurons_1, dropout=0.5, recurrent_dropout=0.5))\n",
    "#model.add(LSTM(neurons_1, dropout=0.2, recurrent_dropout=0.2, return_sequences=True))\n",
    "#model.add(LSTM(neurons_2, dropout=0.5))\n",
    "\n",
    "# output layer, softmax is used as this is using categorical crossentropy\n",
    "model.add(Dense(5, activation='softmax'))\n",
    "\n",
    "# add optimizer\n",
    "#Ad = optimizers.Adam(learning_rate = 0.001)\n",
    "\n",
    "# model compilation\n",
    "model.compile(loss = 'categorical_crossentropy', optimizer = 'adam', \n",
    "              metrics = ['accuracy'])\n",
    "\n",
    "print(model.summary())"
   ]
  },
  {
   "cell_type": "markdown",
   "metadata": {},
   "source": [
    "### Fit model"
   ]
  },
  {
   "cell_type": "code",
   "execution_count": null,
   "metadata": {},
   "outputs": [
    {
     "name": "stdout",
     "output_type": "stream",
     "text": [
      "Train on 117405 samples, validate on 29352 samples\n",
      "Epoch 1/12\n",
      " - 200s - loss: 1.5063 - accuracy: 0.2831 - val_loss: 1.5027 - val_accuracy: 0.2828\n",
      "Epoch 2/12\n",
      " - 198s - loss: 1.5038 - accuracy: 0.2826 - val_loss: 1.5036 - val_accuracy: 0.2828\n",
      "Epoch 3/12\n",
      " - 197s - loss: 1.5034 - accuracy: 0.2838 - val_loss: 1.5026 - val_accuracy: 0.2828\n",
      "Epoch 4/12\n"
     ]
    }
   ],
   "source": [
    "history = model.fit(X_train, y_train, batch_size=128, epochs =12, verbose =2,\n",
    "                    validation_data = (X_test, y_test), class_weight=class_weights)"
   ]
  },
  {
   "cell_type": "markdown",
   "metadata": {},
   "source": [
    "# 6 Model Evaluation"
   ]
  },
  {
   "cell_type": "markdown",
   "metadata": {},
   "source": [
    "### Loss and accuracy score of train & validation data"
   ]
  },
  {
   "cell_type": "code",
   "execution_count": 37,
   "metadata": {},
   "outputs": [],
   "source": [
    "### Define Loss and Accuracy plot function\n",
    "def loss_acc_plot(historyname, epochs_num, title):\n",
    "    \"\"\"\n",
    "    Input: history, number of epochs, and title of the plot\n",
    "    This function plot the loss and accuracy curve of both the train & validation data\n",
    "    of each epochs\n",
    "    \"\"\"\n",
    "    fig, (ax1,ax2) = plt.subplots(nrows = 2, sharex = True, figsize=(12,10));\n",
    "    # Loss plot\n",
    "    ax1.plot(historyname.history['loss'], 'r', label = 'Train Loss')\n",
    "    ax1.plot(historyname.history['val_loss'], 'b', label = 'Test Loss')\n",
    "    ax1.legend(loc =1)\n",
    "    ax1.set_ylabel('Crossentropy Loss', fontsize = 14)\n",
    "    ax1.set_ylim(0,3)\n",
    "    ax1.set_title(title +\" \"+ 'Loss Curve', fontsize = 18)\n",
    "    \n",
    "    # Accuracy plot\n",
    "    ax2.plot(historyname.history['accuracy'], 'r', label = 'Train Accuracy')\n",
    "    ax2.plot(historyname.history['val_accuracy'], 'b', label = 'Test Accuracy')\n",
    "    ax2.legend(loc =2)\n",
    "    ax2.set_ylabel('Accuracy', fontsize =14)\n",
    "    ax2.set_xlabel('Epoch', fontsize=14)\n",
    "    ax2.set_ylim(0,1)\n",
    "    plt.xlabel('Epochs', fontsize = 14)\n",
    "    plt.xticks(np.arange(0,epochs_num+1,10))\n",
    "    ax2.set_title(title +\" \" +'Accuracy Curve', fontsize =18)\n",
    "    "
   ]
  },
  {
   "cell_type": "markdown",
   "metadata": {},
   "source": [
    "To evaluate the performance of the model, can pass the test set to the `.evaluate()` method"
   ]
  },
  {
   "cell_type": "code",
   "execution_count": 38,
   "metadata": {},
   "outputs": [],
   "source": [
    "### Function to evaluate the model by calculating the loss and accuracy score\n",
    "def xtest_loss_acc(modelname, X_test, y_test):\n",
    "    \"\"\"\n",
    "    Input: model, X_test, y_test\n",
    "    This function evaluate the model and print the loss and accuracy score\n",
    "    \"\"\"\n",
    "    \n",
    "    model_score = modelname.evaluate(X_test, y_test, verbose =2)\n",
    "    model_labels = modelname.metrics_names\n",
    "    \n",
    "    print(f\"LSTM {model_labels[0]}: {round(model_score[0] ,3)}\")\n",
    "    print(f\"LSTM {model_labels[1]}: {round(model_score[1] ,3)}\")"
   ]
  },
  {
   "cell_type": "code",
   "execution_count": 58,
   "metadata": {},
   "outputs": [
    {
     "data": {
      "image/png": "[encoded data removed]",
      "text/plain": [
       "<Figure size 864x720 with 2 Axes>"
      ]
     },
     "metadata": {
      "needs_background": "light"
     },
     "output_type": "display_data"
    }
   ],
   "source": [
    "### Plot Loss & Accuracy curve\n",
    "loss_acc_plot(history, 5, 'LSTM')"
   ]
  },
  {
   "cell_type": "code",
   "execution_count": 257,
   "metadata": {},
   "outputs": [
    {
     "data": {
      "image/png": "[encoded data removed]",
      "text/plain": [
       "<Figure size 864x720 with 2 Axes>"
      ]
     },
     "metadata": {
      "needs_background": "light"
     },
     "output_type": "display_data"
    }
   ],
   "source": [
    "### Plot Loss & Accuracy curve\n",
    "loss_acc_plot(history, 12, 'LSTM')"
   ]
  },
  {
   "cell_type": "code",
   "execution_count": 59,
   "metadata": {},
   "outputs": [
    {
     "name": "stdout",
     "output_type": "stream",
     "text": [
      "LSTM loss: 1.068\n",
      "LSTM accuracy: 0.484\n"
     ]
    }
   ],
   "source": [
    "xtest_loss_acc(model, X_test, y_test)"
   ]
  },
  {
   "cell_type": "code",
   "execution_count": 258,
   "metadata": {},
   "outputs": [
    {
     "name": "stdout",
     "output_type": "stream",
     "text": [
      "LSTM loss: 1.065\n",
      "LSTM accuracy: 0.481\n"
     ]
    }
   ],
   "source": [
    "xtest_loss_acc(model, X_test, y_test)"
   ]
  },
  {
   "cell_type": "markdown",
   "metadata": {},
   "source": [
    "### Classification report and confusion matrix"
   ]
  },
  {
   "cell_type": "code",
   "execution_count": 42,
   "metadata": {},
   "outputs": [],
   "source": [
    "def class_report(modelname, X_test, y_test):\n",
    "    \"\"\"\n",
    "    Input: model, X_test, y_test\n",
    "    This function use the model to predict the rating form X_test (ypred)\n",
    "    print the classification based on y_test (i.e. y_true) and ypred\n",
    "    and return y_true, and ypred\n",
    "    \"\"\"\n",
    "    \n",
    "    ### predict the X_test\n",
    "    ypred = modelname.predict_classes(X_test)+1. #rating start from 1 to 5\n",
    "    \n",
    "    y_true = [np.argmax(y)+1 for y in y_test]\n",
    "    \n",
    "    print(classification_report(y_true, ypred))\n",
    "    return y_true, ypred"
   ]
  },
  {
   "cell_type": "code",
   "execution_count": 43,
   "metadata": {},
   "outputs": [],
   "source": [
    "def plot_confusion_matrix(cm, classes,\n",
    "                          title='Confusion matrix',\n",
    "                          cmap=plt.cm.Blues):\n",
    "    \"\"\"\n",
    "    Input: confusion_matrix, classes (or the y-label)\n",
    "    This function plots the confusion matrix.\n",
    "    \"\"\"\n",
    "    plt.figure(figsize=(7, 7))\n",
    "    plt.imshow(cm, interpolation='nearest', cmap=cmap)\n",
    "    plt.title(title, fontsize=16)\n",
    "    tick_marks = np.arange(len(classes))\n",
    "    plt.xticks(tick_marks, classes, rotation=0, fontsize=12)\n",
    "    plt.yticks(tick_marks, classes, fontsize=12)\n",
    "    \n",
    "    fmt = '.2f'\n",
    "    thresh = cm.max() / 2.\n",
    "    for i, j in itertools.product(range(cm.shape[0]), range(cm.shape[1])):\n",
    "        plt.text(j, i, format(cm[i, j], fmt),\n",
    "                 horizontalalignment=\"center\",\n",
    "                 color=\"white\" if cm[i, j] > thresh else \"black\")\n",
    "\n",
    "    plt.ylabel('True label', fontsize=14)\n",
    "    plt.xlabel('Predicted label', fontsize=14)\n",
    "    plt.tight_layout()\n",
    "\n",
    "    plt.show()"
   ]
  },
  {
   "cell_type": "code",
   "execution_count": 44,
   "metadata": {},
   "outputs": [],
   "source": [
    "def conf_matrix_pct(cm):\n",
    "    \n",
    "    \"\"\"\n",
    "    Input: confusion matrix\n",
    "    This function print out the confusion matrix and\n",
    "    call the plot_confusion_matrix() function to \n",
    "    plot the cm in percentage, diagonal is the recall for each classes\n",
    "    \"\"\"\n",
    "    # convert to percentage and plot the confusion matrix\n",
    "    cm_pct = cm.astype(float) / cm.sum(axis = 1)[:,np.newaxis]\n",
    "    \n",
    "    classes = set(y_true)\n",
    "    print(\"Confusion matrix:\")\n",
    "    print(cm)\n",
    "    plot_confusion_matrix(cm_pct, classes)"
   ]
  },
  {
   "cell_type": "code",
   "execution_count": 60,
   "metadata": {},
   "outputs": [
    {
     "name": "stdout",
     "output_type": "stream",
     "text": [
      "              precision    recall  f1-score   support\n",
      "\n",
      "           1       0.60      0.71      0.65      2956\n",
      "           2       0.48      0.29      0.36      2540\n",
      "           3       0.54      0.62      0.58      7185\n",
      "           4       0.38      0.26      0.30      8370\n",
      "           5       0.46      0.57      0.51      8301\n",
      "\n",
      "    accuracy                           0.48     29352\n",
      "   macro avg       0.49      0.49      0.48     29352\n",
      "weighted avg       0.47      0.48      0.47     29352\n",
      "\n"
     ]
    }
   ],
   "source": [
    "y_true, ypred = class_report(model, X_test, y_test)"
   ]
  },
  {
   "cell_type": "code",
   "execution_count": 242,
   "metadata": {},
   "outputs": [
    {
     "name": "stdout",
     "output_type": "stream",
     "text": [
      "              precision    recall  f1-score   support\n",
      "\n",
      "           1       0.61      0.69      0.64      2957\n",
      "           2       0.44      0.29      0.35      2541\n",
      "           3       0.55      0.59      0.57      7189\n",
      "           4       0.44      0.21      0.28      8373\n",
      "           5       0.42      0.65      0.51      8303\n",
      "\n",
      "    accuracy                           0.48     29363\n",
      "   macro avg       0.49      0.48      0.47     29363\n",
      "weighted avg       0.48      0.48      0.46     29363\n",
      "\n"
     ]
    }
   ],
   "source": [
    "#submission 3\n",
    "y_true, ypred = class_report(model, X_test, y_test)"
   ]
  },
  {
   "cell_type": "code",
   "execution_count": 61,
   "metadata": {},
   "outputs": [
    {
     "name": "stdout",
     "output_type": "stream",
     "text": [
      "Confusion matrix:\n",
      "[[2112  260  447   86   51]\n",
      " [ 641  744  899  167   89]\n",
      " [ 467  412 4467 1153  686]\n",
      " [ 157   64 1213 2139 4797]\n",
      " [ 149   61 1203 2150 4738]]\n"
     ]
    },
    {
     "data": {
      "image/png": "[encoded data removed]",
      "text/plain": [
       "<Figure size 504x504 with 1 Axes>"
      ]
     },
     "metadata": {
      "needs_background": "light"
     },
     "output_type": "display_data"
    }
   ],
   "source": [
    "conf_matrix_pct(confusion_matrix(y_true, ypred))"
   ]
  },
  {
   "cell_type": "code",
   "execution_count": 248,
   "metadata": {},
   "outputs": [
    {
     "name": "stdout",
     "output_type": "stream",
     "text": [
      "Confusion matrix:\n",
      "[[2031  297  443   90   96]\n",
      " [ 612  725  901  101  202]\n",
      " [ 432  424 4263  379 1691]\n",
      " [ 135  101 1088 1725 5324]\n",
      " [ 134   95 1063 1652 5359]]\n"
     ]
    },
    {
     "data": {
      "image/png": "[encoded data removed]",
      "text/plain": [
       "<Figure size 504x504 with 1 Axes>"
      ]
     },
     "metadata": {
      "needs_background": "light"
     },
     "output_type": "display_data"
    }
   ],
   "source": [
    "#submission 3\n",
    "conf_matrix_pct(confusion_matrix(y_true, ypred))"
   ]
  },
  {
   "cell_type": "markdown",
   "metadata": {},
   "source": [
    "## Predict test dataset "
   ]
  },
  {
   "cell_type": "code",
   "execution_count": 62,
   "metadata": {},
   "outputs": [],
   "source": [
    "testpred = model.predict_classes(Xtest)+1"
   ]
  },
  {
   "cell_type": "code",
   "execution_count": 63,
   "metadata": {},
   "outputs": [
    {
     "data": {
      "text/html": [
       "<div>\n",
       "<style scoped>\n",
       "    .dataframe tbody tr th:only-of-type {\n",
       "        vertical-align: middle;\n",
       "    }\n",
       "\n",
       "    .dataframe tbody tr th {\n",
       "        vertical-align: top;\n",
       "    }\n",
       "\n",
       "    .dataframe thead th {\n",
       "        text-align: right;\n",
       "    }\n",
       "</style>\n",
       "<table border=\"1\" class=\"dataframe\">\n",
       "  <thead>\n",
       "    <tr style=\"text-align: right;\">\n",
       "      <th></th>\n",
       "      <th>review_id</th>\n",
       "      <th>review</th>\n",
       "      <th>clean_review</th>\n",
       "      <th>rating</th>\n",
       "    </tr>\n",
       "  </thead>\n",
       "  <tbody>\n",
       "    <tr>\n",
       "      <th>0</th>\n",
       "      <td>1</td>\n",
       "      <td>Great danger, cool, motif and cantik2 jg model...</td>\n",
       "      <td>great danger cool motif and cantik2 model deli...</td>\n",
       "      <td>4</td>\n",
       "    </tr>\n",
       "    <tr>\n",
       "      <th>1</th>\n",
       "      <td>2</td>\n",
       "      <td>One of the shades don't fit well</td>\n",
       "      <td>one the shade dont fit well</td>\n",
       "      <td>3</td>\n",
       "    </tr>\n",
       "    <tr>\n",
       "      <th>2</th>\n",
       "      <td>3</td>\n",
       "      <td>Very comfortable</td>\n",
       "      <td>very comfortable</td>\n",
       "      <td>4</td>\n",
       "    </tr>\n",
       "    <tr>\n",
       "      <th>3</th>\n",
       "      <td>4</td>\n",
       "      <td>Fast delivery. Product expiry is on Dec 2022. ...</td>\n",
       "      <td>fast delivery product expiry dec 2022 product ...</td>\n",
       "      <td>5</td>\n",
       "    </tr>\n",
       "    <tr>\n",
       "      <th>4</th>\n",
       "      <td>5</td>\n",
       "      <td>it's sooooo cute! i like playing with the glit...</td>\n",
       "      <td>it cute like playing with the glitter better t...</td>\n",
       "      <td>4</td>\n",
       "    </tr>\n",
       "  </tbody>\n",
       "</table>\n",
       "</div>"
      ],
      "text/plain": [
       "   review_id                                             review  \\\n",
       "0          1  Great danger, cool, motif and cantik2 jg model...   \n",
       "1          2                   One of the shades don't fit well   \n",
       "2          3                                   Very comfortable   \n",
       "3          4  Fast delivery. Product expiry is on Dec 2022. ...   \n",
       "4          5  it's sooooo cute! i like playing with the glit...   \n",
       "\n",
       "                                        clean_review  rating  \n",
       "0  great danger cool motif and cantik2 model deli...       4  \n",
       "1                        one the shade dont fit well       3  \n",
       "2                                   very comfortable       4  \n",
       "3  fast delivery product expiry dec 2022 product ...       5  \n",
       "4  it cute like playing with the glitter better t...       4  "
      ]
     },
     "execution_count": 63,
     "metadata": {},
     "output_type": "execute_result"
    }
   ],
   "source": [
    "test['rating'] = testpred\n",
    "test.head()"
   ]
  },
  {
   "cell_type": "code",
   "execution_count": 64,
   "metadata": {},
   "outputs": [],
   "source": [
    "# 1st submission, score: 0.36409\n",
    "# 2nd submission using LogisticRegression, socre: 0.36784\n",
    "# 3rd submission using LSTM, score: 0.39\n",
    "# 4th submission using LSTM (stopwords on malay only), score = 0.3\n",
    "test[['review_id','rating']].to_csv('./data/submission6.csv', index = False)"
   ]
  },
  {
   "cell_type": "markdown",
   "metadata": {},
   "source": [
    "# References\n",
    "1. [Text Processing, Augmentation, TPU baseline 0.4544](https://www.kaggle.com/indralin/text-processing-augmentation-tpu-baseline-0-4544)\n",
    "2. [LSTM Sentiment Analysis | Keras](https://www.kaggle.com/ngyptr/lstm-sentiment-analysis-keras)\n",
    "3. [Python for NLP: Movie Sentiment Analysis using Deep Learning in Keras](https://stackabuse.com/python-for-nlp-movie-sentiment-analysis-using-deep-learning-in-keras/)\n",
    "4. [Imbalanced Data : How to handle Imbalanced Classification Problems](https://www.analyticsvidhya.com/blog/2017/03/imbalanced-data-classification/)"
   ]
  }
 ],
 "metadata": {
  "kernelspec": {
   "display_name": "Python 3",
   "language": "python",
   "name": "python3"
  },
  "language_info": {
   "codemirror_mode": {
    "name": "ipython",
    "version": 3
   },
   "file_extension": ".py",
   "mimetype": "text/x-python",
   "name": "python",
   "nbconvert_exporter": "python",
   "pygments_lexer": "ipython3",
   "version": "3.7.4"
  }
 },
 "nbformat": 4,
 "nbformat_minor": 2
}
