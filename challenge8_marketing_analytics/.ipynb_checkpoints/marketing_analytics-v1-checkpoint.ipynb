{
 "cells": [
  {
   "cell_type": "markdown",
   "metadata": {},
   "source": [
    "# Shopee Code League - Marketing Analytics\n",
    "Email campaign analyis"
   ]
  },
  {
   "cell_type": "markdown",
   "metadata": {},
   "source": [
    "<a id='intro'></a>\n",
    "## 1 Introduction\n",
    "\n",
    "> The aim of this project is to build a model that can predict whether a user opens the emails sent by Shopee.   \n",
    "> **Task**   \n",
    "> Data related to marketing emails that were sent to Shopee users over a certain period. It contains information about:\n",
    "> - User-specific information\n",
    "> - Email nature\n",
    ">- User's reaction to the email, including whether users opened the email    \n",
    "Based on the data provided, you must predict wheter each user will open an email sent to him/ her.\n",
    ">\n",
    "> **Questions:** \n",
    "> - Is specific user demographics (country, age) prompt to open email?\n",
    "> - What user behavior prompt to has higher open email rate (frequency of open email, check-in, purchase)\n",
    "> - Typically, ratio of logout/login, and any correlation with opening the email?\n",
    "> - Is sending email increase the chance of user login + checout? behavior (checkin to checkout date, open email before or after)?\n",
    "> - any impact on the subject line length\n",
    "\n",
    "\n",
    "[kaggle link](https://www.kaggle.com/c/open-shopee-code-league-marketing-analytics/data)"
   ]
  },
  {
   "cell_type": "code",
   "execution_count": 1,
   "metadata": {},
   "outputs": [
    {
     "name": "stderr",
     "output_type": "stream",
     "text": [
      "/opt/anaconda3/lib/python3.7/site-packages/statsmodels/tools/_testing.py:19: FutureWarning: pandas.util.testing is deprecated. Use the functions in the public API at pandas.testing instead.\n",
      "  import pandas.util.testing as tm\n"
     ]
    }
   ],
   "source": [
    "# Import libraries\n",
    "import pandas as pd\n",
    "import numpy as np\n",
    "\n",
    "import matplotlib.pyplot as plt\n",
    "import seaborn as sns\n",
    "%matplotlib inline"
   ]
  },
  {
   "cell_type": "markdown",
   "metadata": {},
   "source": [
    "<a id='wrangling'></a>\n",
    "## 2 Data Wrangling\n",
    "\n",
    "> Data was loaded and inspected, check for data type, missing values, ambiguity data, and then trim, clean, engineer th"
   ]
  },
  {
   "cell_type": "markdown",
   "metadata": {},
   "source": [
    "### 2.1 General properties"
   ]
  },
  {
   "cell_type": "code",
   "execution_count": 2,
   "metadata": {},
   "outputs": [
    {
     "data": {
      "text/html": [
       "<div>\n",
       "<style scoped>\n",
       "    .dataframe tbody tr th:only-of-type {\n",
       "        vertical-align: middle;\n",
       "    }\n",
       "\n",
       "    .dataframe tbody tr th {\n",
       "        vertical-align: top;\n",
       "    }\n",
       "\n",
       "    .dataframe thead th {\n",
       "        text-align: right;\n",
       "    }\n",
       "</style>\n",
       "<table border=\"1\" class=\"dataframe\">\n",
       "  <thead>\n",
       "    <tr style=\"text-align: right;\">\n",
       "      <th></th>\n",
       "      <th>country_code</th>\n",
       "      <th>grass_date</th>\n",
       "      <th>user_id</th>\n",
       "      <th>subject_line_length</th>\n",
       "      <th>last_open_day</th>\n",
       "      <th>last_login_day</th>\n",
       "      <th>last_checkout_day</th>\n",
       "      <th>open_count_last_10_days</th>\n",
       "      <th>open_count_last_30_days</th>\n",
       "      <th>open_count_last_60_days</th>\n",
       "      <th>login_count_last_10_days</th>\n",
       "      <th>login_count_last_30_days</th>\n",
       "      <th>login_count_last_60_days</th>\n",
       "      <th>checkout_count_last_10_days</th>\n",
       "      <th>checkout_count_last_30_days</th>\n",
       "      <th>checkout_count_last_60_days</th>\n",
       "      <th>open_flag</th>\n",
       "      <th>row_id</th>\n",
       "    </tr>\n",
       "  </thead>\n",
       "  <tbody>\n",
       "    <tr>\n",
       "      <th>0</th>\n",
       "      <td>4</td>\n",
       "      <td>2019-07-16 00:00:00+08:00</td>\n",
       "      <td>43</td>\n",
       "      <td>44</td>\n",
       "      <td>19</td>\n",
       "      <td>6</td>\n",
       "      <td>18</td>\n",
       "      <td>0</td>\n",
       "      <td>2</td>\n",
       "      <td>4</td>\n",
       "      <td>12</td>\n",
       "      <td>43</td>\n",
       "      <td>99</td>\n",
       "      <td>0</td>\n",
       "      <td>5</td>\n",
       "      <td>10</td>\n",
       "      <td>0</td>\n",
       "      <td>0</td>\n",
       "    </tr>\n",
       "    <tr>\n",
       "      <th>1</th>\n",
       "      <td>4</td>\n",
       "      <td>2019-07-16 00:00:00+08:00</td>\n",
       "      <td>102</td>\n",
       "      <td>44</td>\n",
       "      <td>9</td>\n",
       "      <td>4</td>\n",
       "      <td>8</td>\n",
       "      <td>2</td>\n",
       "      <td>9</td>\n",
       "      <td>17</td>\n",
       "      <td>18</td>\n",
       "      <td>48</td>\n",
       "      <td>90</td>\n",
       "      <td>1</td>\n",
       "      <td>1</td>\n",
       "      <td>4</td>\n",
       "      <td>1</td>\n",
       "      <td>1</td>\n",
       "    </tr>\n",
       "    <tr>\n",
       "      <th>2</th>\n",
       "      <td>6</td>\n",
       "      <td>2019-07-16 00:00:00+08:00</td>\n",
       "      <td>177</td>\n",
       "      <td>49</td>\n",
       "      <td>14</td>\n",
       "      <td>5</td>\n",
       "      <td>5</td>\n",
       "      <td>0</td>\n",
       "      <td>4</td>\n",
       "      <td>12</td>\n",
       "      <td>24</td>\n",
       "      <td>69</td>\n",
       "      <td>119</td>\n",
       "      <td>5</td>\n",
       "      <td>19</td>\n",
       "      <td>27</td>\n",
       "      <td>0</td>\n",
       "      <td>2</td>\n",
       "    </tr>\n",
       "    <tr>\n",
       "      <th>3</th>\n",
       "      <td>1</td>\n",
       "      <td>2019-07-16 00:00:00+08:00</td>\n",
       "      <td>184</td>\n",
       "      <td>49</td>\n",
       "      <td>49</td>\n",
       "      <td>9</td>\n",
       "      <td>53</td>\n",
       "      <td>0</td>\n",
       "      <td>0</td>\n",
       "      <td>1</td>\n",
       "      <td>9</td>\n",
       "      <td>23</td>\n",
       "      <td>69</td>\n",
       "      <td>1</td>\n",
       "      <td>3</td>\n",
       "      <td>6</td>\n",
       "      <td>0</td>\n",
       "      <td>3</td>\n",
       "    </tr>\n",
       "    <tr>\n",
       "      <th>4</th>\n",
       "      <td>6</td>\n",
       "      <td>2019-07-16 00:00:00+08:00</td>\n",
       "      <td>221</td>\n",
       "      <td>49</td>\n",
       "      <td>227</td>\n",
       "      <td>6</td>\n",
       "      <td>221</td>\n",
       "      <td>0</td>\n",
       "      <td>0</td>\n",
       "      <td>0</td>\n",
       "      <td>2</td>\n",
       "      <td>5</td>\n",
       "      <td>5</td>\n",
       "      <td>0</td>\n",
       "      <td>0</td>\n",
       "      <td>0</td>\n",
       "      <td>0</td>\n",
       "      <td>4</td>\n",
       "    </tr>\n",
       "  </tbody>\n",
       "</table>\n",
       "</div>"
      ],
      "text/plain": [
       "   country_code                 grass_date  user_id  subject_line_length  \\\n",
       "0             4  2019-07-16 00:00:00+08:00       43                   44   \n",
       "1             4  2019-07-16 00:00:00+08:00      102                   44   \n",
       "2             6  2019-07-16 00:00:00+08:00      177                   49   \n",
       "3             1  2019-07-16 00:00:00+08:00      184                   49   \n",
       "4             6  2019-07-16 00:00:00+08:00      221                   49   \n",
       "\n",
       "  last_open_day last_login_day last_checkout_day  open_count_last_10_days  \\\n",
       "0            19              6                18                        0   \n",
       "1             9              4                 8                        2   \n",
       "2            14              5                 5                        0   \n",
       "3            49              9                53                        0   \n",
       "4           227              6               221                        0   \n",
       "\n",
       "   open_count_last_30_days  open_count_last_60_days  login_count_last_10_days  \\\n",
       "0                        2                        4                        12   \n",
       "1                        9                       17                        18   \n",
       "2                        4                       12                        24   \n",
       "3                        0                        1                         9   \n",
       "4                        0                        0                         2   \n",
       "\n",
       "   login_count_last_30_days  login_count_last_60_days  \\\n",
       "0                        43                        99   \n",
       "1                        48                        90   \n",
       "2                        69                       119   \n",
       "3                        23                        69   \n",
       "4                         5                         5   \n",
       "\n",
       "   checkout_count_last_10_days  checkout_count_last_30_days  \\\n",
       "0                            0                            5   \n",
       "1                            1                            1   \n",
       "2                            5                           19   \n",
       "3                            1                            3   \n",
       "4                            0                            0   \n",
       "\n",
       "   checkout_count_last_60_days  open_flag  row_id  \n",
       "0                           10          0       0  \n",
       "1                            4          1       1  \n",
       "2                           27          0       2  \n",
       "3                            6          0       3  \n",
       "4                            0          0       4  "
      ]
     },
     "execution_count": 2,
     "metadata": {},
     "output_type": "execute_result"
    }
   ],
   "source": [
    "# train dataset\n",
    "df = pd.read_csv('./data/train.csv')\n",
    "\n",
    "# test dataset\n",
    "test = pd.read_csv('./data/test.csv')\n",
    "df.head()"
   ]
  },
  {
   "cell_type": "markdown",
   "metadata": {},
   "source": [
    "### Data dictionary   \n",
    "|**No**| **Colume's name** |**Descriptions**|\n",
    "|:----:|:------------------|:---------------|\n",
    "|01|country_code|An integer code for the country where the user lives.|\n",
    "|02|grass_date|The date when the email was sent.|\n",
    "|03|user_id|the unique identifier of each user.|\n",
    "|04|subject_line_length|the number of characters in the subject of the email|\n",
    "|05|last_open_day|How many days ago was the last time the user opened an email|\n",
    "|06|last_login_day|How many days ago the user last logged in its Shopee account|\n",
    "|07|last_checkout_day|How many days ago the user last purchased on Shopee|\n",
    "|08|open_count_last_N_days|the total number of email opens in the last N days. N=10,30,60|\n",
    "|09|login_count_last_N_days|the total number of user logins in the last N days. N=10,30,60|\n",
    "|10|checkout_count_last_N_days|the total number of checkouts (=purchases) by the user in the last N days. N=10,30,60|\n",
    "|11|open_flag|the target variable. Whether or not the email was opened.|"
   ]
  },
  {
   "cell_type": "code",
   "execution_count": 3,
   "metadata": {},
   "outputs": [
    {
     "data": {
      "text/html": [
       "<div>\n",
       "<style scoped>\n",
       "    .dataframe tbody tr th:only-of-type {\n",
       "        vertical-align: middle;\n",
       "    }\n",
       "\n",
       "    .dataframe tbody tr th {\n",
       "        vertical-align: top;\n",
       "    }\n",
       "\n",
       "    .dataframe thead th {\n",
       "        text-align: right;\n",
       "    }\n",
       "</style>\n",
       "<table border=\"1\" class=\"dataframe\">\n",
       "  <thead>\n",
       "    <tr style=\"text-align: right;\">\n",
       "      <th></th>\n",
       "      <th>user_id</th>\n",
       "      <th>attr_1</th>\n",
       "      <th>attr_2</th>\n",
       "      <th>attr_3</th>\n",
       "      <th>age</th>\n",
       "      <th>domain</th>\n",
       "    </tr>\n",
       "  </thead>\n",
       "  <tbody>\n",
       "    <tr>\n",
       "      <th>0</th>\n",
       "      <td>0</td>\n",
       "      <td>NaN</td>\n",
       "      <td>1.0</td>\n",
       "      <td>0.0</td>\n",
       "      <td>NaN</td>\n",
       "      <td>@gmail.com</td>\n",
       "    </tr>\n",
       "    <tr>\n",
       "      <th>1</th>\n",
       "      <td>1</td>\n",
       "      <td>1.0</td>\n",
       "      <td>1.0</td>\n",
       "      <td>2.0</td>\n",
       "      <td>50.0</td>\n",
       "      <td>@gmail.com</td>\n",
       "    </tr>\n",
       "    <tr>\n",
       "      <th>2</th>\n",
       "      <td>2</td>\n",
       "      <td>NaN</td>\n",
       "      <td>1.0</td>\n",
       "      <td>0.0</td>\n",
       "      <td>NaN</td>\n",
       "      <td>other</td>\n",
       "    </tr>\n",
       "    <tr>\n",
       "      <th>3</th>\n",
       "      <td>3</td>\n",
       "      <td>NaN</td>\n",
       "      <td>1.0</td>\n",
       "      <td>0.0</td>\n",
       "      <td>NaN</td>\n",
       "      <td>@gmail.com</td>\n",
       "    </tr>\n",
       "    <tr>\n",
       "      <th>4</th>\n",
       "      <td>4</td>\n",
       "      <td>1.0</td>\n",
       "      <td>1.0</td>\n",
       "      <td>2.0</td>\n",
       "      <td>33.0</td>\n",
       "      <td>@gmail.com</td>\n",
       "    </tr>\n",
       "  </tbody>\n",
       "</table>\n",
       "</div>"
      ],
      "text/plain": [
       "   user_id  attr_1  attr_2  attr_3   age      domain\n",
       "0        0     NaN     1.0     0.0   NaN  @gmail.com\n",
       "1        1     1.0     1.0     2.0  50.0  @gmail.com\n",
       "2        2     NaN     1.0     0.0   NaN       other\n",
       "3        3     NaN     1.0     0.0   NaN  @gmail.com\n",
       "4        4     1.0     1.0     2.0  33.0  @gmail.com"
      ]
     },
     "execution_count": 3,
     "metadata": {},
     "output_type": "execute_result"
    }
   ],
   "source": [
    "# user dataset\n",
    "# empty values are simply unknown\n",
    "user = pd.read_csv('./data/users.csv')\n",
    "user.head()"
   ]
  },
  {
   "cell_type": "markdown",
   "metadata": {},
   "source": [
    "### Data dictionary   \n",
    "|**No**| **Colume's name** |**Descriptions**|\n",
    "|:----:|:------------------|:---------------|\n",
    "|01|user_id|the unique identifier of each user|\n",
    "|02|attr_[1/2/3]|general user attributes. Attr_1 and attr_2 are boolean, attrib_3 can be integer [0,1,2,3,4]|\n",
    "|03|age|The user's reported age.|\n",
    "|04|domain|The user's top-level email domain. Less common domains are bundled together under the label 'other'.|"
   ]
  },
  {
   "cell_type": "code",
   "execution_count": 4,
   "metadata": {},
   "outputs": [
    {
     "name": "stdout",
     "output_type": "stream",
     "text": [
      "<class 'pandas.core.frame.DataFrame'>\n",
      "RangeIndex: 73539 entries, 0 to 73538\n",
      "Data columns (total 18 columns):\n",
      " #   Column                       Non-Null Count  Dtype \n",
      "---  ------                       --------------  ----- \n",
      " 0   country_code                 73539 non-null  int64 \n",
      " 1   grass_date                   73539 non-null  object\n",
      " 2   user_id                      73539 non-null  int64 \n",
      " 3   subject_line_length          73539 non-null  int64 \n",
      " 4   last_open_day                73539 non-null  object\n",
      " 5   last_login_day               73539 non-null  object\n",
      " 6   last_checkout_day            73539 non-null  object\n",
      " 7   open_count_last_10_days      73539 non-null  int64 \n",
      " 8   open_count_last_30_days      73539 non-null  int64 \n",
      " 9   open_count_last_60_days      73539 non-null  int64 \n",
      " 10  login_count_last_10_days     73539 non-null  int64 \n",
      " 11  login_count_last_30_days     73539 non-null  int64 \n",
      " 12  login_count_last_60_days     73539 non-null  int64 \n",
      " 13  checkout_count_last_10_days  73539 non-null  int64 \n",
      " 14  checkout_count_last_30_days  73539 non-null  int64 \n",
      " 15  checkout_count_last_60_days  73539 non-null  int64 \n",
      " 16  open_flag                    73539 non-null  int64 \n",
      " 17  row_id                       73539 non-null  int64 \n",
      "dtypes: int64(14), object(4)\n",
      "memory usage: 10.1+ MB\n"
     ]
    }
   ],
   "source": [
    "# no missing value, but there are datatype need to be corrected\n",
    "df.info()"
   ]
  },
  {
   "cell_type": "code",
   "execution_count": 5,
   "metadata": {},
   "outputs": [
    {
     "name": "stdout",
     "output_type": "stream",
     "text": [
      "<class 'pandas.core.frame.DataFrame'>\n",
      "RangeIndex: 55970 entries, 0 to 55969\n",
      "Data columns (total 17 columns):\n",
      " #   Column                       Non-Null Count  Dtype \n",
      "---  ------                       --------------  ----- \n",
      " 0   country_code                 55970 non-null  int64 \n",
      " 1   grass_date                   55970 non-null  object\n",
      " 2   user_id                      55970 non-null  int64 \n",
      " 3   subject_line_length          55970 non-null  int64 \n",
      " 4   last_open_day                55970 non-null  object\n",
      " 5   last_login_day               55970 non-null  object\n",
      " 6   last_checkout_day            55970 non-null  object\n",
      " 7   open_count_last_10_days      55970 non-null  int64 \n",
      " 8   open_count_last_30_days      55970 non-null  int64 \n",
      " 9   open_count_last_60_days      55970 non-null  int64 \n",
      " 10  login_count_last_10_days     55970 non-null  int64 \n",
      " 11  login_count_last_30_days     55970 non-null  int64 \n",
      " 12  login_count_last_60_days     55970 non-null  int64 \n",
      " 13  checkout_count_last_10_days  55970 non-null  int64 \n",
      " 14  checkout_count_last_30_days  55970 non-null  int64 \n",
      " 15  checkout_count_last_60_days  55970 non-null  int64 \n",
      " 16  row_id                       55970 non-null  int64 \n",
      "dtypes: int64(13), object(4)\n",
      "memory usage: 7.3+ MB\n"
     ]
    }
   ],
   "source": [
    "# no missing value in test dataset as well\n",
    "test.info()"
   ]
  },
  {
   "cell_type": "code",
   "execution_count": 6,
   "metadata": {},
   "outputs": [
    {
     "name": "stdout",
     "output_type": "stream",
     "text": [
      "<class 'pandas.core.frame.DataFrame'>\n",
      "RangeIndex: 127886 entries, 0 to 127885\n",
      "Data columns (total 6 columns):\n",
      " #   Column   Non-Null Count   Dtype  \n",
      "---  ------   --------------   -----  \n",
      " 0   user_id  127886 non-null  int64  \n",
      " 1   attr_1   78987 non-null   float64\n",
      " 2   attr_2   127439 non-null  float64\n",
      " 3   attr_3   127886 non-null  float64\n",
      " 4   age      78987 non-null   float64\n",
      " 5   domain   127886 non-null  object \n",
      "dtypes: float64(4), int64(1), object(1)\n",
      "memory usage: 5.9+ MB\n"
     ]
    }
   ],
   "source": [
    "# only user_id & attr_3 have no missing values\n",
    "user.info()"
   ]
  },
  {
   "cell_type": "code",
   "execution_count": 7,
   "metadata": {},
   "outputs": [
    {
     "name": "stdout",
     "output_type": "stream",
     "text": [
      "For total of 73539 rows, there are 72845 unique user.\n",
      "Total number of unique user receiving more than 1 email: 694 \n"
     ]
    }
   ],
   "source": [
    "# number of unique user in train data\n",
    "print(f\"For total of {df.shape[0]} rows, there are {df.user_id.nunique()} unique user.\")\n",
    "\n",
    "# how many repeated user id\n",
    "print(f\"Total number of unique user receiving more than 1 email: {sum(df.user_id.duplicated())} \")"
   ]
  },
  {
   "cell_type": "code",
   "execution_count": 8,
   "metadata": {},
   "outputs": [
    {
     "data": {
      "text/html": [
       "<div>\n",
       "<style scoped>\n",
       "    .dataframe tbody tr th:only-of-type {\n",
       "        vertical-align: middle;\n",
       "    }\n",
       "\n",
       "    .dataframe tbody tr th {\n",
       "        vertical-align: top;\n",
       "    }\n",
       "\n",
       "    .dataframe thead th {\n",
       "        text-align: right;\n",
       "    }\n",
       "</style>\n",
       "<table border=\"1\" class=\"dataframe\">\n",
       "  <thead>\n",
       "    <tr style=\"text-align: right;\">\n",
       "      <th></th>\n",
       "      <th>country_code</th>\n",
       "      <th>grass_date</th>\n",
       "      <th>user_id</th>\n",
       "      <th>subject_line_length</th>\n",
       "      <th>last_open_day</th>\n",
       "      <th>last_login_day</th>\n",
       "      <th>last_checkout_day</th>\n",
       "      <th>open_count_last_10_days</th>\n",
       "      <th>open_count_last_30_days</th>\n",
       "      <th>open_count_last_60_days</th>\n",
       "      <th>login_count_last_10_days</th>\n",
       "      <th>login_count_last_30_days</th>\n",
       "      <th>login_count_last_60_days</th>\n",
       "      <th>checkout_count_last_10_days</th>\n",
       "      <th>checkout_count_last_30_days</th>\n",
       "      <th>checkout_count_last_60_days</th>\n",
       "      <th>open_flag</th>\n",
       "      <th>row_id</th>\n",
       "    </tr>\n",
       "  </thead>\n",
       "  <tbody>\n",
       "    <tr>\n",
       "      <th>2669</th>\n",
       "      <td>5</td>\n",
       "      <td>2019-07-17 00:00:00+08:00</td>\n",
       "      <td>19732</td>\n",
       "      <td>33</td>\n",
       "      <td>5</td>\n",
       "      <td>2</td>\n",
       "      <td>2</td>\n",
       "      <td>0</td>\n",
       "      <td>0</td>\n",
       "      <td>0</td>\n",
       "      <td>9</td>\n",
       "      <td>28</td>\n",
       "      <td>69</td>\n",
       "      <td>3</td>\n",
       "      <td>5</td>\n",
       "      <td>14</td>\n",
       "      <td>0</td>\n",
       "      <td>2669</td>\n",
       "    </tr>\n",
       "    <tr>\n",
       "      <th>3809</th>\n",
       "      <td>1</td>\n",
       "      <td>2019-07-18 00:00:00+08:00</td>\n",
       "      <td>6143</td>\n",
       "      <td>50</td>\n",
       "      <td>84</td>\n",
       "      <td>13</td>\n",
       "      <td>1169</td>\n",
       "      <td>0</td>\n",
       "      <td>0</td>\n",
       "      <td>0</td>\n",
       "      <td>0</td>\n",
       "      <td>2</td>\n",
       "      <td>2</td>\n",
       "      <td>0</td>\n",
       "      <td>0</td>\n",
       "      <td>0</td>\n",
       "      <td>0</td>\n",
       "      <td>3809</td>\n",
       "    </tr>\n",
       "    <tr>\n",
       "      <th>4683</th>\n",
       "      <td>1</td>\n",
       "      <td>2019-07-19 00:00:00+08:00</td>\n",
       "      <td>4717</td>\n",
       "      <td>35</td>\n",
       "      <td>23</td>\n",
       "      <td>8</td>\n",
       "      <td>63</td>\n",
       "      <td>0</td>\n",
       "      <td>1</td>\n",
       "      <td>1</td>\n",
       "      <td>1</td>\n",
       "      <td>8</td>\n",
       "      <td>57</td>\n",
       "      <td>0</td>\n",
       "      <td>0</td>\n",
       "      <td>0</td>\n",
       "      <td>0</td>\n",
       "      <td>4683</td>\n",
       "    </tr>\n",
       "    <tr>\n",
       "      <th>5253</th>\n",
       "      <td>4</td>\n",
       "      <td>2019-07-19 00:00:00+08:00</td>\n",
       "      <td>52605</td>\n",
       "      <td>46</td>\n",
       "      <td>29</td>\n",
       "      <td>11</td>\n",
       "      <td>21</td>\n",
       "      <td>0</td>\n",
       "      <td>1</td>\n",
       "      <td>1</td>\n",
       "      <td>0</td>\n",
       "      <td>3</td>\n",
       "      <td>8</td>\n",
       "      <td>0</td>\n",
       "      <td>1</td>\n",
       "      <td>1</td>\n",
       "      <td>0</td>\n",
       "      <td>5253</td>\n",
       "    </tr>\n",
       "    <tr>\n",
       "      <th>6344</th>\n",
       "      <td>3</td>\n",
       "      <td>2019-07-20 00:00:00+08:00</td>\n",
       "      <td>39696</td>\n",
       "      <td>44</td>\n",
       "      <td>4</td>\n",
       "      <td>1</td>\n",
       "      <td>52</td>\n",
       "      <td>10</td>\n",
       "      <td>20</td>\n",
       "      <td>20</td>\n",
       "      <td>7</td>\n",
       "      <td>20</td>\n",
       "      <td>46</td>\n",
       "      <td>2</td>\n",
       "      <td>2</td>\n",
       "      <td>6</td>\n",
       "      <td>1</td>\n",
       "      <td>6344</td>\n",
       "    </tr>\n",
       "    <tr>\n",
       "      <th>...</th>\n",
       "      <td>...</td>\n",
       "      <td>...</td>\n",
       "      <td>...</td>\n",
       "      <td>...</td>\n",
       "      <td>...</td>\n",
       "      <td>...</td>\n",
       "      <td>...</td>\n",
       "      <td>...</td>\n",
       "      <td>...</td>\n",
       "      <td>...</td>\n",
       "      <td>...</td>\n",
       "      <td>...</td>\n",
       "      <td>...</td>\n",
       "      <td>...</td>\n",
       "      <td>...</td>\n",
       "      <td>...</td>\n",
       "      <td>...</td>\n",
       "      <td>...</td>\n",
       "    </tr>\n",
       "    <tr>\n",
       "      <th>72956</th>\n",
       "      <td>1</td>\n",
       "      <td>2019-09-02 00:00:00+08:00</td>\n",
       "      <td>110311</td>\n",
       "      <td>43</td>\n",
       "      <td>16</td>\n",
       "      <td>11</td>\n",
       "      <td>44</td>\n",
       "      <td>0</td>\n",
       "      <td>1</td>\n",
       "      <td>3</td>\n",
       "      <td>13</td>\n",
       "      <td>20</td>\n",
       "      <td>50</td>\n",
       "      <td>0</td>\n",
       "      <td>0</td>\n",
       "      <td>1</td>\n",
       "      <td>0</td>\n",
       "      <td>72956</td>\n",
       "    </tr>\n",
       "    <tr>\n",
       "      <th>73055</th>\n",
       "      <td>2</td>\n",
       "      <td>2019-09-02 00:00:00+08:00</td>\n",
       "      <td>114052</td>\n",
       "      <td>38</td>\n",
       "      <td>39</td>\n",
       "      <td>8</td>\n",
       "      <td>27</td>\n",
       "      <td>0</td>\n",
       "      <td>0</td>\n",
       "      <td>5</td>\n",
       "      <td>1</td>\n",
       "      <td>26</td>\n",
       "      <td>60</td>\n",
       "      <td>0</td>\n",
       "      <td>1</td>\n",
       "      <td>4</td>\n",
       "      <td>0</td>\n",
       "      <td>73055</td>\n",
       "    </tr>\n",
       "    <tr>\n",
       "      <th>73106</th>\n",
       "      <td>1</td>\n",
       "      <td>2019-09-02 00:00:00+08:00</td>\n",
       "      <td>116635</td>\n",
       "      <td>33</td>\n",
       "      <td>25</td>\n",
       "      <td>12</td>\n",
       "      <td>Never checkout</td>\n",
       "      <td>0</td>\n",
       "      <td>1</td>\n",
       "      <td>2</td>\n",
       "      <td>1</td>\n",
       "      <td>4</td>\n",
       "      <td>7</td>\n",
       "      <td>0</td>\n",
       "      <td>0</td>\n",
       "      <td>0</td>\n",
       "      <td>0</td>\n",
       "      <td>73106</td>\n",
       "    </tr>\n",
       "    <tr>\n",
       "      <th>73156</th>\n",
       "      <td>3</td>\n",
       "      <td>2019-09-02 00:00:00+08:00</td>\n",
       "      <td>118490</td>\n",
       "      <td>49</td>\n",
       "      <td>6</td>\n",
       "      <td>38</td>\n",
       "      <td>Never checkout</td>\n",
       "      <td>0</td>\n",
       "      <td>1</td>\n",
       "      <td>1</td>\n",
       "      <td>0</td>\n",
       "      <td>0</td>\n",
       "      <td>3</td>\n",
       "      <td>0</td>\n",
       "      <td>0</td>\n",
       "      <td>0</td>\n",
       "      <td>0</td>\n",
       "      <td>73156</td>\n",
       "    </tr>\n",
       "    <tr>\n",
       "      <th>73256</th>\n",
       "      <td>3</td>\n",
       "      <td>2019-09-02 00:00:00+08:00</td>\n",
       "      <td>120652</td>\n",
       "      <td>49</td>\n",
       "      <td>Never open</td>\n",
       "      <td>29</td>\n",
       "      <td>Never checkout</td>\n",
       "      <td>0</td>\n",
       "      <td>0</td>\n",
       "      <td>0</td>\n",
       "      <td>0</td>\n",
       "      <td>1</td>\n",
       "      <td>1</td>\n",
       "      <td>0</td>\n",
       "      <td>0</td>\n",
       "      <td>0</td>\n",
       "      <td>0</td>\n",
       "      <td>73256</td>\n",
       "    </tr>\n",
       "  </tbody>\n",
       "</table>\n",
       "<p>694 rows × 18 columns</p>\n",
       "</div>"
      ],
      "text/plain": [
       "       country_code                 grass_date  user_id  subject_line_length  \\\n",
       "2669              5  2019-07-17 00:00:00+08:00    19732                   33   \n",
       "3809              1  2019-07-18 00:00:00+08:00     6143                   50   \n",
       "4683              1  2019-07-19 00:00:00+08:00     4717                   35   \n",
       "5253              4  2019-07-19 00:00:00+08:00    52605                   46   \n",
       "6344              3  2019-07-20 00:00:00+08:00    39696                   44   \n",
       "...             ...                        ...      ...                  ...   \n",
       "72956             1  2019-09-02 00:00:00+08:00   110311                   43   \n",
       "73055             2  2019-09-02 00:00:00+08:00   114052                   38   \n",
       "73106             1  2019-09-02 00:00:00+08:00   116635                   33   \n",
       "73156             3  2019-09-02 00:00:00+08:00   118490                   49   \n",
       "73256             3  2019-09-02 00:00:00+08:00   120652                   49   \n",
       "\n",
       "      last_open_day last_login_day last_checkout_day  open_count_last_10_days  \\\n",
       "2669              5              2                 2                        0   \n",
       "3809             84             13              1169                        0   \n",
       "4683             23              8                63                        0   \n",
       "5253             29             11                21                        0   \n",
       "6344              4              1                52                       10   \n",
       "...             ...            ...               ...                      ...   \n",
       "72956            16             11                44                        0   \n",
       "73055            39              8                27                        0   \n",
       "73106            25             12    Never checkout                        0   \n",
       "73156             6             38    Never checkout                        0   \n",
       "73256    Never open             29    Never checkout                        0   \n",
       "\n",
       "       open_count_last_30_days  open_count_last_60_days  \\\n",
       "2669                         0                        0   \n",
       "3809                         0                        0   \n",
       "4683                         1                        1   \n",
       "5253                         1                        1   \n",
       "6344                        20                       20   \n",
       "...                        ...                      ...   \n",
       "72956                        1                        3   \n",
       "73055                        0                        5   \n",
       "73106                        1                        2   \n",
       "73156                        1                        1   \n",
       "73256                        0                        0   \n",
       "\n",
       "       login_count_last_10_days  login_count_last_30_days  \\\n",
       "2669                          9                        28   \n",
       "3809                          0                         2   \n",
       "4683                          1                         8   \n",
       "5253                          0                         3   \n",
       "6344                          7                        20   \n",
       "...                         ...                       ...   \n",
       "72956                        13                        20   \n",
       "73055                         1                        26   \n",
       "73106                         1                         4   \n",
       "73156                         0                         0   \n",
       "73256                         0                         1   \n",
       "\n",
       "       login_count_last_60_days  checkout_count_last_10_days  \\\n",
       "2669                         69                            3   \n",
       "3809                          2                            0   \n",
       "4683                         57                            0   \n",
       "5253                          8                            0   \n",
       "6344                         46                            2   \n",
       "...                         ...                          ...   \n",
       "72956                        50                            0   \n",
       "73055                        60                            0   \n",
       "73106                         7                            0   \n",
       "73156                         3                            0   \n",
       "73256                         1                            0   \n",
       "\n",
       "       checkout_count_last_30_days  checkout_count_last_60_days  open_flag  \\\n",
       "2669                             5                           14          0   \n",
       "3809                             0                            0          0   \n",
       "4683                             0                            0          0   \n",
       "5253                             1                            1          0   \n",
       "6344                             2                            6          1   \n",
       "...                            ...                          ...        ...   \n",
       "72956                            0                            1          0   \n",
       "73055                            1                            4          0   \n",
       "73106                            0                            0          0   \n",
       "73156                            0                            0          0   \n",
       "73256                            0                            0          0   \n",
       "\n",
       "       row_id  \n",
       "2669     2669  \n",
       "3809     3809  \n",
       "4683     4683  \n",
       "5253     5253  \n",
       "6344     6344  \n",
       "...       ...  \n",
       "72956   72956  \n",
       "73055   73055  \n",
       "73106   73106  \n",
       "73156   73156  \n",
       "73256   73256  \n",
       "\n",
       "[694 rows x 18 columns]"
      ]
     },
     "execution_count": 8,
     "metadata": {},
     "output_type": "execute_result"
    }
   ],
   "source": [
    "df.loc[df.user_id.duplicated()]"
   ]
  },
  {
   "cell_type": "code",
   "execution_count": 9,
   "metadata": {},
   "outputs": [
    {
     "data": {
      "text/html": [
       "<div>\n",
       "<style scoped>\n",
       "    .dataframe tbody tr th:only-of-type {\n",
       "        vertical-align: middle;\n",
       "    }\n",
       "\n",
       "    .dataframe tbody tr th {\n",
       "        vertical-align: top;\n",
       "    }\n",
       "\n",
       "    .dataframe thead th {\n",
       "        text-align: right;\n",
       "    }\n",
       "</style>\n",
       "<table border=\"1\" class=\"dataframe\">\n",
       "  <thead>\n",
       "    <tr style=\"text-align: right;\">\n",
       "      <th></th>\n",
       "      <th>country_code</th>\n",
       "      <th>grass_date</th>\n",
       "      <th>user_id</th>\n",
       "      <th>subject_line_length</th>\n",
       "      <th>last_open_day</th>\n",
       "      <th>last_login_day</th>\n",
       "      <th>last_checkout_day</th>\n",
       "      <th>open_count_last_10_days</th>\n",
       "      <th>open_count_last_30_days</th>\n",
       "      <th>open_count_last_60_days</th>\n",
       "      <th>login_count_last_10_days</th>\n",
       "      <th>login_count_last_30_days</th>\n",
       "      <th>login_count_last_60_days</th>\n",
       "      <th>checkout_count_last_10_days</th>\n",
       "      <th>checkout_count_last_30_days</th>\n",
       "      <th>checkout_count_last_60_days</th>\n",
       "      <th>open_flag</th>\n",
       "      <th>row_id</th>\n",
       "    </tr>\n",
       "  </thead>\n",
       "  <tbody>\n",
       "    <tr>\n",
       "      <th>53293</th>\n",
       "      <td>1</td>\n",
       "      <td>2019-08-20 00:00:00+08:00</td>\n",
       "      <td>116635</td>\n",
       "      <td>68</td>\n",
       "      <td>12</td>\n",
       "      <td>10</td>\n",
       "      <td>Never checkout</td>\n",
       "      <td>0</td>\n",
       "      <td>2</td>\n",
       "      <td>2</td>\n",
       "      <td>1</td>\n",
       "      <td>3</td>\n",
       "      <td>4</td>\n",
       "      <td>0</td>\n",
       "      <td>0</td>\n",
       "      <td>0</td>\n",
       "      <td>0</td>\n",
       "      <td>53293</td>\n",
       "    </tr>\n",
       "    <tr>\n",
       "      <th>73106</th>\n",
       "      <td>1</td>\n",
       "      <td>2019-09-02 00:00:00+08:00</td>\n",
       "      <td>116635</td>\n",
       "      <td>33</td>\n",
       "      <td>25</td>\n",
       "      <td>12</td>\n",
       "      <td>Never checkout</td>\n",
       "      <td>0</td>\n",
       "      <td>1</td>\n",
       "      <td>2</td>\n",
       "      <td>1</td>\n",
       "      <td>4</td>\n",
       "      <td>7</td>\n",
       "      <td>0</td>\n",
       "      <td>0</td>\n",
       "      <td>0</td>\n",
       "      <td>0</td>\n",
       "      <td>73106</td>\n",
       "    </tr>\n",
       "  </tbody>\n",
       "</table>\n",
       "</div>"
      ],
      "text/plain": [
       "       country_code                 grass_date  user_id  subject_line_length  \\\n",
       "53293             1  2019-08-20 00:00:00+08:00   116635                   68   \n",
       "73106             1  2019-09-02 00:00:00+08:00   116635                   33   \n",
       "\n",
       "      last_open_day last_login_day last_checkout_day  open_count_last_10_days  \\\n",
       "53293            12             10    Never checkout                        0   \n",
       "73106            25             12    Never checkout                        0   \n",
       "\n",
       "       open_count_last_30_days  open_count_last_60_days  \\\n",
       "53293                        2                        2   \n",
       "73106                        1                        2   \n",
       "\n",
       "       login_count_last_10_days  login_count_last_30_days  \\\n",
       "53293                         1                         3   \n",
       "73106                         1                         4   \n",
       "\n",
       "       login_count_last_60_days  checkout_count_last_10_days  \\\n",
       "53293                         4                            0   \n",
       "73106                         7                            0   \n",
       "\n",
       "       checkout_count_last_30_days  checkout_count_last_60_days  open_flag  \\\n",
       "53293                            0                            0          0   \n",
       "73106                            0                            0          0   \n",
       "\n",
       "       row_id  \n",
       "53293   53293  \n",
       "73106   73106  "
      ]
     },
     "execution_count": 9,
     "metadata": {},
     "output_type": "execute_result"
    }
   ],
   "source": [
    "# peak on one of the repeated user (i.e user that receiving more than 1 email)\n",
    "df.query('user_id == 116635')"
   ]
  },
  {
   "cell_type": "markdown",
   "metadata": {},
   "source": [
    "### 2.2 Data manupulation\n",
    "Change the data types, add column with engineered data"
   ]
  },
  {
   "cell_type": "code",
   "execution_count": 10,
   "metadata": {},
   "outputs": [],
   "source": [
    "# convert the `grass_date` to datetime datatype, exclude timespan as all of them is fixed value\n",
    "df['grass_date'] = pd.to_datetime(df.grass_date).dt.date\n",
    "test['grass_date'] = pd.to_datetime(test.grass_date).dt.date\n",
    "\n",
    "# add column to indicate the day of the week the email send out\n",
    "# using .isoweekday(), where Monday = 1, Sunday = 7\n",
    "df['email_weekday'] = df.grass_date.apply(lambda x:x.isoweekday())\n",
    "test['email_weekday'] = test.grass_date.apply(lambda x:x.isoweekday())"
   ]
  },
  {
   "cell_type": "markdown",
   "metadata": {},
   "source": [
    "columns `last_open_day`, `last_login_day`, `last_checkout_day` are with str datatype. This is due to there are str in these columns ('Never open', 'Never login', 'Never checkout').\n",
    "To replace these str with '9999' and convert the datatype to numeric ('int32')"
   ]
  },
  {
   "cell_type": "code",
   "execution_count": 16,
   "metadata": {},
   "outputs": [],
   "source": [
    "# replace str to '18999'. max value seens around 181xx\n",
    "df = df.replace(to_replace=['Never open', 'Never login', 'Never checkout'], value='18999')\n",
    "test = test.replace(to_replace = ['Never open', 'Never login', 'Never checkout'], value = '18999')\n",
    "\n",
    "# convert str to numeric datatype\n",
    "df = df.astype({'last_open_day':'int32', 'last_login_day':'int32', 'last_checkout_day':'int32'})\n",
    "test = test.astype({'last_open_day':'int32', 'last_login_day':'int32', 'last_checkout_day':'int32'})\n"
   ]
  },
  {
   "cell_type": "code",
   "execution_count": 17,
   "metadata": {},
   "outputs": [],
   "source": [
    "# merge df with user age\n",
    "df = df.merge(user[['user_id','age']], how = 'left', on = 'user_id')"
   ]
  },
  {
   "cell_type": "code",
   "execution_count": 18,
   "metadata": {},
   "outputs": [],
   "source": [
    "# convert 'country_code', 'user_id' to 'str' datatype as it does not carry any numeric meaning\n",
    "df = df.astype({'country_code':'str', 'user_id': 'str'})\n",
    "test = test.astype({'country_code':'str', 'user_id': 'str'})"
   ]
  },
  {
   "cell_type": "code",
   "execution_count": 19,
   "metadata": {},
   "outputs": [],
   "source": [
    "# drop 'row_id' as this is just a record with no additional information provided\n",
    "df.drop('row_id', axis = 1, inplace = True)"
   ]
  },
  {
   "cell_type": "code",
   "execution_count": 20,
   "metadata": {},
   "outputs": [],
   "source": [
    "# export to csv\n",
    "df.to_csv('./data/train_cleaned.csv', index = False)\n",
    "test.to_csv('./data/test_cleaned.csv', index = False)"
   ]
  },
  {
   "cell_type": "markdown",
   "metadata": {},
   "source": [
    "### 2.3 Statistical summary\n",
    "### 2.3.1 Numeric column  \n",
    "- `last_login_day` with max at 18141 days, translated to about 50 years ago, which is not logic. To examine further the data in next section (data cleaning).\n",
    "- `open_flag`, average at 0.155781, i.e. 15.58% user open email, and majority is not.\n",
    "- `age`, mean age at 31.4,  but with unrealistic min & max age (-17, 118, respectively)."
   ]
  },
  {
   "cell_type": "code",
   "execution_count": 21,
   "metadata": {},
   "outputs": [
    {
     "data": {
      "text/html": [
       "<div>\n",
       "<style scoped>\n",
       "    .dataframe tbody tr th:only-of-type {\n",
       "        vertical-align: middle;\n",
       "    }\n",
       "\n",
       "    .dataframe tbody tr th {\n",
       "        vertical-align: top;\n",
       "    }\n",
       "\n",
       "    .dataframe thead th {\n",
       "        text-align: right;\n",
       "    }\n",
       "</style>\n",
       "<table border=\"1\" class=\"dataframe\">\n",
       "  <thead>\n",
       "    <tr style=\"text-align: right;\">\n",
       "      <th></th>\n",
       "      <th>subject_line_length</th>\n",
       "      <th>last_open_day</th>\n",
       "      <th>last_login_day</th>\n",
       "      <th>last_checkout_day</th>\n",
       "      <th>open_count_last_10_days</th>\n",
       "      <th>open_count_last_30_days</th>\n",
       "      <th>open_count_last_60_days</th>\n",
       "      <th>login_count_last_10_days</th>\n",
       "      <th>login_count_last_30_days</th>\n",
       "      <th>login_count_last_60_days</th>\n",
       "      <th>checkout_count_last_10_days</th>\n",
       "      <th>checkout_count_last_30_days</th>\n",
       "      <th>checkout_count_last_60_days</th>\n",
       "      <th>open_flag</th>\n",
       "      <th>email_weekday</th>\n",
       "      <th>age</th>\n",
       "    </tr>\n",
       "  </thead>\n",
       "  <tbody>\n",
       "    <tr>\n",
       "      <th>count</th>\n",
       "      <td>73539.000000</td>\n",
       "      <td>73539.000000</td>\n",
       "      <td>73539.000000</td>\n",
       "      <td>73539.000000</td>\n",
       "      <td>73539.000000</td>\n",
       "      <td>73539.000000</td>\n",
       "      <td>73539.000000</td>\n",
       "      <td>73539.000000</td>\n",
       "      <td>73539.000000</td>\n",
       "      <td>73539.000000</td>\n",
       "      <td>73539.000000</td>\n",
       "      <td>73539.000000</td>\n",
       "      <td>73539.000000</td>\n",
       "      <td>73539.000000</td>\n",
       "      <td>73539.000000</td>\n",
       "      <td>45347.000000</td>\n",
       "    </tr>\n",
       "    <tr>\n",
       "      <th>mean</th>\n",
       "      <td>43.656373</td>\n",
       "      <td>1971.700499</td>\n",
       "      <td>125.213751</td>\n",
       "      <td>4424.168768</td>\n",
       "      <td>0.911829</td>\n",
       "      <td>2.780457</td>\n",
       "      <td>5.019364</td>\n",
       "      <td>8.382287</td>\n",
       "      <td>25.284053</td>\n",
       "      <td>49.010430</td>\n",
       "      <td>0.909898</td>\n",
       "      <td>2.796040</td>\n",
       "      <td>5.420960</td>\n",
       "      <td>0.155781</td>\n",
       "      <td>3.618597</td>\n",
       "      <td>31.445564</td>\n",
       "    </tr>\n",
       "    <tr>\n",
       "      <th>std</th>\n",
       "      <td>11.219323</td>\n",
       "      <td>5746.148019</td>\n",
       "      <td>1214.642727</td>\n",
       "      <td>7963.786759</td>\n",
       "      <td>1.754052</td>\n",
       "      <td>4.570239</td>\n",
       "      <td>7.902313</td>\n",
       "      <td>13.424436</td>\n",
       "      <td>37.853189</td>\n",
       "      <td>71.819327</td>\n",
       "      <td>2.887416</td>\n",
       "      <td>7.686064</td>\n",
       "      <td>13.980182</td>\n",
       "      <td>0.362650</td>\n",
       "      <td>2.032295</td>\n",
       "      <td>11.797405</td>\n",
       "    </tr>\n",
       "    <tr>\n",
       "      <th>min</th>\n",
       "      <td>10.000000</td>\n",
       "      <td>1.000000</td>\n",
       "      <td>0.000000</td>\n",
       "      <td>1.000000</td>\n",
       "      <td>0.000000</td>\n",
       "      <td>0.000000</td>\n",
       "      <td>0.000000</td>\n",
       "      <td>0.000000</td>\n",
       "      <td>0.000000</td>\n",
       "      <td>0.000000</td>\n",
       "      <td>0.000000</td>\n",
       "      <td>0.000000</td>\n",
       "      <td>0.000000</td>\n",
       "      <td>0.000000</td>\n",
       "      <td>1.000000</td>\n",
       "      <td>-17.000000</td>\n",
       "    </tr>\n",
       "    <tr>\n",
       "      <th>25%</th>\n",
       "      <td>34.000000</td>\n",
       "      <td>6.000000</td>\n",
       "      <td>3.000000</td>\n",
       "      <td>10.000000</td>\n",
       "      <td>0.000000</td>\n",
       "      <td>0.000000</td>\n",
       "      <td>0.000000</td>\n",
       "      <td>0.000000</td>\n",
       "      <td>1.000000</td>\n",
       "      <td>3.000000</td>\n",
       "      <td>0.000000</td>\n",
       "      <td>0.000000</td>\n",
       "      <td>0.000000</td>\n",
       "      <td>0.000000</td>\n",
       "      <td>2.000000</td>\n",
       "      <td>24.000000</td>\n",
       "    </tr>\n",
       "    <tr>\n",
       "      <th>50%</th>\n",
       "      <td>43.000000</td>\n",
       "      <td>18.000000</td>\n",
       "      <td>8.000000</td>\n",
       "      <td>44.000000</td>\n",
       "      <td>0.000000</td>\n",
       "      <td>1.000000</td>\n",
       "      <td>2.000000</td>\n",
       "      <td>3.000000</td>\n",
       "      <td>11.000000</td>\n",
       "      <td>22.000000</td>\n",
       "      <td>0.000000</td>\n",
       "      <td>0.000000</td>\n",
       "      <td>1.000000</td>\n",
       "      <td>0.000000</td>\n",
       "      <td>4.000000</td>\n",
       "      <td>29.000000</td>\n",
       "    </tr>\n",
       "    <tr>\n",
       "      <th>75%</th>\n",
       "      <td>52.000000</td>\n",
       "      <td>56.000000</td>\n",
       "      <td>27.000000</td>\n",
       "      <td>456.000000</td>\n",
       "      <td>1.000000</td>\n",
       "      <td>3.000000</td>\n",
       "      <td>6.000000</td>\n",
       "      <td>12.000000</td>\n",
       "      <td>35.000000</td>\n",
       "      <td>69.000000</td>\n",
       "      <td>1.000000</td>\n",
       "      <td>3.000000</td>\n",
       "      <td>6.000000</td>\n",
       "      <td>0.000000</td>\n",
       "      <td>5.000000</td>\n",
       "      <td>36.000000</td>\n",
       "    </tr>\n",
       "    <tr>\n",
       "      <th>max</th>\n",
       "      <td>75.000000</td>\n",
       "      <td>18999.000000</td>\n",
       "      <td>18999.000000</td>\n",
       "      <td>18999.000000</td>\n",
       "      <td>31.000000</td>\n",
       "      <td>92.000000</td>\n",
       "      <td>135.000000</td>\n",
       "      <td>254.000000</td>\n",
       "      <td>735.000000</td>\n",
       "      <td>1260.000000</td>\n",
       "      <td>157.000000</td>\n",
       "      <td>531.000000</td>\n",
       "      <td>783.000000</td>\n",
       "      <td>1.000000</td>\n",
       "      <td>7.000000</td>\n",
       "      <td>118.000000</td>\n",
       "    </tr>\n",
       "  </tbody>\n",
       "</table>\n",
       "</div>"
      ],
      "text/plain": [
       "       subject_line_length  last_open_day  last_login_day  last_checkout_day  \\\n",
       "count         73539.000000   73539.000000    73539.000000       73539.000000   \n",
       "mean             43.656373    1971.700499      125.213751        4424.168768   \n",
       "std              11.219323    5746.148019     1214.642727        7963.786759   \n",
       "min              10.000000       1.000000        0.000000           1.000000   \n",
       "25%              34.000000       6.000000        3.000000          10.000000   \n",
       "50%              43.000000      18.000000        8.000000          44.000000   \n",
       "75%              52.000000      56.000000       27.000000         456.000000   \n",
       "max              75.000000   18999.000000    18999.000000       18999.000000   \n",
       "\n",
       "       open_count_last_10_days  open_count_last_30_days  \\\n",
       "count             73539.000000             73539.000000   \n",
       "mean                  0.911829                 2.780457   \n",
       "std                   1.754052                 4.570239   \n",
       "min                   0.000000                 0.000000   \n",
       "25%                   0.000000                 0.000000   \n",
       "50%                   0.000000                 1.000000   \n",
       "75%                   1.000000                 3.000000   \n",
       "max                  31.000000                92.000000   \n",
       "\n",
       "       open_count_last_60_days  login_count_last_10_days  \\\n",
       "count             73539.000000              73539.000000   \n",
       "mean                  5.019364                  8.382287   \n",
       "std                   7.902313                 13.424436   \n",
       "min                   0.000000                  0.000000   \n",
       "25%                   0.000000                  0.000000   \n",
       "50%                   2.000000                  3.000000   \n",
       "75%                   6.000000                 12.000000   \n",
       "max                 135.000000                254.000000   \n",
       "\n",
       "       login_count_last_30_days  login_count_last_60_days  \\\n",
       "count              73539.000000              73539.000000   \n",
       "mean                  25.284053                 49.010430   \n",
       "std                   37.853189                 71.819327   \n",
       "min                    0.000000                  0.000000   \n",
       "25%                    1.000000                  3.000000   \n",
       "50%                   11.000000                 22.000000   \n",
       "75%                   35.000000                 69.000000   \n",
       "max                  735.000000               1260.000000   \n",
       "\n",
       "       checkout_count_last_10_days  checkout_count_last_30_days  \\\n",
       "count                 73539.000000                 73539.000000   \n",
       "mean                      0.909898                     2.796040   \n",
       "std                       2.887416                     7.686064   \n",
       "min                       0.000000                     0.000000   \n",
       "25%                       0.000000                     0.000000   \n",
       "50%                       0.000000                     0.000000   \n",
       "75%                       1.000000                     3.000000   \n",
       "max                     157.000000                   531.000000   \n",
       "\n",
       "       checkout_count_last_60_days     open_flag  email_weekday           age  \n",
       "count                 73539.000000  73539.000000   73539.000000  45347.000000  \n",
       "mean                      5.420960      0.155781       3.618597     31.445564  \n",
       "std                      13.980182      0.362650       2.032295     11.797405  \n",
       "min                       0.000000      0.000000       1.000000    -17.000000  \n",
       "25%                       0.000000      0.000000       2.000000     24.000000  \n",
       "50%                       1.000000      0.000000       4.000000     29.000000  \n",
       "75%                       6.000000      0.000000       5.000000     36.000000  \n",
       "max                     783.000000      1.000000       7.000000    118.000000  "
      ]
     },
     "execution_count": 21,
     "metadata": {},
     "output_type": "execute_result"
    }
   ],
   "source": [
    "df.describe()"
   ]
  },
  {
   "cell_type": "markdown",
   "metadata": {},
   "source": [
    "### 2.3.2 obj column  \n",
    "- User from 7 different country code, with majority user from country code = 1\n",
    "- The dataset comprises of email send out in 47 different date in 1.5 months (16 July - 2nd Sept, 2019)\n",
    "- Total 74864 unique user received email within the 1.5 months time span. Majority user receiving 1 email and one user receiving up to 3 emails."
   ]
  },
  {
   "cell_type": "code",
   "execution_count": 23,
   "metadata": {},
   "outputs": [
    {
     "data": {
      "text/html": [
       "<div>\n",
       "<style scoped>\n",
       "    .dataframe tbody tr th:only-of-type {\n",
       "        vertical-align: middle;\n",
       "    }\n",
       "\n",
       "    .dataframe tbody tr th {\n",
       "        vertical-align: top;\n",
       "    }\n",
       "\n",
       "    .dataframe thead th {\n",
       "        text-align: right;\n",
       "    }\n",
       "</style>\n",
       "<table border=\"1\" class=\"dataframe\">\n",
       "  <thead>\n",
       "    <tr style=\"text-align: right;\">\n",
       "      <th></th>\n",
       "      <th>country_code</th>\n",
       "      <th>grass_date</th>\n",
       "      <th>user_id</th>\n",
       "    </tr>\n",
       "  </thead>\n",
       "  <tbody>\n",
       "    <tr>\n",
       "      <th>count</th>\n",
       "      <td>73539</td>\n",
       "      <td>73539</td>\n",
       "      <td>73539</td>\n",
       "    </tr>\n",
       "    <tr>\n",
       "      <th>unique</th>\n",
       "      <td>7</td>\n",
       "      <td>47</td>\n",
       "      <td>72845</td>\n",
       "    </tr>\n",
       "    <tr>\n",
       "      <th>top</th>\n",
       "      <td>1</td>\n",
       "      <td>2019-09-02</td>\n",
       "      <td>74864</td>\n",
       "    </tr>\n",
       "    <tr>\n",
       "      <th>freq</th>\n",
       "      <td>28423</td>\n",
       "      <td>3915</td>\n",
       "      <td>3</td>\n",
       "    </tr>\n",
       "  </tbody>\n",
       "</table>\n",
       "</div>"
      ],
      "text/plain": [
       "       country_code  grass_date user_id\n",
       "count         73539       73539   73539\n",
       "unique            7          47   72845\n",
       "top               1  2019-09-02   74864\n",
       "freq          28423        3915       3"
      ]
     },
     "execution_count": 23,
     "metadata": {},
     "output_type": "execute_result"
    }
   ],
   "source": [
    "df.describe(include=[np.object])"
   ]
  },
  {
   "cell_type": "code",
   "execution_count": 24,
   "metadata": {},
   "outputs": [
    {
     "data": {
      "text/plain": [
       "datetime.date(2019, 7, 16)"
      ]
     },
     "execution_count": 24,
     "metadata": {},
     "output_type": "execute_result"
    }
   ],
   "source": [
    "# earliest email date:\n",
    "df.grass_date.min()"
   ]
  },
  {
   "cell_type": "code",
   "execution_count": 25,
   "metadata": {},
   "outputs": [
    {
     "data": {
      "text/plain": [
       "datetime.date(2019, 9, 2)"
      ]
     },
     "execution_count": 25,
     "metadata": {},
     "output_type": "execute_result"
    }
   ],
   "source": [
    "# latest email date:\n",
    "df.grass_date.max()"
   ]
  },
  {
   "cell_type": "code",
   "execution_count": 27,
   "metadata": {},
   "outputs": [
    {
     "data": {
      "text/plain": [
       "datetime.date(2019, 9, 3)"
      ]
     },
     "execution_count": 27,
     "metadata": {},
     "output_type": "execute_result"
    }
   ],
   "source": [
    "# earliest email date from test dataset is a day after the latest date in train dataset\n",
    "test.grass_date.min()"
   ]
  },
  {
   "cell_type": "markdown",
   "metadata": {},
   "source": [
    "### 2.4 Data Cleaning "
   ]
  },
  {
   "cell_type": "markdown",
   "metadata": {},
   "source": [
    "#### 2.4.1 `last_login_day`"
   ]
  },
  {
   "cell_type": "code",
   "execution_count": 29,
   "metadata": {},
   "outputs": [
    {
     "name": "stdout",
     "output_type": "stream",
     "text": [
      " Total of 303 rows last login day of >18000 days, translated to > 50 years ago\n"
     ]
    },
    {
     "data": {
      "text/html": [
       "<div>\n",
       "<style scoped>\n",
       "    .dataframe tbody tr th:only-of-type {\n",
       "        vertical-align: middle;\n",
       "    }\n",
       "\n",
       "    .dataframe tbody tr th {\n",
       "        vertical-align: top;\n",
       "    }\n",
       "\n",
       "    .dataframe thead th {\n",
       "        text-align: right;\n",
       "    }\n",
       "</style>\n",
       "<table border=\"1\" class=\"dataframe\">\n",
       "  <thead>\n",
       "    <tr style=\"text-align: right;\">\n",
       "      <th></th>\n",
       "      <th>country_code</th>\n",
       "      <th>grass_date</th>\n",
       "      <th>user_id</th>\n",
       "      <th>subject_line_length</th>\n",
       "      <th>last_open_day</th>\n",
       "      <th>last_login_day</th>\n",
       "      <th>last_checkout_day</th>\n",
       "      <th>open_count_last_10_days</th>\n",
       "      <th>open_count_last_30_days</th>\n",
       "      <th>open_count_last_60_days</th>\n",
       "      <th>login_count_last_10_days</th>\n",
       "      <th>login_count_last_30_days</th>\n",
       "      <th>login_count_last_60_days</th>\n",
       "      <th>checkout_count_last_10_days</th>\n",
       "      <th>checkout_count_last_30_days</th>\n",
       "      <th>checkout_count_last_60_days</th>\n",
       "      <th>open_flag</th>\n",
       "      <th>email_weekday</th>\n",
       "      <th>age</th>\n",
       "    </tr>\n",
       "  </thead>\n",
       "  <tbody>\n",
       "    <tr>\n",
       "      <th>1739</th>\n",
       "      <td>2</td>\n",
       "      <td>2019-07-16</td>\n",
       "      <td>90499</td>\n",
       "      <td>46</td>\n",
       "      <td>18999</td>\n",
       "      <td>18999</td>\n",
       "      <td>18999</td>\n",
       "      <td>0</td>\n",
       "      <td>0</td>\n",
       "      <td>2</td>\n",
       "      <td>0</td>\n",
       "      <td>0</td>\n",
       "      <td>0</td>\n",
       "      <td>0</td>\n",
       "      <td>0</td>\n",
       "      <td>0</td>\n",
       "      <td>0</td>\n",
       "      <td>2</td>\n",
       "      <td>NaN</td>\n",
       "    </tr>\n",
       "    <tr>\n",
       "      <th>6049</th>\n",
       "      <td>4</td>\n",
       "      <td>2019-07-19</td>\n",
       "      <td>111486</td>\n",
       "      <td>46</td>\n",
       "      <td>2</td>\n",
       "      <td>18096</td>\n",
       "      <td>18999</td>\n",
       "      <td>1</td>\n",
       "      <td>1</td>\n",
       "      <td>1</td>\n",
       "      <td>0</td>\n",
       "      <td>0</td>\n",
       "      <td>1</td>\n",
       "      <td>0</td>\n",
       "      <td>0</td>\n",
       "      <td>0</td>\n",
       "      <td>1</td>\n",
       "      <td>5</td>\n",
       "      <td>NaN</td>\n",
       "    </tr>\n",
       "    <tr>\n",
       "      <th>7022</th>\n",
       "      <td>1</td>\n",
       "      <td>2019-07-21</td>\n",
       "      <td>18952</td>\n",
       "      <td>40</td>\n",
       "      <td>18999</td>\n",
       "      <td>18999</td>\n",
       "      <td>66</td>\n",
       "      <td>0</td>\n",
       "      <td>0</td>\n",
       "      <td>0</td>\n",
       "      <td>37</td>\n",
       "      <td>92</td>\n",
       "      <td>122</td>\n",
       "      <td>0</td>\n",
       "      <td>0</td>\n",
       "      <td>0</td>\n",
       "      <td>0</td>\n",
       "      <td>7</td>\n",
       "      <td>NaN</td>\n",
       "    </tr>\n",
       "    <tr>\n",
       "      <th>11759</th>\n",
       "      <td>3</td>\n",
       "      <td>2019-07-23</td>\n",
       "      <td>104975</td>\n",
       "      <td>47</td>\n",
       "      <td>18999</td>\n",
       "      <td>18999</td>\n",
       "      <td>18999</td>\n",
       "      <td>0</td>\n",
       "      <td>0</td>\n",
       "      <td>0</td>\n",
       "      <td>0</td>\n",
       "      <td>0</td>\n",
       "      <td>2</td>\n",
       "      <td>0</td>\n",
       "      <td>0</td>\n",
       "      <td>0</td>\n",
       "      <td>1</td>\n",
       "      <td>2</td>\n",
       "      <td>20.0</td>\n",
       "    </tr>\n",
       "    <tr>\n",
       "      <th>12159</th>\n",
       "      <td>1</td>\n",
       "      <td>2019-07-23</td>\n",
       "      <td>127462</td>\n",
       "      <td>57</td>\n",
       "      <td>18999</td>\n",
       "      <td>18999</td>\n",
       "      <td>18999</td>\n",
       "      <td>0</td>\n",
       "      <td>1</td>\n",
       "      <td>2</td>\n",
       "      <td>0</td>\n",
       "      <td>0</td>\n",
       "      <td>0</td>\n",
       "      <td>0</td>\n",
       "      <td>0</td>\n",
       "      <td>0</td>\n",
       "      <td>0</td>\n",
       "      <td>2</td>\n",
       "      <td>36.0</td>\n",
       "    </tr>\n",
       "    <tr>\n",
       "      <th>...</th>\n",
       "      <td>...</td>\n",
       "      <td>...</td>\n",
       "      <td>...</td>\n",
       "      <td>...</td>\n",
       "      <td>...</td>\n",
       "      <td>...</td>\n",
       "      <td>...</td>\n",
       "      <td>...</td>\n",
       "      <td>...</td>\n",
       "      <td>...</td>\n",
       "      <td>...</td>\n",
       "      <td>...</td>\n",
       "      <td>...</td>\n",
       "      <td>...</td>\n",
       "      <td>...</td>\n",
       "      <td>...</td>\n",
       "      <td>...</td>\n",
       "      <td>...</td>\n",
       "      <td>...</td>\n",
       "    </tr>\n",
       "    <tr>\n",
       "      <th>67568</th>\n",
       "      <td>1</td>\n",
       "      <td>2019-09-01</td>\n",
       "      <td>43929</td>\n",
       "      <td>40</td>\n",
       "      <td>18999</td>\n",
       "      <td>18999</td>\n",
       "      <td>9</td>\n",
       "      <td>0</td>\n",
       "      <td>0</td>\n",
       "      <td>0</td>\n",
       "      <td>2</td>\n",
       "      <td>2</td>\n",
       "      <td>3</td>\n",
       "      <td>1</td>\n",
       "      <td>1</td>\n",
       "      <td>1</td>\n",
       "      <td>0</td>\n",
       "      <td>7</td>\n",
       "      <td>NaN</td>\n",
       "    </tr>\n",
       "    <tr>\n",
       "      <th>68887</th>\n",
       "      <td>3</td>\n",
       "      <td>2019-09-01</td>\n",
       "      <td>103603</td>\n",
       "      <td>32</td>\n",
       "      <td>25</td>\n",
       "      <td>18140</td>\n",
       "      <td>18999</td>\n",
       "      <td>0</td>\n",
       "      <td>0</td>\n",
       "      <td>1</td>\n",
       "      <td>0</td>\n",
       "      <td>0</td>\n",
       "      <td>0</td>\n",
       "      <td>0</td>\n",
       "      <td>0</td>\n",
       "      <td>0</td>\n",
       "      <td>0</td>\n",
       "      <td>7</td>\n",
       "      <td>NaN</td>\n",
       "    </tr>\n",
       "    <tr>\n",
       "      <th>70360</th>\n",
       "      <td>5</td>\n",
       "      <td>2019-09-02</td>\n",
       "      <td>17748</td>\n",
       "      <td>23</td>\n",
       "      <td>18999</td>\n",
       "      <td>18141</td>\n",
       "      <td>101</td>\n",
       "      <td>0</td>\n",
       "      <td>0</td>\n",
       "      <td>0</td>\n",
       "      <td>0</td>\n",
       "      <td>0</td>\n",
       "      <td>0</td>\n",
       "      <td>0</td>\n",
       "      <td>0</td>\n",
       "      <td>0</td>\n",
       "      <td>0</td>\n",
       "      <td>1</td>\n",
       "      <td>NaN</td>\n",
       "    </tr>\n",
       "    <tr>\n",
       "      <th>71812</th>\n",
       "      <td>3</td>\n",
       "      <td>2019-09-02</td>\n",
       "      <td>68171</td>\n",
       "      <td>49</td>\n",
       "      <td>18999</td>\n",
       "      <td>18999</td>\n",
       "      <td>18999</td>\n",
       "      <td>8</td>\n",
       "      <td>23</td>\n",
       "      <td>35</td>\n",
       "      <td>0</td>\n",
       "      <td>0</td>\n",
       "      <td>0</td>\n",
       "      <td>0</td>\n",
       "      <td>0</td>\n",
       "      <td>0</td>\n",
       "      <td>1</td>\n",
       "      <td>1</td>\n",
       "      <td>32.0</td>\n",
       "    </tr>\n",
       "    <tr>\n",
       "      <th>73536</th>\n",
       "      <td>2</td>\n",
       "      <td>2019-09-02</td>\n",
       "      <td>127696</td>\n",
       "      <td>32</td>\n",
       "      <td>18999</td>\n",
       "      <td>18999</td>\n",
       "      <td>18999</td>\n",
       "      <td>0</td>\n",
       "      <td>0</td>\n",
       "      <td>0</td>\n",
       "      <td>0</td>\n",
       "      <td>0</td>\n",
       "      <td>0</td>\n",
       "      <td>0</td>\n",
       "      <td>0</td>\n",
       "      <td>0</td>\n",
       "      <td>0</td>\n",
       "      <td>1</td>\n",
       "      <td>NaN</td>\n",
       "    </tr>\n",
       "  </tbody>\n",
       "</table>\n",
       "<p>303 rows × 19 columns</p>\n",
       "</div>"
      ],
      "text/plain": [
       "      country_code  grass_date user_id  subject_line_length  last_open_day  \\\n",
       "1739             2  2019-07-16   90499                   46          18999   \n",
       "6049             4  2019-07-19  111486                   46              2   \n",
       "7022             1  2019-07-21   18952                   40          18999   \n",
       "11759            3  2019-07-23  104975                   47          18999   \n",
       "12159            1  2019-07-23  127462                   57          18999   \n",
       "...            ...         ...     ...                  ...            ...   \n",
       "67568            1  2019-09-01   43929                   40          18999   \n",
       "68887            3  2019-09-01  103603                   32             25   \n",
       "70360            5  2019-09-02   17748                   23          18999   \n",
       "71812            3  2019-09-02   68171                   49          18999   \n",
       "73536            2  2019-09-02  127696                   32          18999   \n",
       "\n",
       "       last_login_day  last_checkout_day  open_count_last_10_days  \\\n",
       "1739            18999              18999                        0   \n",
       "6049            18096              18999                        1   \n",
       "7022            18999                 66                        0   \n",
       "11759           18999              18999                        0   \n",
       "12159           18999              18999                        0   \n",
       "...               ...                ...                      ...   \n",
       "67568           18999                  9                        0   \n",
       "68887           18140              18999                        0   \n",
       "70360           18141                101                        0   \n",
       "71812           18999              18999                        8   \n",
       "73536           18999              18999                        0   \n",
       "\n",
       "       open_count_last_30_days  open_count_last_60_days  \\\n",
       "1739                         0                        2   \n",
       "6049                         1                        1   \n",
       "7022                         0                        0   \n",
       "11759                        0                        0   \n",
       "12159                        1                        2   \n",
       "...                        ...                      ...   \n",
       "67568                        0                        0   \n",
       "68887                        0                        1   \n",
       "70360                        0                        0   \n",
       "71812                       23                       35   \n",
       "73536                        0                        0   \n",
       "\n",
       "       login_count_last_10_days  login_count_last_30_days  \\\n",
       "1739                          0                         0   \n",
       "6049                          0                         0   \n",
       "7022                         37                        92   \n",
       "11759                         0                         0   \n",
       "12159                         0                         0   \n",
       "...                         ...                       ...   \n",
       "67568                         2                         2   \n",
       "68887                         0                         0   \n",
       "70360                         0                         0   \n",
       "71812                         0                         0   \n",
       "73536                         0                         0   \n",
       "\n",
       "       login_count_last_60_days  checkout_count_last_10_days  \\\n",
       "1739                          0                            0   \n",
       "6049                          1                            0   \n",
       "7022                        122                            0   \n",
       "11759                         2                            0   \n",
       "12159                         0                            0   \n",
       "...                         ...                          ...   \n",
       "67568                         3                            1   \n",
       "68887                         0                            0   \n",
       "70360                         0                            0   \n",
       "71812                         0                            0   \n",
       "73536                         0                            0   \n",
       "\n",
       "       checkout_count_last_30_days  checkout_count_last_60_days  open_flag  \\\n",
       "1739                             0                            0          0   \n",
       "6049                             0                            0          1   \n",
       "7022                             0                            0          0   \n",
       "11759                            0                            0          1   \n",
       "12159                            0                            0          0   \n",
       "...                            ...                          ...        ...   \n",
       "67568                            1                            1          0   \n",
       "68887                            0                            0          0   \n",
       "70360                            0                            0          0   \n",
       "71812                            0                            0          1   \n",
       "73536                            0                            0          0   \n",
       "\n",
       "       email_weekday   age  \n",
       "1739               2   NaN  \n",
       "6049               5   NaN  \n",
       "7022               7   NaN  \n",
       "11759              2  20.0  \n",
       "12159              2  36.0  \n",
       "...              ...   ...  \n",
       "67568              7   NaN  \n",
       "68887              7   NaN  \n",
       "70360              1   NaN  \n",
       "71812              1  32.0  \n",
       "73536              1   NaN  \n",
       "\n",
       "[303 rows x 19 columns]"
      ]
     },
     "execution_count": 29,
     "metadata": {},
     "output_type": "execute_result"
    }
   ],
   "source": [
    "print(f\" Total of {len(df.query('last_login_day > 9999'))} rows last login day of >18000 days, translated to > 50 years ago\")\n",
    "df.query('last_login_day > 9999')\n"
   ]
  },
  {
   "cell_type": "code",
   "execution_count": 23,
   "metadata": {},
   "outputs": [],
   "source": [
    "# drop rows with unrealistic long last login day ( > 50 years)\n",
    "#df = df.query('last_login_day <= 9999')"
   ]
  },
  {
   "cell_type": "code",
   "execution_count": 30,
   "metadata": {},
   "outputs": [
    {
     "data": {
      "text/plain": [
       "180"
      ]
     },
     "execution_count": 30,
     "metadata": {},
     "output_type": "execute_result"
    }
   ],
   "source": [
    "len(test.query('last_login_day > 9999'))"
   ]
  },
  {
   "cell_type": "markdown",
   "metadata": {},
   "source": [
    "#### 2.4.2 `age`\n",
    "- This is user reported age, which may not be the true age.\n",
    "- There are 2 with negative age, which is impossible.\n",
    "- There are 314 with age exceeding 100 years old.\n",
    "- 38.32% user not disclose their age.\n",
    "\n",
    "Thus, info from this column is treated as for information only, as it might not be the true age and there are ~ 38% user not reporting their age as well."
   ]
  },
  {
   "cell_type": "code",
   "execution_count": 31,
   "metadata": {},
   "outputs": [
    {
     "name": "stdout",
     "output_type": "stream",
     "text": [
      "Age column has 28192 missing value out of 73539\n",
      "which is approximately 38.34% of the dataset\n"
     ]
    }
   ],
   "source": [
    "print(f\"Age column has {df['age'].isnull().sum()} missing value out of {df.shape[0]}\")\n",
    "print(f\"which is approximately {round(100*df['age'].isnull().sum()/df.shape[0],2)}% of the dataset\")"
   ]
  },
  {
   "cell_type": "code",
   "execution_count": 32,
   "metadata": {},
   "outputs": [
    {
     "data": {
      "text/html": [
       "<div>\n",
       "<style scoped>\n",
       "    .dataframe tbody tr th:only-of-type {\n",
       "        vertical-align: middle;\n",
       "    }\n",
       "\n",
       "    .dataframe tbody tr th {\n",
       "        vertical-align: top;\n",
       "    }\n",
       "\n",
       "    .dataframe thead th {\n",
       "        text-align: right;\n",
       "    }\n",
       "</style>\n",
       "<table border=\"1\" class=\"dataframe\">\n",
       "  <thead>\n",
       "    <tr style=\"text-align: right;\">\n",
       "      <th></th>\n",
       "      <th>country_code</th>\n",
       "      <th>grass_date</th>\n",
       "      <th>user_id</th>\n",
       "      <th>subject_line_length</th>\n",
       "      <th>last_open_day</th>\n",
       "      <th>last_login_day</th>\n",
       "      <th>last_checkout_day</th>\n",
       "      <th>open_count_last_10_days</th>\n",
       "      <th>open_count_last_30_days</th>\n",
       "      <th>open_count_last_60_days</th>\n",
       "      <th>login_count_last_10_days</th>\n",
       "      <th>login_count_last_30_days</th>\n",
       "      <th>login_count_last_60_days</th>\n",
       "      <th>checkout_count_last_10_days</th>\n",
       "      <th>checkout_count_last_30_days</th>\n",
       "      <th>checkout_count_last_60_days</th>\n",
       "      <th>open_flag</th>\n",
       "      <th>email_weekday</th>\n",
       "      <th>age</th>\n",
       "    </tr>\n",
       "  </thead>\n",
       "  <tbody>\n",
       "    <tr>\n",
       "      <th>55774</th>\n",
       "      <td>3</td>\n",
       "      <td>2019-08-22</td>\n",
       "      <td>86151</td>\n",
       "      <td>52</td>\n",
       "      <td>37</td>\n",
       "      <td>128</td>\n",
       "      <td>259</td>\n",
       "      <td>0</td>\n",
       "      <td>0</td>\n",
       "      <td>0</td>\n",
       "      <td>0</td>\n",
       "      <td>0</td>\n",
       "      <td>0</td>\n",
       "      <td>0</td>\n",
       "      <td>0</td>\n",
       "      <td>0</td>\n",
       "      <td>0</td>\n",
       "      <td>4</td>\n",
       "      <td>-17.0</td>\n",
       "    </tr>\n",
       "    <tr>\n",
       "      <th>59683</th>\n",
       "      <td>5</td>\n",
       "      <td>2019-08-26</td>\n",
       "      <td>1973</td>\n",
       "      <td>31</td>\n",
       "      <td>30</td>\n",
       "      <td>2</td>\n",
       "      <td>2</td>\n",
       "      <td>0</td>\n",
       "      <td>0</td>\n",
       "      <td>7</td>\n",
       "      <td>8</td>\n",
       "      <td>25</td>\n",
       "      <td>28</td>\n",
       "      <td>1</td>\n",
       "      <td>4</td>\n",
       "      <td>5</td>\n",
       "      <td>0</td>\n",
       "      <td>1</td>\n",
       "      <td>-16.0</td>\n",
       "    </tr>\n",
       "  </tbody>\n",
       "</table>\n",
       "</div>"
      ],
      "text/plain": [
       "      country_code  grass_date user_id  subject_line_length  last_open_day  \\\n",
       "55774            3  2019-08-22   86151                   52             37   \n",
       "59683            5  2019-08-26    1973                   31             30   \n",
       "\n",
       "       last_login_day  last_checkout_day  open_count_last_10_days  \\\n",
       "55774             128                259                        0   \n",
       "59683               2                  2                        0   \n",
       "\n",
       "       open_count_last_30_days  open_count_last_60_days  \\\n",
       "55774                        0                        0   \n",
       "59683                        0                        7   \n",
       "\n",
       "       login_count_last_10_days  login_count_last_30_days  \\\n",
       "55774                         0                         0   \n",
       "59683                         8                        25   \n",
       "\n",
       "       login_count_last_60_days  checkout_count_last_10_days  \\\n",
       "55774                         0                            0   \n",
       "59683                        28                            1   \n",
       "\n",
       "       checkout_count_last_30_days  checkout_count_last_60_days  open_flag  \\\n",
       "55774                            0                            0          0   \n",
       "59683                            4                            5          0   \n",
       "\n",
       "       email_weekday   age  \n",
       "55774              4 -17.0  \n",
       "59683              1 -16.0  "
      ]
     },
     "execution_count": 32,
     "metadata": {},
     "output_type": "execute_result"
    }
   ],
   "source": [
    "# Two users with negative age, which is impossible\n",
    "df.query('age < 0')"
   ]
  },
  {
   "cell_type": "code",
   "execution_count": 33,
   "metadata": {},
   "outputs": [
    {
     "data": {
      "text/html": [
       "<div>\n",
       "<style scoped>\n",
       "    .dataframe tbody tr th:only-of-type {\n",
       "        vertical-align: middle;\n",
       "    }\n",
       "\n",
       "    .dataframe tbody tr th {\n",
       "        vertical-align: top;\n",
       "    }\n",
       "\n",
       "    .dataframe thead th {\n",
       "        text-align: right;\n",
       "    }\n",
       "</style>\n",
       "<table border=\"1\" class=\"dataframe\">\n",
       "  <thead>\n",
       "    <tr style=\"text-align: right;\">\n",
       "      <th></th>\n",
       "      <th>country_code</th>\n",
       "      <th>grass_date</th>\n",
       "      <th>user_id</th>\n",
       "      <th>subject_line_length</th>\n",
       "      <th>last_open_day</th>\n",
       "      <th>last_login_day</th>\n",
       "      <th>last_checkout_day</th>\n",
       "      <th>open_count_last_10_days</th>\n",
       "      <th>open_count_last_30_days</th>\n",
       "      <th>open_count_last_60_days</th>\n",
       "      <th>login_count_last_10_days</th>\n",
       "      <th>login_count_last_30_days</th>\n",
       "      <th>login_count_last_60_days</th>\n",
       "      <th>checkout_count_last_10_days</th>\n",
       "      <th>checkout_count_last_30_days</th>\n",
       "      <th>checkout_count_last_60_days</th>\n",
       "      <th>open_flag</th>\n",
       "      <th>email_weekday</th>\n",
       "      <th>age</th>\n",
       "    </tr>\n",
       "  </thead>\n",
       "  <tbody>\n",
       "    <tr>\n",
       "      <th>395</th>\n",
       "      <td>4</td>\n",
       "      <td>2019-07-16</td>\n",
       "      <td>23206</td>\n",
       "      <td>44</td>\n",
       "      <td>10</td>\n",
       "      <td>2</td>\n",
       "      <td>2</td>\n",
       "      <td>1</td>\n",
       "      <td>1</td>\n",
       "      <td>2</td>\n",
       "      <td>25</td>\n",
       "      <td>69</td>\n",
       "      <td>163</td>\n",
       "      <td>4</td>\n",
       "      <td>8</td>\n",
       "      <td>16</td>\n",
       "      <td>0</td>\n",
       "      <td>2</td>\n",
       "      <td>118.0</td>\n",
       "    </tr>\n",
       "    <tr>\n",
       "      <th>639</th>\n",
       "      <td>4</td>\n",
       "      <td>2019-07-16</td>\n",
       "      <td>36248</td>\n",
       "      <td>44</td>\n",
       "      <td>9</td>\n",
       "      <td>2</td>\n",
       "      <td>13</td>\n",
       "      <td>1</td>\n",
       "      <td>1</td>\n",
       "      <td>2</td>\n",
       "      <td>3</td>\n",
       "      <td>10</td>\n",
       "      <td>11</td>\n",
       "      <td>1</td>\n",
       "      <td>2</td>\n",
       "      <td>2</td>\n",
       "      <td>1</td>\n",
       "      <td>2</td>\n",
       "      <td>118.0</td>\n",
       "    </tr>\n",
       "    <tr>\n",
       "      <th>677</th>\n",
       "      <td>4</td>\n",
       "      <td>2019-07-16</td>\n",
       "      <td>38235</td>\n",
       "      <td>44</td>\n",
       "      <td>12</td>\n",
       "      <td>6</td>\n",
       "      <td>42</td>\n",
       "      <td>0</td>\n",
       "      <td>3</td>\n",
       "      <td>3</td>\n",
       "      <td>1</td>\n",
       "      <td>5</td>\n",
       "      <td>36</td>\n",
       "      <td>0</td>\n",
       "      <td>0</td>\n",
       "      <td>4</td>\n",
       "      <td>0</td>\n",
       "      <td>2</td>\n",
       "      <td>118.0</td>\n",
       "    </tr>\n",
       "    <tr>\n",
       "      <th>862</th>\n",
       "      <td>4</td>\n",
       "      <td>2019-07-16</td>\n",
       "      <td>47984</td>\n",
       "      <td>44</td>\n",
       "      <td>12</td>\n",
       "      <td>1</td>\n",
       "      <td>128</td>\n",
       "      <td>0</td>\n",
       "      <td>2</td>\n",
       "      <td>2</td>\n",
       "      <td>2</td>\n",
       "      <td>5</td>\n",
       "      <td>12</td>\n",
       "      <td>0</td>\n",
       "      <td>0</td>\n",
       "      <td>0</td>\n",
       "      <td>1</td>\n",
       "      <td>2</td>\n",
       "      <td>118.0</td>\n",
       "    </tr>\n",
       "    <tr>\n",
       "      <th>896</th>\n",
       "      <td>4</td>\n",
       "      <td>2019-07-16</td>\n",
       "      <td>49721</td>\n",
       "      <td>44</td>\n",
       "      <td>7</td>\n",
       "      <td>12</td>\n",
       "      <td>15</td>\n",
       "      <td>1</td>\n",
       "      <td>1</td>\n",
       "      <td>1</td>\n",
       "      <td>1</td>\n",
       "      <td>12</td>\n",
       "      <td>21</td>\n",
       "      <td>0</td>\n",
       "      <td>4</td>\n",
       "      <td>4</td>\n",
       "      <td>0</td>\n",
       "      <td>2</td>\n",
       "      <td>118.0</td>\n",
       "    </tr>\n",
       "    <tr>\n",
       "      <th>...</th>\n",
       "      <td>...</td>\n",
       "      <td>...</td>\n",
       "      <td>...</td>\n",
       "      <td>...</td>\n",
       "      <td>...</td>\n",
       "      <td>...</td>\n",
       "      <td>...</td>\n",
       "      <td>...</td>\n",
       "      <td>...</td>\n",
       "      <td>...</td>\n",
       "      <td>...</td>\n",
       "      <td>...</td>\n",
       "      <td>...</td>\n",
       "      <td>...</td>\n",
       "      <td>...</td>\n",
       "      <td>...</td>\n",
       "      <td>...</td>\n",
       "      <td>...</td>\n",
       "      <td>...</td>\n",
       "    </tr>\n",
       "    <tr>\n",
       "      <th>71126</th>\n",
       "      <td>3</td>\n",
       "      <td>2019-09-02</td>\n",
       "      <td>44189</td>\n",
       "      <td>64</td>\n",
       "      <td>12</td>\n",
       "      <td>3</td>\n",
       "      <td>3</td>\n",
       "      <td>0</td>\n",
       "      <td>1</td>\n",
       "      <td>5</td>\n",
       "      <td>11</td>\n",
       "      <td>49</td>\n",
       "      <td>121</td>\n",
       "      <td>2</td>\n",
       "      <td>4</td>\n",
       "      <td>9</td>\n",
       "      <td>0</td>\n",
       "      <td>1</td>\n",
       "      <td>118.0</td>\n",
       "    </tr>\n",
       "    <tr>\n",
       "      <th>71586</th>\n",
       "      <td>3</td>\n",
       "      <td>2019-09-02</td>\n",
       "      <td>60237</td>\n",
       "      <td>49</td>\n",
       "      <td>10</td>\n",
       "      <td>2</td>\n",
       "      <td>54</td>\n",
       "      <td>1</td>\n",
       "      <td>6</td>\n",
       "      <td>8</td>\n",
       "      <td>3</td>\n",
       "      <td>6</td>\n",
       "      <td>24</td>\n",
       "      <td>0</td>\n",
       "      <td>0</td>\n",
       "      <td>1</td>\n",
       "      <td>0</td>\n",
       "      <td>1</td>\n",
       "      <td>110.0</td>\n",
       "    </tr>\n",
       "    <tr>\n",
       "      <th>71868</th>\n",
       "      <td>4</td>\n",
       "      <td>2019-09-02</td>\n",
       "      <td>70127</td>\n",
       "      <td>34</td>\n",
       "      <td>42</td>\n",
       "      <td>7</td>\n",
       "      <td>37</td>\n",
       "      <td>0</td>\n",
       "      <td>0</td>\n",
       "      <td>0</td>\n",
       "      <td>4</td>\n",
       "      <td>20</td>\n",
       "      <td>56</td>\n",
       "      <td>0</td>\n",
       "      <td>0</td>\n",
       "      <td>3</td>\n",
       "      <td>0</td>\n",
       "      <td>1</td>\n",
       "      <td>118.0</td>\n",
       "    </tr>\n",
       "    <tr>\n",
       "      <th>72049</th>\n",
       "      <td>4</td>\n",
       "      <td>2019-09-02</td>\n",
       "      <td>78293</td>\n",
       "      <td>34</td>\n",
       "      <td>66</td>\n",
       "      <td>69</td>\n",
       "      <td>90</td>\n",
       "      <td>0</td>\n",
       "      <td>0</td>\n",
       "      <td>0</td>\n",
       "      <td>0</td>\n",
       "      <td>0</td>\n",
       "      <td>0</td>\n",
       "      <td>0</td>\n",
       "      <td>0</td>\n",
       "      <td>0</td>\n",
       "      <td>0</td>\n",
       "      <td>1</td>\n",
       "      <td>118.0</td>\n",
       "    </tr>\n",
       "    <tr>\n",
       "      <th>72075</th>\n",
       "      <td>2</td>\n",
       "      <td>2019-09-02</td>\n",
       "      <td>79141</td>\n",
       "      <td>38</td>\n",
       "      <td>28</td>\n",
       "      <td>215</td>\n",
       "      <td>327</td>\n",
       "      <td>0</td>\n",
       "      <td>0</td>\n",
       "      <td>3</td>\n",
       "      <td>0</td>\n",
       "      <td>0</td>\n",
       "      <td>0</td>\n",
       "      <td>0</td>\n",
       "      <td>0</td>\n",
       "      <td>0</td>\n",
       "      <td>0</td>\n",
       "      <td>1</td>\n",
       "      <td>107.0</td>\n",
       "    </tr>\n",
       "  </tbody>\n",
       "</table>\n",
       "<p>314 rows × 19 columns</p>\n",
       "</div>"
      ],
      "text/plain": [
       "      country_code  grass_date user_id  subject_line_length  last_open_day  \\\n",
       "395              4  2019-07-16   23206                   44             10   \n",
       "639              4  2019-07-16   36248                   44              9   \n",
       "677              4  2019-07-16   38235                   44             12   \n",
       "862              4  2019-07-16   47984                   44             12   \n",
       "896              4  2019-07-16   49721                   44              7   \n",
       "...            ...         ...     ...                  ...            ...   \n",
       "71126            3  2019-09-02   44189                   64             12   \n",
       "71586            3  2019-09-02   60237                   49             10   \n",
       "71868            4  2019-09-02   70127                   34             42   \n",
       "72049            4  2019-09-02   78293                   34             66   \n",
       "72075            2  2019-09-02   79141                   38             28   \n",
       "\n",
       "       last_login_day  last_checkout_day  open_count_last_10_days  \\\n",
       "395                 2                  2                        1   \n",
       "639                 2                 13                        1   \n",
       "677                 6                 42                        0   \n",
       "862                 1                128                        0   \n",
       "896                12                 15                        1   \n",
       "...               ...                ...                      ...   \n",
       "71126               3                  3                        0   \n",
       "71586               2                 54                        1   \n",
       "71868               7                 37                        0   \n",
       "72049              69                 90                        0   \n",
       "72075             215                327                        0   \n",
       "\n",
       "       open_count_last_30_days  open_count_last_60_days  \\\n",
       "395                          1                        2   \n",
       "639                          1                        2   \n",
       "677                          3                        3   \n",
       "862                          2                        2   \n",
       "896                          1                        1   \n",
       "...                        ...                      ...   \n",
       "71126                        1                        5   \n",
       "71586                        6                        8   \n",
       "71868                        0                        0   \n",
       "72049                        0                        0   \n",
       "72075                        0                        3   \n",
       "\n",
       "       login_count_last_10_days  login_count_last_30_days  \\\n",
       "395                          25                        69   \n",
       "639                           3                        10   \n",
       "677                           1                         5   \n",
       "862                           2                         5   \n",
       "896                           1                        12   \n",
       "...                         ...                       ...   \n",
       "71126                        11                        49   \n",
       "71586                         3                         6   \n",
       "71868                         4                        20   \n",
       "72049                         0                         0   \n",
       "72075                         0                         0   \n",
       "\n",
       "       login_count_last_60_days  checkout_count_last_10_days  \\\n",
       "395                         163                            4   \n",
       "639                          11                            1   \n",
       "677                          36                            0   \n",
       "862                          12                            0   \n",
       "896                          21                            0   \n",
       "...                         ...                          ...   \n",
       "71126                       121                            2   \n",
       "71586                        24                            0   \n",
       "71868                        56                            0   \n",
       "72049                         0                            0   \n",
       "72075                         0                            0   \n",
       "\n",
       "       checkout_count_last_30_days  checkout_count_last_60_days  open_flag  \\\n",
       "395                              8                           16          0   \n",
       "639                              2                            2          1   \n",
       "677                              0                            4          0   \n",
       "862                              0                            0          1   \n",
       "896                              4                            4          0   \n",
       "...                            ...                          ...        ...   \n",
       "71126                            4                            9          0   \n",
       "71586                            0                            1          0   \n",
       "71868                            0                            3          0   \n",
       "72049                            0                            0          0   \n",
       "72075                            0                            0          0   \n",
       "\n",
       "       email_weekday    age  \n",
       "395                2  118.0  \n",
       "639                2  118.0  \n",
       "677                2  118.0  \n",
       "862                2  118.0  \n",
       "896                2  118.0  \n",
       "...              ...    ...  \n",
       "71126              1  118.0  \n",
       "71586              1  110.0  \n",
       "71868              1  118.0  \n",
       "72049              1  118.0  \n",
       "72075              1  107.0  \n",
       "\n",
       "[314 rows x 19 columns]"
      ]
     },
     "execution_count": 33,
     "metadata": {},
     "output_type": "execute_result"
    }
   ],
   "source": [
    "# 314 users age exceeding 100 yo, which is ambiguity\n",
    "df.query('age > 100')"
   ]
  },
  {
   "cell_type": "code",
   "execution_count": 34,
   "metadata": {},
   "outputs": [],
   "source": [
    "# replace negative age with nan\n",
    "df['age'] = df['age'].replace(to_replace=[-16,-17], value=np.nan)"
   ]
  },
  {
   "cell_type": "markdown",
   "metadata": {},
   "source": [
    "<a id='eda'></a>\n",
    "## 3 Exploratory Data Analysis"
   ]
  },
  {
   "cell_type": "markdown",
   "metadata": {},
   "source": [
    "### 3.1 Dependent variable, `open_flag`   \n",
    "- **15.58%** (11451 out of 73515) open their email from Shopee."
   ]
  },
  {
   "cell_type": "code",
   "execution_count": 35,
   "metadata": {},
   "outputs": [
    {
     "name": "stdout",
     "output_type": "stream",
     "text": [
      "Email open or not:\n",
      "0    62083\n",
      "1    11456\n",
      "Name: open_flag, dtype: int64\n",
      "\n",
      "In percentage:\n",
      "0    84.421871\n",
      "1    15.578129\n",
      "Name: open_flag, dtype: float64\n"
     ]
    }
   ],
   "source": [
    "print(\"Email open or not:\")\n",
    "print(df['open_flag'].value_counts())\n",
    "print()\n",
    "print(\"In percentage:\")\n",
    "print(100*df['open_flag'].value_counts(normalize=True))"
   ]
  },
  {
   "cell_type": "code",
   "execution_count": 36,
   "metadata": {},
   "outputs": [
    {
     "data": {
      "image/png": "[encoded data removed]",
      "text/plain": [
       "<Figure size 432x288 with 1 Axes>"
      ]
     },
     "metadata": {
      "needs_background": "light"
     },
     "output_type": "display_data"
    }
   ],
   "source": [
    "# Visualise open_flag in bar plot\n",
    "plt.subplots(figsize=(6,4))\n",
    "ax = sns.countplot(x='open_flag', data = df, palette = \"Set2\")\n",
    "\n",
    "ax.legend(ax.patches, [\"0: not open email\", \"1: open email\"])\n",
    "ax.set_title(\"Distribution of open_flag (open/ not open email)\", fontsize=16);"
   ]
  },
  {
   "cell_type": "markdown",
   "metadata": {},
   "source": [
    "### 3.2 Is specific user demographics (country, age) prompt to open email?"
   ]
  },
  {
   "cell_type": "code",
   "execution_count": 37,
   "metadata": {},
   "outputs": [
    {
     "data": {
      "text/plain": [
       "country_code  open_flag\n",
       "1             0            0.918904\n",
       "              1            0.081096\n",
       "2             0            0.808851\n",
       "              1            0.191149\n",
       "3             0            0.868617\n",
       "              1            0.131383\n",
       "4             0            0.650587\n",
       "              1            0.349413\n",
       "5             0            0.784682\n",
       "              1            0.215318\n",
       "6             0            0.778019\n",
       "              1            0.221981\n",
       "7             0            0.755774\n",
       "              1            0.244226\n",
       "Name: open_flag, dtype: float64"
      ]
     },
     "execution_count": 37,
     "metadata": {},
     "output_type": "execute_result"
    }
   ],
   "source": [
    "# find out the \n",
    "df.groupby('country_code')['open_flag'].value_counts(normalize = True)"
   ]
  },
  {
   "cell_type": "code",
   "execution_count": 38,
   "metadata": {},
   "outputs": [
    {
     "data": {
      "image/png": "[encoded data removed]",
      "text/plain": [
       "<Figure size 432x288 with 1 Axes>"
      ]
     },
     "metadata": {
      "needs_background": "light"
     },
     "output_type": "display_data"
    }
   ],
   "source": [
    "# Visualise the distribution of user's country_code\n",
    "ax = sns.countplot(x = 'country_code', hue = 'open_flag', data = df, palette = \"Set2\")\n",
    "ax.set_title(\"User's country code distribution\", fontsize=16);"
   ]
  },
  {
   "cell_type": "code",
   "execution_count": 39,
   "metadata": {},
   "outputs": [],
   "source": [
    "def cat_plot(x, y, df, title):\n",
    "    \"\"\"\n",
    "    This is using seaborn catplot\n",
    "    Input: x = data for x- axis, y = data for y-axis, dataframe, and the title\n",
    "    \"\"\"\n",
    "    ax = sns.catplot(x = x, y = y, data = df, palette = \"Set2\", kind = \"violin\",\n",
    "                     height = 5, aspect = 1.4)\n",
    "    \n",
    "    ax.fig.subplots_adjust(top = .9)\n",
    "    ax.fig.suptitle(title, fontsize =16)"
   ]
  },
  {
   "cell_type": "code",
   "execution_count": 40,
   "metadata": {},
   "outputs": [
    {
     "data": {
      "image/png": "[encoded data removed]",
      "text/plain": [
       "<Figure size 504x360 with 1 Axes>"
      ]
     },
     "metadata": {
      "needs_background": "light"
     },
     "output_type": "display_data"
    }
   ],
   "source": [
    "cat_plot('open_flag', 'age', df, \"User's age distribution, groupby open_flag\")"
   ]
  },
  {
   "cell_type": "markdown",
   "metadata": {},
   "source": [
    "### 3.3 Any impact by the subject line length?\n",
    "- No obvious differences in the subject line length distribution grouby `open-flag`."
   ]
  },
  {
   "cell_type": "code",
   "execution_count": 41,
   "metadata": {},
   "outputs": [
    {
     "data": {
      "image/png": "[encoded data removed]",
      "text/plain": [
       "<Figure size 504x360 with 1 Axes>"
      ]
     },
     "metadata": {
      "needs_background": "light"
     },
     "output_type": "display_data"
    }
   ],
   "source": [
    "cat_plot('open_flag', 'subject_line_length', df, \n",
    "         \"Email's subject line's length distribution, groupby open_flag\")"
   ]
  },
  {
   "cell_type": "markdown",
   "metadata": {},
   "source": [
    "### 3.4 Any specific user behavior that prompt to higher possibility of opening email?\n",
    "- frequency of opening email in last 10/30/60 days. \n",
    "- frequency of login in last 10/30/60 days.\n",
    "- frequency of checkout in last 10/30/60 days\n",
    "\n",
    "**High positive correlation** for open, login & checkout counts at different past days (10, 30, 60). Which make sense.   \n",
    "**Positive correlation** between `open_count_last_N_days` and `open_flag`. Slightly stronger correlation for **smaller** N, i.e. 10 days.   \n",
    "**Positive correlation** between `login_count_last_N_days` and `checkout_count_last_N_days`, with slightly stronger correlation for **larger** N, i.e. 60 days.\n",
    "**Weak relationship** between `login_count_last_N_days` and `checkout_count_last_N_days` with `open_flag`. Which means, higher login frequency, higher checkout does not impact much by opening the marketing email."
   ]
  },
  {
   "cell_type": "code",
   "execution_count": 42,
   "metadata": {},
   "outputs": [],
   "source": [
    "# columns to calculate the correlation\n",
    "cols = ['open_count_last_10_days', 'open_count_last_30_days', 'open_count_last_60_days',\n",
    "       'login_count_last_10_days', 'login_count_last_30_days', 'login_count_last_60_days',\n",
    "       'checkout_count_last_10_days', 'checkout_count_last_30_days', 'checkout_count_last_60_days',\n",
    "       'open_flag']\n",
    "corr = df[cols].corr()\n"
   ]
  },
  {
   "cell_type": "code",
   "execution_count": 43,
   "metadata": {},
   "outputs": [
    {
     "data": {
      "image/png": "[encoded data removed]",
      "text/plain": [
       "<Figure size 864x576 with 2 Axes>"
      ]
     },
     "metadata": {},
     "output_type": "display_data"
    }
   ],
   "source": [
    "# Visualise correlation via heatmap\n",
    "mask = np.zeros_like(corr)\n",
    "mask[np.triu_indices_from(mask)] = True\n",
    "\n",
    "with sns.axes_style(\"white\"):\n",
    "    f, ax = plt.subplots(figsize=(12,8))\n",
    "    ax = sns.heatmap(corr, mask = mask, vmax = 1, vmin=-1, annot = True,\n",
    "                     linewidths=.5, cmap = \"YlGnBu\")\n",
    "    ax.set_title(\"Correlation coefficient of user open email, login and checkout history Vs open_flag\", fontsize=16)\n",
    "    plt.xticks(rotation = 75)"
   ]
  },
  {
   "cell_type": "markdown",
   "metadata": {},
   "source": [
    "User that **does not open email, or lower email opening frequency** in the past, tends **NOT open** the email send by Shopee"
   ]
  },
  {
   "cell_type": "code",
   "execution_count": 44,
   "metadata": {},
   "outputs": [
    {
     "data": {
      "image/png": "[encoded data removed]",
      "text/plain": [
       "<Figure size 504x360 with 1 Axes>"
      ]
     },
     "metadata": {
      "needs_background": "light"
     },
     "output_type": "display_data"
    }
   ],
   "source": [
    "# Visualise user open count in last 10 days groupby open_flag\n",
    "cat_plot('open_flag', 'open_count_last_10_days', df, \n",
    "         \"User's open email's frequency in last 10 days, groupby open_flag\")"
   ]
  },
  {
   "cell_type": "markdown",
   "metadata": {},
   "source": [
    "User with **very high login's frequency**, tends NOT open email from shopee"
   ]
  },
  {
   "cell_type": "code",
   "execution_count": 45,
   "metadata": {},
   "outputs": [
    {
     "data": {
      "image/png": "[encoded data removed]",
      "text/plain": [
       "<Figure size 504x360 with 1 Axes>"
      ]
     },
     "metadata": {
      "needs_background": "light"
     },
     "output_type": "display_data"
    }
   ],
   "source": [
    "# Visualise user login count in last 60 days groupby open_flag\n",
    "cat_plot('open_flag', 'login_count_last_60_days', df, \n",
    "         \"User's login's frequency in last 60 days, groupby open_flag\")"
   ]
  },
  {
   "cell_type": "markdown",
   "metadata": {},
   "source": [
    "User with **very high checkout's frequency**, tends NOT open email from shopee"
   ]
  },
  {
   "cell_type": "code",
   "execution_count": 46,
   "metadata": {},
   "outputs": [
    {
     "data": {
      "image/png": "[encoded data removed]",
      "text/plain": [
       "<Figure size 504x360 with 1 Axes>"
      ]
     },
     "metadata": {
      "needs_background": "light"
     },
     "output_type": "display_data"
    }
   ],
   "source": [
    "# Visualise user login count in last 60 days groupby open_flag\n",
    "cat_plot('open_flag', 'checkout_count_last_60_days', df, \n",
    "         \"User's checkout's frequency in last 60 days, groupby open_flag\")"
   ]
  },
  {
   "cell_type": "code",
   "execution_count": 47,
   "metadata": {},
   "outputs": [
    {
     "data": {
      "text/plain": [
       "count    11456.000000\n",
       "mean        50.453736\n",
       "std         68.952705\n",
       "min          0.000000\n",
       "25%          4.000000\n",
       "50%         25.000000\n",
       "75%         73.000000\n",
       "max        863.000000\n",
       "Name: login_count_last_60_days, dtype: float64"
      ]
     },
     "execution_count": 47,
     "metadata": {},
     "output_type": "execute_result"
    }
   ],
   "source": [
    "df.query('open_flag == 1')['login_count_last_60_days'].describe()"
   ]
  },
  {
   "cell_type": "code",
   "execution_count": 48,
   "metadata": {},
   "outputs": [
    {
     "data": {
      "text/plain": [
       "count    62083.000000\n",
       "mean        48.744101\n",
       "std         72.333273\n",
       "min          0.000000\n",
       "25%          3.000000\n",
       "50%         22.000000\n",
       "75%         68.000000\n",
       "max       1260.000000\n",
       "Name: login_count_last_60_days, dtype: float64"
      ]
     },
     "execution_count": 48,
     "metadata": {},
     "output_type": "execute_result"
    }
   ],
   "source": [
    "df.query('open_flag == 0')['login_count_last_60_days'].describe()"
   ]
  },
  {
   "cell_type": "markdown",
   "metadata": {},
   "source": [
    "# 4 Model Preprocessing"
   ]
  },
  {
   "cell_type": "code",
   "execution_count": 49,
   "metadata": {},
   "outputs": [],
   "source": [
    "# Scikit learn\n",
    "from sklearn.model_selection import train_test_split, cross_val_score, GridSearchCV, RandomizedSearchCV\n",
    "from sklearn.preprocessing import StandardScaler, OneHotEncoder\n",
    "from sklearn.compose import ColumnTransformer\n",
    "from sklearn.utils import class_weight\n",
    "from sklearn.metrics import accuracy_score, precision_score, recall_score, roc_auc_score\n",
    "from sklearn.metrics import classification_report, confusion_matrix\n",
    "from sklearn.pipeline import Pipeline\n",
    "from sklearn.linear_model import LogisticRegression\n",
    "from sklearn.neighbors import KNeighborsClassifier\n",
    "from sklearn.ensemble import RandomForestClassifier\n",
    "from sklearn.svm import LinearSVC, SVC\n",
    "from sklearn.ensemble import AdaBoostClassifier\n",
    "\n",
    "# xgboost\n",
    "from xgboost import XGBClassifier\n",
    "from xgboost import plot_tree, plot_importance"
   ]
  },
  {
   "cell_type": "code",
   "execution_count": 50,
   "metadata": {},
   "outputs": [],
   "source": [
    "# Select cols for feature X (independent variables)\n",
    "# exclude those feature X that highly correlated (e.g. only select open_count_last_10_days)\n",
    "# exclude for 30/60 days. Similarly for login & checkout count\n",
    "\n",
    "cols = ['country_code','subject_line_length',\n",
    "       'last_open_day', 'last_login_day', 'last_checkout_day',\n",
    "       'open_count_last_10_days', 'login_count_last_60_days',\n",
    "       'checkout_count_last_60_days','email_weekday']\n",
    "\n",
    "dfx = df[cols]  \n",
    "test_x = test[cols]"
   ]
  },
  {
   "cell_type": "code",
   "execution_count": 51,
   "metadata": {},
   "outputs": [
    {
     "name": "stdout",
     "output_type": "stream",
     "text": [
      "shape for train dataset, dfx : (73539, 9)\n",
      "shape for test dataset, test_x : (55970, 9)\n"
     ]
    }
   ],
   "source": [
    "# Total of 9 features (incl. 1 nominal categorical feature, i.e. the country_code)\n",
    "print(f\"shape for train dataset, dfx : {dfx.shape}\")\n",
    "print(f\"shape for test dataset, test_x : {test_x.shape}\")"
   ]
  },
  {
   "cell_type": "code",
   "execution_count": 53,
   "metadata": {},
   "outputs": [],
   "source": [
    "# Create X-features and y label\n",
    "X = dfx\n",
    "y = df['open_flag']\n",
    "\n",
    "Xtest = test_x  #test dataset"
   ]
  },
  {
   "cell_type": "markdown",
   "metadata": {},
   "source": [
    "### Train test split"
   ]
  },
  {
   "cell_type": "code",
   "execution_count": 56,
   "metadata": {},
   "outputs": [],
   "source": [
    "X_train, X_test, y_train, y_test = train_test_split(X, y, test_size = 0.2, shuffle = True,\n",
    "                                                   stratify = y, random_state = 42)"
   ]
  },
  {
   "cell_type": "code",
   "execution_count": 57,
   "metadata": {},
   "outputs": [
    {
     "name": "stdout",
     "output_type": "stream",
     "text": [
      "X_train: (58831, 9), y_train: (58831,)\n",
      "X_test: (14708, 9), y_test: (14708,)\n"
     ]
    }
   ],
   "source": [
    "print(f\"X_train: {X_train.shape}, y_train: {y_train.shape}\")\n",
    "print(f\"X_test: {X_test.shape}, y_test: {y_test.shape}\")"
   ]
  },
  {
   "cell_type": "markdown",
   "metadata": {},
   "source": [
    "### Preprocessing pipelines"
   ]
  },
  {
   "cell_type": "code",
   "execution_count": 58,
   "metadata": {},
   "outputs": [],
   "source": [
    "# Numeric features, to perform scalling\n",
    "numeric_X = cols[1:]\n",
    "\n",
    "numeric_transform = Pipeline(steps = [\n",
    "                    ('scaler', StandardScaler())\n",
    "                    ])"
   ]
  },
  {
   "cell_type": "code",
   "execution_count": 59,
   "metadata": {},
   "outputs": [],
   "source": [
    "# Nominal categorical features to OneHotEncode\n",
    "categorical_X = ['country_code']\n",
    "\n",
    "categorical_transform = Pipeline(steps = [\n",
    "                    ('onehot', OneHotEncoder(handle_unknown = 'ignore'))\n",
    "                    ])"
   ]
  },
  {
   "cell_type": "code",
   "execution_count": 60,
   "metadata": {},
   "outputs": [],
   "source": [
    "# Perform preprocessing for boht numeric and categorical features\n",
    "preprocessor = ColumnTransformer(\n",
    "                transformers=[\n",
    "                    ('num', numeric_transform, numeric_X),\n",
    "                    ('cat', categorical_transform, categorical_X)\n",
    "                ])"
   ]
  },
  {
   "cell_type": "markdown",
   "metadata": {},
   "source": [
    "### Compute class weight"
   ]
  },
  {
   "cell_type": "code",
   "execution_count": 79,
   "metadata": {},
   "outputs": [
    {
     "name": "stdout",
     "output_type": "stream",
     "text": [
      "class weights: [0.59226634 3.20954719]\n",
      "class        : [0 1]\n"
     ]
    }
   ],
   "source": [
    "class_weights = class_weight.compute_class_weight('balanced', np.unique(y_train), y_train)\n",
    "\n",
    "print(f\"class weights: {class_weights}\")\n",
    "print(f\"class        : {np.unique(y_train)}\")"
   ]
  },
  {
   "cell_type": "code",
   "execution_count": 80,
   "metadata": {},
   "outputs": [],
   "source": [
    "class_weights_dict = dict(zip(np.unique(y_train), class_weights))"
   ]
  },
  {
   "cell_type": "markdown",
   "metadata": {},
   "source": [
    "## 5 Modelling"
   ]
  },
  {
   "cell_type": "markdown",
   "metadata": {},
   "source": [
    "## 5.1 Baseline Accuracy\n",
    "The naive baseline accuracy for this dataset is **84.4%**, that is the null model predicting the majority class of `open_flag` = 0."
   ]
  },
  {
   "cell_type": "code",
   "execution_count": 61,
   "metadata": {},
   "outputs": [
    {
     "data": {
      "text/plain": [
       "0    0.844219\n",
       "1    0.155781\n",
       "Name: open_flag, dtype: float64"
      ]
     },
     "execution_count": 61,
     "metadata": {},
     "output_type": "execute_result"
    }
   ],
   "source": [
    "df['open_flag'].value_counts(normalize = True)"
   ]
  },
  {
   "cell_type": "markdown",
   "metadata": {},
   "source": [
    "## 5.2 Logistic Regression"
   ]
  },
  {
   "cell_type": "code",
   "execution_count": 62,
   "metadata": {},
   "outputs": [],
   "source": [
    "lr = Pipeline(steps = [\n",
    "    ('preprocessor', preprocessor),\n",
    "    ('classifier', LogisticRegression(solver = 'lbfgs'))\n",
    "    ])"
   ]
  },
  {
   "cell_type": "code",
   "execution_count": 63,
   "metadata": {},
   "outputs": [],
   "source": [
    "lr_params = {'classifier__C': np.logspace(-5,1,20),\n",
    "             'classifier__class_weight': ['balanced', None]}"
   ]
  },
  {
   "cell_type": "code",
   "execution_count": 64,
   "metadata": {},
   "outputs": [
    {
     "name": "stdout",
     "output_type": "stream",
     "text": [
      "Fitting 3 folds for each of 10 candidates, totalling 30 fits\n"
     ]
    },
    {
     "name": "stderr",
     "output_type": "stream",
     "text": [
      "[Parallel(n_jobs=-1)]: Using backend LokyBackend with 4 concurrent workers.\n",
      "[Parallel(n_jobs=-1)]: Done  30 out of  30 | elapsed:    5.5s finished\n"
     ]
    },
    {
     "name": "stdout",
     "output_type": "stream",
     "text": [
      "best score: 0.8820859750811647\n",
      "best estimator: {'classifier__class_weight': None, 'classifier__C': 0.26366508987303555}\n"
     ]
    }
   ],
   "source": [
    "rs_lr = RandomizedSearchCV(estimator=lr,\n",
    "                           param_distributions=lr_params,\n",
    "                           n_jobs=-1, cv=3, verbose =2)\n",
    "\n",
    "rs_lr.fit(X_train, y_train)\n",
    "\n",
    "print(f\"best score: {rs_lr.best_score_}\")\n",
    "print(f\"best estimator: {rs_lr.best_params_}\")"
   ]
  },
  {
   "cell_type": "code",
   "execution_count": 65,
   "metadata": {},
   "outputs": [],
   "source": [
    "# Function to print out the results\n",
    "\n",
    "def print_results(model):\n",
    "    \n",
    "    \"\"\"\n",
    "    Input: model -> model used in RandomizeSearchCV\n",
    "    \n",
    "    This function prints the best hyperparameters resulted from the model that was fitted with X_train, y_train data\n",
    "    It also prints the accuracy score for X_train and X_test data resulted from the best params\n",
    "    Lastly, it prints the classification report\n",
    "    It returns the X_train, X_test accuracy score, ypred from X_test, and confusion matrix\n",
    "    \"\"\"\n",
    "    \n",
    "    train_sc = model.score(X_train, y_train)\n",
    "    test_sc = model.score(X_test, y_test)\n",
    "    ypred = model.predict(X_test)\n",
    "    cm = confusion_matrix(y_test, ypred)\n",
    "    report = classification_report(y_test, ypred)\n",
    "    \n",
    "    print(f\"best estimator: {model.best_params_}\")\n",
    "    print()\n",
    "    print(f\"train accuracy: {round(train_sc,4)}\")\n",
    "    print(f\"test accuracy: {round(test_sc, 4)}\")\n",
    "    print()\n",
    "    print(\"Classification report:\")\n",
    "    print(report)\n",
    "    \n",
    "    return train_sc, test_sc, ypred, cm"
   ]
  },
  {
   "cell_type": "code",
   "execution_count": 66,
   "metadata": {},
   "outputs": [
    {
     "name": "stdout",
     "output_type": "stream",
     "text": [
      "best estimator: {'classifier__class_weight': None, 'classifier__C': 0.26366508987303555}\n",
      "\n",
      "train accuracy: 0.882\n",
      "test accuracy: 0.882\n",
      "\n",
      "Classification report:\n",
      "              precision    recall  f1-score   support\n",
      "\n",
      "           0       0.90      0.97      0.93     12417\n",
      "           1       0.71      0.41      0.52      2291\n",
      "\n",
      "    accuracy                           0.88     14708\n",
      "   macro avg       0.81      0.69      0.73     14708\n",
      "weighted avg       0.87      0.88      0.87     14708\n",
      "\n"
     ]
    }
   ],
   "source": [
    "# print out the LogisticRegression results\n",
    "lr_train, lr_test, lr_ypred, lr_cm = print_results(rs_lr)"
   ]
  },
  {
   "cell_type": "code",
   "execution_count": 68,
   "metadata": {},
   "outputs": [
    {
     "data": {
      "text/html": [
       "<div>\n",
       "<style scoped>\n",
       "    .dataframe tbody tr th:only-of-type {\n",
       "        vertical-align: middle;\n",
       "    }\n",
       "\n",
       "    .dataframe tbody tr th {\n",
       "        vertical-align: top;\n",
       "    }\n",
       "\n",
       "    .dataframe thead th {\n",
       "        text-align: right;\n",
       "    }\n",
       "</style>\n",
       "<table border=\"1\" class=\"dataframe\">\n",
       "  <thead>\n",
       "    <tr style=\"text-align: right;\">\n",
       "      <th></th>\n",
       "      <th>Predict 0</th>\n",
       "      <th>Predict 1</th>\n",
       "    </tr>\n",
       "  </thead>\n",
       "  <tbody>\n",
       "    <tr>\n",
       "      <th>Actual 0</th>\n",
       "      <td>12039</td>\n",
       "      <td>378</td>\n",
       "    </tr>\n",
       "    <tr>\n",
       "      <th>Actual 1</th>\n",
       "      <td>1357</td>\n",
       "      <td>934</td>\n",
       "    </tr>\n",
       "  </tbody>\n",
       "</table>\n",
       "</div>"
      ],
      "text/plain": [
       "          Predict 0  Predict 1\n",
       "Actual 0      12039        378\n",
       "Actual 1       1357        934"
      ]
     },
     "execution_count": 68,
     "metadata": {},
     "output_type": "execute_result"
    }
   ],
   "source": [
    "pd.DataFrame(lr_cm, columns = ['Predict 0', 'Predict 1'],\n",
    "             index = ['Actual 0', 'Actual 1'])"
   ]
  },
  {
   "cell_type": "code",
   "execution_count": 69,
   "metadata": {},
   "outputs": [
    {
     "data": {
      "text/plain": [
       "0.6886200495251807"
      ]
     },
     "execution_count": 69,
     "metadata": {},
     "output_type": "execute_result"
    }
   ],
   "source": [
    "roc_auc_score(y_test, lr_ypred)"
   ]
  },
  {
   "cell_type": "code",
   "execution_count": 70,
   "metadata": {},
   "outputs": [
    {
     "data": {
      "text/plain": [
       "array([-0.02782908, -0.08895345,  0.04062562,  0.05101183,  1.20601007,\n",
       "       -0.03546777,  0.00654565, -0.07841517, -0.803158  , -0.27374207,\n",
       "       -0.85641565,  0.94192927,  0.42046167, -0.10487462,  0.67149763])"
      ]
     },
     "execution_count": 70,
     "metadata": {},
     "output_type": "execute_result"
    }
   ],
   "source": [
    "rs_lr.best_estimator_[1].coef_[0]"
   ]
  },
  {
   "cell_type": "markdown",
   "metadata": {},
   "source": [
    "## 5.3 Random Forest"
   ]
  },
  {
   "cell_type": "code",
   "execution_count": 73,
   "metadata": {},
   "outputs": [],
   "source": [
    "rf = Pipeline(steps = [\n",
    "        ('preprecessor', preprocessor),\n",
    "        ('classifier', RandomForestClassifier())\n",
    "])"
   ]
  },
  {
   "cell_type": "code",
   "execution_count": 71,
   "metadata": {},
   "outputs": [],
   "source": [
    "rf_params = {'classifier__n_estimators': [140, 145, 150, 155], #number of trees def=100\n",
    "             'classifier__max_depth': [25, 26, 27, 28, 29],\n",
    "             'classifier__min_samples_split': [2,3,4],\n",
    "             'classifier__min_samples_leaf': [3,4,5,6],\n",
    "             'classifier__class_weight': ['balanced_subsample', None]\n",
    "            }"
   ]
  },
  {
   "cell_type": "code",
   "execution_count": 74,
   "metadata": {},
   "outputs": [
    {
     "name": "stdout",
     "output_type": "stream",
     "text": [
      "Fitting 3 folds for each of 10 candidates, totalling 30 fits\n"
     ]
    },
    {
     "name": "stderr",
     "output_type": "stream",
     "text": [
      "[Parallel(n_jobs=-1)]: Using backend LokyBackend with 4 concurrent workers.\n",
      "[Parallel(n_jobs=-1)]: Done  30 out of  30 | elapsed:  2.1min finished\n"
     ]
    },
    {
     "name": "stdout",
     "output_type": "stream",
     "text": [
      "best score: 0.8839727354625962\n",
      "best estimator: {'classifier__n_estimators': 150, 'classifier__min_samples_split': 2, 'classifier__min_samples_leaf': 5, 'classifier__max_depth': 29, 'classifier__class_weight': None}\n"
     ]
    }
   ],
   "source": [
    "rs_rf = RandomizedSearchCV(estimator=rf,\n",
    "                           param_distributions=rf_params,\n",
    "                           n_jobs=-1, cv=3, verbose =2)\n",
    "\n",
    "rs_rf.fit(X_train, y_train)\n",
    "\n",
    "print(f\"best score: {rs_rf.best_score_}\")\n",
    "print(f\"best estimator: {rs_rf.best_params_}\")"
   ]
  },
  {
   "cell_type": "code",
   "execution_count": 75,
   "metadata": {},
   "outputs": [
    {
     "name": "stdout",
     "output_type": "stream",
     "text": [
      "best estimator: {'classifier__n_estimators': 150, 'classifier__min_samples_split': 2, 'classifier__min_samples_leaf': 5, 'classifier__max_depth': 29, 'classifier__class_weight': None}\n",
      "\n",
      "train accuracy: 0.9128\n",
      "test accuracy: 0.8873\n",
      "\n",
      "Classification report:\n",
      "              precision    recall  f1-score   support\n",
      "\n",
      "           0       0.91      0.97      0.94     12417\n",
      "           1       0.72      0.45      0.56      2291\n",
      "\n",
      "    accuracy                           0.89     14708\n",
      "   macro avg       0.81      0.71      0.75     14708\n",
      "weighted avg       0.88      0.89      0.88     14708\n",
      "\n"
     ]
    }
   ],
   "source": [
    "# print out the LogisticRegression results\n",
    "rf_train, rf_test, rf_ypred, rf_cm = print_results(rs_rf)"
   ]
  },
  {
   "cell_type": "code",
   "execution_count": 76,
   "metadata": {},
   "outputs": [
    {
     "data": {
      "text/html": [
       "<div>\n",
       "<style scoped>\n",
       "    .dataframe tbody tr th:only-of-type {\n",
       "        vertical-align: middle;\n",
       "    }\n",
       "\n",
       "    .dataframe tbody tr th {\n",
       "        vertical-align: top;\n",
       "    }\n",
       "\n",
       "    .dataframe thead th {\n",
       "        text-align: right;\n",
       "    }\n",
       "</style>\n",
       "<table border=\"1\" class=\"dataframe\">\n",
       "  <thead>\n",
       "    <tr style=\"text-align: right;\">\n",
       "      <th></th>\n",
       "      <th>Predict 0</th>\n",
       "      <th>Predict 1</th>\n",
       "    </tr>\n",
       "  </thead>\n",
       "  <tbody>\n",
       "    <tr>\n",
       "      <th>Actual 0</th>\n",
       "      <td>12039</td>\n",
       "      <td>378</td>\n",
       "    </tr>\n",
       "    <tr>\n",
       "      <th>Actual 1</th>\n",
       "      <td>1357</td>\n",
       "      <td>934</td>\n",
       "    </tr>\n",
       "  </tbody>\n",
       "</table>\n",
       "</div>"
      ],
      "text/plain": [
       "          Predict 0  Predict 1\n",
       "Actual 0      12039        378\n",
       "Actual 1       1357        934"
      ]
     },
     "execution_count": 76,
     "metadata": {},
     "output_type": "execute_result"
    }
   ],
   "source": [
    "# Confusion matrix\n",
    "pd.DataFrame(lr_cm, columns = ['Predict 0', 'Predict 1'],\n",
    "             index = ['Actual 0', 'Actual 1'])"
   ]
  },
  {
   "cell_type": "code",
   "execution_count": 77,
   "metadata": {},
   "outputs": [
    {
     "data": {
      "text/plain": [
       "0.7099146539042815"
      ]
     },
     "execution_count": 77,
     "metadata": {},
     "output_type": "execute_result"
    }
   ],
   "source": [
    "roc_auc_score(y_test, rf_ypred)"
   ]
  },
  {
   "cell_type": "code",
   "execution_count": null,
   "metadata": {},
   "outputs": [],
   "source": [
    "#TOP features in randomforest\n",
    "rs_rf.feature_importances_\n",
    "X_train.columns"
   ]
  },
  {
   "cell_type": "code",
   "execution_count": null,
   "metadata": {},
   "outputs": [],
   "source": [
    "feature_importances = pd.DataFrame(model.feature_importances_,\n",
    "                                   index = X_train.columns,\n",
    "                                    columns=['importance'])\n",
    "\n",
    "top_feature = feature_importances.sort_values('importance', ascending=False)"
   ]
  },
  {
   "cell_type": "code",
   "execution_count": null,
   "metadata": {},
   "outputs": [],
   "source": [
    "#Top 20 features\n",
    "fig = top_feature.iloc[:20]\n",
    "fig.plot(kind='barh', figsize=(10,9));\n"
   ]
  },
  {
   "cell_type": "markdown",
   "metadata": {},
   "source": [
    "## 5.3 SVM (Support Vector Machine)"
   ]
  },
  {
   "cell_type": "code",
   "execution_count": 125,
   "metadata": {},
   "outputs": [],
   "source": [
    "svm = Pipeline(steps = [\n",
    "        ('preprocessor', preprocessor),\n",
    "        ('classifier', SVC())\n",
    "        ])"
   ]
  },
  {
   "cell_type": "code",
   "execution_count": 126,
   "metadata": {},
   "outputs": [],
   "source": [
    "svm_params = {'classifier__C': np.logspace(-5,1,10),\n",
    "              'classifier__kernel': ['linear', 'rbf'],\n",
    "              'classifier__gamma': ['scale', 'auto'],\n",
    "                }"
   ]
  },
  {
   "cell_type": "code",
   "execution_count": 127,
   "metadata": {},
   "outputs": [
    {
     "name": "stdout",
     "output_type": "stream",
     "text": [
      "Fitting 3 folds for each of 10 candidates, totalling 30 fits\n"
     ]
    },
    {
     "name": "stderr",
     "output_type": "stream",
     "text": [
      "[Parallel(n_jobs=-1)]: Using backend LokyBackend with 4 concurrent workers.\n",
      "[Parallel(n_jobs=-1)]: Done  30 out of  30 | elapsed:  8.0min finished\n"
     ]
    },
    {
     "name": "stdout",
     "output_type": "stream",
     "text": [
      "best score: 0.8783804456833982\n",
      "best estimator: {'classifier__kernel': 'rbf', 'classifier__gamma': 'scale', 'classifier__C': 0.1}\n"
     ]
    }
   ],
   "source": [
    "rs_svm = RandomizedSearchCV(estimator=svm,\n",
    "                           param_distributions=svm_params,\n",
    "                           n_jobs=-1, cv=3, verbose =2)\n",
    "\n",
    "rs_svm.fit(X_train, y_train)\n",
    "\n",
    "print(f\"best score: {rs_svm.best_score_}\")\n",
    "print(f\"best estimator: {rs_svm.best_params_}\")"
   ]
  },
  {
   "cell_type": "code",
   "execution_count": 128,
   "metadata": {},
   "outputs": [
    {
     "name": "stdout",
     "output_type": "stream",
     "text": [
      "best estimator: {'classifier__kernel': 'rbf', 'classifier__gamma': 'scale', 'classifier__C': 0.1}\n",
      "\n",
      "train accuracy: 0.8805\n",
      "test accuracy: 0.8815\n",
      "\n",
      "Classification report:\n",
      "              precision    recall  f1-score   support\n",
      "\n",
      "           0       0.89      0.98      0.93     12417\n",
      "           1       0.74      0.37      0.49      2291\n",
      "\n",
      "    accuracy                           0.88     14708\n",
      "   macro avg       0.82      0.67      0.71     14708\n",
      "weighted avg       0.87      0.88      0.86     14708\n",
      "\n"
     ]
    }
   ],
   "source": [
    "# print out the LogisticRegression results\n",
    "svm_train, svm_test, svm_ypred, svm_cm = print_results(rs_svm)"
   ]
  },
  {
   "cell_type": "code",
   "execution_count": 129,
   "metadata": {},
   "outputs": [
    {
     "data": {
      "text/html": [
       "<div>\n",
       "<style scoped>\n",
       "    .dataframe tbody tr th:only-of-type {\n",
       "        vertical-align: middle;\n",
       "    }\n",
       "\n",
       "    .dataframe tbody tr th {\n",
       "        vertical-align: top;\n",
       "    }\n",
       "\n",
       "    .dataframe thead th {\n",
       "        text-align: right;\n",
       "    }\n",
       "</style>\n",
       "<table border=\"1\" class=\"dataframe\">\n",
       "  <thead>\n",
       "    <tr style=\"text-align: right;\">\n",
       "      <th></th>\n",
       "      <th>Predict 0</th>\n",
       "      <th>Predict 1</th>\n",
       "    </tr>\n",
       "  </thead>\n",
       "  <tbody>\n",
       "    <tr>\n",
       "      <th>Actual 0</th>\n",
       "      <td>12124</td>\n",
       "      <td>293</td>\n",
       "    </tr>\n",
       "    <tr>\n",
       "      <th>Actual 1</th>\n",
       "      <td>1450</td>\n",
       "      <td>841</td>\n",
       "    </tr>\n",
       "  </tbody>\n",
       "</table>\n",
       "</div>"
      ],
      "text/plain": [
       "          Predict 0  Predict 1\n",
       "Actual 0      12124        293\n",
       "Actual 1       1450        841"
      ]
     },
     "execution_count": 129,
     "metadata": {},
     "output_type": "execute_result"
    }
   ],
   "source": [
    "pd.DataFrame(svm_cm, columns = ['Predict 0', 'Predict 1'], \n",
    "             index = ['Actual 0', 'Actual 1'])"
   ]
  },
  {
   "cell_type": "code",
   "execution_count": 130,
   "metadata": {},
   "outputs": [
    {
     "data": {
      "text/plain": [
       "0.6717459628133337"
      ]
     },
     "execution_count": 130,
     "metadata": {},
     "output_type": "execute_result"
    }
   ],
   "source": [
    "roc_auc_score(y_test, svm_ypred)"
   ]
  },
  {
   "cell_type": "markdown",
   "metadata": {},
   "source": [
    "## 5.4 Adaboost"
   ]
  },
  {
   "cell_type": "code",
   "execution_count": 78,
   "metadata": {},
   "outputs": [],
   "source": [
    "ada = Pipeline(steps = [\n",
    "        ('preprocessor', preprocessor),\n",
    "        ('classifier', AdaBoostClassifier())\n",
    "        ])"
   ]
  },
  {
   "cell_type": "code",
   "execution_count": 80,
   "metadata": {},
   "outputs": [],
   "source": [
    "ada_params = {'classifier__n_estimators': [150,200, 250, 260, 280, 300, 350],\n",
    "              'classifier__learning_rate': [0.8, 0.9, 1] \n",
    "             }"
   ]
  },
  {
   "cell_type": "code",
   "execution_count": 81,
   "metadata": {},
   "outputs": [
    {
     "name": "stdout",
     "output_type": "stream",
     "text": [
      "Fitting 3 folds for each of 10 candidates, totalling 30 fits\n"
     ]
    },
    {
     "name": "stderr",
     "output_type": "stream",
     "text": [
      "[Parallel(n_jobs=-1)]: Using backend LokyBackend with 4 concurrent workers.\n",
      "[Parallel(n_jobs=-1)]: Done  30 out of  30 | elapsed:  2.5min finished\n"
     ]
    },
    {
     "name": "stdout",
     "output_type": "stream",
     "text": [
      "best score: 0.8822899491764545\n",
      "best estimator: {'classifier__n_estimators': 280, 'classifier__learning_rate': 0.9}\n"
     ]
    }
   ],
   "source": [
    "rs_ada = RandomizedSearchCV(estimator = ada,\n",
    "                           param_distributions = ada_params,\n",
    "                           n_jobs = -1, cv = 3, verbose = 2)\n",
    "\n",
    "rs_ada.fit(X_train, y_train)\n",
    "\n",
    "print(f\"best score: {rs_ada.best_score_}\")\n",
    "print(f\"best estimator: {rs_ada.best_params_}\")"
   ]
  },
  {
   "cell_type": "code",
   "execution_count": 82,
   "metadata": {},
   "outputs": [
    {
     "name": "stdout",
     "output_type": "stream",
     "text": [
      "best estimator: {'classifier__n_estimators': 280, 'classifier__learning_rate': 0.9}\n",
      "\n",
      "train accuracy: 0.883\n",
      "test accuracy: 0.8859\n",
      "\n",
      "Classification report:\n",
      "              precision    recall  f1-score   support\n",
      "\n",
      "           0       0.91      0.97      0.93     12417\n",
      "           1       0.71      0.46      0.55      2291\n",
      "\n",
      "    accuracy                           0.89     14708\n",
      "   macro avg       0.81      0.71      0.74     14708\n",
      "weighted avg       0.87      0.89      0.88     14708\n",
      "\n"
     ]
    }
   ],
   "source": [
    "# print out the LogisticRegression results\n",
    "ada_train, ada_test, ada_ypred, ada_cm = print_results(rs_ada)"
   ]
  },
  {
   "cell_type": "code",
   "execution_count": 83,
   "metadata": {},
   "outputs": [
    {
     "data": {
      "text/html": [
       "<div>\n",
       "<style scoped>\n",
       "    .dataframe tbody tr th:only-of-type {\n",
       "        vertical-align: middle;\n",
       "    }\n",
       "\n",
       "    .dataframe tbody tr th {\n",
       "        vertical-align: top;\n",
       "    }\n",
       "\n",
       "    .dataframe thead th {\n",
       "        text-align: right;\n",
       "    }\n",
       "</style>\n",
       "<table border=\"1\" class=\"dataframe\">\n",
       "  <thead>\n",
       "    <tr style=\"text-align: right;\">\n",
       "      <th></th>\n",
       "      <th>Predict 0</th>\n",
       "      <th>Predict 1</th>\n",
       "    </tr>\n",
       "  </thead>\n",
       "  <tbody>\n",
       "    <tr>\n",
       "      <th>Actual 0</th>\n",
       "      <td>11984</td>\n",
       "      <td>433</td>\n",
       "    </tr>\n",
       "    <tr>\n",
       "      <th>Actual 1</th>\n",
       "      <td>1245</td>\n",
       "      <td>1046</td>\n",
       "    </tr>\n",
       "  </tbody>\n",
       "</table>\n",
       "</div>"
      ],
      "text/plain": [
       "          Predict 0  Predict 1\n",
       "Actual 0      11984        433\n",
       "Actual 1       1245       1046"
      ]
     },
     "execution_count": 83,
     "metadata": {},
     "output_type": "execute_result"
    }
   ],
   "source": [
    "#tn,fp,fn,tp = ada_cm.ravel() #250.0.9\n",
    "pd.DataFrame(ada_cm, columns = ['Predict 0', 'Predict 1'], \n",
    "             index = ['Actual 0', 'Actual 1'])"
   ]
  },
  {
   "cell_type": "code",
   "execution_count": 84,
   "metadata": {},
   "outputs": [
    {
     "data": {
      "text/plain": [
       "0.7108488183449937"
      ]
     },
     "execution_count": 84,
     "metadata": {},
     "output_type": "execute_result"
    }
   ],
   "source": [
    "roc_auc_score(y_test, ada_ypred)"
   ]
  },
  {
   "cell_type": "code",
   "execution_count": 119,
   "metadata": {},
   "outputs": [
    {
     "data": {
      "text/html": [
       "<div>\n",
       "<style scoped>\n",
       "    .dataframe tbody tr th:only-of-type {\n",
       "        vertical-align: middle;\n",
       "    }\n",
       "\n",
       "    .dataframe tbody tr th {\n",
       "        vertical-align: top;\n",
       "    }\n",
       "\n",
       "    .dataframe thead th {\n",
       "        text-align: right;\n",
       "    }\n",
       "</style>\n",
       "<table border=\"1\" class=\"dataframe\">\n",
       "  <thead>\n",
       "    <tr style=\"text-align: right;\">\n",
       "      <th></th>\n",
       "      <th>Predict 0</th>\n",
       "      <th>Predict 1</th>\n",
       "    </tr>\n",
       "  </thead>\n",
       "  <tbody>\n",
       "    <tr>\n",
       "      <th>Actual 0</th>\n",
       "      <td>11985</td>\n",
       "      <td>432</td>\n",
       "    </tr>\n",
       "    <tr>\n",
       "      <th>Actual 1</th>\n",
       "      <td>1242</td>\n",
       "      <td>1049</td>\n",
       "    </tr>\n",
       "  </tbody>\n",
       "</table>\n",
       "</div>"
      ],
      "text/plain": [
       "          Predict 0  Predict 1\n",
       "Actual 0      11985        432\n",
       "Actual 1       1242       1049"
      ]
     },
     "execution_count": 119,
     "metadata": {},
     "output_type": "execute_result"
    }
   ],
   "source": [
    "#tn,fp,fn,tp = ada_cm.ravel() #250.0.9\n",
    "pd.DataFrame(ada_cm, columns = ['Predict 0', 'Predict 1'], \n",
    "             index = ['Actual 0', 'Actual 1'])"
   ]
  },
  {
   "cell_type": "code",
   "execution_count": 120,
   "metadata": {},
   "outputs": [
    {
     "data": {
      "text/plain": [
       "0.7115438216435437"
      ]
     },
     "execution_count": 120,
     "metadata": {},
     "output_type": "execute_result"
    }
   ],
   "source": [
    "roc_auc_score(y_test, ada_ypred)"
   ]
  },
  {
   "cell_type": "markdown",
   "metadata": {},
   "source": [
    "#### Predict test dataset for kaggle submission"
   ]
  },
  {
   "cell_type": "code",
   "execution_count": 85,
   "metadata": {},
   "outputs": [],
   "source": [
    "ypred = rs_ada.predict(Xtest)"
   ]
  },
  {
   "cell_type": "code",
   "execution_count": 87,
   "metadata": {},
   "outputs": [
    {
     "data": {
      "text/html": [
       "<div>\n",
       "<style scoped>\n",
       "    .dataframe tbody tr th:only-of-type {\n",
       "        vertical-align: middle;\n",
       "    }\n",
       "\n",
       "    .dataframe tbody tr th {\n",
       "        vertical-align: top;\n",
       "    }\n",
       "\n",
       "    .dataframe thead th {\n",
       "        text-align: right;\n",
       "    }\n",
       "</style>\n",
       "<table border=\"1\" class=\"dataframe\">\n",
       "  <thead>\n",
       "    <tr style=\"text-align: right;\">\n",
       "      <th></th>\n",
       "      <th>row_id</th>\n",
       "      <th>open_flag</th>\n",
       "    </tr>\n",
       "  </thead>\n",
       "  <tbody>\n",
       "    <tr>\n",
       "      <th>0</th>\n",
       "      <td>0</td>\n",
       "      <td>0</td>\n",
       "    </tr>\n",
       "    <tr>\n",
       "      <th>1</th>\n",
       "      <td>1</td>\n",
       "      <td>0</td>\n",
       "    </tr>\n",
       "    <tr>\n",
       "      <th>2</th>\n",
       "      <td>2</td>\n",
       "      <td>0</td>\n",
       "    </tr>\n",
       "    <tr>\n",
       "      <th>3</th>\n",
       "      <td>3</td>\n",
       "      <td>0</td>\n",
       "    </tr>\n",
       "    <tr>\n",
       "      <th>4</th>\n",
       "      <td>4</td>\n",
       "      <td>0</td>\n",
       "    </tr>\n",
       "  </tbody>\n",
       "</table>\n",
       "</div>"
      ],
      "text/plain": [
       "   row_id  open_flag\n",
       "0       0          0\n",
       "1       1          0\n",
       "2       2          0\n",
       "3       3          0\n",
       "4       4          0"
      ]
     },
     "execution_count": 87,
     "metadata": {},
     "output_type": "execute_result"
    }
   ],
   "source": [
    "sub = pd.DataFrame(zip(test['row_id'], ypred), columns = ['row_id', 'open_flag'])\n",
    "sub.head()"
   ]
  },
  {
   "cell_type": "code",
   "execution_count": 90,
   "metadata": {},
   "outputs": [],
   "source": [
    "# export to csv\n",
    "\n",
    "# score: 0.43193\n",
    "sub.to_csv('./data/sub1_adaboost.csv', index=False)"
   ]
  },
  {
   "cell_type": "markdown",
   "metadata": {},
   "source": [
    "## 5.5 XGBoost"
   ]
  },
  {
   "cell_type": "code",
   "execution_count": 136,
   "metadata": {},
   "outputs": [],
   "source": [
    "xgb = Pipeline(steps = [\n",
    "            ('preprocessor', preprocessor),\n",
    "            ('classifier', XGBClassifier(objective = 'binary:logistic'))\n",
    "            ])"
   ]
  },
  {
   "cell_type": "code",
   "execution_count": 142,
   "metadata": {},
   "outputs": [],
   "source": [
    "xgb_params = {'classifier__eta': [0.0001, 0.001, 0.01],\n",
    "              'classifier__gamma': [0.05, 0.1, 0.2],\n",
    "              'classifier__max_depth': [5,10,15,20],\n",
    "              'classifier__colsmaple_bytree': [0.3, 0.5, 0.8],\n",
    "              'classifier__subsample': [0.3, 0.5, 0.8],\n",
    "               'classifier__reg_lambda': [1, 1.5, 2],\n",
    "               'classifier__n_estimators': [100,150,200,250,500]\n",
    "             }"
   ]
  },
  {
   "cell_type": "code",
   "execution_count": 143,
   "metadata": {},
   "outputs": [
    {
     "name": "stdout",
     "output_type": "stream",
     "text": [
      "Fitting 3 folds for each of 10 candidates, totalling 30 fits\n"
     ]
    },
    {
     "name": "stderr",
     "output_type": "stream",
     "text": [
      "[Parallel(n_jobs=-1)]: Using backend LokyBackend with 4 concurrent workers.\n",
      "[Parallel(n_jobs=-1)]: Done  30 out of  30 | elapsed:  4.1min finished\n"
     ]
    },
    {
     "name": "stdout",
     "output_type": "stream",
     "text": [
      "best score: 0.8837687613673063\n",
      "best estimator: {'classifier__subsample': 0.3, 'classifier__reg_lambda': 2, 'classifier__n_estimators': 250, 'classifier__max_depth': 5, 'classifier__gamma': 0.1, 'classifier__eta': 0.01, 'classifier__colsmaple_bytree': 0.8}\n"
     ]
    }
   ],
   "source": [
    "rs_xgb = RandomizedSearchCV(estimator = xgb,\n",
    "                           param_distributions = xgb_params,\n",
    "                           n_jobs = -1, cv = 3, verbose = 2)\n",
    "\n",
    "rs_xgb.fit(X_train, y_train)\n",
    "\n",
    "print(f\"best score: {rs_xgb.best_score_}\")\n",
    "print(f\"best estimator: {rs_xgb.best_params_}\")"
   ]
  },
  {
   "cell_type": "code",
   "execution_count": 144,
   "metadata": {},
   "outputs": [
    {
     "name": "stdout",
     "output_type": "stream",
     "text": [
      "best estimator: {'classifier__subsample': 0.3, 'classifier__reg_lambda': 2, 'classifier__n_estimators': 250, 'classifier__max_depth': 5, 'classifier__gamma': 0.1, 'classifier__eta': 0.01, 'classifier__colsmaple_bytree': 0.8}\n",
      "\n",
      "train accuracy: 0.8857\n",
      "test accuracy: 0.8854\n",
      "\n",
      "Classification report:\n",
      "              precision    recall  f1-score   support\n",
      "\n",
      "           0       0.91      0.96      0.93     12417\n",
      "           1       0.71      0.45      0.55      2291\n",
      "\n",
      "    accuracy                           0.89     14708\n",
      "   macro avg       0.81      0.71      0.74     14708\n",
      "weighted avg       0.87      0.89      0.87     14708\n",
      "\n"
     ]
    }
   ],
   "source": [
    "# print out the LogisticRegression results\n",
    "xgb_train, xgb_test, xgb_ypred, xgb_cm = print_results(rs_xgb)"
   ]
  },
  {
   "cell_type": "code",
   "execution_count": 145,
   "metadata": {},
   "outputs": [
    {
     "data": {
      "text/html": [
       "<div>\n",
       "<style scoped>\n",
       "    .dataframe tbody tr th:only-of-type {\n",
       "        vertical-align: middle;\n",
       "    }\n",
       "\n",
       "    .dataframe tbody tr th {\n",
       "        vertical-align: top;\n",
       "    }\n",
       "\n",
       "    .dataframe thead th {\n",
       "        text-align: right;\n",
       "    }\n",
       "</style>\n",
       "<table border=\"1\" class=\"dataframe\">\n",
       "  <thead>\n",
       "    <tr style=\"text-align: right;\">\n",
       "      <th></th>\n",
       "      <th>Predict 0</th>\n",
       "      <th>Predict 1</th>\n",
       "    </tr>\n",
       "  </thead>\n",
       "  <tbody>\n",
       "    <tr>\n",
       "      <th>Actual 0</th>\n",
       "      <td>11981</td>\n",
       "      <td>436</td>\n",
       "    </tr>\n",
       "    <tr>\n",
       "      <th>Actual 1</th>\n",
       "      <td>1249</td>\n",
       "      <td>1042</td>\n",
       "    </tr>\n",
       "  </tbody>\n",
       "</table>\n",
       "</div>"
      ],
      "text/plain": [
       "          Predict 0  Predict 1\n",
       "Actual 0      11981        436\n",
       "Actual 1       1249       1042"
      ]
     },
     "execution_count": 145,
     "metadata": {},
     "output_type": "execute_result"
    }
   ],
   "source": [
    "# confusion matrix\n",
    "pd.DataFrame(xgb_cm, columns = ['Predict 0', 'Predict 1'], \n",
    "             index = ['Actual 0', 'Actual 1'])"
   ]
  },
  {
   "cell_type": "code",
   "execution_count": 146,
   "metadata": {},
   "outputs": [
    {
     "data": {
      "text/plain": [
       "0.7098550349879726"
      ]
     },
     "execution_count": 146,
     "metadata": {},
     "output_type": "execute_result"
    }
   ],
   "source": [
    "#roc_auc_score\n",
    "roc_auc_score(y_test, xgb_ypred)"
   ]
  },
  {
   "cell_type": "code",
   "execution_count": 139,
   "metadata": {},
   "outputs": [
    {
     "name": "stdout",
     "output_type": "stream",
     "text": [
      "best estimator: {'classifier__subsample': 0.3, 'classifier__reg_alpha': 0.0, 'classifier__n_estimators': 150, 'classifier__max_depth': 10, 'classifier__gamma': 0.1, 'classifier__eta': 0.001, 'classifier__colsmaple_bytree': 0.3}\n",
      "\n",
      "train accuracy: 0.8936\n",
      "test accuracy: 0.8864\n",
      "\n",
      "Classification report:\n",
      "              precision    recall  f1-score   support\n",
      "\n",
      "           0       0.91      0.97      0.93     12417\n",
      "           1       0.71      0.45      0.55      2291\n",
      "\n",
      "    accuracy                           0.89     14708\n",
      "   macro avg       0.81      0.71      0.74     14708\n",
      "weighted avg       0.88      0.89      0.88     14708\n",
      "\n"
     ]
    }
   ],
   "source": [
    "# print out the LogisticRegression results\n",
    "xgb_train, xgb_test, xgb_ypred, xgb_cm = print_results(rs_xgb)"
   ]
  },
  {
   "cell_type": "code",
   "execution_count": 140,
   "metadata": {},
   "outputs": [
    {
     "data": {
      "text/html": [
       "<div>\n",
       "<style scoped>\n",
       "    .dataframe tbody tr th:only-of-type {\n",
       "        vertical-align: middle;\n",
       "    }\n",
       "\n",
       "    .dataframe tbody tr th {\n",
       "        vertical-align: top;\n",
       "    }\n",
       "\n",
       "    .dataframe thead th {\n",
       "        text-align: right;\n",
       "    }\n",
       "</style>\n",
       "<table border=\"1\" class=\"dataframe\">\n",
       "  <thead>\n",
       "    <tr style=\"text-align: right;\">\n",
       "      <th></th>\n",
       "      <th>Predict 0</th>\n",
       "      <th>Predict 1</th>\n",
       "    </tr>\n",
       "  </thead>\n",
       "  <tbody>\n",
       "    <tr>\n",
       "      <th>Actual 0</th>\n",
       "      <td>12002</td>\n",
       "      <td>415</td>\n",
       "    </tr>\n",
       "    <tr>\n",
       "      <th>Actual 1</th>\n",
       "      <td>1256</td>\n",
       "      <td>1035</td>\n",
       "    </tr>\n",
       "  </tbody>\n",
       "</table>\n",
       "</div>"
      ],
      "text/plain": [
       "          Predict 0  Predict 1\n",
       "Actual 0      12002        415\n",
       "Actual 1       1256       1035"
      ]
     },
     "execution_count": 140,
     "metadata": {},
     "output_type": "execute_result"
    }
   ],
   "source": [
    "# confusion matrix\n",
    "pd.DataFrame(xgb_cm, columns = ['Predict 0', 'Predict 1'], \n",
    "             index = ['Actual 0', 'Actual 1'])"
   ]
  },
  {
   "cell_type": "code",
   "execution_count": 141,
   "metadata": {},
   "outputs": [
    {
     "data": {
      "text/plain": [
       "0.7091729327167133"
      ]
     },
     "execution_count": 141,
     "metadata": {},
     "output_type": "execute_result"
    }
   ],
   "source": [
    "#roc_auc_score\n",
    "roc_auc_score(y_test, xgb_ypred)"
   ]
  },
  {
   "cell_type": "code",
   "execution_count": null,
   "metadata": {},
   "outputs": [],
   "source": []
  },
  {
   "cell_type": "code",
   "execution_count": null,
   "metadata": {},
   "outputs": [],
   "source": []
  },
  {
   "cell_type": "code",
   "execution_count": null,
   "metadata": {},
   "outputs": [],
   "source": []
  },
  {
   "cell_type": "code",
   "execution_count": null,
   "metadata": {},
   "outputs": [],
   "source": []
  },
  {
   "cell_type": "code",
   "execution_count": null,
   "metadata": {},
   "outputs": [],
   "source": []
  }
 ],
 "metadata": {
  "kernelspec": {
   "display_name": "Python 3",
   "language": "python",
   "name": "python3"
  },
  "language_info": {
   "codemirror_mode": {
    "name": "ipython",
    "version": 3
   },
   "file_extension": ".py",
   "mimetype": "text/x-python",
   "name": "python",
   "nbconvert_exporter": "python",
   "pygments_lexer": "ipython3",
   "version": "3.7.4"
  }
 },
 "nbformat": 4,
 "nbformat_minor": 2
}
