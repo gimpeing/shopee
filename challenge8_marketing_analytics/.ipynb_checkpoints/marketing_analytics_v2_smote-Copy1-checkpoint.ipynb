{
 "cells": [
  {
   "cell_type": "markdown",
   "metadata": {},
   "source": [
    "# Shopee Code League - Marketing Analytics\n",
    "Email campaign analyis"
   ]
  },
  {
   "cell_type": "markdown",
   "metadata": {},
   "source": [
    "<a id='intro'></a>\n",
    "## 1 Introduction\n",
    "\n",
    "> The aim of this project is to build a model that can predict whether a user opens the emails sent by Shopee.   \n",
    "> **Task**   \n",
    "> Data related to marketing emails that were sent to Shopee users over a certain period. It contains information about:\n",
    "> - User-specific information\n",
    "> - Email nature\n",
    ">- User's reaction to the email, including whether users opened the email    \n",
    "Based on the data provided, you must predict wheter each user will open an email sent to him/ her.\n",
    ">\n",
    "> **Questions:** \n",
    "> - Is specific user demographics (country, age) prompt to open email?\n",
    "> - What user behavior prompt to has higher open email rate (frequency of open email, check-in, purchase)?\n",
    "> - Any impact on the subject line length?\n",
    "\n",
    "\n",
    "[kaggle link](https://www.kaggle.com/c/open-shopee-code-league-marketing-analytics/data)"
   ]
  },
  {
   "cell_type": "code",
   "execution_count": 1,
   "metadata": {},
   "outputs": [
    {
     "name": "stderr",
     "output_type": "stream",
     "text": [
      "/opt/anaconda3/lib/python3.7/site-packages/statsmodels/tools/_testing.py:19: FutureWarning: pandas.util.testing is deprecated. Use the functions in the public API at pandas.testing instead.\n",
      "  import pandas.util.testing as tm\n"
     ]
    }
   ],
   "source": [
    "# Import libraries\n",
    "import pandas as pd\n",
    "import numpy as np\n",
    "\n",
    "import matplotlib.pyplot as plt\n",
    "import seaborn as sns\n",
    "%matplotlib inline"
   ]
  },
  {
   "cell_type": "markdown",
   "metadata": {},
   "source": [
    "<a id='wrangling'></a>\n",
    "## 2 Data Wrangling\n",
    "\n",
    "> Data was loaded and inspected, check for data type, missing values, ambiguity data, and then trim, clean, engineer th"
   ]
  },
  {
   "cell_type": "markdown",
   "metadata": {},
   "source": [
    "### 2.1 General properties"
   ]
  },
  {
   "cell_type": "code",
   "execution_count": 2,
   "metadata": {},
   "outputs": [
    {
     "data": {
      "text/html": [
       "<div>\n",
       "<style scoped>\n",
       "    .dataframe tbody tr th:only-of-type {\n",
       "        vertical-align: middle;\n",
       "    }\n",
       "\n",
       "    .dataframe tbody tr th {\n",
       "        vertical-align: top;\n",
       "    }\n",
       "\n",
       "    .dataframe thead th {\n",
       "        text-align: right;\n",
       "    }\n",
       "</style>\n",
       "<table border=\"1\" class=\"dataframe\">\n",
       "  <thead>\n",
       "    <tr style=\"text-align: right;\">\n",
       "      <th></th>\n",
       "      <th>country_code</th>\n",
       "      <th>grass_date</th>\n",
       "      <th>user_id</th>\n",
       "      <th>subject_line_length</th>\n",
       "      <th>last_open_day</th>\n",
       "      <th>last_login_day</th>\n",
       "      <th>last_checkout_day</th>\n",
       "      <th>open_count_last_10_days</th>\n",
       "      <th>open_count_last_30_days</th>\n",
       "      <th>open_count_last_60_days</th>\n",
       "      <th>login_count_last_10_days</th>\n",
       "      <th>login_count_last_30_days</th>\n",
       "      <th>login_count_last_60_days</th>\n",
       "      <th>checkout_count_last_10_days</th>\n",
       "      <th>checkout_count_last_30_days</th>\n",
       "      <th>checkout_count_last_60_days</th>\n",
       "      <th>open_flag</th>\n",
       "      <th>row_id</th>\n",
       "    </tr>\n",
       "  </thead>\n",
       "  <tbody>\n",
       "    <tr>\n",
       "      <th>0</th>\n",
       "      <td>4</td>\n",
       "      <td>2019-07-16 00:00:00+08:00</td>\n",
       "      <td>43</td>\n",
       "      <td>44</td>\n",
       "      <td>19</td>\n",
       "      <td>6</td>\n",
       "      <td>18</td>\n",
       "      <td>0</td>\n",
       "      <td>2</td>\n",
       "      <td>4</td>\n",
       "      <td>12</td>\n",
       "      <td>43</td>\n",
       "      <td>99</td>\n",
       "      <td>0</td>\n",
       "      <td>5</td>\n",
       "      <td>10</td>\n",
       "      <td>0</td>\n",
       "      <td>0</td>\n",
       "    </tr>\n",
       "    <tr>\n",
       "      <th>1</th>\n",
       "      <td>4</td>\n",
       "      <td>2019-07-16 00:00:00+08:00</td>\n",
       "      <td>102</td>\n",
       "      <td>44</td>\n",
       "      <td>9</td>\n",
       "      <td>4</td>\n",
       "      <td>8</td>\n",
       "      <td>2</td>\n",
       "      <td>9</td>\n",
       "      <td>17</td>\n",
       "      <td>18</td>\n",
       "      <td>48</td>\n",
       "      <td>90</td>\n",
       "      <td>1</td>\n",
       "      <td>1</td>\n",
       "      <td>4</td>\n",
       "      <td>1</td>\n",
       "      <td>1</td>\n",
       "    </tr>\n",
       "    <tr>\n",
       "      <th>2</th>\n",
       "      <td>6</td>\n",
       "      <td>2019-07-16 00:00:00+08:00</td>\n",
       "      <td>177</td>\n",
       "      <td>49</td>\n",
       "      <td>14</td>\n",
       "      <td>5</td>\n",
       "      <td>5</td>\n",
       "      <td>0</td>\n",
       "      <td>4</td>\n",
       "      <td>12</td>\n",
       "      <td>24</td>\n",
       "      <td>69</td>\n",
       "      <td>119</td>\n",
       "      <td>5</td>\n",
       "      <td>19</td>\n",
       "      <td>27</td>\n",
       "      <td>0</td>\n",
       "      <td>2</td>\n",
       "    </tr>\n",
       "    <tr>\n",
       "      <th>3</th>\n",
       "      <td>1</td>\n",
       "      <td>2019-07-16 00:00:00+08:00</td>\n",
       "      <td>184</td>\n",
       "      <td>49</td>\n",
       "      <td>49</td>\n",
       "      <td>9</td>\n",
       "      <td>53</td>\n",
       "      <td>0</td>\n",
       "      <td>0</td>\n",
       "      <td>1</td>\n",
       "      <td>9</td>\n",
       "      <td>23</td>\n",
       "      <td>69</td>\n",
       "      <td>1</td>\n",
       "      <td>3</td>\n",
       "      <td>6</td>\n",
       "      <td>0</td>\n",
       "      <td>3</td>\n",
       "    </tr>\n",
       "    <tr>\n",
       "      <th>4</th>\n",
       "      <td>6</td>\n",
       "      <td>2019-07-16 00:00:00+08:00</td>\n",
       "      <td>221</td>\n",
       "      <td>49</td>\n",
       "      <td>227</td>\n",
       "      <td>6</td>\n",
       "      <td>221</td>\n",
       "      <td>0</td>\n",
       "      <td>0</td>\n",
       "      <td>0</td>\n",
       "      <td>2</td>\n",
       "      <td>5</td>\n",
       "      <td>5</td>\n",
       "      <td>0</td>\n",
       "      <td>0</td>\n",
       "      <td>0</td>\n",
       "      <td>0</td>\n",
       "      <td>4</td>\n",
       "    </tr>\n",
       "  </tbody>\n",
       "</table>\n",
       "</div>"
      ],
      "text/plain": [
       "   country_code                 grass_date  user_id  subject_line_length  \\\n",
       "0             4  2019-07-16 00:00:00+08:00       43                   44   \n",
       "1             4  2019-07-16 00:00:00+08:00      102                   44   \n",
       "2             6  2019-07-16 00:00:00+08:00      177                   49   \n",
       "3             1  2019-07-16 00:00:00+08:00      184                   49   \n",
       "4             6  2019-07-16 00:00:00+08:00      221                   49   \n",
       "\n",
       "  last_open_day last_login_day last_checkout_day  open_count_last_10_days  \\\n",
       "0            19              6                18                        0   \n",
       "1             9              4                 8                        2   \n",
       "2            14              5                 5                        0   \n",
       "3            49              9                53                        0   \n",
       "4           227              6               221                        0   \n",
       "\n",
       "   open_count_last_30_days  open_count_last_60_days  login_count_last_10_days  \\\n",
       "0                        2                        4                        12   \n",
       "1                        9                       17                        18   \n",
       "2                        4                       12                        24   \n",
       "3                        0                        1                         9   \n",
       "4                        0                        0                         2   \n",
       "\n",
       "   login_count_last_30_days  login_count_last_60_days  \\\n",
       "0                        43                        99   \n",
       "1                        48                        90   \n",
       "2                        69                       119   \n",
       "3                        23                        69   \n",
       "4                         5                         5   \n",
       "\n",
       "   checkout_count_last_10_days  checkout_count_last_30_days  \\\n",
       "0                            0                            5   \n",
       "1                            1                            1   \n",
       "2                            5                           19   \n",
       "3                            1                            3   \n",
       "4                            0                            0   \n",
       "\n",
       "   checkout_count_last_60_days  open_flag  row_id  \n",
       "0                           10          0       0  \n",
       "1                            4          1       1  \n",
       "2                           27          0       2  \n",
       "3                            6          0       3  \n",
       "4                            0          0       4  "
      ]
     },
     "execution_count": 2,
     "metadata": {},
     "output_type": "execute_result"
    }
   ],
   "source": [
    "# train dataset\n",
    "df = pd.read_csv('./data/train.csv')\n",
    "\n",
    "# test dataset\n",
    "test = pd.read_csv('./data/test.csv')\n",
    "df.head()"
   ]
  },
  {
   "cell_type": "markdown",
   "metadata": {},
   "source": [
    "### Data dictionary   \n",
    "|**No**| **Colume's name** |**Descriptions**|\n",
    "|:----:|:------------------|:---------------|\n",
    "|01|country_code|An integer code for the country where the user lives.|\n",
    "|02|grass_date|The date when the email was sent.|\n",
    "|03|user_id|the unique identifier of each user.|\n",
    "|04|subject_line_length|the number of characters in the subject of the email|\n",
    "|05|last_open_day|How many days ago was the last time the user opened an email|\n",
    "|06|last_login_day|How many days ago the user last logged in its Shopee account|\n",
    "|07|last_checkout_day|How many days ago the user last purchased on Shopee|\n",
    "|08|open_count_last_N_days|the total number of email opens in the last N days. N=10,30,60|\n",
    "|09|login_count_last_N_days|the total number of user logins in the last N days. N=10,30,60|\n",
    "|10|checkout_count_last_N_days|the total number of checkouts (=purchases) by the user in the last N days. N=10,30,60|\n",
    "|11|open_flag|the target variable. Whether or not the email was opened.|"
   ]
  },
  {
   "cell_type": "code",
   "execution_count": 3,
   "metadata": {},
   "outputs": [
    {
     "data": {
      "text/html": [
       "<div>\n",
       "<style scoped>\n",
       "    .dataframe tbody tr th:only-of-type {\n",
       "        vertical-align: middle;\n",
       "    }\n",
       "\n",
       "    .dataframe tbody tr th {\n",
       "        vertical-align: top;\n",
       "    }\n",
       "\n",
       "    .dataframe thead th {\n",
       "        text-align: right;\n",
       "    }\n",
       "</style>\n",
       "<table border=\"1\" class=\"dataframe\">\n",
       "  <thead>\n",
       "    <tr style=\"text-align: right;\">\n",
       "      <th></th>\n",
       "      <th>user_id</th>\n",
       "      <th>attr_1</th>\n",
       "      <th>attr_2</th>\n",
       "      <th>attr_3</th>\n",
       "      <th>age</th>\n",
       "      <th>domain</th>\n",
       "    </tr>\n",
       "  </thead>\n",
       "  <tbody>\n",
       "    <tr>\n",
       "      <th>0</th>\n",
       "      <td>0</td>\n",
       "      <td>NaN</td>\n",
       "      <td>1.0</td>\n",
       "      <td>0.0</td>\n",
       "      <td>NaN</td>\n",
       "      <td>@gmail.com</td>\n",
       "    </tr>\n",
       "    <tr>\n",
       "      <th>1</th>\n",
       "      <td>1</td>\n",
       "      <td>1.0</td>\n",
       "      <td>1.0</td>\n",
       "      <td>2.0</td>\n",
       "      <td>50.0</td>\n",
       "      <td>@gmail.com</td>\n",
       "    </tr>\n",
       "    <tr>\n",
       "      <th>2</th>\n",
       "      <td>2</td>\n",
       "      <td>NaN</td>\n",
       "      <td>1.0</td>\n",
       "      <td>0.0</td>\n",
       "      <td>NaN</td>\n",
       "      <td>other</td>\n",
       "    </tr>\n",
       "    <tr>\n",
       "      <th>3</th>\n",
       "      <td>3</td>\n",
       "      <td>NaN</td>\n",
       "      <td>1.0</td>\n",
       "      <td>0.0</td>\n",
       "      <td>NaN</td>\n",
       "      <td>@gmail.com</td>\n",
       "    </tr>\n",
       "    <tr>\n",
       "      <th>4</th>\n",
       "      <td>4</td>\n",
       "      <td>1.0</td>\n",
       "      <td>1.0</td>\n",
       "      <td>2.0</td>\n",
       "      <td>33.0</td>\n",
       "      <td>@gmail.com</td>\n",
       "    </tr>\n",
       "  </tbody>\n",
       "</table>\n",
       "</div>"
      ],
      "text/plain": [
       "   user_id  attr_1  attr_2  attr_3   age      domain\n",
       "0        0     NaN     1.0     0.0   NaN  @gmail.com\n",
       "1        1     1.0     1.0     2.0  50.0  @gmail.com\n",
       "2        2     NaN     1.0     0.0   NaN       other\n",
       "3        3     NaN     1.0     0.0   NaN  @gmail.com\n",
       "4        4     1.0     1.0     2.0  33.0  @gmail.com"
      ]
     },
     "execution_count": 3,
     "metadata": {},
     "output_type": "execute_result"
    }
   ],
   "source": [
    "# user dataset\n",
    "# empty values are simply unknown\n",
    "user = pd.read_csv('./data/users.csv')\n",
    "user.head()"
   ]
  },
  {
   "cell_type": "markdown",
   "metadata": {},
   "source": [
    "### Data dictionary   \n",
    "|**No**| **Colume's name** |**Descriptions**|\n",
    "|:----:|:------------------|:---------------|\n",
    "|01|user_id|the unique identifier of each user|\n",
    "|02|attr_[1/2/3]|general user attributes. Attr_1 and attr_2 are boolean, attrib_3 can be integer [0,1,2,3,4]|\n",
    "|03|age|The user's reported age.|\n",
    "|04|domain|The user's top-level email domain. Less common domains are bundled together under the label 'other'.|"
   ]
  },
  {
   "cell_type": "code",
   "execution_count": 4,
   "metadata": {},
   "outputs": [
    {
     "name": "stdout",
     "output_type": "stream",
     "text": [
      "<class 'pandas.core.frame.DataFrame'>\n",
      "RangeIndex: 73539 entries, 0 to 73538\n",
      "Data columns (total 18 columns):\n",
      " #   Column                       Non-Null Count  Dtype \n",
      "---  ------                       --------------  ----- \n",
      " 0   country_code                 73539 non-null  int64 \n",
      " 1   grass_date                   73539 non-null  object\n",
      " 2   user_id                      73539 non-null  int64 \n",
      " 3   subject_line_length          73539 non-null  int64 \n",
      " 4   last_open_day                73539 non-null  object\n",
      " 5   last_login_day               73539 non-null  object\n",
      " 6   last_checkout_day            73539 non-null  object\n",
      " 7   open_count_last_10_days      73539 non-null  int64 \n",
      " 8   open_count_last_30_days      73539 non-null  int64 \n",
      " 9   open_count_last_60_days      73539 non-null  int64 \n",
      " 10  login_count_last_10_days     73539 non-null  int64 \n",
      " 11  login_count_last_30_days     73539 non-null  int64 \n",
      " 12  login_count_last_60_days     73539 non-null  int64 \n",
      " 13  checkout_count_last_10_days  73539 non-null  int64 \n",
      " 14  checkout_count_last_30_days  73539 non-null  int64 \n",
      " 15  checkout_count_last_60_days  73539 non-null  int64 \n",
      " 16  open_flag                    73539 non-null  int64 \n",
      " 17  row_id                       73539 non-null  int64 \n",
      "dtypes: int64(14), object(4)\n",
      "memory usage: 10.1+ MB\n"
     ]
    }
   ],
   "source": [
    "# no missing value, but there are datatype need to be corrected\n",
    "df.info()"
   ]
  },
  {
   "cell_type": "code",
   "execution_count": 5,
   "metadata": {},
   "outputs": [
    {
     "name": "stdout",
     "output_type": "stream",
     "text": [
      "<class 'pandas.core.frame.DataFrame'>\n",
      "RangeIndex: 55970 entries, 0 to 55969\n",
      "Data columns (total 17 columns):\n",
      " #   Column                       Non-Null Count  Dtype \n",
      "---  ------                       --------------  ----- \n",
      " 0   country_code                 55970 non-null  int64 \n",
      " 1   grass_date                   55970 non-null  object\n",
      " 2   user_id                      55970 non-null  int64 \n",
      " 3   subject_line_length          55970 non-null  int64 \n",
      " 4   last_open_day                55970 non-null  object\n",
      " 5   last_login_day               55970 non-null  object\n",
      " 6   last_checkout_day            55970 non-null  object\n",
      " 7   open_count_last_10_days      55970 non-null  int64 \n",
      " 8   open_count_last_30_days      55970 non-null  int64 \n",
      " 9   open_count_last_60_days      55970 non-null  int64 \n",
      " 10  login_count_last_10_days     55970 non-null  int64 \n",
      " 11  login_count_last_30_days     55970 non-null  int64 \n",
      " 12  login_count_last_60_days     55970 non-null  int64 \n",
      " 13  checkout_count_last_10_days  55970 non-null  int64 \n",
      " 14  checkout_count_last_30_days  55970 non-null  int64 \n",
      " 15  checkout_count_last_60_days  55970 non-null  int64 \n",
      " 16  row_id                       55970 non-null  int64 \n",
      "dtypes: int64(13), object(4)\n",
      "memory usage: 7.3+ MB\n"
     ]
    }
   ],
   "source": [
    "# no missing value in test dataset as well\n",
    "test.info()"
   ]
  },
  {
   "cell_type": "code",
   "execution_count": 6,
   "metadata": {},
   "outputs": [
    {
     "name": "stdout",
     "output_type": "stream",
     "text": [
      "<class 'pandas.core.frame.DataFrame'>\n",
      "RangeIndex: 127886 entries, 0 to 127885\n",
      "Data columns (total 6 columns):\n",
      " #   Column   Non-Null Count   Dtype  \n",
      "---  ------   --------------   -----  \n",
      " 0   user_id  127886 non-null  int64  \n",
      " 1   attr_1   78987 non-null   float64\n",
      " 2   attr_2   127439 non-null  float64\n",
      " 3   attr_3   127886 non-null  float64\n",
      " 4   age      78987 non-null   float64\n",
      " 5   domain   127886 non-null  object \n",
      "dtypes: float64(4), int64(1), object(1)\n",
      "memory usage: 5.9+ MB\n"
     ]
    }
   ],
   "source": [
    "# only user_id, attr_3 & domain have no missing values\n",
    "user.info()"
   ]
  },
  {
   "cell_type": "code",
   "execution_count": 7,
   "metadata": {},
   "outputs": [
    {
     "name": "stdout",
     "output_type": "stream",
     "text": [
      "For total of 73539 rows, there are 72845 unique user.\n",
      "Total number of unique user receiving more than 1 email: 694 \n"
     ]
    }
   ],
   "source": [
    "# number of unique user in train data\n",
    "print(f\"For total of {df.shape[0]} rows, there are {df.user_id.nunique()} unique user.\")\n",
    "\n",
    "# how many repeated user id\n",
    "print(f\"Total number of unique user receiving more than 1 email: {sum(df.user_id.duplicated())} \")"
   ]
  },
  {
   "cell_type": "code",
   "execution_count": 8,
   "metadata": {},
   "outputs": [
    {
     "data": {
      "text/html": [
       "<div>\n",
       "<style scoped>\n",
       "    .dataframe tbody tr th:only-of-type {\n",
       "        vertical-align: middle;\n",
       "    }\n",
       "\n",
       "    .dataframe tbody tr th {\n",
       "        vertical-align: top;\n",
       "    }\n",
       "\n",
       "    .dataframe thead th {\n",
       "        text-align: right;\n",
       "    }\n",
       "</style>\n",
       "<table border=\"1\" class=\"dataframe\">\n",
       "  <thead>\n",
       "    <tr style=\"text-align: right;\">\n",
       "      <th></th>\n",
       "      <th>country_code</th>\n",
       "      <th>grass_date</th>\n",
       "      <th>user_id</th>\n",
       "      <th>subject_line_length</th>\n",
       "      <th>last_open_day</th>\n",
       "      <th>last_login_day</th>\n",
       "      <th>last_checkout_day</th>\n",
       "      <th>open_count_last_10_days</th>\n",
       "      <th>open_count_last_30_days</th>\n",
       "      <th>open_count_last_60_days</th>\n",
       "      <th>login_count_last_10_days</th>\n",
       "      <th>login_count_last_30_days</th>\n",
       "      <th>login_count_last_60_days</th>\n",
       "      <th>checkout_count_last_10_days</th>\n",
       "      <th>checkout_count_last_30_days</th>\n",
       "      <th>checkout_count_last_60_days</th>\n",
       "      <th>open_flag</th>\n",
       "      <th>row_id</th>\n",
       "    </tr>\n",
       "  </thead>\n",
       "  <tbody>\n",
       "    <tr>\n",
       "      <th>2669</th>\n",
       "      <td>5</td>\n",
       "      <td>2019-07-17 00:00:00+08:00</td>\n",
       "      <td>19732</td>\n",
       "      <td>33</td>\n",
       "      <td>5</td>\n",
       "      <td>2</td>\n",
       "      <td>2</td>\n",
       "      <td>0</td>\n",
       "      <td>0</td>\n",
       "      <td>0</td>\n",
       "      <td>9</td>\n",
       "      <td>28</td>\n",
       "      <td>69</td>\n",
       "      <td>3</td>\n",
       "      <td>5</td>\n",
       "      <td>14</td>\n",
       "      <td>0</td>\n",
       "      <td>2669</td>\n",
       "    </tr>\n",
       "    <tr>\n",
       "      <th>3809</th>\n",
       "      <td>1</td>\n",
       "      <td>2019-07-18 00:00:00+08:00</td>\n",
       "      <td>6143</td>\n",
       "      <td>50</td>\n",
       "      <td>84</td>\n",
       "      <td>13</td>\n",
       "      <td>1169</td>\n",
       "      <td>0</td>\n",
       "      <td>0</td>\n",
       "      <td>0</td>\n",
       "      <td>0</td>\n",
       "      <td>2</td>\n",
       "      <td>2</td>\n",
       "      <td>0</td>\n",
       "      <td>0</td>\n",
       "      <td>0</td>\n",
       "      <td>0</td>\n",
       "      <td>3809</td>\n",
       "    </tr>\n",
       "    <tr>\n",
       "      <th>4683</th>\n",
       "      <td>1</td>\n",
       "      <td>2019-07-19 00:00:00+08:00</td>\n",
       "      <td>4717</td>\n",
       "      <td>35</td>\n",
       "      <td>23</td>\n",
       "      <td>8</td>\n",
       "      <td>63</td>\n",
       "      <td>0</td>\n",
       "      <td>1</td>\n",
       "      <td>1</td>\n",
       "      <td>1</td>\n",
       "      <td>8</td>\n",
       "      <td>57</td>\n",
       "      <td>0</td>\n",
       "      <td>0</td>\n",
       "      <td>0</td>\n",
       "      <td>0</td>\n",
       "      <td>4683</td>\n",
       "    </tr>\n",
       "    <tr>\n",
       "      <th>5253</th>\n",
       "      <td>4</td>\n",
       "      <td>2019-07-19 00:00:00+08:00</td>\n",
       "      <td>52605</td>\n",
       "      <td>46</td>\n",
       "      <td>29</td>\n",
       "      <td>11</td>\n",
       "      <td>21</td>\n",
       "      <td>0</td>\n",
       "      <td>1</td>\n",
       "      <td>1</td>\n",
       "      <td>0</td>\n",
       "      <td>3</td>\n",
       "      <td>8</td>\n",
       "      <td>0</td>\n",
       "      <td>1</td>\n",
       "      <td>1</td>\n",
       "      <td>0</td>\n",
       "      <td>5253</td>\n",
       "    </tr>\n",
       "    <tr>\n",
       "      <th>6344</th>\n",
       "      <td>3</td>\n",
       "      <td>2019-07-20 00:00:00+08:00</td>\n",
       "      <td>39696</td>\n",
       "      <td>44</td>\n",
       "      <td>4</td>\n",
       "      <td>1</td>\n",
       "      <td>52</td>\n",
       "      <td>10</td>\n",
       "      <td>20</td>\n",
       "      <td>20</td>\n",
       "      <td>7</td>\n",
       "      <td>20</td>\n",
       "      <td>46</td>\n",
       "      <td>2</td>\n",
       "      <td>2</td>\n",
       "      <td>6</td>\n",
       "      <td>1</td>\n",
       "      <td>6344</td>\n",
       "    </tr>\n",
       "    <tr>\n",
       "      <th>...</th>\n",
       "      <td>...</td>\n",
       "      <td>...</td>\n",
       "      <td>...</td>\n",
       "      <td>...</td>\n",
       "      <td>...</td>\n",
       "      <td>...</td>\n",
       "      <td>...</td>\n",
       "      <td>...</td>\n",
       "      <td>...</td>\n",
       "      <td>...</td>\n",
       "      <td>...</td>\n",
       "      <td>...</td>\n",
       "      <td>...</td>\n",
       "      <td>...</td>\n",
       "      <td>...</td>\n",
       "      <td>...</td>\n",
       "      <td>...</td>\n",
       "      <td>...</td>\n",
       "    </tr>\n",
       "    <tr>\n",
       "      <th>72956</th>\n",
       "      <td>1</td>\n",
       "      <td>2019-09-02 00:00:00+08:00</td>\n",
       "      <td>110311</td>\n",
       "      <td>43</td>\n",
       "      <td>16</td>\n",
       "      <td>11</td>\n",
       "      <td>44</td>\n",
       "      <td>0</td>\n",
       "      <td>1</td>\n",
       "      <td>3</td>\n",
       "      <td>13</td>\n",
       "      <td>20</td>\n",
       "      <td>50</td>\n",
       "      <td>0</td>\n",
       "      <td>0</td>\n",
       "      <td>1</td>\n",
       "      <td>0</td>\n",
       "      <td>72956</td>\n",
       "    </tr>\n",
       "    <tr>\n",
       "      <th>73055</th>\n",
       "      <td>2</td>\n",
       "      <td>2019-09-02 00:00:00+08:00</td>\n",
       "      <td>114052</td>\n",
       "      <td>38</td>\n",
       "      <td>39</td>\n",
       "      <td>8</td>\n",
       "      <td>27</td>\n",
       "      <td>0</td>\n",
       "      <td>0</td>\n",
       "      <td>5</td>\n",
       "      <td>1</td>\n",
       "      <td>26</td>\n",
       "      <td>60</td>\n",
       "      <td>0</td>\n",
       "      <td>1</td>\n",
       "      <td>4</td>\n",
       "      <td>0</td>\n",
       "      <td>73055</td>\n",
       "    </tr>\n",
       "    <tr>\n",
       "      <th>73106</th>\n",
       "      <td>1</td>\n",
       "      <td>2019-09-02 00:00:00+08:00</td>\n",
       "      <td>116635</td>\n",
       "      <td>33</td>\n",
       "      <td>25</td>\n",
       "      <td>12</td>\n",
       "      <td>Never checkout</td>\n",
       "      <td>0</td>\n",
       "      <td>1</td>\n",
       "      <td>2</td>\n",
       "      <td>1</td>\n",
       "      <td>4</td>\n",
       "      <td>7</td>\n",
       "      <td>0</td>\n",
       "      <td>0</td>\n",
       "      <td>0</td>\n",
       "      <td>0</td>\n",
       "      <td>73106</td>\n",
       "    </tr>\n",
       "    <tr>\n",
       "      <th>73156</th>\n",
       "      <td>3</td>\n",
       "      <td>2019-09-02 00:00:00+08:00</td>\n",
       "      <td>118490</td>\n",
       "      <td>49</td>\n",
       "      <td>6</td>\n",
       "      <td>38</td>\n",
       "      <td>Never checkout</td>\n",
       "      <td>0</td>\n",
       "      <td>1</td>\n",
       "      <td>1</td>\n",
       "      <td>0</td>\n",
       "      <td>0</td>\n",
       "      <td>3</td>\n",
       "      <td>0</td>\n",
       "      <td>0</td>\n",
       "      <td>0</td>\n",
       "      <td>0</td>\n",
       "      <td>73156</td>\n",
       "    </tr>\n",
       "    <tr>\n",
       "      <th>73256</th>\n",
       "      <td>3</td>\n",
       "      <td>2019-09-02 00:00:00+08:00</td>\n",
       "      <td>120652</td>\n",
       "      <td>49</td>\n",
       "      <td>Never open</td>\n",
       "      <td>29</td>\n",
       "      <td>Never checkout</td>\n",
       "      <td>0</td>\n",
       "      <td>0</td>\n",
       "      <td>0</td>\n",
       "      <td>0</td>\n",
       "      <td>1</td>\n",
       "      <td>1</td>\n",
       "      <td>0</td>\n",
       "      <td>0</td>\n",
       "      <td>0</td>\n",
       "      <td>0</td>\n",
       "      <td>73256</td>\n",
       "    </tr>\n",
       "  </tbody>\n",
       "</table>\n",
       "<p>694 rows × 18 columns</p>\n",
       "</div>"
      ],
      "text/plain": [
       "       country_code                 grass_date  user_id  subject_line_length  \\\n",
       "2669              5  2019-07-17 00:00:00+08:00    19732                   33   \n",
       "3809              1  2019-07-18 00:00:00+08:00     6143                   50   \n",
       "4683              1  2019-07-19 00:00:00+08:00     4717                   35   \n",
       "5253              4  2019-07-19 00:00:00+08:00    52605                   46   \n",
       "6344              3  2019-07-20 00:00:00+08:00    39696                   44   \n",
       "...             ...                        ...      ...                  ...   \n",
       "72956             1  2019-09-02 00:00:00+08:00   110311                   43   \n",
       "73055             2  2019-09-02 00:00:00+08:00   114052                   38   \n",
       "73106             1  2019-09-02 00:00:00+08:00   116635                   33   \n",
       "73156             3  2019-09-02 00:00:00+08:00   118490                   49   \n",
       "73256             3  2019-09-02 00:00:00+08:00   120652                   49   \n",
       "\n",
       "      last_open_day last_login_day last_checkout_day  open_count_last_10_days  \\\n",
       "2669              5              2                 2                        0   \n",
       "3809             84             13              1169                        0   \n",
       "4683             23              8                63                        0   \n",
       "5253             29             11                21                        0   \n",
       "6344              4              1                52                       10   \n",
       "...             ...            ...               ...                      ...   \n",
       "72956            16             11                44                        0   \n",
       "73055            39              8                27                        0   \n",
       "73106            25             12    Never checkout                        0   \n",
       "73156             6             38    Never checkout                        0   \n",
       "73256    Never open             29    Never checkout                        0   \n",
       "\n",
       "       open_count_last_30_days  open_count_last_60_days  \\\n",
       "2669                         0                        0   \n",
       "3809                         0                        0   \n",
       "4683                         1                        1   \n",
       "5253                         1                        1   \n",
       "6344                        20                       20   \n",
       "...                        ...                      ...   \n",
       "72956                        1                        3   \n",
       "73055                        0                        5   \n",
       "73106                        1                        2   \n",
       "73156                        1                        1   \n",
       "73256                        0                        0   \n",
       "\n",
       "       login_count_last_10_days  login_count_last_30_days  \\\n",
       "2669                          9                        28   \n",
       "3809                          0                         2   \n",
       "4683                          1                         8   \n",
       "5253                          0                         3   \n",
       "6344                          7                        20   \n",
       "...                         ...                       ...   \n",
       "72956                        13                        20   \n",
       "73055                         1                        26   \n",
       "73106                         1                         4   \n",
       "73156                         0                         0   \n",
       "73256                         0                         1   \n",
       "\n",
       "       login_count_last_60_days  checkout_count_last_10_days  \\\n",
       "2669                         69                            3   \n",
       "3809                          2                            0   \n",
       "4683                         57                            0   \n",
       "5253                          8                            0   \n",
       "6344                         46                            2   \n",
       "...                         ...                          ...   \n",
       "72956                        50                            0   \n",
       "73055                        60                            0   \n",
       "73106                         7                            0   \n",
       "73156                         3                            0   \n",
       "73256                         1                            0   \n",
       "\n",
       "       checkout_count_last_30_days  checkout_count_last_60_days  open_flag  \\\n",
       "2669                             5                           14          0   \n",
       "3809                             0                            0          0   \n",
       "4683                             0                            0          0   \n",
       "5253                             1                            1          0   \n",
       "6344                             2                            6          1   \n",
       "...                            ...                          ...        ...   \n",
       "72956                            0                            1          0   \n",
       "73055                            1                            4          0   \n",
       "73106                            0                            0          0   \n",
       "73156                            0                            0          0   \n",
       "73256                            0                            0          0   \n",
       "\n",
       "       row_id  \n",
       "2669     2669  \n",
       "3809     3809  \n",
       "4683     4683  \n",
       "5253     5253  \n",
       "6344     6344  \n",
       "...       ...  \n",
       "72956   72956  \n",
       "73055   73055  \n",
       "73106   73106  \n",
       "73156   73156  \n",
       "73256   73256  \n",
       "\n",
       "[694 rows x 18 columns]"
      ]
     },
     "execution_count": 8,
     "metadata": {},
     "output_type": "execute_result"
    }
   ],
   "source": [
    "df.loc[df.user_id.duplicated()]"
   ]
  },
  {
   "cell_type": "code",
   "execution_count": 9,
   "metadata": {},
   "outputs": [
    {
     "data": {
      "text/html": [
       "<div>\n",
       "<style scoped>\n",
       "    .dataframe tbody tr th:only-of-type {\n",
       "        vertical-align: middle;\n",
       "    }\n",
       "\n",
       "    .dataframe tbody tr th {\n",
       "        vertical-align: top;\n",
       "    }\n",
       "\n",
       "    .dataframe thead th {\n",
       "        text-align: right;\n",
       "    }\n",
       "</style>\n",
       "<table border=\"1\" class=\"dataframe\">\n",
       "  <thead>\n",
       "    <tr style=\"text-align: right;\">\n",
       "      <th></th>\n",
       "      <th>country_code</th>\n",
       "      <th>grass_date</th>\n",
       "      <th>user_id</th>\n",
       "      <th>subject_line_length</th>\n",
       "      <th>last_open_day</th>\n",
       "      <th>last_login_day</th>\n",
       "      <th>last_checkout_day</th>\n",
       "      <th>open_count_last_10_days</th>\n",
       "      <th>open_count_last_30_days</th>\n",
       "      <th>open_count_last_60_days</th>\n",
       "      <th>login_count_last_10_days</th>\n",
       "      <th>login_count_last_30_days</th>\n",
       "      <th>login_count_last_60_days</th>\n",
       "      <th>checkout_count_last_10_days</th>\n",
       "      <th>checkout_count_last_30_days</th>\n",
       "      <th>checkout_count_last_60_days</th>\n",
       "      <th>open_flag</th>\n",
       "      <th>row_id</th>\n",
       "    </tr>\n",
       "  </thead>\n",
       "  <tbody>\n",
       "    <tr>\n",
       "      <th>53293</th>\n",
       "      <td>1</td>\n",
       "      <td>2019-08-20 00:00:00+08:00</td>\n",
       "      <td>116635</td>\n",
       "      <td>68</td>\n",
       "      <td>12</td>\n",
       "      <td>10</td>\n",
       "      <td>Never checkout</td>\n",
       "      <td>0</td>\n",
       "      <td>2</td>\n",
       "      <td>2</td>\n",
       "      <td>1</td>\n",
       "      <td>3</td>\n",
       "      <td>4</td>\n",
       "      <td>0</td>\n",
       "      <td>0</td>\n",
       "      <td>0</td>\n",
       "      <td>0</td>\n",
       "      <td>53293</td>\n",
       "    </tr>\n",
       "    <tr>\n",
       "      <th>73106</th>\n",
       "      <td>1</td>\n",
       "      <td>2019-09-02 00:00:00+08:00</td>\n",
       "      <td>116635</td>\n",
       "      <td>33</td>\n",
       "      <td>25</td>\n",
       "      <td>12</td>\n",
       "      <td>Never checkout</td>\n",
       "      <td>0</td>\n",
       "      <td>1</td>\n",
       "      <td>2</td>\n",
       "      <td>1</td>\n",
       "      <td>4</td>\n",
       "      <td>7</td>\n",
       "      <td>0</td>\n",
       "      <td>0</td>\n",
       "      <td>0</td>\n",
       "      <td>0</td>\n",
       "      <td>73106</td>\n",
       "    </tr>\n",
       "  </tbody>\n",
       "</table>\n",
       "</div>"
      ],
      "text/plain": [
       "       country_code                 grass_date  user_id  subject_line_length  \\\n",
       "53293             1  2019-08-20 00:00:00+08:00   116635                   68   \n",
       "73106             1  2019-09-02 00:00:00+08:00   116635                   33   \n",
       "\n",
       "      last_open_day last_login_day last_checkout_day  open_count_last_10_days  \\\n",
       "53293            12             10    Never checkout                        0   \n",
       "73106            25             12    Never checkout                        0   \n",
       "\n",
       "       open_count_last_30_days  open_count_last_60_days  \\\n",
       "53293                        2                        2   \n",
       "73106                        1                        2   \n",
       "\n",
       "       login_count_last_10_days  login_count_last_30_days  \\\n",
       "53293                         1                         3   \n",
       "73106                         1                         4   \n",
       "\n",
       "       login_count_last_60_days  checkout_count_last_10_days  \\\n",
       "53293                         4                            0   \n",
       "73106                         7                            0   \n",
       "\n",
       "       checkout_count_last_30_days  checkout_count_last_60_days  open_flag  \\\n",
       "53293                            0                            0          0   \n",
       "73106                            0                            0          0   \n",
       "\n",
       "       row_id  \n",
       "53293   53293  \n",
       "73106   73106  "
      ]
     },
     "execution_count": 9,
     "metadata": {},
     "output_type": "execute_result"
    }
   ],
   "source": [
    "# peak on one of the repeated user (i.e user that receiving more than 1 email)\n",
    "df.query('user_id == 116635')"
   ]
  },
  {
   "cell_type": "markdown",
   "metadata": {},
   "source": [
    "### 2.2 Data manupulation\n",
    "Change the data types, add column with engineered data"
   ]
  },
  {
   "cell_type": "code",
   "execution_count": 10,
   "metadata": {},
   "outputs": [],
   "source": [
    "# convert the `grass_date` to datetime datatype, exclude timespan as all of them is fixed value\n",
    "df['grass_date'] = pd.to_datetime(df.grass_date).dt.date\n",
    "test['grass_date'] = pd.to_datetime(test.grass_date).dt.date\n",
    "\n",
    "# add column to indicate the day of the week the email send out\n",
    "# using .isoweekday(), where Monday = 1, Sunday = 7\n",
    "df['email_weekday'] = df.grass_date.apply(lambda x:x.isoweekday())\n",
    "test['email_weekday'] = test.grass_date.apply(lambda x:x.isoweekday())"
   ]
  },
  {
   "cell_type": "markdown",
   "metadata": {},
   "source": [
    "columns `last_open_day`, `last_login_day`, `last_checkout_day` are with str datatype. This is due to there are str in these columns ('Never open', 'Never login', 'Never checkout').\n",
    "To replace these str with '9999' and convert the datatype to numeric ('int32')"
   ]
  },
  {
   "cell_type": "code",
   "execution_count": 11,
   "metadata": {},
   "outputs": [],
   "source": [
    "# replace str to '18999'. max value seens around 181xx\n",
    "df = df.replace(to_replace=['Never open', 'Never login', 'Never checkout'], value='9999')\n",
    "test = test.replace(to_replace = ['Never open', 'Never login', 'Never checkout'], value = '9999')\n",
    "\n",
    "# convert str to numeric datatype\n",
    "df = df.astype({'last_open_day':'int32', 'last_login_day':'int32', 'last_checkout_day':'int32'})\n",
    "test = test.astype({'last_open_day':'int32', 'last_login_day':'int32', 'last_checkout_day':'int32'})\n"
   ]
  },
  {
   "cell_type": "code",
   "execution_count": 12,
   "metadata": {},
   "outputs": [],
   "source": [
    "# merge df with user age\n",
    "df = df.merge(user[['user_id','attr_3', 'domain','age']], how = 'left', on = 'user_id')\n",
    "test = test.merge(user[['user_id','attr_3', 'domain','age']], how = 'left', on = 'user_id')"
   ]
  },
  {
   "cell_type": "code",
   "execution_count": 13,
   "metadata": {},
   "outputs": [],
   "source": [
    "# convert 'country_code', 'user_id' to 'str' datatype as it does not carry any numeric meaning\n",
    "df = df.astype({'country_code':'str', 'user_id': 'str'})\n",
    "test = test.astype({'country_code':'str', 'user_id': 'str'})"
   ]
  },
  {
   "cell_type": "code",
   "execution_count": 14,
   "metadata": {},
   "outputs": [],
   "source": [
    "# drop 'row_id' as this is just a record with no additional information provided\n",
    "df.drop('row_id', axis = 1, inplace = True)"
   ]
  },
  {
   "cell_type": "markdown",
   "metadata": {},
   "source": [
    "### 2.3 Statistical summary\n",
    "### 2.3.1 Numeric column  \n",
    "- `last_login_day` with max at 18141 days, translated to about 50 years ago, which is not logic. To examine further the data in next section (data cleaning).\n",
    "- `open_flag`, average at 0.155781, i.e. 15.58% user open email, and majority is not.\n",
    "- `age`, mean age at 31.4,  but with unrealistic min & max age (-17, 118, respectively)."
   ]
  },
  {
   "cell_type": "code",
   "execution_count": 15,
   "metadata": {},
   "outputs": [
    {
     "data": {
      "text/html": [
       "<div>\n",
       "<style scoped>\n",
       "    .dataframe tbody tr th:only-of-type {\n",
       "        vertical-align: middle;\n",
       "    }\n",
       "\n",
       "    .dataframe tbody tr th {\n",
       "        vertical-align: top;\n",
       "    }\n",
       "\n",
       "    .dataframe thead th {\n",
       "        text-align: right;\n",
       "    }\n",
       "</style>\n",
       "<table border=\"1\" class=\"dataframe\">\n",
       "  <thead>\n",
       "    <tr style=\"text-align: right;\">\n",
       "      <th></th>\n",
       "      <th>subject_line_length</th>\n",
       "      <th>last_open_day</th>\n",
       "      <th>last_login_day</th>\n",
       "      <th>last_checkout_day</th>\n",
       "      <th>open_count_last_10_days</th>\n",
       "      <th>open_count_last_30_days</th>\n",
       "      <th>open_count_last_60_days</th>\n",
       "      <th>login_count_last_10_days</th>\n",
       "      <th>login_count_last_30_days</th>\n",
       "      <th>login_count_last_60_days</th>\n",
       "      <th>checkout_count_last_10_days</th>\n",
       "      <th>checkout_count_last_30_days</th>\n",
       "      <th>checkout_count_last_60_days</th>\n",
       "      <th>open_flag</th>\n",
       "      <th>email_weekday</th>\n",
       "      <th>attr_3</th>\n",
       "      <th>age</th>\n",
       "    </tr>\n",
       "  </thead>\n",
       "  <tbody>\n",
       "    <tr>\n",
       "      <th>count</th>\n",
       "      <td>73539.000000</td>\n",
       "      <td>73539.000000</td>\n",
       "      <td>73539.000000</td>\n",
       "      <td>73539.000000</td>\n",
       "      <td>73539.000000</td>\n",
       "      <td>73539.000000</td>\n",
       "      <td>73539.000000</td>\n",
       "      <td>73539.000000</td>\n",
       "      <td>73539.000000</td>\n",
       "      <td>73539.000000</td>\n",
       "      <td>73539.000000</td>\n",
       "      <td>73539.000000</td>\n",
       "      <td>73539.000000</td>\n",
       "      <td>73539.000000</td>\n",
       "      <td>73539.000000</td>\n",
       "      <td>73539.000000</td>\n",
       "      <td>45347.000000</td>\n",
       "    </tr>\n",
       "    <tr>\n",
       "      <th>mean</th>\n",
       "      <td>43.656373</td>\n",
       "      <td>1051.617278</td>\n",
       "      <td>91.068603</td>\n",
       "      <td>2355.266552</td>\n",
       "      <td>0.911829</td>\n",
       "      <td>2.780457</td>\n",
       "      <td>5.019364</td>\n",
       "      <td>8.382287</td>\n",
       "      <td>25.284053</td>\n",
       "      <td>49.010430</td>\n",
       "      <td>0.909898</td>\n",
       "      <td>2.796040</td>\n",
       "      <td>5.420960</td>\n",
       "      <td>0.155781</td>\n",
       "      <td>3.618597</td>\n",
       "      <td>1.077863</td>\n",
       "      <td>31.445564</td>\n",
       "    </tr>\n",
       "    <tr>\n",
       "      <th>std</th>\n",
       "      <td>11.219323</td>\n",
       "      <td>3019.771975</td>\n",
       "      <td>701.845850</td>\n",
       "      <td>4177.707119</td>\n",
       "      <td>1.754052</td>\n",
       "      <td>4.570239</td>\n",
       "      <td>7.902313</td>\n",
       "      <td>13.424436</td>\n",
       "      <td>37.853189</td>\n",
       "      <td>71.819327</td>\n",
       "      <td>2.887416</td>\n",
       "      <td>7.686064</td>\n",
       "      <td>13.980182</td>\n",
       "      <td>0.362650</td>\n",
       "      <td>2.032295</td>\n",
       "      <td>1.035252</td>\n",
       "      <td>11.797405</td>\n",
       "    </tr>\n",
       "    <tr>\n",
       "      <th>min</th>\n",
       "      <td>10.000000</td>\n",
       "      <td>1.000000</td>\n",
       "      <td>0.000000</td>\n",
       "      <td>1.000000</td>\n",
       "      <td>0.000000</td>\n",
       "      <td>0.000000</td>\n",
       "      <td>0.000000</td>\n",
       "      <td>0.000000</td>\n",
       "      <td>0.000000</td>\n",
       "      <td>0.000000</td>\n",
       "      <td>0.000000</td>\n",
       "      <td>0.000000</td>\n",
       "      <td>0.000000</td>\n",
       "      <td>0.000000</td>\n",
       "      <td>1.000000</td>\n",
       "      <td>0.000000</td>\n",
       "      <td>-17.000000</td>\n",
       "    </tr>\n",
       "    <tr>\n",
       "      <th>25%</th>\n",
       "      <td>34.000000</td>\n",
       "      <td>6.000000</td>\n",
       "      <td>3.000000</td>\n",
       "      <td>10.000000</td>\n",
       "      <td>0.000000</td>\n",
       "      <td>0.000000</td>\n",
       "      <td>0.000000</td>\n",
       "      <td>0.000000</td>\n",
       "      <td>1.000000</td>\n",
       "      <td>3.000000</td>\n",
       "      <td>0.000000</td>\n",
       "      <td>0.000000</td>\n",
       "      <td>0.000000</td>\n",
       "      <td>0.000000</td>\n",
       "      <td>2.000000</td>\n",
       "      <td>0.000000</td>\n",
       "      <td>24.000000</td>\n",
       "    </tr>\n",
       "    <tr>\n",
       "      <th>50%</th>\n",
       "      <td>43.000000</td>\n",
       "      <td>18.000000</td>\n",
       "      <td>8.000000</td>\n",
       "      <td>44.000000</td>\n",
       "      <td>0.000000</td>\n",
       "      <td>1.000000</td>\n",
       "      <td>2.000000</td>\n",
       "      <td>3.000000</td>\n",
       "      <td>11.000000</td>\n",
       "      <td>22.000000</td>\n",
       "      <td>0.000000</td>\n",
       "      <td>0.000000</td>\n",
       "      <td>1.000000</td>\n",
       "      <td>0.000000</td>\n",
       "      <td>4.000000</td>\n",
       "      <td>1.000000</td>\n",
       "      <td>29.000000</td>\n",
       "    </tr>\n",
       "    <tr>\n",
       "      <th>75%</th>\n",
       "      <td>52.000000</td>\n",
       "      <td>56.000000</td>\n",
       "      <td>27.000000</td>\n",
       "      <td>456.000000</td>\n",
       "      <td>1.000000</td>\n",
       "      <td>3.000000</td>\n",
       "      <td>6.000000</td>\n",
       "      <td>12.000000</td>\n",
       "      <td>35.000000</td>\n",
       "      <td>69.000000</td>\n",
       "      <td>1.000000</td>\n",
       "      <td>3.000000</td>\n",
       "      <td>6.000000</td>\n",
       "      <td>0.000000</td>\n",
       "      <td>5.000000</td>\n",
       "      <td>2.000000</td>\n",
       "      <td>36.000000</td>\n",
       "    </tr>\n",
       "    <tr>\n",
       "      <th>max</th>\n",
       "      <td>75.000000</td>\n",
       "      <td>9999.000000</td>\n",
       "      <td>18141.000000</td>\n",
       "      <td>9999.000000</td>\n",
       "      <td>31.000000</td>\n",
       "      <td>92.000000</td>\n",
       "      <td>135.000000</td>\n",
       "      <td>254.000000</td>\n",
       "      <td>735.000000</td>\n",
       "      <td>1260.000000</td>\n",
       "      <td>157.000000</td>\n",
       "      <td>531.000000</td>\n",
       "      <td>783.000000</td>\n",
       "      <td>1.000000</td>\n",
       "      <td>7.000000</td>\n",
       "      <td>4.000000</td>\n",
       "      <td>118.000000</td>\n",
       "    </tr>\n",
       "  </tbody>\n",
       "</table>\n",
       "</div>"
      ],
      "text/plain": [
       "       subject_line_length  last_open_day  last_login_day  last_checkout_day  \\\n",
       "count         73539.000000   73539.000000    73539.000000       73539.000000   \n",
       "mean             43.656373    1051.617278       91.068603        2355.266552   \n",
       "std              11.219323    3019.771975      701.845850        4177.707119   \n",
       "min              10.000000       1.000000        0.000000           1.000000   \n",
       "25%              34.000000       6.000000        3.000000          10.000000   \n",
       "50%              43.000000      18.000000        8.000000          44.000000   \n",
       "75%              52.000000      56.000000       27.000000         456.000000   \n",
       "max              75.000000    9999.000000    18141.000000        9999.000000   \n",
       "\n",
       "       open_count_last_10_days  open_count_last_30_days  \\\n",
       "count             73539.000000             73539.000000   \n",
       "mean                  0.911829                 2.780457   \n",
       "std                   1.754052                 4.570239   \n",
       "min                   0.000000                 0.000000   \n",
       "25%                   0.000000                 0.000000   \n",
       "50%                   0.000000                 1.000000   \n",
       "75%                   1.000000                 3.000000   \n",
       "max                  31.000000                92.000000   \n",
       "\n",
       "       open_count_last_60_days  login_count_last_10_days  \\\n",
       "count             73539.000000              73539.000000   \n",
       "mean                  5.019364                  8.382287   \n",
       "std                   7.902313                 13.424436   \n",
       "min                   0.000000                  0.000000   \n",
       "25%                   0.000000                  0.000000   \n",
       "50%                   2.000000                  3.000000   \n",
       "75%                   6.000000                 12.000000   \n",
       "max                 135.000000                254.000000   \n",
       "\n",
       "       login_count_last_30_days  login_count_last_60_days  \\\n",
       "count              73539.000000              73539.000000   \n",
       "mean                  25.284053                 49.010430   \n",
       "std                   37.853189                 71.819327   \n",
       "min                    0.000000                  0.000000   \n",
       "25%                    1.000000                  3.000000   \n",
       "50%                   11.000000                 22.000000   \n",
       "75%                   35.000000                 69.000000   \n",
       "max                  735.000000               1260.000000   \n",
       "\n",
       "       checkout_count_last_10_days  checkout_count_last_30_days  \\\n",
       "count                 73539.000000                 73539.000000   \n",
       "mean                      0.909898                     2.796040   \n",
       "std                       2.887416                     7.686064   \n",
       "min                       0.000000                     0.000000   \n",
       "25%                       0.000000                     0.000000   \n",
       "50%                       0.000000                     0.000000   \n",
       "75%                       1.000000                     3.000000   \n",
       "max                     157.000000                   531.000000   \n",
       "\n",
       "       checkout_count_last_60_days     open_flag  email_weekday        attr_3  \\\n",
       "count                 73539.000000  73539.000000   73539.000000  73539.000000   \n",
       "mean                      5.420960      0.155781       3.618597      1.077863   \n",
       "std                      13.980182      0.362650       2.032295      1.035252   \n",
       "min                       0.000000      0.000000       1.000000      0.000000   \n",
       "25%                       0.000000      0.000000       2.000000      0.000000   \n",
       "50%                       1.000000      0.000000       4.000000      1.000000   \n",
       "75%                       6.000000      0.000000       5.000000      2.000000   \n",
       "max                     783.000000      1.000000       7.000000      4.000000   \n",
       "\n",
       "                age  \n",
       "count  45347.000000  \n",
       "mean      31.445564  \n",
       "std       11.797405  \n",
       "min      -17.000000  \n",
       "25%       24.000000  \n",
       "50%       29.000000  \n",
       "75%       36.000000  \n",
       "max      118.000000  "
      ]
     },
     "execution_count": 15,
     "metadata": {},
     "output_type": "execute_result"
    }
   ],
   "source": [
    "df.describe()"
   ]
  },
  {
   "cell_type": "markdown",
   "metadata": {},
   "source": [
    "### 2.3.2 obj column  \n",
    "- User from **7 different country code**, with majority user from country code = 1\n",
    "- The dataset comprises of email send out in 47 different date in 1.5 months (16 July - 2nd Sept, 2019)\n",
    "- Total 74864 unique user received email within the 1.5 months time span. Majority user receiving 1 email and one user receiving up to 3 emails.\n",
    "- Most user is using **@gmail** at 62670 users. There are total of 10 top domain email and less common domains are bundled together under the label 'other'."
   ]
  },
  {
   "cell_type": "code",
   "execution_count": 16,
   "metadata": {},
   "outputs": [
    {
     "data": {
      "text/html": [
       "<div>\n",
       "<style scoped>\n",
       "    .dataframe tbody tr th:only-of-type {\n",
       "        vertical-align: middle;\n",
       "    }\n",
       "\n",
       "    .dataframe tbody tr th {\n",
       "        vertical-align: top;\n",
       "    }\n",
       "\n",
       "    .dataframe thead th {\n",
       "        text-align: right;\n",
       "    }\n",
       "</style>\n",
       "<table border=\"1\" class=\"dataframe\">\n",
       "  <thead>\n",
       "    <tr style=\"text-align: right;\">\n",
       "      <th></th>\n",
       "      <th>country_code</th>\n",
       "      <th>grass_date</th>\n",
       "      <th>user_id</th>\n",
       "      <th>domain</th>\n",
       "    </tr>\n",
       "  </thead>\n",
       "  <tbody>\n",
       "    <tr>\n",
       "      <th>count</th>\n",
       "      <td>73539</td>\n",
       "      <td>73539</td>\n",
       "      <td>73539</td>\n",
       "      <td>73539</td>\n",
       "    </tr>\n",
       "    <tr>\n",
       "      <th>unique</th>\n",
       "      <td>7</td>\n",
       "      <td>47</td>\n",
       "      <td>72845</td>\n",
       "      <td>11</td>\n",
       "    </tr>\n",
       "    <tr>\n",
       "      <th>top</th>\n",
       "      <td>1</td>\n",
       "      <td>2019-09-02</td>\n",
       "      <td>74864</td>\n",
       "      <td>@gmail.com</td>\n",
       "    </tr>\n",
       "    <tr>\n",
       "      <th>freq</th>\n",
       "      <td>28423</td>\n",
       "      <td>3915</td>\n",
       "      <td>3</td>\n",
       "      <td>62670</td>\n",
       "    </tr>\n",
       "  </tbody>\n",
       "</table>\n",
       "</div>"
      ],
      "text/plain": [
       "       country_code  grass_date user_id      domain\n",
       "count         73539       73539   73539       73539\n",
       "unique            7          47   72845          11\n",
       "top               1  2019-09-02   74864  @gmail.com\n",
       "freq          28423        3915       3       62670"
      ]
     },
     "execution_count": 16,
     "metadata": {},
     "output_type": "execute_result"
    }
   ],
   "source": [
    "df.describe(include=[np.object])"
   ]
  },
  {
   "cell_type": "code",
   "execution_count": 17,
   "metadata": {},
   "outputs": [
    {
     "data": {
      "text/plain": [
       "datetime.date(2019, 7, 16)"
      ]
     },
     "execution_count": 17,
     "metadata": {},
     "output_type": "execute_result"
    }
   ],
   "source": [
    "# earliest email date:\n",
    "df.grass_date.min()"
   ]
  },
  {
   "cell_type": "code",
   "execution_count": 18,
   "metadata": {},
   "outputs": [
    {
     "data": {
      "text/plain": [
       "datetime.date(2019, 9, 2)"
      ]
     },
     "execution_count": 18,
     "metadata": {},
     "output_type": "execute_result"
    }
   ],
   "source": [
    "# latest email date:\n",
    "df.grass_date.max()"
   ]
  },
  {
   "cell_type": "code",
   "execution_count": 19,
   "metadata": {},
   "outputs": [
    {
     "data": {
      "text/plain": [
       "datetime.date(2019, 9, 3)"
      ]
     },
     "execution_count": 19,
     "metadata": {},
     "output_type": "execute_result"
    }
   ],
   "source": [
    "# earliest email date from test dataset is a day after the latest date in train dataset\n",
    "test.grass_date.min()"
   ]
  },
  {
   "cell_type": "markdown",
   "metadata": {},
   "source": [
    "### 2.4 Data Cleaning "
   ]
  },
  {
   "cell_type": "markdown",
   "metadata": {},
   "source": [
    "#### 2.4.1 `last_login_day`\n",
    "- There are 24 rows with last login day of > 18000 days (translated to > 50 years ago, which is ambiguity) in train dataset. Similarly, 11 rows observed in test dataset.\n",
    "- Impute value in these rows with max login day (that is < 9999), which is found to be **1445** in train dataset. "
   ]
  },
  {
   "cell_type": "code",
   "execution_count": 20,
   "metadata": {},
   "outputs": [
    {
     "name": "stdout",
     "output_type": "stream",
     "text": [
      " Total of 24 rows last login day of >18000 days, translated to > 50 years ago\n"
     ]
    },
    {
     "data": {
      "text/html": [
       "<div>\n",
       "<style scoped>\n",
       "    .dataframe tbody tr th:only-of-type {\n",
       "        vertical-align: middle;\n",
       "    }\n",
       "\n",
       "    .dataframe tbody tr th {\n",
       "        vertical-align: top;\n",
       "    }\n",
       "\n",
       "    .dataframe thead th {\n",
       "        text-align: right;\n",
       "    }\n",
       "</style>\n",
       "<table border=\"1\" class=\"dataframe\">\n",
       "  <thead>\n",
       "    <tr style=\"text-align: right;\">\n",
       "      <th></th>\n",
       "      <th>country_code</th>\n",
       "      <th>grass_date</th>\n",
       "      <th>user_id</th>\n",
       "      <th>subject_line_length</th>\n",
       "      <th>last_open_day</th>\n",
       "      <th>last_login_day</th>\n",
       "      <th>last_checkout_day</th>\n",
       "      <th>open_count_last_10_days</th>\n",
       "      <th>open_count_last_30_days</th>\n",
       "      <th>open_count_last_60_days</th>\n",
       "      <th>...</th>\n",
       "      <th>login_count_last_30_days</th>\n",
       "      <th>login_count_last_60_days</th>\n",
       "      <th>checkout_count_last_10_days</th>\n",
       "      <th>checkout_count_last_30_days</th>\n",
       "      <th>checkout_count_last_60_days</th>\n",
       "      <th>open_flag</th>\n",
       "      <th>email_weekday</th>\n",
       "      <th>attr_3</th>\n",
       "      <th>domain</th>\n",
       "      <th>age</th>\n",
       "    </tr>\n",
       "  </thead>\n",
       "  <tbody>\n",
       "    <tr>\n",
       "      <th>6049</th>\n",
       "      <td>4</td>\n",
       "      <td>2019-07-19</td>\n",
       "      <td>111486</td>\n",
       "      <td>46</td>\n",
       "      <td>2</td>\n",
       "      <td>18096</td>\n",
       "      <td>9999</td>\n",
       "      <td>1</td>\n",
       "      <td>1</td>\n",
       "      <td>1</td>\n",
       "      <td>...</td>\n",
       "      <td>0</td>\n",
       "      <td>1</td>\n",
       "      <td>0</td>\n",
       "      <td>0</td>\n",
       "      <td>0</td>\n",
       "      <td>1</td>\n",
       "      <td>5</td>\n",
       "      <td>0.0</td>\n",
       "      <td>@gmail.com</td>\n",
       "      <td>NaN</td>\n",
       "    </tr>\n",
       "    <tr>\n",
       "      <th>15395</th>\n",
       "      <td>5</td>\n",
       "      <td>2019-07-25</td>\n",
       "      <td>118193</td>\n",
       "      <td>25</td>\n",
       "      <td>2</td>\n",
       "      <td>18102</td>\n",
       "      <td>9999</td>\n",
       "      <td>0</td>\n",
       "      <td>0</td>\n",
       "      <td>0</td>\n",
       "      <td>...</td>\n",
       "      <td>2</td>\n",
       "      <td>2</td>\n",
       "      <td>0</td>\n",
       "      <td>0</td>\n",
       "      <td>0</td>\n",
       "      <td>0</td>\n",
       "      <td>4</td>\n",
       "      <td>0.0</td>\n",
       "      <td>@gmail.com</td>\n",
       "      <td>NaN</td>\n",
       "    </tr>\n",
       "    <tr>\n",
       "      <th>16805</th>\n",
       "      <td>5</td>\n",
       "      <td>2019-07-26</td>\n",
       "      <td>116708</td>\n",
       "      <td>32</td>\n",
       "      <td>3</td>\n",
       "      <td>18103</td>\n",
       "      <td>9999</td>\n",
       "      <td>1</td>\n",
       "      <td>1</td>\n",
       "      <td>1</td>\n",
       "      <td>...</td>\n",
       "      <td>1</td>\n",
       "      <td>1</td>\n",
       "      <td>0</td>\n",
       "      <td>0</td>\n",
       "      <td>0</td>\n",
       "      <td>1</td>\n",
       "      <td>5</td>\n",
       "      <td>0.0</td>\n",
       "      <td>@gmail.com</td>\n",
       "      <td>NaN</td>\n",
       "    </tr>\n",
       "    <tr>\n",
       "      <th>18744</th>\n",
       "      <td>4</td>\n",
       "      <td>2019-07-28</td>\n",
       "      <td>116711</td>\n",
       "      <td>59</td>\n",
       "      <td>4</td>\n",
       "      <td>18105</td>\n",
       "      <td>9999</td>\n",
       "      <td>1</td>\n",
       "      <td>1</td>\n",
       "      <td>1</td>\n",
       "      <td>...</td>\n",
       "      <td>1</td>\n",
       "      <td>1</td>\n",
       "      <td>0</td>\n",
       "      <td>0</td>\n",
       "      <td>0</td>\n",
       "      <td>0</td>\n",
       "      <td>7</td>\n",
       "      <td>0.0</td>\n",
       "      <td>@hotmail.com</td>\n",
       "      <td>NaN</td>\n",
       "    </tr>\n",
       "    <tr>\n",
       "      <th>22973</th>\n",
       "      <td>5</td>\n",
       "      <td>2019-07-30</td>\n",
       "      <td>108846</td>\n",
       "      <td>38</td>\n",
       "      <td>50</td>\n",
       "      <td>18107</td>\n",
       "      <td>9999</td>\n",
       "      <td>1</td>\n",
       "      <td>1</td>\n",
       "      <td>2</td>\n",
       "      <td>...</td>\n",
       "      <td>0</td>\n",
       "      <td>1</td>\n",
       "      <td>0</td>\n",
       "      <td>0</td>\n",
       "      <td>0</td>\n",
       "      <td>1</td>\n",
       "      <td>2</td>\n",
       "      <td>0.0</td>\n",
       "      <td>@gmail.com</td>\n",
       "      <td>NaN</td>\n",
       "    </tr>\n",
       "    <tr>\n",
       "      <th>23050</th>\n",
       "      <td>5</td>\n",
       "      <td>2019-07-30</td>\n",
       "      <td>112688</td>\n",
       "      <td>38</td>\n",
       "      <td>13</td>\n",
       "      <td>18107</td>\n",
       "      <td>12</td>\n",
       "      <td>0</td>\n",
       "      <td>3</td>\n",
       "      <td>7</td>\n",
       "      <td>...</td>\n",
       "      <td>0</td>\n",
       "      <td>1</td>\n",
       "      <td>0</td>\n",
       "      <td>0</td>\n",
       "      <td>0</td>\n",
       "      <td>0</td>\n",
       "      <td>2</td>\n",
       "      <td>0.0</td>\n",
       "      <td>@gmail.com</td>\n",
       "      <td>NaN</td>\n",
       "    </tr>\n",
       "    <tr>\n",
       "      <th>32076</th>\n",
       "      <td>5</td>\n",
       "      <td>2019-08-06</td>\n",
       "      <td>95623</td>\n",
       "      <td>33</td>\n",
       "      <td>60</td>\n",
       "      <td>18114</td>\n",
       "      <td>9999</td>\n",
       "      <td>0</td>\n",
       "      <td>0</td>\n",
       "      <td>0</td>\n",
       "      <td>...</td>\n",
       "      <td>0</td>\n",
       "      <td>0</td>\n",
       "      <td>0</td>\n",
       "      <td>0</td>\n",
       "      <td>0</td>\n",
       "      <td>0</td>\n",
       "      <td>2</td>\n",
       "      <td>0.0</td>\n",
       "      <td>@gmail.com</td>\n",
       "      <td>NaN</td>\n",
       "    </tr>\n",
       "    <tr>\n",
       "      <th>32234</th>\n",
       "      <td>5</td>\n",
       "      <td>2019-08-06</td>\n",
       "      <td>103010</td>\n",
       "      <td>33</td>\n",
       "      <td>102</td>\n",
       "      <td>18114</td>\n",
       "      <td>9999</td>\n",
       "      <td>0</td>\n",
       "      <td>0</td>\n",
       "      <td>0</td>\n",
       "      <td>...</td>\n",
       "      <td>0</td>\n",
       "      <td>0</td>\n",
       "      <td>0</td>\n",
       "      <td>0</td>\n",
       "      <td>0</td>\n",
       "      <td>0</td>\n",
       "      <td>2</td>\n",
       "      <td>0.0</td>\n",
       "      <td>@hotmail.com</td>\n",
       "      <td>NaN</td>\n",
       "    </tr>\n",
       "    <tr>\n",
       "      <th>32366</th>\n",
       "      <td>4</td>\n",
       "      <td>2019-08-06</td>\n",
       "      <td>109893</td>\n",
       "      <td>34</td>\n",
       "      <td>39</td>\n",
       "      <td>18114</td>\n",
       "      <td>9999</td>\n",
       "      <td>0</td>\n",
       "      <td>0</td>\n",
       "      <td>1</td>\n",
       "      <td>...</td>\n",
       "      <td>0</td>\n",
       "      <td>1</td>\n",
       "      <td>0</td>\n",
       "      <td>0</td>\n",
       "      <td>0</td>\n",
       "      <td>0</td>\n",
       "      <td>2</td>\n",
       "      <td>0.0</td>\n",
       "      <td>@hotmail.com</td>\n",
       "      <td>NaN</td>\n",
       "    </tr>\n",
       "    <tr>\n",
       "      <th>36255</th>\n",
       "      <td>5</td>\n",
       "      <td>2019-08-08</td>\n",
       "      <td>104418</td>\n",
       "      <td>28</td>\n",
       "      <td>9999</td>\n",
       "      <td>18116</td>\n",
       "      <td>96</td>\n",
       "      <td>0</td>\n",
       "      <td>0</td>\n",
       "      <td>0</td>\n",
       "      <td>...</td>\n",
       "      <td>0</td>\n",
       "      <td>0</td>\n",
       "      <td>0</td>\n",
       "      <td>0</td>\n",
       "      <td>0</td>\n",
       "      <td>1</td>\n",
       "      <td>4</td>\n",
       "      <td>0.0</td>\n",
       "      <td>@gmail.com</td>\n",
       "      <td>NaN</td>\n",
       "    </tr>\n",
       "    <tr>\n",
       "      <th>43077</th>\n",
       "      <td>5</td>\n",
       "      <td>2019-08-14</td>\n",
       "      <td>97614</td>\n",
       "      <td>28</td>\n",
       "      <td>112</td>\n",
       "      <td>18122</td>\n",
       "      <td>9999</td>\n",
       "      <td>0</td>\n",
       "      <td>0</td>\n",
       "      <td>0</td>\n",
       "      <td>...</td>\n",
       "      <td>0</td>\n",
       "      <td>0</td>\n",
       "      <td>0</td>\n",
       "      <td>0</td>\n",
       "      <td>0</td>\n",
       "      <td>0</td>\n",
       "      <td>3</td>\n",
       "      <td>0.0</td>\n",
       "      <td>@yahoo.com</td>\n",
       "      <td>NaN</td>\n",
       "    </tr>\n",
       "    <tr>\n",
       "      <th>43167</th>\n",
       "      <td>5</td>\n",
       "      <td>2019-08-14</td>\n",
       "      <td>102894</td>\n",
       "      <td>28</td>\n",
       "      <td>110</td>\n",
       "      <td>18122</td>\n",
       "      <td>9999</td>\n",
       "      <td>0</td>\n",
       "      <td>0</td>\n",
       "      <td>0</td>\n",
       "      <td>...</td>\n",
       "      <td>0</td>\n",
       "      <td>0</td>\n",
       "      <td>0</td>\n",
       "      <td>0</td>\n",
       "      <td>0</td>\n",
       "      <td>0</td>\n",
       "      <td>3</td>\n",
       "      <td>0.0</td>\n",
       "      <td>@gmail.com</td>\n",
       "      <td>NaN</td>\n",
       "    </tr>\n",
       "    <tr>\n",
       "      <th>43176</th>\n",
       "      <td>5</td>\n",
       "      <td>2019-08-14</td>\n",
       "      <td>103319</td>\n",
       "      <td>28</td>\n",
       "      <td>108</td>\n",
       "      <td>18122</td>\n",
       "      <td>9999</td>\n",
       "      <td>0</td>\n",
       "      <td>0</td>\n",
       "      <td>0</td>\n",
       "      <td>...</td>\n",
       "      <td>1</td>\n",
       "      <td>3</td>\n",
       "      <td>0</td>\n",
       "      <td>0</td>\n",
       "      <td>0</td>\n",
       "      <td>0</td>\n",
       "      <td>3</td>\n",
       "      <td>0.0</td>\n",
       "      <td>@yahoo.com</td>\n",
       "      <td>NaN</td>\n",
       "    </tr>\n",
       "    <tr>\n",
       "      <th>43420</th>\n",
       "      <td>5</td>\n",
       "      <td>2019-08-14</td>\n",
       "      <td>117127</td>\n",
       "      <td>28</td>\n",
       "      <td>17</td>\n",
       "      <td>18122</td>\n",
       "      <td>9999</td>\n",
       "      <td>0</td>\n",
       "      <td>0</td>\n",
       "      <td>0</td>\n",
       "      <td>...</td>\n",
       "      <td>1</td>\n",
       "      <td>1</td>\n",
       "      <td>0</td>\n",
       "      <td>0</td>\n",
       "      <td>0</td>\n",
       "      <td>0</td>\n",
       "      <td>3</td>\n",
       "      <td>0.0</td>\n",
       "      <td>@gmail.com</td>\n",
       "      <td>NaN</td>\n",
       "    </tr>\n",
       "    <tr>\n",
       "      <th>46667</th>\n",
       "      <td>5</td>\n",
       "      <td>2019-08-16</td>\n",
       "      <td>102727</td>\n",
       "      <td>32</td>\n",
       "      <td>114</td>\n",
       "      <td>18124</td>\n",
       "      <td>9999</td>\n",
       "      <td>0</td>\n",
       "      <td>0</td>\n",
       "      <td>0</td>\n",
       "      <td>...</td>\n",
       "      <td>0</td>\n",
       "      <td>0</td>\n",
       "      <td>0</td>\n",
       "      <td>0</td>\n",
       "      <td>0</td>\n",
       "      <td>0</td>\n",
       "      <td>5</td>\n",
       "      <td>0.0</td>\n",
       "      <td>@gmail.com</td>\n",
       "      <td>NaN</td>\n",
       "    </tr>\n",
       "    <tr>\n",
       "      <th>54496</th>\n",
       "      <td>5</td>\n",
       "      <td>2019-08-21</td>\n",
       "      <td>110143</td>\n",
       "      <td>24</td>\n",
       "      <td>23</td>\n",
       "      <td>18129</td>\n",
       "      <td>9999</td>\n",
       "      <td>0</td>\n",
       "      <td>1</td>\n",
       "      <td>1</td>\n",
       "      <td>...</td>\n",
       "      <td>0</td>\n",
       "      <td>0</td>\n",
       "      <td>0</td>\n",
       "      <td>0</td>\n",
       "      <td>0</td>\n",
       "      <td>0</td>\n",
       "      <td>3</td>\n",
       "      <td>0.0</td>\n",
       "      <td>@icloud.com</td>\n",
       "      <td>NaN</td>\n",
       "    </tr>\n",
       "    <tr>\n",
       "      <th>54524</th>\n",
       "      <td>5</td>\n",
       "      <td>2019-08-21</td>\n",
       "      <td>112490</td>\n",
       "      <td>24</td>\n",
       "      <td>56</td>\n",
       "      <td>18129</td>\n",
       "      <td>9999</td>\n",
       "      <td>0</td>\n",
       "      <td>0</td>\n",
       "      <td>0</td>\n",
       "      <td>...</td>\n",
       "      <td>0</td>\n",
       "      <td>2</td>\n",
       "      <td>0</td>\n",
       "      <td>0</td>\n",
       "      <td>0</td>\n",
       "      <td>0</td>\n",
       "      <td>3</td>\n",
       "      <td>0.0</td>\n",
       "      <td>@gmail.com</td>\n",
       "      <td>NaN</td>\n",
       "    </tr>\n",
       "    <tr>\n",
       "      <th>54571</th>\n",
       "      <td>5</td>\n",
       "      <td>2019-08-21</td>\n",
       "      <td>118557</td>\n",
       "      <td>24</td>\n",
       "      <td>9999</td>\n",
       "      <td>18129</td>\n",
       "      <td>28</td>\n",
       "      <td>0</td>\n",
       "      <td>0</td>\n",
       "      <td>0</td>\n",
       "      <td>...</td>\n",
       "      <td>2</td>\n",
       "      <td>2</td>\n",
       "      <td>0</td>\n",
       "      <td>1</td>\n",
       "      <td>1</td>\n",
       "      <td>0</td>\n",
       "      <td>3</td>\n",
       "      <td>0.0</td>\n",
       "      <td>@gmail.com</td>\n",
       "      <td>NaN</td>\n",
       "    </tr>\n",
       "    <tr>\n",
       "      <th>57496</th>\n",
       "      <td>5</td>\n",
       "      <td>2019-08-23</td>\n",
       "      <td>97685</td>\n",
       "      <td>20</td>\n",
       "      <td>40</td>\n",
       "      <td>18131</td>\n",
       "      <td>9999</td>\n",
       "      <td>0</td>\n",
       "      <td>0</td>\n",
       "      <td>0</td>\n",
       "      <td>...</td>\n",
       "      <td>0</td>\n",
       "      <td>0</td>\n",
       "      <td>0</td>\n",
       "      <td>0</td>\n",
       "      <td>0</td>\n",
       "      <td>0</td>\n",
       "      <td>5</td>\n",
       "      <td>1.0</td>\n",
       "      <td>@gmail.com</td>\n",
       "      <td>53.0</td>\n",
       "    </tr>\n",
       "    <tr>\n",
       "      <th>57527</th>\n",
       "      <td>5</td>\n",
       "      <td>2019-08-23</td>\n",
       "      <td>100918</td>\n",
       "      <td>20</td>\n",
       "      <td>2</td>\n",
       "      <td>18131</td>\n",
       "      <td>9999</td>\n",
       "      <td>2</td>\n",
       "      <td>4</td>\n",
       "      <td>4</td>\n",
       "      <td>...</td>\n",
       "      <td>0</td>\n",
       "      <td>0</td>\n",
       "      <td>0</td>\n",
       "      <td>0</td>\n",
       "      <td>0</td>\n",
       "      <td>0</td>\n",
       "      <td>5</td>\n",
       "      <td>0.0</td>\n",
       "      <td>@gmail.com</td>\n",
       "      <td>NaN</td>\n",
       "    </tr>\n",
       "    <tr>\n",
       "      <th>59580</th>\n",
       "      <td>4</td>\n",
       "      <td>2019-08-25</td>\n",
       "      <td>120314</td>\n",
       "      <td>38</td>\n",
       "      <td>9999</td>\n",
       "      <td>18133</td>\n",
       "      <td>9999</td>\n",
       "      <td>1</td>\n",
       "      <td>1</td>\n",
       "      <td>1</td>\n",
       "      <td>...</td>\n",
       "      <td>1</td>\n",
       "      <td>1</td>\n",
       "      <td>0</td>\n",
       "      <td>0</td>\n",
       "      <td>0</td>\n",
       "      <td>1</td>\n",
       "      <td>7</td>\n",
       "      <td>0.0</td>\n",
       "      <td>@hotmail.com</td>\n",
       "      <td>NaN</td>\n",
       "    </tr>\n",
       "    <tr>\n",
       "      <th>60772</th>\n",
       "      <td>5</td>\n",
       "      <td>2019-08-26</td>\n",
       "      <td>103906</td>\n",
       "      <td>31</td>\n",
       "      <td>116</td>\n",
       "      <td>18134</td>\n",
       "      <td>9999</td>\n",
       "      <td>0</td>\n",
       "      <td>0</td>\n",
       "      <td>0</td>\n",
       "      <td>...</td>\n",
       "      <td>0</td>\n",
       "      <td>0</td>\n",
       "      <td>0</td>\n",
       "      <td>0</td>\n",
       "      <td>0</td>\n",
       "      <td>0</td>\n",
       "      <td>1</td>\n",
       "      <td>0.0</td>\n",
       "      <td>@gmail.com</td>\n",
       "      <td>NaN</td>\n",
       "    </tr>\n",
       "    <tr>\n",
       "      <th>68887</th>\n",
       "      <td>3</td>\n",
       "      <td>2019-09-01</td>\n",
       "      <td>103603</td>\n",
       "      <td>32</td>\n",
       "      <td>25</td>\n",
       "      <td>18140</td>\n",
       "      <td>9999</td>\n",
       "      <td>0</td>\n",
       "      <td>0</td>\n",
       "      <td>1</td>\n",
       "      <td>...</td>\n",
       "      <td>0</td>\n",
       "      <td>0</td>\n",
       "      <td>0</td>\n",
       "      <td>0</td>\n",
       "      <td>0</td>\n",
       "      <td>0</td>\n",
       "      <td>7</td>\n",
       "      <td>0.0</td>\n",
       "      <td>@gmail.com</td>\n",
       "      <td>NaN</td>\n",
       "    </tr>\n",
       "    <tr>\n",
       "      <th>70360</th>\n",
       "      <td>5</td>\n",
       "      <td>2019-09-02</td>\n",
       "      <td>17748</td>\n",
       "      <td>23</td>\n",
       "      <td>9999</td>\n",
       "      <td>18141</td>\n",
       "      <td>101</td>\n",
       "      <td>0</td>\n",
       "      <td>0</td>\n",
       "      <td>0</td>\n",
       "      <td>...</td>\n",
       "      <td>0</td>\n",
       "      <td>0</td>\n",
       "      <td>0</td>\n",
       "      <td>0</td>\n",
       "      <td>0</td>\n",
       "      <td>0</td>\n",
       "      <td>1</td>\n",
       "      <td>0.0</td>\n",
       "      <td>@yahoo.com</td>\n",
       "      <td>NaN</td>\n",
       "    </tr>\n",
       "  </tbody>\n",
       "</table>\n",
       "<p>24 rows × 21 columns</p>\n",
       "</div>"
      ],
      "text/plain": [
       "      country_code  grass_date user_id  subject_line_length  last_open_day  \\\n",
       "6049             4  2019-07-19  111486                   46              2   \n",
       "15395            5  2019-07-25  118193                   25              2   \n",
       "16805            5  2019-07-26  116708                   32              3   \n",
       "18744            4  2019-07-28  116711                   59              4   \n",
       "22973            5  2019-07-30  108846                   38             50   \n",
       "23050            5  2019-07-30  112688                   38             13   \n",
       "32076            5  2019-08-06   95623                   33             60   \n",
       "32234            5  2019-08-06  103010                   33            102   \n",
       "32366            4  2019-08-06  109893                   34             39   \n",
       "36255            5  2019-08-08  104418                   28           9999   \n",
       "43077            5  2019-08-14   97614                   28            112   \n",
       "43167            5  2019-08-14  102894                   28            110   \n",
       "43176            5  2019-08-14  103319                   28            108   \n",
       "43420            5  2019-08-14  117127                   28             17   \n",
       "46667            5  2019-08-16  102727                   32            114   \n",
       "54496            5  2019-08-21  110143                   24             23   \n",
       "54524            5  2019-08-21  112490                   24             56   \n",
       "54571            5  2019-08-21  118557                   24           9999   \n",
       "57496            5  2019-08-23   97685                   20             40   \n",
       "57527            5  2019-08-23  100918                   20              2   \n",
       "59580            4  2019-08-25  120314                   38           9999   \n",
       "60772            5  2019-08-26  103906                   31            116   \n",
       "68887            3  2019-09-01  103603                   32             25   \n",
       "70360            5  2019-09-02   17748                   23           9999   \n",
       "\n",
       "       last_login_day  last_checkout_day  open_count_last_10_days  \\\n",
       "6049            18096               9999                        1   \n",
       "15395           18102               9999                        0   \n",
       "16805           18103               9999                        1   \n",
       "18744           18105               9999                        1   \n",
       "22973           18107               9999                        1   \n",
       "23050           18107                 12                        0   \n",
       "32076           18114               9999                        0   \n",
       "32234           18114               9999                        0   \n",
       "32366           18114               9999                        0   \n",
       "36255           18116                 96                        0   \n",
       "43077           18122               9999                        0   \n",
       "43167           18122               9999                        0   \n",
       "43176           18122               9999                        0   \n",
       "43420           18122               9999                        0   \n",
       "46667           18124               9999                        0   \n",
       "54496           18129               9999                        0   \n",
       "54524           18129               9999                        0   \n",
       "54571           18129                 28                        0   \n",
       "57496           18131               9999                        0   \n",
       "57527           18131               9999                        2   \n",
       "59580           18133               9999                        1   \n",
       "60772           18134               9999                        0   \n",
       "68887           18140               9999                        0   \n",
       "70360           18141                101                        0   \n",
       "\n",
       "       open_count_last_30_days  open_count_last_60_days  ...  \\\n",
       "6049                         1                        1  ...   \n",
       "15395                        0                        0  ...   \n",
       "16805                        1                        1  ...   \n",
       "18744                        1                        1  ...   \n",
       "22973                        1                        2  ...   \n",
       "23050                        3                        7  ...   \n",
       "32076                        0                        0  ...   \n",
       "32234                        0                        0  ...   \n",
       "32366                        0                        1  ...   \n",
       "36255                        0                        0  ...   \n",
       "43077                        0                        0  ...   \n",
       "43167                        0                        0  ...   \n",
       "43176                        0                        0  ...   \n",
       "43420                        0                        0  ...   \n",
       "46667                        0                        0  ...   \n",
       "54496                        1                        1  ...   \n",
       "54524                        0                        0  ...   \n",
       "54571                        0                        0  ...   \n",
       "57496                        0                        0  ...   \n",
       "57527                        4                        4  ...   \n",
       "59580                        1                        1  ...   \n",
       "60772                        0                        0  ...   \n",
       "68887                        0                        1  ...   \n",
       "70360                        0                        0  ...   \n",
       "\n",
       "       login_count_last_30_days  login_count_last_60_days  \\\n",
       "6049                          0                         1   \n",
       "15395                         2                         2   \n",
       "16805                         1                         1   \n",
       "18744                         1                         1   \n",
       "22973                         0                         1   \n",
       "23050                         0                         1   \n",
       "32076                         0                         0   \n",
       "32234                         0                         0   \n",
       "32366                         0                         1   \n",
       "36255                         0                         0   \n",
       "43077                         0                         0   \n",
       "43167                         0                         0   \n",
       "43176                         1                         3   \n",
       "43420                         1                         1   \n",
       "46667                         0                         0   \n",
       "54496                         0                         0   \n",
       "54524                         0                         2   \n",
       "54571                         2                         2   \n",
       "57496                         0                         0   \n",
       "57527                         0                         0   \n",
       "59580                         1                         1   \n",
       "60772                         0                         0   \n",
       "68887                         0                         0   \n",
       "70360                         0                         0   \n",
       "\n",
       "       checkout_count_last_10_days  checkout_count_last_30_days  \\\n",
       "6049                             0                            0   \n",
       "15395                            0                            0   \n",
       "16805                            0                            0   \n",
       "18744                            0                            0   \n",
       "22973                            0                            0   \n",
       "23050                            0                            0   \n",
       "32076                            0                            0   \n",
       "32234                            0                            0   \n",
       "32366                            0                            0   \n",
       "36255                            0                            0   \n",
       "43077                            0                            0   \n",
       "43167                            0                            0   \n",
       "43176                            0                            0   \n",
       "43420                            0                            0   \n",
       "46667                            0                            0   \n",
       "54496                            0                            0   \n",
       "54524                            0                            0   \n",
       "54571                            0                            1   \n",
       "57496                            0                            0   \n",
       "57527                            0                            0   \n",
       "59580                            0                            0   \n",
       "60772                            0                            0   \n",
       "68887                            0                            0   \n",
       "70360                            0                            0   \n",
       "\n",
       "       checkout_count_last_60_days  open_flag  email_weekday  attr_3  \\\n",
       "6049                             0          1              5     0.0   \n",
       "15395                            0          0              4     0.0   \n",
       "16805                            0          1              5     0.0   \n",
       "18744                            0          0              7     0.0   \n",
       "22973                            0          1              2     0.0   \n",
       "23050                            0          0              2     0.0   \n",
       "32076                            0          0              2     0.0   \n",
       "32234                            0          0              2     0.0   \n",
       "32366                            0          0              2     0.0   \n",
       "36255                            0          1              4     0.0   \n",
       "43077                            0          0              3     0.0   \n",
       "43167                            0          0              3     0.0   \n",
       "43176                            0          0              3     0.0   \n",
       "43420                            0          0              3     0.0   \n",
       "46667                            0          0              5     0.0   \n",
       "54496                            0          0              3     0.0   \n",
       "54524                            0          0              3     0.0   \n",
       "54571                            1          0              3     0.0   \n",
       "57496                            0          0              5     1.0   \n",
       "57527                            0          0              5     0.0   \n",
       "59580                            0          1              7     0.0   \n",
       "60772                            0          0              1     0.0   \n",
       "68887                            0          0              7     0.0   \n",
       "70360                            0          0              1     0.0   \n",
       "\n",
       "             domain   age  \n",
       "6049     @gmail.com   NaN  \n",
       "15395    @gmail.com   NaN  \n",
       "16805    @gmail.com   NaN  \n",
       "18744  @hotmail.com   NaN  \n",
       "22973    @gmail.com   NaN  \n",
       "23050    @gmail.com   NaN  \n",
       "32076    @gmail.com   NaN  \n",
       "32234  @hotmail.com   NaN  \n",
       "32366  @hotmail.com   NaN  \n",
       "36255    @gmail.com   NaN  \n",
       "43077    @yahoo.com   NaN  \n",
       "43167    @gmail.com   NaN  \n",
       "43176    @yahoo.com   NaN  \n",
       "43420    @gmail.com   NaN  \n",
       "46667    @gmail.com   NaN  \n",
       "54496   @icloud.com   NaN  \n",
       "54524    @gmail.com   NaN  \n",
       "54571    @gmail.com   NaN  \n",
       "57496    @gmail.com  53.0  \n",
       "57527    @gmail.com   NaN  \n",
       "59580  @hotmail.com   NaN  \n",
       "60772    @gmail.com   NaN  \n",
       "68887    @gmail.com   NaN  \n",
       "70360    @yahoo.com   NaN  \n",
       "\n",
       "[24 rows x 21 columns]"
      ]
     },
     "execution_count": 20,
     "metadata": {},
     "output_type": "execute_result"
    }
   ],
   "source": [
    "print(f\" Total of {len(df.query('last_login_day > 9999'))} rows last login day of >18000 days, translated to > 50 years ago\")\n",
    "df.query('last_login_day > 9999')"
   ]
  },
  {
   "cell_type": "code",
   "execution_count": 21,
   "metadata": {},
   "outputs": [
    {
     "data": {
      "text/plain": [
       "1445"
      ]
     },
     "execution_count": 21,
     "metadata": {},
     "output_type": "execute_result"
    }
   ],
   "source": [
    "max_login_day = df.query('last_login_day<9999')['last_login_day'].max()\n",
    "max_login_day"
   ]
  },
  {
   "cell_type": "code",
   "execution_count": 22,
   "metadata": {},
   "outputs": [],
   "source": [
    "# replacing login days >18000 to 9999\n",
    "df.loc[df.query('last_login_day>9999').index.values, 'last_login_day'] = max_login_day\n",
    "test.loc[test.query('last_login_day>9999').index.values, 'last_login_day'] = max_login_day"
   ]
  },
  {
   "cell_type": "markdown",
   "metadata": {},
   "source": [
    "#### 2.4.2 `age`\n",
    "- This is user reported age, which may not be the true age.\n",
    "- There are 2 with negative age in train dataset, which is impossible. To impute with nan value.\n",
    "- There are 314 with age exceeding 100 years old.\n",
    "- 38.32% user not disclose their age.\n",
    "- To impute nan value with median age"
   ]
  },
  {
   "cell_type": "code",
   "execution_count": 23,
   "metadata": {},
   "outputs": [
    {
     "name": "stdout",
     "output_type": "stream",
     "text": [
      "Age column has 28192 missing value out of 73539\n",
      "which is approximately 38.34% of the dataset\n"
     ]
    }
   ],
   "source": [
    "print(f\"Age column has {df['age'].isnull().sum()} missing value out of {df.shape[0]}\")\n",
    "print(f\"which is approximately {round(100*df['age'].isnull().sum()/df.shape[0],2)}% of the dataset\")"
   ]
  },
  {
   "cell_type": "code",
   "execution_count": 24,
   "metadata": {},
   "outputs": [
    {
     "data": {
      "text/html": [
       "<div>\n",
       "<style scoped>\n",
       "    .dataframe tbody tr th:only-of-type {\n",
       "        vertical-align: middle;\n",
       "    }\n",
       "\n",
       "    .dataframe tbody tr th {\n",
       "        vertical-align: top;\n",
       "    }\n",
       "\n",
       "    .dataframe thead th {\n",
       "        text-align: right;\n",
       "    }\n",
       "</style>\n",
       "<table border=\"1\" class=\"dataframe\">\n",
       "  <thead>\n",
       "    <tr style=\"text-align: right;\">\n",
       "      <th></th>\n",
       "      <th>country_code</th>\n",
       "      <th>grass_date</th>\n",
       "      <th>user_id</th>\n",
       "      <th>subject_line_length</th>\n",
       "      <th>last_open_day</th>\n",
       "      <th>last_login_day</th>\n",
       "      <th>last_checkout_day</th>\n",
       "      <th>open_count_last_10_days</th>\n",
       "      <th>open_count_last_30_days</th>\n",
       "      <th>open_count_last_60_days</th>\n",
       "      <th>...</th>\n",
       "      <th>login_count_last_30_days</th>\n",
       "      <th>login_count_last_60_days</th>\n",
       "      <th>checkout_count_last_10_days</th>\n",
       "      <th>checkout_count_last_30_days</th>\n",
       "      <th>checkout_count_last_60_days</th>\n",
       "      <th>open_flag</th>\n",
       "      <th>email_weekday</th>\n",
       "      <th>attr_3</th>\n",
       "      <th>domain</th>\n",
       "      <th>age</th>\n",
       "    </tr>\n",
       "  </thead>\n",
       "  <tbody>\n",
       "    <tr>\n",
       "      <th>55774</th>\n",
       "      <td>3</td>\n",
       "      <td>2019-08-22</td>\n",
       "      <td>86151</td>\n",
       "      <td>52</td>\n",
       "      <td>37</td>\n",
       "      <td>128</td>\n",
       "      <td>259</td>\n",
       "      <td>0</td>\n",
       "      <td>0</td>\n",
       "      <td>0</td>\n",
       "      <td>...</td>\n",
       "      <td>0</td>\n",
       "      <td>0</td>\n",
       "      <td>0</td>\n",
       "      <td>0</td>\n",
       "      <td>0</td>\n",
       "      <td>0</td>\n",
       "      <td>4</td>\n",
       "      <td>3.0</td>\n",
       "      <td>@gmail.com</td>\n",
       "      <td>-17.0</td>\n",
       "    </tr>\n",
       "    <tr>\n",
       "      <th>59683</th>\n",
       "      <td>5</td>\n",
       "      <td>2019-08-26</td>\n",
       "      <td>1973</td>\n",
       "      <td>31</td>\n",
       "      <td>30</td>\n",
       "      <td>2</td>\n",
       "      <td>2</td>\n",
       "      <td>0</td>\n",
       "      <td>0</td>\n",
       "      <td>7</td>\n",
       "      <td>...</td>\n",
       "      <td>25</td>\n",
       "      <td>28</td>\n",
       "      <td>1</td>\n",
       "      <td>4</td>\n",
       "      <td>5</td>\n",
       "      <td>0</td>\n",
       "      <td>1</td>\n",
       "      <td>2.0</td>\n",
       "      <td>@gmail.com</td>\n",
       "      <td>-16.0</td>\n",
       "    </tr>\n",
       "  </tbody>\n",
       "</table>\n",
       "<p>2 rows × 21 columns</p>\n",
       "</div>"
      ],
      "text/plain": [
       "      country_code  grass_date user_id  subject_line_length  last_open_day  \\\n",
       "55774            3  2019-08-22   86151                   52             37   \n",
       "59683            5  2019-08-26    1973                   31             30   \n",
       "\n",
       "       last_login_day  last_checkout_day  open_count_last_10_days  \\\n",
       "55774             128                259                        0   \n",
       "59683               2                  2                        0   \n",
       "\n",
       "       open_count_last_30_days  open_count_last_60_days  ...  \\\n",
       "55774                        0                        0  ...   \n",
       "59683                        0                        7  ...   \n",
       "\n",
       "       login_count_last_30_days  login_count_last_60_days  \\\n",
       "55774                         0                         0   \n",
       "59683                        25                        28   \n",
       "\n",
       "       checkout_count_last_10_days  checkout_count_last_30_days  \\\n",
       "55774                            0                            0   \n",
       "59683                            1                            4   \n",
       "\n",
       "       checkout_count_last_60_days  open_flag  email_weekday  attr_3  \\\n",
       "55774                            0          0              4     3.0   \n",
       "59683                            5          0              1     2.0   \n",
       "\n",
       "           domain   age  \n",
       "55774  @gmail.com -17.0  \n",
       "59683  @gmail.com -16.0  \n",
       "\n",
       "[2 rows x 21 columns]"
      ]
     },
     "execution_count": 24,
     "metadata": {},
     "output_type": "execute_result"
    }
   ],
   "source": [
    "# Two users with negative age, which is impossible\n",
    "df.query('age < 0')"
   ]
  },
  {
   "cell_type": "code",
   "execution_count": 25,
   "metadata": {},
   "outputs": [
    {
     "data": {
      "text/html": [
       "<div>\n",
       "<style scoped>\n",
       "    .dataframe tbody tr th:only-of-type {\n",
       "        vertical-align: middle;\n",
       "    }\n",
       "\n",
       "    .dataframe tbody tr th {\n",
       "        vertical-align: top;\n",
       "    }\n",
       "\n",
       "    .dataframe thead th {\n",
       "        text-align: right;\n",
       "    }\n",
       "</style>\n",
       "<table border=\"1\" class=\"dataframe\">\n",
       "  <thead>\n",
       "    <tr style=\"text-align: right;\">\n",
       "      <th></th>\n",
       "      <th>country_code</th>\n",
       "      <th>grass_date</th>\n",
       "      <th>user_id</th>\n",
       "      <th>subject_line_length</th>\n",
       "      <th>last_open_day</th>\n",
       "      <th>last_login_day</th>\n",
       "      <th>last_checkout_day</th>\n",
       "      <th>open_count_last_10_days</th>\n",
       "      <th>open_count_last_30_days</th>\n",
       "      <th>open_count_last_60_days</th>\n",
       "      <th>...</th>\n",
       "      <th>login_count_last_30_days</th>\n",
       "      <th>login_count_last_60_days</th>\n",
       "      <th>checkout_count_last_10_days</th>\n",
       "      <th>checkout_count_last_30_days</th>\n",
       "      <th>checkout_count_last_60_days</th>\n",
       "      <th>open_flag</th>\n",
       "      <th>email_weekday</th>\n",
       "      <th>attr_3</th>\n",
       "      <th>domain</th>\n",
       "      <th>age</th>\n",
       "    </tr>\n",
       "  </thead>\n",
       "  <tbody>\n",
       "    <tr>\n",
       "      <th>395</th>\n",
       "      <td>4</td>\n",
       "      <td>2019-07-16</td>\n",
       "      <td>23206</td>\n",
       "      <td>44</td>\n",
       "      <td>10</td>\n",
       "      <td>2</td>\n",
       "      <td>2</td>\n",
       "      <td>1</td>\n",
       "      <td>1</td>\n",
       "      <td>2</td>\n",
       "      <td>...</td>\n",
       "      <td>69</td>\n",
       "      <td>163</td>\n",
       "      <td>4</td>\n",
       "      <td>8</td>\n",
       "      <td>16</td>\n",
       "      <td>0</td>\n",
       "      <td>2</td>\n",
       "      <td>2.0</td>\n",
       "      <td>@gmail.com</td>\n",
       "      <td>118.0</td>\n",
       "    </tr>\n",
       "    <tr>\n",
       "      <th>639</th>\n",
       "      <td>4</td>\n",
       "      <td>2019-07-16</td>\n",
       "      <td>36248</td>\n",
       "      <td>44</td>\n",
       "      <td>9</td>\n",
       "      <td>2</td>\n",
       "      <td>13</td>\n",
       "      <td>1</td>\n",
       "      <td>1</td>\n",
       "      <td>2</td>\n",
       "      <td>...</td>\n",
       "      <td>10</td>\n",
       "      <td>11</td>\n",
       "      <td>1</td>\n",
       "      <td>2</td>\n",
       "      <td>2</td>\n",
       "      <td>1</td>\n",
       "      <td>2</td>\n",
       "      <td>1.0</td>\n",
       "      <td>@gmail.com</td>\n",
       "      <td>118.0</td>\n",
       "    </tr>\n",
       "    <tr>\n",
       "      <th>677</th>\n",
       "      <td>4</td>\n",
       "      <td>2019-07-16</td>\n",
       "      <td>38235</td>\n",
       "      <td>44</td>\n",
       "      <td>12</td>\n",
       "      <td>6</td>\n",
       "      <td>42</td>\n",
       "      <td>0</td>\n",
       "      <td>3</td>\n",
       "      <td>3</td>\n",
       "      <td>...</td>\n",
       "      <td>5</td>\n",
       "      <td>36</td>\n",
       "      <td>0</td>\n",
       "      <td>0</td>\n",
       "      <td>4</td>\n",
       "      <td>0</td>\n",
       "      <td>2</td>\n",
       "      <td>2.0</td>\n",
       "      <td>@hotmail.com</td>\n",
       "      <td>118.0</td>\n",
       "    </tr>\n",
       "    <tr>\n",
       "      <th>862</th>\n",
       "      <td>4</td>\n",
       "      <td>2019-07-16</td>\n",
       "      <td>47984</td>\n",
       "      <td>44</td>\n",
       "      <td>12</td>\n",
       "      <td>1</td>\n",
       "      <td>128</td>\n",
       "      <td>0</td>\n",
       "      <td>2</td>\n",
       "      <td>2</td>\n",
       "      <td>...</td>\n",
       "      <td>5</td>\n",
       "      <td>12</td>\n",
       "      <td>0</td>\n",
       "      <td>0</td>\n",
       "      <td>0</td>\n",
       "      <td>1</td>\n",
       "      <td>2</td>\n",
       "      <td>2.0</td>\n",
       "      <td>@gmail.com</td>\n",
       "      <td>118.0</td>\n",
       "    </tr>\n",
       "    <tr>\n",
       "      <th>896</th>\n",
       "      <td>4</td>\n",
       "      <td>2019-07-16</td>\n",
       "      <td>49721</td>\n",
       "      <td>44</td>\n",
       "      <td>7</td>\n",
       "      <td>12</td>\n",
       "      <td>15</td>\n",
       "      <td>1</td>\n",
       "      <td>1</td>\n",
       "      <td>1</td>\n",
       "      <td>...</td>\n",
       "      <td>12</td>\n",
       "      <td>21</td>\n",
       "      <td>0</td>\n",
       "      <td>4</td>\n",
       "      <td>4</td>\n",
       "      <td>0</td>\n",
       "      <td>2</td>\n",
       "      <td>1.0</td>\n",
       "      <td>@gmail.com</td>\n",
       "      <td>118.0</td>\n",
       "    </tr>\n",
       "    <tr>\n",
       "      <th>...</th>\n",
       "      <td>...</td>\n",
       "      <td>...</td>\n",
       "      <td>...</td>\n",
       "      <td>...</td>\n",
       "      <td>...</td>\n",
       "      <td>...</td>\n",
       "      <td>...</td>\n",
       "      <td>...</td>\n",
       "      <td>...</td>\n",
       "      <td>...</td>\n",
       "      <td>...</td>\n",
       "      <td>...</td>\n",
       "      <td>...</td>\n",
       "      <td>...</td>\n",
       "      <td>...</td>\n",
       "      <td>...</td>\n",
       "      <td>...</td>\n",
       "      <td>...</td>\n",
       "      <td>...</td>\n",
       "      <td>...</td>\n",
       "      <td>...</td>\n",
       "    </tr>\n",
       "    <tr>\n",
       "      <th>71126</th>\n",
       "      <td>3</td>\n",
       "      <td>2019-09-02</td>\n",
       "      <td>44189</td>\n",
       "      <td>64</td>\n",
       "      <td>12</td>\n",
       "      <td>3</td>\n",
       "      <td>3</td>\n",
       "      <td>0</td>\n",
       "      <td>1</td>\n",
       "      <td>5</td>\n",
       "      <td>...</td>\n",
       "      <td>49</td>\n",
       "      <td>121</td>\n",
       "      <td>2</td>\n",
       "      <td>4</td>\n",
       "      <td>9</td>\n",
       "      <td>0</td>\n",
       "      <td>1</td>\n",
       "      <td>1.0</td>\n",
       "      <td>other</td>\n",
       "      <td>118.0</td>\n",
       "    </tr>\n",
       "    <tr>\n",
       "      <th>71586</th>\n",
       "      <td>3</td>\n",
       "      <td>2019-09-02</td>\n",
       "      <td>60237</td>\n",
       "      <td>49</td>\n",
       "      <td>10</td>\n",
       "      <td>2</td>\n",
       "      <td>54</td>\n",
       "      <td>1</td>\n",
       "      <td>6</td>\n",
       "      <td>8</td>\n",
       "      <td>...</td>\n",
       "      <td>6</td>\n",
       "      <td>24</td>\n",
       "      <td>0</td>\n",
       "      <td>0</td>\n",
       "      <td>1</td>\n",
       "      <td>0</td>\n",
       "      <td>1</td>\n",
       "      <td>1.0</td>\n",
       "      <td>@gmail.com</td>\n",
       "      <td>110.0</td>\n",
       "    </tr>\n",
       "    <tr>\n",
       "      <th>71868</th>\n",
       "      <td>4</td>\n",
       "      <td>2019-09-02</td>\n",
       "      <td>70127</td>\n",
       "      <td>34</td>\n",
       "      <td>42</td>\n",
       "      <td>7</td>\n",
       "      <td>37</td>\n",
       "      <td>0</td>\n",
       "      <td>0</td>\n",
       "      <td>0</td>\n",
       "      <td>...</td>\n",
       "      <td>20</td>\n",
       "      <td>56</td>\n",
       "      <td>0</td>\n",
       "      <td>0</td>\n",
       "      <td>3</td>\n",
       "      <td>0</td>\n",
       "      <td>1</td>\n",
       "      <td>1.0</td>\n",
       "      <td>@gmail.com</td>\n",
       "      <td>118.0</td>\n",
       "    </tr>\n",
       "    <tr>\n",
       "      <th>72049</th>\n",
       "      <td>4</td>\n",
       "      <td>2019-09-02</td>\n",
       "      <td>78293</td>\n",
       "      <td>34</td>\n",
       "      <td>66</td>\n",
       "      <td>69</td>\n",
       "      <td>90</td>\n",
       "      <td>0</td>\n",
       "      <td>0</td>\n",
       "      <td>0</td>\n",
       "      <td>...</td>\n",
       "      <td>0</td>\n",
       "      <td>0</td>\n",
       "      <td>0</td>\n",
       "      <td>0</td>\n",
       "      <td>0</td>\n",
       "      <td>0</td>\n",
       "      <td>1</td>\n",
       "      <td>2.0</td>\n",
       "      <td>@gmail.com</td>\n",
       "      <td>118.0</td>\n",
       "    </tr>\n",
       "    <tr>\n",
       "      <th>72075</th>\n",
       "      <td>2</td>\n",
       "      <td>2019-09-02</td>\n",
       "      <td>79141</td>\n",
       "      <td>38</td>\n",
       "      <td>28</td>\n",
       "      <td>215</td>\n",
       "      <td>327</td>\n",
       "      <td>0</td>\n",
       "      <td>0</td>\n",
       "      <td>3</td>\n",
       "      <td>...</td>\n",
       "      <td>0</td>\n",
       "      <td>0</td>\n",
       "      <td>0</td>\n",
       "      <td>0</td>\n",
       "      <td>0</td>\n",
       "      <td>0</td>\n",
       "      <td>1</td>\n",
       "      <td>4.0</td>\n",
       "      <td>@gmail.com</td>\n",
       "      <td>107.0</td>\n",
       "    </tr>\n",
       "  </tbody>\n",
       "</table>\n",
       "<p>314 rows × 21 columns</p>\n",
       "</div>"
      ],
      "text/plain": [
       "      country_code  grass_date user_id  subject_line_length  last_open_day  \\\n",
       "395              4  2019-07-16   23206                   44             10   \n",
       "639              4  2019-07-16   36248                   44              9   \n",
       "677              4  2019-07-16   38235                   44             12   \n",
       "862              4  2019-07-16   47984                   44             12   \n",
       "896              4  2019-07-16   49721                   44              7   \n",
       "...            ...         ...     ...                  ...            ...   \n",
       "71126            3  2019-09-02   44189                   64             12   \n",
       "71586            3  2019-09-02   60237                   49             10   \n",
       "71868            4  2019-09-02   70127                   34             42   \n",
       "72049            4  2019-09-02   78293                   34             66   \n",
       "72075            2  2019-09-02   79141                   38             28   \n",
       "\n",
       "       last_login_day  last_checkout_day  open_count_last_10_days  \\\n",
       "395                 2                  2                        1   \n",
       "639                 2                 13                        1   \n",
       "677                 6                 42                        0   \n",
       "862                 1                128                        0   \n",
       "896                12                 15                        1   \n",
       "...               ...                ...                      ...   \n",
       "71126               3                  3                        0   \n",
       "71586               2                 54                        1   \n",
       "71868               7                 37                        0   \n",
       "72049              69                 90                        0   \n",
       "72075             215                327                        0   \n",
       "\n",
       "       open_count_last_30_days  open_count_last_60_days  ...  \\\n",
       "395                          1                        2  ...   \n",
       "639                          1                        2  ...   \n",
       "677                          3                        3  ...   \n",
       "862                          2                        2  ...   \n",
       "896                          1                        1  ...   \n",
       "...                        ...                      ...  ...   \n",
       "71126                        1                        5  ...   \n",
       "71586                        6                        8  ...   \n",
       "71868                        0                        0  ...   \n",
       "72049                        0                        0  ...   \n",
       "72075                        0                        3  ...   \n",
       "\n",
       "       login_count_last_30_days  login_count_last_60_days  \\\n",
       "395                          69                       163   \n",
       "639                          10                        11   \n",
       "677                           5                        36   \n",
       "862                           5                        12   \n",
       "896                          12                        21   \n",
       "...                         ...                       ...   \n",
       "71126                        49                       121   \n",
       "71586                         6                        24   \n",
       "71868                        20                        56   \n",
       "72049                         0                         0   \n",
       "72075                         0                         0   \n",
       "\n",
       "       checkout_count_last_10_days  checkout_count_last_30_days  \\\n",
       "395                              4                            8   \n",
       "639                              1                            2   \n",
       "677                              0                            0   \n",
       "862                              0                            0   \n",
       "896                              0                            4   \n",
       "...                            ...                          ...   \n",
       "71126                            2                            4   \n",
       "71586                            0                            0   \n",
       "71868                            0                            0   \n",
       "72049                            0                            0   \n",
       "72075                            0                            0   \n",
       "\n",
       "       checkout_count_last_60_days  open_flag  email_weekday  attr_3  \\\n",
       "395                             16          0              2     2.0   \n",
       "639                              2          1              2     1.0   \n",
       "677                              4          0              2     2.0   \n",
       "862                              0          1              2     2.0   \n",
       "896                              4          0              2     1.0   \n",
       "...                            ...        ...            ...     ...   \n",
       "71126                            9          0              1     1.0   \n",
       "71586                            1          0              1     1.0   \n",
       "71868                            3          0              1     1.0   \n",
       "72049                            0          0              1     2.0   \n",
       "72075                            0          0              1     4.0   \n",
       "\n",
       "             domain    age  \n",
       "395      @gmail.com  118.0  \n",
       "639      @gmail.com  118.0  \n",
       "677    @hotmail.com  118.0  \n",
       "862      @gmail.com  118.0  \n",
       "896      @gmail.com  118.0  \n",
       "...             ...    ...  \n",
       "71126         other  118.0  \n",
       "71586    @gmail.com  110.0  \n",
       "71868    @gmail.com  118.0  \n",
       "72049    @gmail.com  118.0  \n",
       "72075    @gmail.com  107.0  \n",
       "\n",
       "[314 rows x 21 columns]"
      ]
     },
     "execution_count": 25,
     "metadata": {},
     "output_type": "execute_result"
    }
   ],
   "source": [
    "# 314 users age exceeding 100 yo, which is ambiguity\n",
    "df.query('age > 100')"
   ]
  },
  {
   "cell_type": "code",
   "execution_count": 26,
   "metadata": {},
   "outputs": [],
   "source": [
    "# replace negative age with nan\n",
    "df['age'] = df['age'].replace(to_replace=[-16,-17], value=np.nan)"
   ]
  },
  {
   "cell_type": "markdown",
   "metadata": {},
   "source": [
    "Impute nan with median"
   ]
  },
  {
   "cell_type": "code",
   "execution_count": 27,
   "metadata": {},
   "outputs": [],
   "source": [
    "df['age'].fillna(df.age.median(), inplace = True)\n",
    "test['age'].fillna(test.age.median(), inplace = True)"
   ]
  },
  {
   "cell_type": "markdown",
   "metadata": {},
   "source": [
    "<a id='eda'></a>\n",
    "## 3 Exploratory Data Analysis"
   ]
  },
  {
   "cell_type": "markdown",
   "metadata": {},
   "source": [
    "### 3.1 Dependent variable, `open_flag`   \n",
    "- **15.58%** (11451 out of 73515) open their email from Shopee."
   ]
  },
  {
   "cell_type": "code",
   "execution_count": 28,
   "metadata": {},
   "outputs": [
    {
     "name": "stdout",
     "output_type": "stream",
     "text": [
      "Email open or not:\n",
      "0    62083\n",
      "1    11456\n",
      "Name: open_flag, dtype: int64\n",
      "\n",
      "In percentage:\n",
      "0    84.421871\n",
      "1    15.578129\n",
      "Name: open_flag, dtype: float64\n"
     ]
    }
   ],
   "source": [
    "print(\"Email open or not:\")\n",
    "print(df['open_flag'].value_counts())\n",
    "print()\n",
    "print(\"In percentage:\")\n",
    "print(100*df['open_flag'].value_counts(normalize=True))"
   ]
  },
  {
   "cell_type": "code",
   "execution_count": 29,
   "metadata": {},
   "outputs": [
    {
     "data": {
      "image/png": "[encoded data removed]",
      "text/plain": [
       "<Figure size 432x288 with 1 Axes>"
      ]
     },
     "metadata": {
      "needs_background": "light"
     },
     "output_type": "display_data"
    }
   ],
   "source": [
    "# Visualise open_flag in bar plot\n",
    "plt.subplots(figsize=(6,4))\n",
    "ax = sns.countplot(x='open_flag', data = df, palette = \"Set2\")\n",
    "\n",
    "ax.legend(ax.patches, [\"0: not open email\", \"1: open email\"])\n",
    "ax.set_title(\"Distribution of open_flag (open/ not open email)\", fontsize=16);"
   ]
  },
  {
   "cell_type": "markdown",
   "metadata": {},
   "source": [
    "### 3.2 Is specific user demographics (country, age) / profiles (email domain, attr_3) prompt to open email?\n",
    "- Majority user came from **country_code = 1**, however it has lowest email opening rate, at ~ **8.1%** only.\n",
    "- Email opening rate for other country_code varies between ~ **19% - 34.9%**. \n",
    "- **country_code = 4** has the highest email opening rate (34.9%).\n",
    "- There is no clear distinct different observed in the user's age among the group of opening and NOT opening email. In addition, ~38% user not declared their age and for those who declared their age might not be their true age. Thus, won't using age as the X-feature.\n",
    "- Vast majority user is using **@gmail**. However, it has the lowest email opening rate, at **14.1%** only."
   ]
  },
  {
   "cell_type": "markdown",
   "metadata": {},
   "source": [
    "#### `country_code`"
   ]
  },
  {
   "cell_type": "code",
   "execution_count": 30,
   "metadata": {},
   "outputs": [
    {
     "data": {
      "text/plain": [
       "country_code\n",
       "1    28423\n",
       "2    13874\n",
       "3    13845\n",
       "4     6302\n",
       "5     5536\n",
       "6     3221\n",
       "7     2338\n",
       "dtype: int64"
      ]
     },
     "execution_count": 30,
     "metadata": {},
     "output_type": "execute_result"
    }
   ],
   "source": [
    "# user in train dataset per country code\n",
    "df.groupby('country_code').size()"
   ]
  },
  {
   "cell_type": "code",
   "execution_count": 31,
   "metadata": {},
   "outputs": [
    {
     "data": {
      "text/plain": [
       "country_code  open_flag\n",
       "1             0            0.918904\n",
       "              1            0.081096\n",
       "2             0            0.808851\n",
       "              1            0.191149\n",
       "3             0            0.868617\n",
       "              1            0.131383\n",
       "4             0            0.650587\n",
       "              1            0.349413\n",
       "5             0            0.784682\n",
       "              1            0.215318\n",
       "6             0            0.778019\n",
       "              1            0.221981\n",
       "7             0            0.755774\n",
       "              1            0.244226\n",
       "Name: open_flag, dtype: float64"
      ]
     },
     "execution_count": 31,
     "metadata": {},
     "output_type": "execute_result"
    }
   ],
   "source": [
    "# % of opening email from each country code\n",
    "df.groupby('country_code')['open_flag'].value_counts(normalize = True)"
   ]
  },
  {
   "cell_type": "code",
   "execution_count": 32,
   "metadata": {},
   "outputs": [
    {
     "data": {
      "image/png": "[encoded data removed]",
      "text/plain": [
       "<Figure size 432x288 with 1 Axes>"
      ]
     },
     "metadata": {
      "needs_background": "light"
     },
     "output_type": "display_data"
    }
   ],
   "source": [
    "# Visualise the distribution of user's country_code\n",
    "ax = sns.countplot(x = 'country_code', hue = 'open_flag', data = df, palette = \"Set2\")\n",
    "ax.set_title(\"User's country code distribution\", fontsize=16);"
   ]
  },
  {
   "cell_type": "code",
   "execution_count": 33,
   "metadata": {},
   "outputs": [],
   "source": [
    "def cat_plot(x, y, df, title):\n",
    "    \"\"\"\n",
    "    This is using seaborn catplot\n",
    "    Input: x = data for x- axis, y = data for y-axis, dataframe, and the title\n",
    "    \"\"\"\n",
    "    ax = sns.catplot(x = x, y = y, data = df, palette = \"Set2\", kind = \"violin\",\n",
    "                     height = 5, aspect = 1.4)\n",
    "    \n",
    "    ax.fig.subplots_adjust(top = .9)\n",
    "    ax.fig.suptitle(title, fontsize =16)"
   ]
  },
  {
   "cell_type": "markdown",
   "metadata": {},
   "source": [
    "#### `age`\n",
    "- Among those user who reported their age, there is no clear distinct differences in their distribution between those who open and NOT open the email from Shopee.\n",
    "- From the statistical distribution, the mean age for those who open email is slightly older, which is **32.3** versus those who does not open email with mean age at **30.2**."
   ]
  },
  {
   "cell_type": "code",
   "execution_count": 34,
   "metadata": {},
   "outputs": [
    {
     "data": {
      "image/png": "[encoded data removed]",
      "text/plain": [
       "<Figure size 504x360 with 1 Axes>"
      ]
     },
     "metadata": {
      "needs_background": "light"
     },
     "output_type": "display_data"
    }
   ],
   "source": [
    "cat_plot('open_flag', 'age', df, \"User's age distribution, groupby open_flag\")"
   ]
  },
  {
   "cell_type": "code",
   "execution_count": 35,
   "metadata": {},
   "outputs": [
    {
     "data": {
      "text/plain": [
       "count    62083.000000\n",
       "mean        30.186170\n",
       "std          8.917938\n",
       "min          0.000000\n",
       "25%         27.000000\n",
       "50%         29.000000\n",
       "75%         31.000000\n",
       "max        118.000000\n",
       "Name: age, dtype: float64"
      ]
     },
     "execution_count": 35,
     "metadata": {},
     "output_type": "execute_result"
    }
   ],
   "source": [
    "df.query('open_flag ==0')['age'].describe()"
   ]
  },
  {
   "cell_type": "code",
   "execution_count": 36,
   "metadata": {},
   "outputs": [
    {
     "data": {
      "text/plain": [
       "count    11456.000000\n",
       "mean        32.260213\n",
       "std         11.180029\n",
       "min          0.000000\n",
       "25%         29.000000\n",
       "50%         29.000000\n",
       "75%         34.000000\n",
       "max        118.000000\n",
       "Name: age, dtype: float64"
      ]
     },
     "execution_count": 36,
     "metadata": {},
     "output_type": "execute_result"
    }
   ],
   "source": [
    "df.query('open_flag ==1')['age'].describe()"
   ]
  },
  {
   "cell_type": "markdown",
   "metadata": {},
   "source": [
    "#### `domain`\n",
    "- This column store the email domain from the user.\n",
    "- Vast majority user is using **@gmail**. However, it has the lowest email opening rate, at **14.1%** only.\n",
    "- The email opening rate for the remaining domains ranging from 18% - 31.6% "
   ]
  },
  {
   "cell_type": "code",
   "execution_count": 37,
   "metadata": {},
   "outputs": [
    {
     "data": {
      "text/plain": [
       "domain\n",
       "@gmail.com         62670\n",
       "@yahoo.com          5181\n",
       "@hotmail.com        2929\n",
       "other               1199\n",
       "@icloud.com          439\n",
       "@qq.com              338\n",
       "@outlook.com         259\n",
       "@ymail.com           194\n",
       "@live.com            169\n",
       "@163.com             108\n",
       "@rocketmail.com       53\n",
       "dtype: int64"
      ]
     },
     "execution_count": 37,
     "metadata": {},
     "output_type": "execute_result"
    }
   ],
   "source": [
    "# Number of user from each email domain\n",
    "df.groupby('domain').size().sort_values(ascending= False)"
   ]
  },
  {
   "cell_type": "code",
   "execution_count": 38,
   "metadata": {},
   "outputs": [
    {
     "data": {
      "text/plain": [
       "domain           open_flag\n",
       "@163.com         0            0.814815\n",
       "                 1            0.185185\n",
       "@gmail.com       0            0.858720\n",
       "                 1            0.141280\n",
       "@hotmail.com     0            0.695118\n",
       "                 1            0.304882\n",
       "@icloud.com      0            0.694761\n",
       "                 1            0.305239\n",
       "@live.com        0            0.704142\n",
       "                 1            0.295858\n",
       "@outlook.com     0            0.776062\n",
       "                 1            0.223938\n",
       "@qq.com          0            0.751479\n",
       "                 1            0.248521\n",
       "@rocketmail.com  0            0.792453\n",
       "                 1            0.207547\n",
       "@yahoo.com       0            0.818954\n",
       "                 1            0.181046\n",
       "@ymail.com       0            0.819588\n",
       "                 1            0.180412\n",
       "other            0            0.683903\n",
       "                 1            0.316097\n",
       "Name: open_flag, dtype: float64"
      ]
     },
     "execution_count": 38,
     "metadata": {},
     "output_type": "execute_result"
    }
   ],
   "source": [
    "# Email opening rate for each domain\n",
    "df.groupby('domain')['open_flag'].value_counts(normalize=True)"
   ]
  },
  {
   "cell_type": "code",
   "execution_count": 39,
   "metadata": {},
   "outputs": [
    {
     "data": {
      "image/png": "[encoded data removed]",
      "text/plain": [
       "<Figure size 864x432 with 1 Axes>"
      ]
     },
     "metadata": {
      "needs_background": "light"
     },
     "output_type": "display_data"
    }
   ],
   "source": [
    "# Visualise the distribution of user's email domain\n",
    "plt.subplots(figsize=(12,6))\n",
    "ax = sns.countplot(x = 'domain', hue = 'open_flag', data = df, palette = \"Set2\")\n",
    "ax.set_xticklabels(ax.get_xticklabels(), rotation = 75)\n",
    "ax.set_title(\"User's email domains distribution\", fontsize=16);"
   ]
  },
  {
   "cell_type": "markdown",
   "metadata": {},
   "source": [
    "#### `'attr_3'`\n",
    "- Not sure what does this really mean for.\n",
    "- The email opening rate is not differ too much, which is between 14% - 17%.\n",
    "- Thus, there isn't clear distinction abount the 5 different category in `attr_3`, thus will drop this as the X-feature"
   ]
  },
  {
   "cell_type": "code",
   "execution_count": 40,
   "metadata": {},
   "outputs": [
    {
     "data": {
      "text/plain": [
       "attr_3\n",
       "0.0    28208\n",
       "1.0    17760\n",
       "2.0    23404\n",
       "3.0     1971\n",
       "4.0     2196\n",
       "dtype: int64"
      ]
     },
     "execution_count": 40,
     "metadata": {},
     "output_type": "execute_result"
    }
   ],
   "source": [
    "df.groupby('attr_3').size()"
   ]
  },
  {
   "cell_type": "code",
   "execution_count": 41,
   "metadata": {},
   "outputs": [
    {
     "data": {
      "text/plain": [
       "attr_3  open_flag\n",
       "0.0     0            0.844122\n",
       "        1            0.155878\n",
       "1.0     0            0.828773\n",
       "        1            0.171227\n",
       "2.0     0            0.852589\n",
       "        1            0.147411\n",
       "3.0     0            0.869102\n",
       "        1            0.130898\n",
       "4.0     0            0.858834\n",
       "        1            0.141166\n",
       "Name: open_flag, dtype: float64"
      ]
     },
     "execution_count": 41,
     "metadata": {},
     "output_type": "execute_result"
    }
   ],
   "source": [
    "df.groupby('attr_3')['open_flag'].value_counts(normalize=True)"
   ]
  },
  {
   "cell_type": "markdown",
   "metadata": {},
   "source": [
    "### 3.3 Any impact by the subject line length?\n",
    "- No obvious differences in the subject line length distribution grouby `open-flag`."
   ]
  },
  {
   "cell_type": "code",
   "execution_count": 42,
   "metadata": {},
   "outputs": [
    {
     "data": {
      "image/png": "[encoded data removed]",
      "text/plain": [
       "<Figure size 504x360 with 1 Axes>"
      ]
     },
     "metadata": {
      "needs_background": "light"
     },
     "output_type": "display_data"
    }
   ],
   "source": [
    "cat_plot('open_flag', 'subject_line_length', df, \n",
    "         \"Email's subject line's length distribution, groupby open_flag\")"
   ]
  },
  {
   "cell_type": "code",
   "execution_count": 43,
   "metadata": {},
   "outputs": [
    {
     "data": {
      "text/plain": [
       "count    62083.000000\n",
       "mean        43.932800\n",
       "std         11.239801\n",
       "min         10.000000\n",
       "25%         34.000000\n",
       "50%         43.000000\n",
       "75%         52.000000\n",
       "max         75.000000\n",
       "Name: subject_line_length, dtype: float64"
      ]
     },
     "execution_count": 43,
     "metadata": {},
     "output_type": "execute_result"
    }
   ],
   "source": [
    "df.query('open_flag==0')['subject_line_length'].describe()"
   ]
  },
  {
   "cell_type": "code",
   "execution_count": 44,
   "metadata": {},
   "outputs": [
    {
     "data": {
      "text/plain": [
       "count    11456.000000\n",
       "mean        42.158345\n",
       "std         10.987866\n",
       "min         10.000000\n",
       "25%         34.000000\n",
       "50%         40.000000\n",
       "75%         50.000000\n",
       "max         75.000000\n",
       "Name: subject_line_length, dtype: float64"
      ]
     },
     "execution_count": 44,
     "metadata": {},
     "output_type": "execute_result"
    }
   ],
   "source": [
    "df.query('open_flag==1')['subject_line_length'].describe()"
   ]
  },
  {
   "cell_type": "markdown",
   "metadata": {},
   "source": [
    "### 3.4 Any specific user login, checkout behavior that prompt to higher possibility of opening email?\n",
    "In this section, I am interested to find out any relationship to email `open_flag` in these behaviors:\n",
    "- frequency of opening email in last 10/30/60 days. \n",
    "- frequency of login in last 10/30/60 days.\n",
    "- frequency of checkout in last 10/30/60 days\n",
    "\n",
    "Analysis from below few code cells observed that:\n",
    "- **High positive correlation** for open, login & checkout counts at different past days (10, 30, 60). Which make sense.   \n",
    "- **Positive correlation** between `open_count_last_N_days` and `open_flag`. Slightly stronger correlation for **smaller** N, i.e. 10 days.   \n",
    "- **Positive correlation** between `login_count_last_N_days` and `checkout_count_last_N_days`, with slightly stronger correlation for **larger** N, i.e. 60 days. This means, higher login frequency has relatively higher checkout frequency.\n",
    "- **Weak relationship** between `login_count_last_N_days` and `checkout_count_last_N_days` with `open_flag`. Which means, higher login frequency, higher checkout does not impact much by opening the marketing email."
   ]
  },
  {
   "cell_type": "code",
   "execution_count": 45,
   "metadata": {},
   "outputs": [],
   "source": [
    "# columns to calculate the correlation\n",
    "cols = ['open_count_last_10_days', 'open_count_last_30_days', 'open_count_last_60_days',\n",
    "       'login_count_last_10_days', 'login_count_last_30_days', 'login_count_last_60_days',\n",
    "       'checkout_count_last_10_days', 'checkout_count_last_30_days', 'checkout_count_last_60_days',\n",
    "       'open_flag']\n",
    "corr = df[cols].corr()"
   ]
  },
  {
   "cell_type": "code",
   "execution_count": 46,
   "metadata": {},
   "outputs": [
    {
     "data": {
      "image/png": "[encoded data removed]",
      "text/plain": [
       "<Figure size 864x576 with 2 Axes>"
      ]
     },
     "metadata": {},
     "output_type": "display_data"
    }
   ],
   "source": [
    "# Visualise correlation via heatmap\n",
    "mask = np.zeros_like(corr)\n",
    "mask[np.triu_indices_from(mask)] = True\n",
    "\n",
    "with sns.axes_style(\"white\"):\n",
    "    f, ax = plt.subplots(figsize=(12,8))\n",
    "    ax = sns.heatmap(corr, mask = mask, vmax = 1, vmin=-1, annot = True,\n",
    "                     linewidths=.5, cmap = \"YlGnBu\")\n",
    "    ax.set_title(\"Correlation coefficient of user open email, login and checkout history Vs open_flag\", fontsize=16)\n",
    "    plt.xticks(rotation = 75)"
   ]
  },
  {
   "cell_type": "markdown",
   "metadata": {},
   "source": [
    "User that **does not open email, or lower email opening frequency** in the past, tends **NOT open** the email send by Shopee. This is due to the observation of having **positive correlation** among the `open_count_email_N_days` with `open_flag`, where `open_count_email_10_days` has the strongest correlation (**0.52**) compared to 30/60 days.   \n",
    "\n",
    "Thus, **to select `open_count_email_10_days` as X-feature and drop the 30/60 days**, as these 3 X-features are highly correlated among themselves."
   ]
  },
  {
   "cell_type": "code",
   "execution_count": 47,
   "metadata": {},
   "outputs": [
    {
     "data": {
      "image/png": "[encoded data removed]",
      "text/plain": [
       "<Figure size 504x360 with 1 Axes>"
      ]
     },
     "metadata": {
      "needs_background": "light"
     },
     "output_type": "display_data"
    }
   ],
   "source": [
    "# Visualise user open count in last 10 days groupby open_flag\n",
    "cat_plot('open_flag', 'open_count_last_10_days', df, \n",
    "         \"User's open email's frequency in last 10 days, groupby open_flag\")"
   ]
  },
  {
   "cell_type": "code",
   "execution_count": 48,
   "metadata": {},
   "outputs": [
    {
     "data": {
      "image/png": "[encoded data removed]",
      "text/plain": [
       "<Figure size 504x360 with 1 Axes>"
      ]
     },
     "metadata": {
      "needs_background": "light"
     },
     "output_type": "display_data"
    }
   ],
   "source": [
    "# Visualise user login count in last 60 days groupby open_flag\n",
    "cat_plot('open_flag', 'login_count_last_60_days', df, \n",
    "         \"User's login's frequency in last 60 days, groupby open_flag\")"
   ]
  },
  {
   "cell_type": "markdown",
   "metadata": {},
   "source": [
    "User with **very high login's frequency** and **very high checkout's frequency** , tends NOT open email from shopee."
   ]
  },
  {
   "cell_type": "code",
   "execution_count": 49,
   "metadata": {},
   "outputs": [
    {
     "data": {
      "image/png": "[encoded data removed]",
      "text/plain": [
       "<Figure size 504x360 with 1 Axes>"
      ]
     },
     "metadata": {
      "needs_background": "light"
     },
     "output_type": "display_data"
    }
   ],
   "source": [
    "# Visualise user login count in last 60 days groupby open_flag\n",
    "cat_plot('open_flag', 'checkout_count_last_60_days', df, \n",
    "         \"User's checkout's frequency in last 60 days, groupby open_flag\")"
   ]
  },
  {
   "cell_type": "code",
   "execution_count": 50,
   "metadata": {},
   "outputs": [
    {
     "data": {
      "text/plain": [
       "count    11456.000000\n",
       "mean        50.453736\n",
       "std         68.952705\n",
       "min          0.000000\n",
       "25%          4.000000\n",
       "50%         25.000000\n",
       "75%         73.000000\n",
       "max        863.000000\n",
       "Name: login_count_last_60_days, dtype: float64"
      ]
     },
     "execution_count": 50,
     "metadata": {},
     "output_type": "execute_result"
    }
   ],
   "source": [
    "df.query('open_flag == 1')['login_count_last_60_days'].describe()"
   ]
  },
  {
   "cell_type": "code",
   "execution_count": 51,
   "metadata": {},
   "outputs": [
    {
     "data": {
      "text/plain": [
       "count    62083.000000\n",
       "mean        48.744101\n",
       "std         72.333273\n",
       "min          0.000000\n",
       "25%          3.000000\n",
       "50%         22.000000\n",
       "75%         68.000000\n",
       "max       1260.000000\n",
       "Name: login_count_last_60_days, dtype: float64"
      ]
     },
     "execution_count": 51,
     "metadata": {},
     "output_type": "execute_result"
    }
   ],
   "source": [
    "df.query('open_flag == 0')['login_count_last_60_days'].describe()"
   ]
  },
  {
   "cell_type": "code",
   "execution_count": 65,
   "metadata": {},
   "outputs": [],
   "source": [
    "# export to csv\n",
    "df.to_csv('./data/train_cleaned.csv', index = False)\n",
    "test.to_csv('./data/test_cleaned.csv', index = False)"
   ]
  },
  {
   "cell_type": "markdown",
   "metadata": {},
   "source": [
    "# 4 Model Preprocessing"
   ]
  },
  {
   "cell_type": "code",
   "execution_count": 83,
   "metadata": {},
   "outputs": [
    {
     "name": "stderr",
     "output_type": "stream",
     "text": [
      "/opt/anaconda3/lib/python3.7/site-packages/sklearn/utils/deprecation.py:143: FutureWarning: The sklearn.metrics.scorer module is  deprecated in version 0.22 and will be removed in version 0.24. The corresponding classes / functions should instead be imported from sklearn.metrics. Anything that cannot be imported from sklearn.metrics is now part of the private API.\n",
      "  warnings.warn(message, FutureWarning)\n",
      "/opt/anaconda3/lib/python3.7/site-packages/sklearn/utils/deprecation.py:143: FutureWarning: The sklearn.feature_selection.base module is  deprecated in version 0.22 and will be removed in version 0.24. The corresponding classes / functions should instead be imported from sklearn.feature_selection. Anything that cannot be imported from sklearn.feature_selection is now part of the private API.\n",
      "  warnings.warn(message, FutureWarning)\n",
      "Using TensorFlow backend.\n"
     ]
    }
   ],
   "source": [
    "# imbalanced-learn\n",
    "from imblearn.over_sampling import SMOTENC\n",
    "from imblearn.under_sampling import RandomUnderSampler\n",
    "from imblearn.pipeline import Pipeline   #to use this Pipeline instead of from sklearn\n",
    "\n",
    "# Scikit learn\n",
    "from sklearn.model_selection import train_test_split, RandomizedSearchCV\n",
    "from sklearn.preprocessing import StandardScaler, OneHotEncoder\n",
    "from sklearn.compose import ColumnTransformer\n",
    "from sklearn.impute import SimpleImputer\n",
    "#from sklearn.utils import class_weight\n",
    "from sklearn.metrics import accuracy_score, precision_score, recall_score, roc_auc_score\n",
    "from sklearn.metrics import classification_report, confusion_matrix\n",
    "from sklearn.base import BaseEstimator, TransformerMixin\n",
    "#from sklearn.pipeline import Pipeline\n",
    "from sklearn.linear_model import LogisticRegression\n",
    "from sklearn.neighbors import KNeighborsClassifier\n",
    "from sklearn.ensemble import RandomForestClassifier\n",
    "from sklearn.svm import LinearSVC, SVC\n",
    "from sklearn.ensemble import AdaBoostClassifier\n",
    "\n",
    "# xgboost\n",
    "from xgboost import XGBClassifier\n",
    "\n",
    "import eli5"
   ]
  },
  {
   "cell_type": "code",
   "execution_count": 53,
   "metadata": {},
   "outputs": [],
   "source": [
    "# Select cols for feature X (independent variables)\n",
    "# exclude those feature X that highly correlated (e.g. only select open_count_last_10_days)\n",
    "# exclude for 30/60 days. Similarly for login & checkout count\n",
    "\n",
    "cols = ['country_code','subject_line_length',\n",
    "       'last_open_day', 'last_login_day', 'last_checkout_day',\n",
    "       'open_count_last_10_days', 'login_count_last_60_days',\n",
    "       'checkout_count_last_60_days','email_weekday', 'age','domain']\n",
    "\n",
    "dfx = df[cols]  \n",
    "test_x = test[cols]"
   ]
  },
  {
   "cell_type": "code",
   "execution_count": 54,
   "metadata": {},
   "outputs": [
    {
     "name": "stdout",
     "output_type": "stream",
     "text": [
      "shape for train dataset, dfx : (73539, 11)\n",
      "shape for test dataset, test_x : (55970, 11)\n"
     ]
    }
   ],
   "source": [
    "# Total of 9 features (incl. 1 nominal categorical feature, i.e. the country_code)\n",
    "print(f\"shape for train dataset, dfx : {dfx.shape}\")\n",
    "print(f\"shape for test dataset, test_x : {test_x.shape}\")"
   ]
  },
  {
   "cell_type": "code",
   "execution_count": 55,
   "metadata": {},
   "outputs": [],
   "source": [
    "# Create X-features and y label\n",
    "X = dfx\n",
    "y = df['open_flag']\n",
    "\n",
    "Xtest = test_x  #test dataset"
   ]
  },
  {
   "cell_type": "markdown",
   "metadata": {},
   "source": [
    "### Train test split"
   ]
  },
  {
   "cell_type": "code",
   "execution_count": 56,
   "metadata": {},
   "outputs": [],
   "source": [
    "X_train, X_test, y_train, y_test = train_test_split(X, y, test_size = 0.2, shuffle = True,\n",
    "                                                   stratify = y, random_state = 42)"
   ]
  },
  {
   "cell_type": "code",
   "execution_count": 57,
   "metadata": {},
   "outputs": [
    {
     "name": "stdout",
     "output_type": "stream",
     "text": [
      "X_train: (58831, 11), y_train: (58831,)\n",
      "X_test: (14708, 11), y_test: (14708,)\n"
     ]
    }
   ],
   "source": [
    "print(f\"X_train: {X_train.shape}, y_train: {y_train.shape}\")\n",
    "print(f\"X_test: {X_test.shape}, y_test: {y_test.shape}\")"
   ]
  },
  {
   "cell_type": "markdown",
   "metadata": {},
   "source": [
    "### SMOTE for imbalanced binary classification problem\n",
    ">- SMOTE stands for Synthetic Minority Oversampling Technique, which it uses the approach of synthesizing new examples on the minority class.\n",
    ">- To use this technique, we can use the `imbalanced-learn Python library`, which can be installed via pip as follows: `sudo pip install imbalanced-learn`\n",
    ">- Here, I am using the combination of oversampling technique using `SMOTENC` (this can handle both numeric and categorical variable, whereas SMOTE cannot) and undersample the majority class as well, using  `RandomUnderSampler` from the **imbalanced-learn library** as well.\n",
    "\n",
    "[Ref: smote oversampling for imbalanced classification](https://machinelearningmastery.com/smote-oversampling-for-imbalanced-classification/)"
   ]
  },
  {
   "cell_type": "code",
   "execution_count": 58,
   "metadata": {},
   "outputs": [],
   "source": [
    "# Instantiate the instance\n",
    "\n",
    "# oversample the minority class, and increase the ratio #minority/#majority to 0.35\n",
    "over = SMOTENC(categorical_features=[0,10], sampling_strategy=0.35) #col 0 & 9 are categorical feature\n",
    "\n",
    "# undersample the majority class, to final ratio of #minority/#majority to 0.6\n",
    "# this ratio means #minority is slightly > #majority. It can slightly improve the roc-auc score\n",
    "under = RandomUnderSampler(sampling_strategy=0.6)"
   ]
  },
  {
   "cell_type": "markdown",
   "metadata": {},
   "source": [
    "### Preprocessing pipelines\n",
    "- The code below constructs a pipeline that imputes any missing values, applies standard scaler to numeric features, \n",
    "- It converts any categorical features into numerical via OneHotEncoder.\n",
    "- Imputer is added for any missing values. Though the data already cleaned without missing values, it is sensible to add in this step because in the real world if we were deploying this as machine learning application, there is a chance that new data may have missing values."
   ]
  },
  {
   "cell_type": "code",
   "execution_count": 68,
   "metadata": {},
   "outputs": [],
   "source": [
    "# Numeric features, to perform scalling\n",
    "numeric_X = cols[1:-1]\n",
    "\n",
    "numeric_transform = Pipeline(steps = [\n",
    "                    ('imputer', SimpleImputer(strategy = 'median')),\n",
    "                    ('scaler', StandardScaler())\n",
    "                    ])"
   ]
  },
  {
   "cell_type": "code",
   "execution_count": 69,
   "metadata": {},
   "outputs": [],
   "source": [
    "# Nominal categorical features to OneHotEncode\n",
    "categorical_X = ['country_code','domain']\n",
    "\n",
    "categorical_transform = Pipeline(steps = [\n",
    "                    ('imputer', SimpleImputer(strategy = 'constant', fill_value = 'missing')),\n",
    "                    ('one_hot', OneHotEncoder(handle_unknown = 'ignore'))\n",
    "                    ])"
   ]
  },
  {
   "cell_type": "code",
   "execution_count": 70,
   "metadata": {},
   "outputs": [],
   "source": [
    "# Perform preprocessing for both numeric and categorical features\n",
    "preprocessor = ColumnTransformer(\n",
    "                transformers=[\n",
    "                    ('num', numeric_transform, numeric_X),\n",
    "                    ('cat', categorical_transform, categorical_X)\n",
    "                ])"
   ]
  },
  {
   "cell_type": "markdown",
   "metadata": {},
   "source": [
    "## 5 Modelling"
   ]
  },
  {
   "cell_type": "markdown",
   "metadata": {},
   "source": [
    "## 5.1 Baseline Accuracy\n",
    "The naive baseline accuracy for this dataset is **84.4%**, that is the null model predicting the majority class of `open_flag` = 0."
   ]
  },
  {
   "cell_type": "code",
   "execution_count": 62,
   "metadata": {},
   "outputs": [
    {
     "data": {
      "text/plain": [
       "0    0.844219\n",
       "1    0.155781\n",
       "Name: open_flag, dtype: float64"
      ]
     },
     "execution_count": 62,
     "metadata": {},
     "output_type": "execute_result"
    }
   ],
   "source": [
    "df['open_flag'].value_counts(normalize = True)"
   ]
  },
  {
   "cell_type": "code",
   "execution_count": 63,
   "metadata": {},
   "outputs": [],
   "source": [
    "# Function to print out the results\n",
    "\n",
    "def print_results(model):\n",
    "    \n",
    "    \"\"\"\n",
    "    Input: model -> model used in RandomizeSearchCV\n",
    "    \n",
    "    This function prints the best hyperparameters resulted from the model that was fitted with X_train, y_train data\n",
    "    It also prints the accuracy score for X_train and X_test data resulted from the best params\n",
    "    Lastly, it prints the classification report\n",
    "    It returns the X_train, X_test accuracy score, ypred from X_test, and confusion matrix\n",
    "    \"\"\"\n",
    "    \n",
    "    train_sc = model.score(X_train, y_train)\n",
    "    test_sc = model.score(X_test, y_test)\n",
    "    ypred = model.predict(X_test)\n",
    "    cm = confusion_matrix(y_test, ypred)\n",
    "    report = classification_report(y_test, ypred)\n",
    "    \n",
    "    print(f\"best estimator: {model.best_params_}\")\n",
    "    print()\n",
    "    print(f\"train accuracy: {round(train_sc,4)}\")\n",
    "    print(f\"test accuracy: {round(test_sc, 4)}\")\n",
    "    print()\n",
    "    print(\"Classification report:\")\n",
    "    print(report)\n",
    "    \n",
    "    return train_sc, test_sc, ypred, cm"
   ]
  },
  {
   "cell_type": "markdown",
   "metadata": {},
   "source": [
    "## 5.2 Logistic Regression"
   ]
  },
  {
   "cell_type": "code",
   "execution_count": 101,
   "metadata": {},
   "outputs": [],
   "source": [
    "lr = Pipeline(steps = [\n",
    "    ('preprocessor', preprocessor),\n",
    "    ('over', over),\n",
    "    ('under', under),\n",
    "    ('classifier', LogisticRegression(solver = 'lbfgs', max_iter=200))\n",
    "    ])"
   ]
  },
  {
   "cell_type": "code",
   "execution_count": 102,
   "metadata": {},
   "outputs": [],
   "source": [
    "lr_params = {'classifier__C': np.logspace(-5,1,20),\n",
    "             'classifier__class_weight': ['balanced', None]}"
   ]
  },
  {
   "cell_type": "code",
   "execution_count": 103,
   "metadata": {},
   "outputs": [
    {
     "name": "stdout",
     "output_type": "stream",
     "text": [
      "Fitting 3 folds for each of 10 candidates, totalling 30 fits\n"
     ]
    },
    {
     "name": "stderr",
     "output_type": "stream",
     "text": [
      "[Parallel(n_jobs=-1)]: Using backend LokyBackend with 4 concurrent workers.\n",
      "[Parallel(n_jobs=-1)]: Done  30 out of  30 | elapsed:   52.4s finished\n"
     ]
    },
    {
     "name": "stdout",
     "output_type": "stream",
     "text": [
      "best score: 0.8705784884696798\n",
      "best estimator: {'classifier__class_weight': None, 'classifier__C': 0.000379269019073225}\n"
     ]
    }
   ],
   "source": [
    "rs_lr = RandomizedSearchCV(estimator=lr,\n",
    "                           param_distributions=lr_params,\n",
    "                           n_jobs=-1, cv=3, verbose =2)\n",
    "\n",
    "rs_lr.fit(X_train, y_train)\n",
    "\n",
    "print(f\"best score: {rs_lr.best_score_}\")\n",
    "print(f\"best estimator: {rs_lr.best_params_}\")"
   ]
  },
  {
   "cell_type": "code",
   "execution_count": 104,
   "metadata": {},
   "outputs": [
    {
     "name": "stdout",
     "output_type": "stream",
     "text": [
      "best estimator: {'classifier__class_weight': None, 'classifier__C': 0.000379269019073225}\n",
      "\n",
      "train accuracy: 0.869\n",
      "test accuracy: 0.8694\n",
      "\n",
      "Classification report:\n",
      "              precision    recall  f1-score   support\n",
      "\n",
      "           0       0.92      0.93      0.92     12417\n",
      "           1       0.59      0.55      0.57      2291\n",
      "\n",
      "    accuracy                           0.87     14708\n",
      "   macro avg       0.75      0.74      0.75     14708\n",
      "weighted avg       0.87      0.87      0.87     14708\n",
      "\n"
     ]
    }
   ],
   "source": [
    "##### print out the LogisticRegression results\n",
    "lr_train, lr_test, lr_ypred, lr_cm = print_results(rs_lr)"
   ]
  },
  {
   "cell_type": "code",
   "execution_count": 105,
   "metadata": {},
   "outputs": [
    {
     "data": {
      "text/html": [
       "<div>\n",
       "<style scoped>\n",
       "    .dataframe tbody tr th:only-of-type {\n",
       "        vertical-align: middle;\n",
       "    }\n",
       "\n",
       "    .dataframe tbody tr th {\n",
       "        vertical-align: top;\n",
       "    }\n",
       "\n",
       "    .dataframe thead th {\n",
       "        text-align: right;\n",
       "    }\n",
       "</style>\n",
       "<table border=\"1\" class=\"dataframe\">\n",
       "  <thead>\n",
       "    <tr style=\"text-align: right;\">\n",
       "      <th></th>\n",
       "      <th>Predict 0</th>\n",
       "      <th>Predict 1</th>\n",
       "    </tr>\n",
       "  </thead>\n",
       "  <tbody>\n",
       "    <tr>\n",
       "      <th>Actual 0</th>\n",
       "      <td>11517</td>\n",
       "      <td>900</td>\n",
       "    </tr>\n",
       "    <tr>\n",
       "      <th>Actual 1</th>\n",
       "      <td>1021</td>\n",
       "      <td>1270</td>\n",
       "    </tr>\n",
       "  </tbody>\n",
       "</table>\n",
       "</div>"
      ],
      "text/plain": [
       "          Predict 0  Predict 1\n",
       "Actual 0      11517        900\n",
       "Actual 1       1021       1270"
      ]
     },
     "execution_count": 105,
     "metadata": {},
     "output_type": "execute_result"
    }
   ],
   "source": [
    "pd.DataFrame(lr_cm, columns = ['Predict 0', 'Predict 1'],\n",
    "             index = ['Actual 0', 'Actual 1'])"
   ]
  },
  {
   "cell_type": "code",
   "execution_count": 106,
   "metadata": {},
   "outputs": [
    {
     "data": {
      "text/plain": [
       "0.7409309029766467"
      ]
     },
     "execution_count": 106,
     "metadata": {},
     "output_type": "execute_result"
    }
   ],
   "source": [
    "roc_auc_score(y_test, lr_ypred)"
   ]
  },
  {
   "cell_type": "markdown",
   "metadata": {},
   "source": [
    "## 5.3 Random Forest"
   ]
  },
  {
   "cell_type": "code",
   "execution_count": 107,
   "metadata": {},
   "outputs": [],
   "source": [
    "rf = Pipeline(steps = [\n",
    "        ('preprecessor', preprocessor),\n",
    "        ('over', over),\n",
    "        ('under', under),\n",
    "        ('classifier', RandomForestClassifier())\n",
    "])"
   ]
  },
  {
   "cell_type": "code",
   "execution_count": 152,
   "metadata": {},
   "outputs": [],
   "source": [
    "rf_params = {'classifier__n_estimators': [100, 140, 150, 180], #number of trees def=100\n",
    "             'classifier__max_depth': [20, 27, 30, 50],\n",
    "             'classifier__min_samples_split': [2,3,4],\n",
    "             'classifier__min_samples_leaf': [3,4,5,6],\n",
    "            }"
   ]
  },
  {
   "cell_type": "code",
   "execution_count": 153,
   "metadata": {},
   "outputs": [
    {
     "name": "stdout",
     "output_type": "stream",
     "text": [
      "Fitting 3 folds for each of 10 candidates, totalling 30 fits\n"
     ]
    },
    {
     "name": "stderr",
     "output_type": "stream",
     "text": [
      "[Parallel(n_jobs=-1)]: Using backend LokyBackend with 4 concurrent workers.\n",
      "[Parallel(n_jobs=-1)]: Done  30 out of  30 | elapsed:  3.6min finished\n"
     ]
    },
    {
     "name": "stdout",
     "output_type": "stream",
     "text": [
      "best score: 0.8620795169774708\n",
      "best estimator: {'classifier__n_estimators': 180, 'classifier__min_samples_split': 2, 'classifier__min_samples_leaf': 3, 'classifier__max_depth': 30}\n"
     ]
    }
   ],
   "source": [
    "rs_rf = RandomizedSearchCV(estimator=rf,\n",
    "                           param_distributions=rf_params,\n",
    "                           n_jobs=-1, cv=3, verbose =2)\n",
    "\n",
    "rs_rf.fit(X_train, y_train)\n",
    "\n",
    "print(f\"best score: {rs_rf.best_score_}\")\n",
    "print(f\"best estimator: {rs_rf.best_params_}\")"
   ]
  },
  {
   "cell_type": "code",
   "execution_count": 122,
   "metadata": {},
   "outputs": [
    {
     "name": "stdout",
     "output_type": "stream",
     "text": [
      "best estimator: {'classifier__n_estimators': 140, 'classifier__min_samples_split': 2, 'classifier__min_samples_leaf': 3, 'classifier__max_depth': 27}\n",
      "\n",
      "train accuracy: 0.915\n",
      "test accuracy: 0.8661\n",
      "\n",
      "Classification report:\n",
      "              precision    recall  f1-score   support\n",
      "\n",
      "           0       0.93      0.91      0.92     12417\n",
      "           1       0.56      0.64      0.60      2291\n",
      "\n",
      "    accuracy                           0.87     14708\n",
      "   macro avg       0.75      0.77      0.76     14708\n",
      "weighted avg       0.87      0.87      0.87     14708\n",
      "\n"
     ]
    }
   ],
   "source": [
    "# print out the LogisticRegression results\n",
    "rf_train, rf_test, rf_ypred, rf_cm = print_results(rs_rf)"
   ]
  },
  {
   "cell_type": "code",
   "execution_count": 123,
   "metadata": {},
   "outputs": [
    {
     "data": {
      "text/html": [
       "<div>\n",
       "<style scoped>\n",
       "    .dataframe tbody tr th:only-of-type {\n",
       "        vertical-align: middle;\n",
       "    }\n",
       "\n",
       "    .dataframe tbody tr th {\n",
       "        vertical-align: top;\n",
       "    }\n",
       "\n",
       "    .dataframe thead th {\n",
       "        text-align: right;\n",
       "    }\n",
       "</style>\n",
       "<table border=\"1\" class=\"dataframe\">\n",
       "  <thead>\n",
       "    <tr style=\"text-align: right;\">\n",
       "      <th></th>\n",
       "      <th>Predict 0</th>\n",
       "      <th>Predict 1</th>\n",
       "    </tr>\n",
       "  </thead>\n",
       "  <tbody>\n",
       "    <tr>\n",
       "      <th>Actual 0</th>\n",
       "      <td>11269</td>\n",
       "      <td>1148</td>\n",
       "    </tr>\n",
       "    <tr>\n",
       "      <th>Actual 1</th>\n",
       "      <td>821</td>\n",
       "      <td>1470</td>\n",
       "    </tr>\n",
       "  </tbody>\n",
       "</table>\n",
       "</div>"
      ],
      "text/plain": [
       "          Predict 0  Predict 1\n",
       "Actual 0      11269       1148\n",
       "Actual 1        821       1470"
      ]
     },
     "execution_count": 123,
     "metadata": {},
     "output_type": "execute_result"
    }
   ],
   "source": [
    "# Confusion matrix\n",
    "pd.DataFrame(rf_cm, columns = ['Predict 0', 'Predict 1'],\n",
    "             index = ['Actual 0', 'Actual 1'])"
   ]
  },
  {
   "cell_type": "code",
   "execution_count": 124,
   "metadata": {},
   "outputs": [
    {
     "data": {
      "text/plain": [
       "0.7745936554294501"
      ]
     },
     "execution_count": 124,
     "metadata": {},
     "output_type": "execute_result"
    }
   ],
   "source": [
    "roc_auc_score(y_test, rf_ypred)"
   ]
  },
  {
   "cell_type": "markdown",
   "metadata": {},
   "source": [
    "#### Predict test dataset (for kaggle submission)"
   ]
  },
  {
   "cell_type": "code",
   "execution_count": 139,
   "metadata": {},
   "outputs": [
    {
     "data": {
      "text/html": [
       "<div>\n",
       "<style scoped>\n",
       "    .dataframe tbody tr th:only-of-type {\n",
       "        vertical-align: middle;\n",
       "    }\n",
       "\n",
       "    .dataframe tbody tr th {\n",
       "        vertical-align: top;\n",
       "    }\n",
       "\n",
       "    .dataframe thead th {\n",
       "        text-align: right;\n",
       "    }\n",
       "</style>\n",
       "<table border=\"1\" class=\"dataframe\">\n",
       "  <thead>\n",
       "    <tr style=\"text-align: right;\">\n",
       "      <th></th>\n",
       "      <th>row_id</th>\n",
       "      <th>open_flag</th>\n",
       "    </tr>\n",
       "  </thead>\n",
       "  <tbody>\n",
       "    <tr>\n",
       "      <th>0</th>\n",
       "      <td>0</td>\n",
       "      <td>1</td>\n",
       "    </tr>\n",
       "    <tr>\n",
       "      <th>1</th>\n",
       "      <td>1</td>\n",
       "      <td>0</td>\n",
       "    </tr>\n",
       "    <tr>\n",
       "      <th>2</th>\n",
       "      <td>2</td>\n",
       "      <td>0</td>\n",
       "    </tr>\n",
       "    <tr>\n",
       "      <th>3</th>\n",
       "      <td>3</td>\n",
       "      <td>0</td>\n",
       "    </tr>\n",
       "    <tr>\n",
       "      <th>4</th>\n",
       "      <td>4</td>\n",
       "      <td>0</td>\n",
       "    </tr>\n",
       "  </tbody>\n",
       "</table>\n",
       "</div>"
      ],
      "text/plain": [
       "   row_id  open_flag\n",
       "0       0          1\n",
       "1       1          0\n",
       "2       2          0\n",
       "3       3          0\n",
       "4       4          0"
      ]
     },
     "execution_count": 139,
     "metadata": {},
     "output_type": "execute_result"
    }
   ],
   "source": [
    "ypred = rs_rf.predict(Xtest)\n",
    "sub = pd.DataFrame(zip(test['row_id'], ypred), columns = ['row_id', 'open_flag'])\n",
    "sub.head()"
   ]
  },
  {
   "cell_type": "code",
   "execution_count": 140,
   "metadata": {},
   "outputs": [
    {
     "data": {
      "text/plain": [
       "0    0.846203\n",
       "1    0.153797\n",
       "Name: open_flag, dtype: float64"
      ]
     },
     "execution_count": 140,
     "metadata": {},
     "output_type": "execute_result"
    }
   ],
   "source": [
    "sub.open_flag.value_counts(normalize=True)"
   ]
  },
  {
   "cell_type": "code",
   "execution_count": 141,
   "metadata": {},
   "outputs": [],
   "source": [
    "# export to csv\n",
    "\n",
    "# score sub1 adaboost: 0.43193\n",
    "# score sub2: xgboost: 0.44324\n",
    "# score sub3 smote adaboost: 0.49143\n",
    "# score sub5 smote adaboost (0.5 undersample) 0.49864\n",
    "# score sub6 smote randomforest, undersample = 0.6: 0.50624\n",
    "sub.to_csv('./data/sub6_smote_rf.csv', index=False)"
   ]
  },
  {
   "cell_type": "markdown",
   "metadata": {},
   "source": [
    "## 5.3 SVM (Support Vector Machine)"
   ]
  },
  {
   "cell_type": "code",
   "execution_count": 125,
   "metadata": {},
   "outputs": [],
   "source": [
    "svm = Pipeline(steps = [\n",
    "        ('preprocessor', preprocessor),\n",
    "        ('over', over),\n",
    "        ('under', under),\n",
    "        ('classifier', SVC(kernel = 'rbf'))\n",
    "        ])"
   ]
  },
  {
   "cell_type": "code",
   "execution_count": 126,
   "metadata": {},
   "outputs": [],
   "source": [
    "svm_params = {'classifier__C': np.logspace(-5,1,10),\n",
    "              'classifier__gamma': ['scale', 'auto'],\n",
    "                }"
   ]
  },
  {
   "cell_type": "code",
   "execution_count": 127,
   "metadata": {},
   "outputs": [
    {
     "name": "stdout",
     "output_type": "stream",
     "text": [
      "Fitting 3 folds for each of 10 candidates, totalling 30 fits\n"
     ]
    },
    {
     "name": "stderr",
     "output_type": "stream",
     "text": [
      "[Parallel(n_jobs=-1)]: Using backend LokyBackend with 4 concurrent workers.\n",
      "[Parallel(n_jobs=-1)]: Done  30 out of  30 | elapsed: 16.5min finished\n"
     ]
    },
    {
     "name": "stdout",
     "output_type": "stream",
     "text": [
      "best score: 0.8732980982922535\n",
      "best estimator: {'classifier__gamma': 'auto', 'classifier__C': 0.001}\n"
     ]
    }
   ],
   "source": [
    "rs_svm = RandomizedSearchCV(estimator=svm,\n",
    "                           param_distributions=svm_params,\n",
    "                           n_jobs=-1, cv=3, verbose =2)\n",
    "\n",
    "rs_svm.fit(X_train, y_train)\n",
    "\n",
    "print(f\"best score: {rs_svm.best_score_}\")\n",
    "print(f\"best estimator: {rs_svm.best_params_}\")"
   ]
  },
  {
   "cell_type": "code",
   "execution_count": 128,
   "metadata": {},
   "outputs": [
    {
     "name": "stdout",
     "output_type": "stream",
     "text": [
      "best estimator: {'classifier__gamma': 'auto', 'classifier__C': 0.001}\n",
      "\n",
      "train accuracy: 0.8741\n",
      "test accuracy: 0.8743\n",
      "\n",
      "Classification report:\n",
      "              precision    recall  f1-score   support\n",
      "\n",
      "           0       0.90      0.96      0.93     12417\n",
      "           1       0.65      0.42      0.51      2291\n",
      "\n",
      "    accuracy                           0.87     14708\n",
      "   macro avg       0.77      0.69      0.72     14708\n",
      "weighted avg       0.86      0.87      0.86     14708\n",
      "\n"
     ]
    }
   ],
   "source": [
    "# print out the LogisticRegression results\n",
    "svm_train, svm_test, svm_ypred, svm_cm = print_results(rs_svm)"
   ]
  },
  {
   "cell_type": "code",
   "execution_count": 129,
   "metadata": {},
   "outputs": [
    {
     "data": {
      "text/html": [
       "<div>\n",
       "<style scoped>\n",
       "    .dataframe tbody tr th:only-of-type {\n",
       "        vertical-align: middle;\n",
       "    }\n",
       "\n",
       "    .dataframe tbody tr th {\n",
       "        vertical-align: top;\n",
       "    }\n",
       "\n",
       "    .dataframe thead th {\n",
       "        text-align: right;\n",
       "    }\n",
       "</style>\n",
       "<table border=\"1\" class=\"dataframe\">\n",
       "  <thead>\n",
       "    <tr style=\"text-align: right;\">\n",
       "      <th></th>\n",
       "      <th>Predict 0</th>\n",
       "      <th>Predict 1</th>\n",
       "    </tr>\n",
       "  </thead>\n",
       "  <tbody>\n",
       "    <tr>\n",
       "      <th>Actual 0</th>\n",
       "      <td>11899</td>\n",
       "      <td>518</td>\n",
       "    </tr>\n",
       "    <tr>\n",
       "      <th>Actual 1</th>\n",
       "      <td>1331</td>\n",
       "      <td>960</td>\n",
       "    </tr>\n",
       "  </tbody>\n",
       "</table>\n",
       "</div>"
      ],
      "text/plain": [
       "          Predict 0  Predict 1\n",
       "Actual 0      11899        518\n",
       "Actual 1       1331        960"
      ]
     },
     "execution_count": 129,
     "metadata": {},
     "output_type": "execute_result"
    }
   ],
   "source": [
    "pd.DataFrame(svm_cm, columns = ['Predict 0', 'Predict 1'], \n",
    "             index = ['Actual 0', 'Actual 1'])"
   ]
  },
  {
   "cell_type": "code",
   "execution_count": 130,
   "metadata": {},
   "outputs": [
    {
     "data": {
      "text/plain": [
       "0.6886569949739074"
      ]
     },
     "execution_count": 130,
     "metadata": {},
     "output_type": "execute_result"
    }
   ],
   "source": [
    "roc_auc_score(y_test, svm_ypred)"
   ]
  },
  {
   "cell_type": "markdown",
   "metadata": {},
   "source": [
    "## 5.4 Adaboost"
   ]
  },
  {
   "cell_type": "code",
   "execution_count": 110,
   "metadata": {},
   "outputs": [],
   "source": [
    "ada = Pipeline(steps = [\n",
    "        ('preprocessor', preprocessor),\n",
    "        ('over', over),\n",
    "        ('under', under),\n",
    "        ('classifier', AdaBoostClassifier())\n",
    "        ])"
   ]
  },
  {
   "cell_type": "code",
   "execution_count": 111,
   "metadata": {},
   "outputs": [],
   "source": [
    "ada_params = {'classifier__n_estimators': [150,200, 250, 280, 300, 350, 400],\n",
    "              'classifier__learning_rate': [0.8, 0.9, 0.95, 1.0] \n",
    "             }"
   ]
  },
  {
   "cell_type": "code",
   "execution_count": 112,
   "metadata": {},
   "outputs": [
    {
     "name": "stdout",
     "output_type": "stream",
     "text": [
      "Fitting 3 folds for each of 10 candidates, totalling 30 fits\n"
     ]
    },
    {
     "name": "stderr",
     "output_type": "stream",
     "text": [
      "[Parallel(n_jobs=-1)]: Using backend LokyBackend with 4 concurrent workers.\n",
      "[Parallel(n_jobs=-1)]: Done  30 out of  30 | elapsed:  4.2min finished\n"
     ]
    },
    {
     "name": "stdout",
     "output_type": "stream",
     "text": [
      "best score: 0.8629124366254953\n",
      "best estimator: {'classifier__n_estimators': 400, 'classifier__learning_rate': 0.95}\n"
     ]
    }
   ],
   "source": [
    "rs_ada = RandomizedSearchCV(estimator = ada,\n",
    "                           param_distributions = ada_params,\n",
    "                           n_jobs = -1, cv = 3, verbose = 2)\n",
    "\n",
    "rs_ada.fit(X_train, y_train)\n",
    "\n",
    "print(f\"best score: {rs_ada.best_score_}\")\n",
    "print(f\"best estimator: {rs_ada.best_params_}\")"
   ]
  },
  {
   "cell_type": "code",
   "execution_count": 113,
   "metadata": {},
   "outputs": [
    {
     "name": "stdout",
     "output_type": "stream",
     "text": [
      "best estimator: {'classifier__n_estimators': 400, 'classifier__learning_rate': 0.95}\n",
      "\n",
      "train accuracy: 0.8624\n",
      "test accuracy: 0.864\n",
      "\n",
      "Classification report:\n",
      "              precision    recall  f1-score   support\n",
      "\n",
      "           0       0.93      0.91      0.92     12417\n",
      "           1       0.56      0.63      0.59      2291\n",
      "\n",
      "    accuracy                           0.86     14708\n",
      "   macro avg       0.74      0.77      0.75     14708\n",
      "weighted avg       0.87      0.86      0.87     14708\n",
      "\n"
     ]
    }
   ],
   "source": [
    "# print out the LogisticRegression results\n",
    "ada_train, ada_test, ada_ypred, ada_cm = print_results(rs_ada)"
   ]
  },
  {
   "cell_type": "code",
   "execution_count": 114,
   "metadata": {},
   "outputs": [
    {
     "data": {
      "text/html": [
       "<div>\n",
       "<style scoped>\n",
       "    .dataframe tbody tr th:only-of-type {\n",
       "        vertical-align: middle;\n",
       "    }\n",
       "\n",
       "    .dataframe tbody tr th {\n",
       "        vertical-align: top;\n",
       "    }\n",
       "\n",
       "    .dataframe thead th {\n",
       "        text-align: right;\n",
       "    }\n",
       "</style>\n",
       "<table border=\"1\" class=\"dataframe\">\n",
       "  <thead>\n",
       "    <tr style=\"text-align: right;\">\n",
       "      <th></th>\n",
       "      <th>Predict 0</th>\n",
       "      <th>Predict 1</th>\n",
       "    </tr>\n",
       "  </thead>\n",
       "  <tbody>\n",
       "    <tr>\n",
       "      <th>Actual 0</th>\n",
       "      <td>11272</td>\n",
       "      <td>1145</td>\n",
       "    </tr>\n",
       "    <tr>\n",
       "      <th>Actual 1</th>\n",
       "      <td>856</td>\n",
       "      <td>1435</td>\n",
       "    </tr>\n",
       "  </tbody>\n",
       "</table>\n",
       "</div>"
      ],
      "text/plain": [
       "          Predict 0  Predict 1\n",
       "Actual 0      11272       1145\n",
       "Actual 1        856       1435"
      ]
     },
     "execution_count": 114,
     "metadata": {},
     "output_type": "execute_result"
    }
   ],
   "source": [
    "#tn,fp,fn,tp = ada_cm.ravel() \n",
    "pd.DataFrame(ada_cm, columns = ['Predict 0', 'Predict 1'], \n",
    "             index = ['Actual 0', 'Actual 1'])"
   ]
  },
  {
   "cell_type": "code",
   "execution_count": 115,
   "metadata": {},
   "outputs": [
    {
     "data": {
      "text/plain": [
       "0.7670758717851617"
      ]
     },
     "execution_count": 115,
     "metadata": {},
     "output_type": "execute_result"
    }
   ],
   "source": [
    "roc_auc_score(y_test, ada_ypred)"
   ]
  },
  {
   "cell_type": "markdown",
   "metadata": {},
   "source": [
    "## 5.5 XGBoost"
   ]
  },
  {
   "cell_type": "code",
   "execution_count": 116,
   "metadata": {},
   "outputs": [],
   "source": [
    "xgb = Pipeline(steps = [\n",
    "            ('preprocessor', preprocessor),\n",
    "            ('over', over),\n",
    "            ('under', under),\n",
    "            ('classifier', XGBClassifier(objective = 'binary:logistic'))\n",
    "            ])"
   ]
  },
  {
   "cell_type": "code",
   "execution_count": 117,
   "metadata": {},
   "outputs": [],
   "source": [
    "xgb_params = {'classifier__eta': [0.0001, 0.001, 0.01],\n",
    "              'classifier__gamma': [0.05, 0.1, 0.2, 0.3],\n",
    "              'classifier__max_depth': [5,10,15],\n",
    "              'classifier__colsmaple_bytree': [0.3, 0.5, 0.8],\n",
    "              'classifier__subsample': [0.3, 0.5, 0.8],\n",
    "               'classifier__reg_lambda': [1, 1.5, 2],\n",
    "               'classifier__n_estimators': [250,500,600, 700]\n",
    "             }"
   ]
  },
  {
   "cell_type": "code",
   "execution_count": 118,
   "metadata": {},
   "outputs": [
    {
     "name": "stdout",
     "output_type": "stream",
     "text": [
      "Fitting 3 folds for each of 10 candidates, totalling 30 fits\n"
     ]
    },
    {
     "name": "stderr",
     "output_type": "stream",
     "text": [
      "[Parallel(n_jobs=-1)]: Using backend LokyBackend with 4 concurrent workers.\n",
      "[Parallel(n_jobs=-1)]: Done  30 out of  30 | elapsed: 23.3min finished\n"
     ]
    },
    {
     "name": "stdout",
     "output_type": "stream",
     "text": [
      "best score: 0.8682327985072016\n",
      "best estimator: {'classifier__subsample': 0.3, 'classifier__reg_lambda': 2, 'classifier__n_estimators': 600, 'classifier__max_depth': 10, 'classifier__gamma': 0.1, 'classifier__eta': 0.01, 'classifier__colsmaple_bytree': 0.5}\n"
     ]
    }
   ],
   "source": [
    "rs_xgb = RandomizedSearchCV(estimator = xgb,\n",
    "                           param_distributions = xgb_params,\n",
    "                           n_jobs = -1, cv = 3, verbose = 2)\n",
    "\n",
    "rs_xgb.fit(X_train, y_train)\n",
    "\n",
    "print(f\"best score: {rs_xgb.best_score_}\")\n",
    "print(f\"best estimator: {rs_xgb.best_params_}\")"
   ]
  },
  {
   "cell_type": "code",
   "execution_count": 119,
   "metadata": {},
   "outputs": [
    {
     "name": "stdout",
     "output_type": "stream",
     "text": [
      "best estimator: {'classifier__subsample': 0.3, 'classifier__reg_lambda': 2, 'classifier__n_estimators': 600, 'classifier__max_depth': 10, 'classifier__gamma': 0.1, 'classifier__eta': 0.01, 'classifier__colsmaple_bytree': 0.5}\n",
      "\n",
      "train accuracy: 0.892\n",
      "test accuracy: 0.8702\n",
      "\n",
      "Classification report:\n",
      "              precision    recall  f1-score   support\n",
      "\n",
      "           0       0.93      0.92      0.92     12417\n",
      "           1       0.58      0.62      0.60      2291\n",
      "\n",
      "    accuracy                           0.87     14708\n",
      "   macro avg       0.75      0.77      0.76     14708\n",
      "weighted avg       0.87      0.87      0.87     14708\n",
      "\n"
     ]
    }
   ],
   "source": [
    "# print out the LogisticRegression results\n",
    "xgb_train, xgb_test, xgb_ypred, xgb_cm = print_results(rs_xgb)"
   ]
  },
  {
   "cell_type": "code",
   "execution_count": 120,
   "metadata": {},
   "outputs": [
    {
     "data": {
      "text/html": [
       "<div>\n",
       "<style scoped>\n",
       "    .dataframe tbody tr th:only-of-type {\n",
       "        vertical-align: middle;\n",
       "    }\n",
       "\n",
       "    .dataframe tbody tr th {\n",
       "        vertical-align: top;\n",
       "    }\n",
       "\n",
       "    .dataframe thead th {\n",
       "        text-align: right;\n",
       "    }\n",
       "</style>\n",
       "<table border=\"1\" class=\"dataframe\">\n",
       "  <thead>\n",
       "    <tr style=\"text-align: right;\">\n",
       "      <th></th>\n",
       "      <th>Predict 0</th>\n",
       "      <th>Predict 1</th>\n",
       "    </tr>\n",
       "  </thead>\n",
       "  <tbody>\n",
       "    <tr>\n",
       "      <th>Actual 0</th>\n",
       "      <td>11386</td>\n",
       "      <td>1031</td>\n",
       "    </tr>\n",
       "    <tr>\n",
       "      <th>Actual 1</th>\n",
       "      <td>878</td>\n",
       "      <td>1413</td>\n",
       "    </tr>\n",
       "  </tbody>\n",
       "</table>\n",
       "</div>"
      ],
      "text/plain": [
       "          Predict 0  Predict 1\n",
       "Actual 0      11386       1031\n",
       "Actual 1        878       1413"
      ]
     },
     "execution_count": 120,
     "metadata": {},
     "output_type": "execute_result"
    }
   ],
   "source": [
    "# confusion matrix\n",
    "pd.DataFrame(xgb_cm, columns = ['Predict 0', 'Predict 1'], \n",
    "             index = ['Actual 0', 'Actual 1'])"
   ]
  },
  {
   "cell_type": "code",
   "execution_count": 121,
   "metadata": {},
   "outputs": [
    {
     "data": {
      "text/plain": [
       "0.766864955807654"
      ]
     },
     "execution_count": 121,
     "metadata": {},
     "output_type": "execute_result"
    }
   ],
   "source": [
    "#roc_auc_score\n",
    "roc_auc_score(y_test, xgb_ypred)"
   ]
  },
  {
   "cell_type": "markdown",
   "metadata": {},
   "source": [
    "## 6 Model evaluations and conclusions\n",
    "\n",
    "As this is imbalanced classification problem, apart from **accuracy score**m  **f1-score**, **roc-auc score**, are also used to evaluate the model's effectiveness in predicting whether a user opens the emails sent by Shopee.\n",
    "\n",
    "There are total of 5 classifiers used in the modelling. Among them, **RandomForestClassifier** perform the best, based on the **Kaggle's score**. Asides, it scores highest in **roc-auc score** of **0.7746**, which it is a measure of its ability to distinguish between the positive and negative classes (i.e. open email, not open email in this case). Score of 1 means the classifier is able to perfectly distinguish between all the possitiveb and negative class points correctly. \n",
    "\n",
    "It also has **highest f1 score**. F1 score is the weighted average of Precision and Recall. It takes both false positives and false negatives into account. It is more useful measures than accuracy especially in imbalance class problem. \n",
    "\n",
    "f1 score = 2*(recall*precision)/(recall + precision)   \n",
    "recall = TP/(TP+FN)   \n",
    "precision = TP/(TP +FP)\n"
   ]
  },
  {
   "cell_type": "code",
   "execution_count": 137,
   "metadata": {},
   "outputs": [],
   "source": [
    "# Compiling the results from all models\n",
    "model_name = ['LogisticRegression', 'RandomForestClassifier', 'SVM', \n",
    "         'AdaBoostClassifier', 'XGBClassifier']\n",
    "models = [rs_lr, rs_rf, rs_svm, rs_ada, rs_xgb]\n",
    "model_ypreds = [lr_ypred, rf_ypred, svm_ypred, ada_ypred,xgb_ypred]\n",
    "\n",
    "train_accuracy = [round(clf.score(X_train, y_train),4) for clf in models]\n",
    "test_accuracy = [round(clf.score(X_test, y_test),4) for clf in models]\n",
    "roc_auc = [round(roc_auc_score(y_test, ypred),4) for ypred in model_ypreds]\n",
    "f1 = [0.75, 0.76, 0.72, 0.75, 0.76]"
   ]
  },
  {
   "cell_type": "code",
   "execution_count": 143,
   "metadata": {},
   "outputs": [
    {
     "data": {
      "text/html": [
       "<div>\n",
       "<style scoped>\n",
       "    .dataframe tbody tr th:only-of-type {\n",
       "        vertical-align: middle;\n",
       "    }\n",
       "\n",
       "    .dataframe tbody tr th {\n",
       "        vertical-align: top;\n",
       "    }\n",
       "\n",
       "    .dataframe thead th {\n",
       "        text-align: right;\n",
       "    }\n",
       "</style>\n",
       "<table border=\"1\" class=\"dataframe\">\n",
       "  <thead>\n",
       "    <tr style=\"text-align: right;\">\n",
       "      <th></th>\n",
       "      <th>classifier</th>\n",
       "      <th>train_accuracy</th>\n",
       "      <th>test_accuracy</th>\n",
       "      <th>f1_score</th>\n",
       "      <th>roc_auc_score</th>\n",
       "    </tr>\n",
       "  </thead>\n",
       "  <tbody>\n",
       "    <tr>\n",
       "      <th>0</th>\n",
       "      <td>LogisticRegression</td>\n",
       "      <td>0.8690</td>\n",
       "      <td>0.8694</td>\n",
       "      <td>0.75</td>\n",
       "      <td>0.7409</td>\n",
       "    </tr>\n",
       "    <tr>\n",
       "      <th>1</th>\n",
       "      <td>RandomForestClassifier</td>\n",
       "      <td>0.9150</td>\n",
       "      <td>0.8661</td>\n",
       "      <td>0.76</td>\n",
       "      <td>0.7746</td>\n",
       "    </tr>\n",
       "    <tr>\n",
       "      <th>2</th>\n",
       "      <td>SVM</td>\n",
       "      <td>0.8741</td>\n",
       "      <td>0.8743</td>\n",
       "      <td>0.72</td>\n",
       "      <td>0.6887</td>\n",
       "    </tr>\n",
       "    <tr>\n",
       "      <th>3</th>\n",
       "      <td>AdaBoostClassifier</td>\n",
       "      <td>0.8624</td>\n",
       "      <td>0.8640</td>\n",
       "      <td>0.75</td>\n",
       "      <td>0.7671</td>\n",
       "    </tr>\n",
       "    <tr>\n",
       "      <th>4</th>\n",
       "      <td>XGBClassifier</td>\n",
       "      <td>0.8920</td>\n",
       "      <td>0.8702</td>\n",
       "      <td>0.76</td>\n",
       "      <td>0.7669</td>\n",
       "    </tr>\n",
       "  </tbody>\n",
       "</table>\n",
       "</div>"
      ],
      "text/plain": [
       "               classifier  train_accuracy  test_accuracy  f1_score  \\\n",
       "0      LogisticRegression          0.8690         0.8694      0.75   \n",
       "1  RandomForestClassifier          0.9150         0.8661      0.76   \n",
       "2                     SVM          0.8741         0.8743      0.72   \n",
       "3      AdaBoostClassifier          0.8624         0.8640      0.75   \n",
       "4           XGBClassifier          0.8920         0.8702      0.76   \n",
       "\n",
       "   roc_auc_score  \n",
       "0         0.7409  \n",
       "1         0.7746  \n",
       "2         0.6887  \n",
       "3         0.7671  \n",
       "4         0.7669  "
      ]
     },
     "execution_count": 143,
     "metadata": {},
     "output_type": "execute_result"
    }
   ],
   "source": [
    "results = pd.DataFrame(zip(model_name, train_accuracy, test_accuracy, f1, roc_auc), \n",
    "             columns = ['classifier', 'train_accuracy','test_accuracy',\n",
    "                        'f1_score', 'roc_auc_score'])\n",
    "results"
   ]
  },
  {
   "cell_type": "code",
   "execution_count": 144,
   "metadata": {},
   "outputs": [],
   "source": [
    "results.to_csv('./data/results.csv', index = False)"
   ]
  },
  {
   "cell_type": "markdown",
   "metadata": {},
   "source": [
    "### Selected model - random forest"
   ]
  },
  {
   "cell_type": "code",
   "execution_count": 75,
   "metadata": {},
   "outputs": [],
   "source": [
    "# final model, using the best estimators obtained in RandomizedSearch in previous section\n",
    "# kaggle score obtain: 0.50624\n",
    "rf_final = Pipeline(steps = [\n",
    "        ('preprocessor', preprocessor),\n",
    "        ('over', over),\n",
    "        ('under', under),\n",
    "        ('classifier', RandomForestClassifier(n_estimators=140,\n",
    "                            min_samples_split=2, min_samples_leaf=3, max_depth=27))\n",
    "])\n",
    "\n",
    "final_model = rf_final.fit(X_train, y_train)"
   ]
  },
  {
   "cell_type": "code",
   "execution_count": 76,
   "metadata": {},
   "outputs": [
    {
     "name": "stdout",
     "output_type": "stream",
     "text": [
      "train score: 0.9167\n",
      "test score: 0.8627\n",
      "roc-auc score: 0.7697\n"
     ]
    }
   ],
   "source": [
    "final_ypred = final_model.predict(X_test)\n",
    "print(f\"train score: {round(final_model.score(X_train, y_train),4)}\")\n",
    "print(f\"test score: {round(final_model.score(X_test, y_test),4)}\")\n",
    "print(f\"roc-auc score: {round(roc_auc_score(y_test, final_ypred),4)}\")"
   ]
  },
  {
   "cell_type": "code",
   "execution_count": 77,
   "metadata": {},
   "outputs": [
    {
     "name": "stdout",
     "output_type": "stream",
     "text": [
      "              precision    recall  f1-score   support\n",
      "\n",
      "           0       0.93      0.90      0.92     12417\n",
      "           1       0.55      0.63      0.59      2291\n",
      "\n",
      "    accuracy                           0.86     14708\n",
      "   macro avg       0.74      0.77      0.75     14708\n",
      "weighted avg       0.87      0.86      0.87     14708\n",
      "\n"
     ]
    }
   ],
   "source": [
    "print(classification_report(y_test, final_ypred))"
   ]
  },
  {
   "cell_type": "code",
   "execution_count": 78,
   "metadata": {},
   "outputs": [
    {
     "data": {
      "text/html": [
       "<div>\n",
       "<style scoped>\n",
       "    .dataframe tbody tr th:only-of-type {\n",
       "        vertical-align: middle;\n",
       "    }\n",
       "\n",
       "    .dataframe tbody tr th {\n",
       "        vertical-align: top;\n",
       "    }\n",
       "\n",
       "    .dataframe thead th {\n",
       "        text-align: right;\n",
       "    }\n",
       "</style>\n",
       "<table border=\"1\" class=\"dataframe\">\n",
       "  <thead>\n",
       "    <tr style=\"text-align: right;\">\n",
       "      <th></th>\n",
       "      <th>Predict 0</th>\n",
       "      <th>Predict 1</th>\n",
       "    </tr>\n",
       "  </thead>\n",
       "  <tbody>\n",
       "    <tr>\n",
       "      <th>Actual 0</th>\n",
       "      <td>11234</td>\n",
       "      <td>1183</td>\n",
       "    </tr>\n",
       "    <tr>\n",
       "      <th>Actual 1</th>\n",
       "      <td>837</td>\n",
       "      <td>1454</td>\n",
       "    </tr>\n",
       "  </tbody>\n",
       "</table>\n",
       "</div>"
      ],
      "text/plain": [
       "          Predict 0  Predict 1\n",
       "Actual 0      11234       1183\n",
       "Actual 1        837       1454"
      ]
     },
     "execution_count": 78,
     "metadata": {},
     "output_type": "execute_result"
    }
   ],
   "source": [
    "final_cm = confusion_matrix(y_test, final_ypred)\n",
    "pd.DataFrame(final_cm, columns = ['Predict 0', 'Predict 1'], \n",
    "             index = ['Actual 0', 'Actual 1'])"
   ]
  },
  {
   "cell_type": "markdown",
   "metadata": {},
   "source": [
    "### Extracting the Feature Importance\n",
    "Python library `ELI5` is used to extract the feature importances from the pipeline (`rf_final`).   \n",
    "[reference](https://towardsdatascience.com/extracting-feature-importances-from-scikit-learn-pipelines-18c79b4ae09a)"
   ]
  },
  {
   "cell_type": "code",
   "execution_count": null,
   "metadata": {},
   "outputs": [],
   "source": [
    "# pip install eli5"
   ]
  },
  {
   "cell_type": "code",
   "execution_count": 81,
   "metadata": {},
   "outputs": [
    {
     "data": {
      "text/plain": [
       "['subject_line_length',\n",
       " 'last_open_day',\n",
       " 'last_login_day',\n",
       " 'last_checkout_day',\n",
       " 'open_count_last_10_days',\n",
       " 'login_count_last_60_days',\n",
       " 'checkout_count_last_60_days',\n",
       " 'email_weekday',\n",
       " 'age',\n",
       " 'country_code_1',\n",
       " 'country_code_2',\n",
       " 'country_code_3',\n",
       " 'country_code_4',\n",
       " 'country_code_5',\n",
       " 'country_code_6',\n",
       " 'country_code_7',\n",
       " 'domain_@163.com',\n",
       " 'domain_@gmail.com',\n",
       " 'domain_@hotmail.com',\n",
       " 'domain_@icloud.com',\n",
       " 'domain_@live.com',\n",
       " 'domain_@outlook.com',\n",
       " 'domain_@qq.com',\n",
       " 'domain_@rocketmail.com',\n",
       " 'domain_@yahoo.com',\n",
       " 'domain_@ymail.com',\n",
       " 'domain_other']"
      ]
     },
     "execution_count": 81,
     "metadata": {},
     "output_type": "execute_result"
    }
   ],
   "source": [
    "# Using 'name_steps' function to extract the feature names\n",
    "onehot_columns = list(final_model.named_steps['preprocessor'].named_transformers_['cat'].named_steps['one_hot'].get_feature_names(\n",
    "input_features = categorical_X))\n",
    "\n",
    "numeric_features_list = list(numeric_X)\n",
    "numeric_features_list.extend(onehot_columns)\n",
    "numeric_features_list"
   ]
  },
  {
   "cell_type": "markdown",
   "metadata": {},
   "source": [
    "Extract the feature importances using `eli5`"
   ]
  },
  {
   "cell_type": "code",
   "execution_count": 87,
   "metadata": {},
   "outputs": [
    {
     "data": {
      "text/html": [
       "\n",
       "    <style>\n",
       "    table.eli5-weights tr:hover {\n",
       "        filter: brightness(85%);\n",
       "    }\n",
       "</style>\n",
       "\n",
       "\n",
       "\n",
       "    \n",
       "\n",
       "    \n",
       "\n",
       "    \n",
       "\n",
       "    \n",
       "\n",
       "    \n",
       "\n",
       "    \n",
       "\n",
       "\n",
       "    \n",
       "\n",
       "    \n",
       "\n",
       "    \n",
       "\n",
       "    \n",
       "\n",
       "    \n",
       "\n",
       "    \n",
       "\n",
       "\n",
       "    \n",
       "\n",
       "    \n",
       "\n",
       "    \n",
       "\n",
       "    \n",
       "\n",
       "    \n",
       "        <table class=\"eli5-weights eli5-feature-importances\" style=\"border-collapse: collapse; border: none; margin-top: 0em; table-layout: auto;\">\n",
       "    <thead>\n",
       "    <tr style=\"border: none;\">\n",
       "        <th style=\"padding: 0 1em 0 0.5em; text-align: right; border: none;\">Weight</th>\n",
       "        <th style=\"padding: 0 0.5em 0 0.5em; text-align: left; border: none;\">Feature</th>\n",
       "    </tr>\n",
       "    </thead>\n",
       "    <tbody>\n",
       "    \n",
       "        <tr style=\"background-color: hsl(120, 100.00%, 80.00%); border: none;\">\n",
       "            <td style=\"padding: 0 1em 0 0.5em; text-align: right; border: none;\">\n",
       "                0.3461\n",
       "                \n",
       "                    &plusmn; 0.2313\n",
       "                \n",
       "            </td>\n",
       "            <td style=\"padding: 0 0.5em 0 0.5em; text-align: left; border: none;\">\n",
       "                open_count_last_10_days\n",
       "            </td>\n",
       "        </tr>\n",
       "    \n",
       "        <tr style=\"background-color: hsl(120, 100.00%, 87.18%); border: none;\">\n",
       "            <td style=\"padding: 0 1em 0 0.5em; text-align: right; border: none;\">\n",
       "                0.1834\n",
       "                \n",
       "                    &plusmn; 0.2167\n",
       "                \n",
       "            </td>\n",
       "            <td style=\"padding: 0 0.5em 0 0.5em; text-align: left; border: none;\">\n",
       "                last_open_day\n",
       "            </td>\n",
       "        </tr>\n",
       "    \n",
       "        <tr style=\"background-color: hsl(120, 100.00%, 93.83%); border: none;\">\n",
       "            <td style=\"padding: 0 1em 0 0.5em; text-align: right; border: none;\">\n",
       "                0.0645\n",
       "                \n",
       "                    &plusmn; 0.0117\n",
       "                \n",
       "            </td>\n",
       "            <td style=\"padding: 0 0.5em 0 0.5em; text-align: left; border: none;\">\n",
       "                subject_line_length\n",
       "            </td>\n",
       "        </tr>\n",
       "    \n",
       "        <tr style=\"background-color: hsl(120, 100.00%, 94.15%); border: none;\">\n",
       "            <td style=\"padding: 0 1em 0 0.5em; text-align: right; border: none;\">\n",
       "                0.0597\n",
       "                \n",
       "                    &plusmn; 0.0111\n",
       "                \n",
       "            </td>\n",
       "            <td style=\"padding: 0 0.5em 0 0.5em; text-align: left; border: none;\">\n",
       "                last_login_day\n",
       "            </td>\n",
       "        </tr>\n",
       "    \n",
       "        <tr style=\"background-color: hsl(120, 100.00%, 94.38%); border: none;\">\n",
       "            <td style=\"padding: 0 1em 0 0.5em; text-align: right; border: none;\">\n",
       "                0.0564\n",
       "                \n",
       "                    &plusmn; 0.0101\n",
       "                \n",
       "            </td>\n",
       "            <td style=\"padding: 0 0.5em 0 0.5em; text-align: left; border: none;\">\n",
       "                login_count_last_60_days\n",
       "            </td>\n",
       "        </tr>\n",
       "    \n",
       "        <tr style=\"background-color: hsl(120, 100.00%, 94.85%); border: none;\">\n",
       "            <td style=\"padding: 0 1em 0 0.5em; text-align: right; border: none;\">\n",
       "                0.0498\n",
       "                \n",
       "                    &plusmn; 0.0081\n",
       "                \n",
       "            </td>\n",
       "            <td style=\"padding: 0 0.5em 0 0.5em; text-align: left; border: none;\">\n",
       "                last_checkout_day\n",
       "            </td>\n",
       "        </tr>\n",
       "    \n",
       "        <tr style=\"background-color: hsl(120, 100.00%, 95.16%); border: none;\">\n",
       "            <td style=\"padding: 0 1em 0 0.5em; text-align: right; border: none;\">\n",
       "                0.0457\n",
       "                \n",
       "                    &plusmn; 0.0145\n",
       "                \n",
       "            </td>\n",
       "            <td style=\"padding: 0 0.5em 0 0.5em; text-align: left; border: none;\">\n",
       "                age\n",
       "            </td>\n",
       "        </tr>\n",
       "    \n",
       "        <tr style=\"background-color: hsl(120, 100.00%, 95.47%); border: none;\">\n",
       "            <td style=\"padding: 0 1em 0 0.5em; text-align: right; border: none;\">\n",
       "                0.0414\n",
       "                \n",
       "                    &plusmn; 0.0082\n",
       "                \n",
       "            </td>\n",
       "            <td style=\"padding: 0 0.5em 0 0.5em; text-align: left; border: none;\">\n",
       "                email_weekday\n",
       "            </td>\n",
       "        </tr>\n",
       "    \n",
       "        <tr style=\"background-color: hsl(120, 100.00%, 95.63%); border: none;\">\n",
       "            <td style=\"padding: 0 1em 0 0.5em; text-align: right; border: none;\">\n",
       "                0.0394\n",
       "                \n",
       "                    &plusmn; 0.0112\n",
       "                \n",
       "            </td>\n",
       "            <td style=\"padding: 0 0.5em 0 0.5em; text-align: left; border: none;\">\n",
       "                checkout_count_last_60_days\n",
       "            </td>\n",
       "        </tr>\n",
       "    \n",
       "        <tr style=\"background-color: hsl(120, 100.00%, 96.27%); border: none;\">\n",
       "            <td style=\"padding: 0 1em 0 0.5em; text-align: right; border: none;\">\n",
       "                0.0315\n",
       "                \n",
       "                    &plusmn; 0.0512\n",
       "                \n",
       "            </td>\n",
       "            <td style=\"padding: 0 0.5em 0 0.5em; text-align: left; border: none;\">\n",
       "                country_code_1\n",
       "            </td>\n",
       "        </tr>\n",
       "    \n",
       "        <tr style=\"background-color: hsl(120, 100.00%, 96.41%); border: none;\">\n",
       "            <td style=\"padding: 0 1em 0 0.5em; text-align: right; border: none;\">\n",
       "                0.0297\n",
       "                \n",
       "                    &plusmn; 0.0313\n",
       "                \n",
       "            </td>\n",
       "            <td style=\"padding: 0 0.5em 0 0.5em; text-align: left; border: none;\">\n",
       "                country_code_4\n",
       "            </td>\n",
       "        </tr>\n",
       "    \n",
       "        <tr style=\"background-color: hsl(120, 100.00%, 98.29%); border: none;\">\n",
       "            <td style=\"padding: 0 1em 0 0.5em; text-align: right; border: none;\">\n",
       "                0.0103\n",
       "                \n",
       "                    &plusmn; 0.0126\n",
       "                \n",
       "            </td>\n",
       "            <td style=\"padding: 0 0.5em 0 0.5em; text-align: left; border: none;\">\n",
       "                domain_@gmail.com\n",
       "            </td>\n",
       "        </tr>\n",
       "    \n",
       "        <tr style=\"background-color: hsl(120, 100.00%, 98.32%); border: none;\">\n",
       "            <td style=\"padding: 0 1em 0 0.5em; text-align: right; border: none;\">\n",
       "                0.0100\n",
       "                \n",
       "                    &plusmn; 0.0075\n",
       "                \n",
       "            </td>\n",
       "            <td style=\"padding: 0 0.5em 0 0.5em; text-align: left; border: none;\">\n",
       "                country_code_3\n",
       "            </td>\n",
       "        </tr>\n",
       "    \n",
       "        <tr style=\"background-color: hsl(120, 100.00%, 98.71%); border: none;\">\n",
       "            <td style=\"padding: 0 1em 0 0.5em; text-align: right; border: none;\">\n",
       "                0.0069\n",
       "                \n",
       "                    &plusmn; 0.0047\n",
       "                \n",
       "            </td>\n",
       "            <td style=\"padding: 0 0.5em 0 0.5em; text-align: left; border: none;\">\n",
       "                country_code_2\n",
       "            </td>\n",
       "        </tr>\n",
       "    \n",
       "        <tr style=\"background-color: hsl(120, 100.00%, 98.86%); border: none;\">\n",
       "            <td style=\"padding: 0 1em 0 0.5em; text-align: right; border: none;\">\n",
       "                0.0058\n",
       "                \n",
       "                    &plusmn; 0.0048\n",
       "                \n",
       "            </td>\n",
       "            <td style=\"padding: 0 0.5em 0 0.5em; text-align: left; border: none;\">\n",
       "                country_code_5\n",
       "            </td>\n",
       "        </tr>\n",
       "    \n",
       "        <tr style=\"background-color: hsl(120, 100.00%, 98.92%); border: none;\">\n",
       "            <td style=\"padding: 0 1em 0 0.5em; text-align: right; border: none;\">\n",
       "                0.0054\n",
       "                \n",
       "                    &plusmn; 0.0039\n",
       "                \n",
       "            </td>\n",
       "            <td style=\"padding: 0 0.5em 0 0.5em; text-align: left; border: none;\">\n",
       "                country_code_7\n",
       "            </td>\n",
       "        </tr>\n",
       "    \n",
       "        <tr style=\"background-color: hsl(120, 100.00%, 99.19%); border: none;\">\n",
       "            <td style=\"padding: 0 1em 0 0.5em; text-align: right; border: none;\">\n",
       "                0.0035\n",
       "                \n",
       "                    &plusmn; 0.0070\n",
       "                \n",
       "            </td>\n",
       "            <td style=\"padding: 0 0.5em 0 0.5em; text-align: left; border: none;\">\n",
       "                domain_@hotmail.com\n",
       "            </td>\n",
       "        </tr>\n",
       "    \n",
       "        <tr style=\"background-color: hsl(120, 100.00%, 99.26%); border: none;\">\n",
       "            <td style=\"padding: 0 1em 0 0.5em; text-align: right; border: none;\">\n",
       "                0.0031\n",
       "                \n",
       "                    &plusmn; 0.0023\n",
       "                \n",
       "            </td>\n",
       "            <td style=\"padding: 0 0.5em 0 0.5em; text-align: left; border: none;\">\n",
       "                country_code_6\n",
       "            </td>\n",
       "        </tr>\n",
       "    \n",
       "        <tr style=\"background-color: hsl(120, 100.00%, 99.27%); border: none;\">\n",
       "            <td style=\"padding: 0 1em 0 0.5em; text-align: right; border: none;\">\n",
       "                0.0031\n",
       "                \n",
       "                    &plusmn; 0.0025\n",
       "                \n",
       "            </td>\n",
       "            <td style=\"padding: 0 0.5em 0 0.5em; text-align: left; border: none;\">\n",
       "                domain_@yahoo.com\n",
       "            </td>\n",
       "        </tr>\n",
       "    \n",
       "        <tr style=\"background-color: hsl(120, 100.00%, 99.41%); border: none;\">\n",
       "            <td style=\"padding: 0 1em 0 0.5em; text-align: right; border: none;\">\n",
       "                0.0023\n",
       "                \n",
       "                    &plusmn; 0.0040\n",
       "                \n",
       "            </td>\n",
       "            <td style=\"padding: 0 0.5em 0 0.5em; text-align: left; border: none;\">\n",
       "                domain_other\n",
       "            </td>\n",
       "        </tr>\n",
       "    \n",
       "        <tr style=\"background-color: hsl(120, 100.00%, 99.68%); border: none;\">\n",
       "            <td style=\"padding: 0 1em 0 0.5em; text-align: right; border: none;\">\n",
       "                0.0010\n",
       "                \n",
       "                    &plusmn; 0.0010\n",
       "                \n",
       "            </td>\n",
       "            <td style=\"padding: 0 0.5em 0 0.5em; text-align: left; border: none;\">\n",
       "                domain_@qq.com\n",
       "            </td>\n",
       "        </tr>\n",
       "    \n",
       "        <tr style=\"background-color: hsl(120, 100.00%, 99.87%); border: none;\">\n",
       "            <td style=\"padding: 0 1em 0 0.5em; text-align: right; border: none;\">\n",
       "                0.0003\n",
       "                \n",
       "                    &plusmn; 0.0005\n",
       "                \n",
       "            </td>\n",
       "            <td style=\"padding: 0 0.5em 0 0.5em; text-align: left; border: none;\">\n",
       "                domain_@icloud.com\n",
       "            </td>\n",
       "        </tr>\n",
       "    \n",
       "        <tr style=\"background-color: hsl(120, 100.00%, 99.88%); border: none;\">\n",
       "            <td style=\"padding: 0 1em 0 0.5em; text-align: right; border: none;\">\n",
       "                0.0002\n",
       "                \n",
       "                    &plusmn; 0.0005\n",
       "                \n",
       "            </td>\n",
       "            <td style=\"padding: 0 0.5em 0 0.5em; text-align: left; border: none;\">\n",
       "                domain_@outlook.com\n",
       "            </td>\n",
       "        </tr>\n",
       "    \n",
       "        <tr style=\"background-color: hsl(120, 100.00%, 99.89%); border: none;\">\n",
       "            <td style=\"padding: 0 1em 0 0.5em; text-align: right; border: none;\">\n",
       "                0.0002\n",
       "                \n",
       "                    &plusmn; 0.0004\n",
       "                \n",
       "            </td>\n",
       "            <td style=\"padding: 0 0.5em 0 0.5em; text-align: left; border: none;\">\n",
       "                domain_@ymail.com\n",
       "            </td>\n",
       "        </tr>\n",
       "    \n",
       "        <tr style=\"background-color: hsl(120, 100.00%, 99.89%); border: none;\">\n",
       "            <td style=\"padding: 0 1em 0 0.5em; text-align: right; border: none;\">\n",
       "                0.0002\n",
       "                \n",
       "                    &plusmn; 0.0004\n",
       "                \n",
       "            </td>\n",
       "            <td style=\"padding: 0 0.5em 0 0.5em; text-align: left; border: none;\">\n",
       "                domain_@live.com\n",
       "            </td>\n",
       "        </tr>\n",
       "    \n",
       "        <tr style=\"background-color: hsl(120, 100.00%, 99.93%); border: none;\">\n",
       "            <td style=\"padding: 0 1em 0 0.5em; text-align: right; border: none;\">\n",
       "                0.0001\n",
       "                \n",
       "                    &plusmn; 0.0003\n",
       "                \n",
       "            </td>\n",
       "            <td style=\"padding: 0 0.5em 0 0.5em; text-align: left; border: none;\">\n",
       "                domain_@163.com\n",
       "            </td>\n",
       "        </tr>\n",
       "    \n",
       "        <tr style=\"background-color: hsl(120, 100.00%, 99.99%); border: none;\">\n",
       "            <td style=\"padding: 0 1em 0 0.5em; text-align: right; border: none;\">\n",
       "                0.0000\n",
       "                \n",
       "                    &plusmn; 0.0001\n",
       "                \n",
       "            </td>\n",
       "            <td style=\"padding: 0 0.5em 0 0.5em; text-align: left; border: none;\">\n",
       "                domain_@rocketmail.com\n",
       "            </td>\n",
       "        </tr>\n",
       "    \n",
       "    \n",
       "    </tbody>\n",
       "</table>\n",
       "    \n",
       "\n",
       "    \n",
       "\n",
       "\n",
       "    \n",
       "\n",
       "    \n",
       "\n",
       "    \n",
       "\n",
       "    \n",
       "\n",
       "    \n",
       "\n",
       "    \n",
       "\n",
       "\n",
       "\n"
      ],
      "text/plain": [
       "Explanation(estimator='RandomForestClassifier(max_depth=27, min_samples_leaf=3, n_estimators=140)', description='\\nRandom forest feature importances; values are numbers 0 <= x <= 1;\\nall values sum to 1.\\n', error=None, method='feature importances', is_regression=False, targets=None, feature_importances=FeatureImportances(importances=[FeatureWeight(feature='open_count_last_10_days', weight=0.3461342999957205, std=0.11565797627704438, value=None), FeatureWeight(feature='last_open_day', weight=0.18335525802016212, std=0.10834385151504228, value=None), FeatureWeight(feature='subject_line_length', weight=0.06445086819990309, std=0.0058640199870279505, value=None), FeatureWeight(feature='last_login_day', weight=0.05973112591614897, std=0.005532868218985328, value=None), FeatureWeight(feature='login_count_last_60_days', weight=0.05642720306500197, std=0.005056516097524326, value=None), FeatureWeight(feature='last_checkout_day', weight=0.04984759719788699, std=0.004067489157699647, value=None), FeatureWeight(feature='age', weight=0.04566829397608599, std=0.007255775134713282, value=None), FeatureWeight(feature='email_weekday', weight=0.041441664826598154, std=0.004086783683052943, value=None), FeatureWeight(feature='checkout_count_last_60_days', weight=0.039387784795013175, std=0.005592014163571753, value=None), FeatureWeight(feature='country_code_1', weight=0.03147892233470174, std=0.025599555984995647, value=None), FeatureWeight(feature='country_code_4', weight=0.029731448941762193, std=0.015670785804028704, value=None), FeatureWeight(feature='domain_@gmail.com', weight=0.010318820392943764, std=0.006293644750610172, value=None), FeatureWeight(feature='country_code_3', weight=0.01001749477123706, std=0.003734601187569675, value=None), FeatureWeight(feature='country_code_2', weight=0.006933251764470177, std=0.0023365587754417116, value=None), FeatureWeight(feature='country_code_5', weight=0.005770146880962032, std=0.0024208138317266203, value=None), FeatureWeight(feature='country_code_7', weight=0.005353616943730886, std=0.0019279472109962593, value=None), FeatureWeight(feature='domain_@hotmail.com', weight=0.003540767215247269, std=0.0035232553687823834, value=None), FeatureWeight(feature='country_code_6', weight=0.0030943426271424807, std=0.0011536365294175718, value=None), FeatureWeight(feature='domain_@yahoo.com', weight=0.003074724753918629, std=0.001245926700414026, value=None), FeatureWeight(feature='domain_other', weight=0.002278649436143017, std=0.001985522348758482, value=None), FeatureWeight(feature='domain_@qq.com', weight=0.000952830098476742, std=0.0005179232018225744, value=None), FeatureWeight(feature='domain_@icloud.com', weight=0.0002576245167198636, std=0.00027372479310749974, value=None), FeatureWeight(feature='domain_@outlook.com', weight=0.000241654035135049, std=0.0002407188493889155, value=None), FeatureWeight(feature='domain_@ymail.com', weight=0.00020451004642964667, std=0.00020259779251791715, value=None), FeatureWeight(feature='domain_@live.com', weight=0.0001941621163558457, std=0.00020227222985201292, value=None), FeatureWeight(feature='domain_@163.com', weight=0.00010248911845036678, std=0.00014697202759886556, value=None), FeatureWeight(feature='domain_@rocketmail.com', weight=1.0448013652241747e-05, std=4.2939079397327326e-05, value=None)], remaining=0), decision_tree=None, highlight_spaces=None, transition_features=None, image=None)"
      ]
     },
     "execution_count": 87,
     "metadata": {},
     "output_type": "execute_result"
    }
   ],
   "source": [
    "eli5.explain_weights(final_model.named_steps['classifier'], top=27, \n",
    "                     feature_names = numeric_features_list)"
   ]
  },
  {
   "cell_type": "code",
   "execution_count": null,
   "metadata": {},
   "outputs": [],
   "source": []
  },
  {
   "cell_type": "code",
   "execution_count": null,
   "metadata": {},
   "outputs": [],
   "source": []
  }
 ],
 "metadata": {
  "kernelspec": {
   "display_name": "Python 3",
   "language": "python",
   "name": "python3"
  },
  "language_info": {
   "codemirror_mode": {
    "name": "ipython",
    "version": 3
   },
   "file_extension": ".py",
   "mimetype": "text/x-python",
   "name": "python",
   "nbconvert_exporter": "python",
   "pygments_lexer": "ipython3",
   "version": "3.7.4"
  }
 },
 "nbformat": 4,
 "nbformat_minor": 2
}
